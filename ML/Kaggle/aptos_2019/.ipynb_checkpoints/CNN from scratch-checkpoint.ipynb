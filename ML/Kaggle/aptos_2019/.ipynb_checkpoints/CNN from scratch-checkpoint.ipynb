{
 "cells": [
  {
   "cell_type": "code",
   "execution_count": 67,
   "metadata": {},
   "outputs": [],
   "source": [
    "import random\n",
    "import os\n",
    "import numpy as np\n",
    "import pandas as pd\n",
    "import matplotlib.pyplot as plt\n",
    "import tensorflow as tf\n",
    "from tensorflow.keras import models\n",
    "from tensorflow.keras import layers\n",
    "\n",
    "BATCH_SIZE = 32\n",
    "VLD_BATCH_SIZE = 50\n",
    "TRAIN_BATCH_SIZE = 30\n",
    "SHUFFLE_BUFFER_SIZE = 32\n",
    "IMG_SIZE = 224\n",
    "\n",
    "TRAIN_DIR = './data/pre_512/train_images/'\n",
    "TRAIN_DIR = './data/pre/train_images/'\n",
    "\n",
    "TRAIN_DF = pd.read_csv('./data/train.csv')\n",
    "TRAIN_SET = [0,2]\n",
    "TRAIN_CNTS = [900, 900]\n",
    "VLD_CNTS = [901, 99]\n",
    "TRAIN_CNT = 1800\n",
    "VLD_CNT = 1000\n",
    "\n",
    "for i in range(100):\n",
    "    TRAIN_DF = TRAIN_DF.sample(frac = 1).reset_index(drop=True)"
   ]
  },
  {
   "cell_type": "code",
   "execution_count": 68,
   "metadata": {},
   "outputs": [],
   "source": [
    "def divintosets(df, train, test, classes):\n",
    "    traindic = {'filename' : [], 'class' : []}\n",
    "    testdic = {'filename' : [], 'class' : []}\n",
    "    for i in range(len(classes)):\n",
    "        fn = [x + '.png' for x in df['id_code'][df['diagnosis'] == classes[i]].values]\n",
    "        traindic['filename'] += fn[:train[i]]\n",
    "        traindic['class'] += [str(classes[i])] * train[i]\n",
    "        testdic['filename'] += fn[train[i] : train[i] + test[i]]\n",
    "        testdic['class'] += [str(classes[i])] * test[i]\n",
    "    train_df = pd.DataFrame(data = traindic)\n",
    "    test_df = pd.DataFrame(data = testdic)\n",
    "    for i in range(10):\n",
    "        train_df = train_df.sample(frac = 1).reset_index(drop=True)\n",
    "        test_df = test_df.sample(frac = 1).reset_index(drop=True)\n",
    "    return train_df, test_df\n",
    "\n",
    "train_df, test_df = divintosets(TRAIN_DF, TRAIN_CNTS, VLD_CNTS, TRAIN_SET) "
   ]
  },
  {
   "cell_type": "code",
   "execution_count": 69,
   "metadata": {},
   "outputs": [
    {
     "name": "stdout",
     "output_type": "stream",
     "text": [
      "Found 1800 validated image filenames belonging to 2 classes.\n",
      "Found 198 validated image filenames belonging to 2 classes.\n"
     ]
    }
   ],
   "source": [
    "gen = tf.keras.preprocessing.image.ImageDataGenerator(rescale=1./255.)\n",
    "tr_gen = gen.flow_from_dataframe(train_df, \n",
    "                                 target_size = (IMG_SIZE, IMG_SIZE), \n",
    "                                 class_mode = 'binary',\n",
    "                                 directory = TRAIN_DIR,\n",
    "                                 batch_size = TRAIN_BATCH_SIZE\n",
    "                                 )\n",
    "vld_gen = gen.flow_from_dataframe(test_df, \n",
    "                                 target_size = (IMG_SIZE, IMG_SIZE), \n",
    "                                 class_mode = 'binary',\n",
    "                                 directory = TRAIN_DIR,\n",
    "                                  batch_size = VLD_BATCH_SIZE\n",
    "                                 )"
   ]
  },
  {
   "cell_type": "code",
   "execution_count": 70,
   "metadata": {},
   "outputs": [
    {
     "name": "stdout",
     "output_type": "stream",
     "text": [
      "Model: \"sequential_6\"\n",
      "_________________________________________________________________\n",
      "Layer (type)                 Output Shape              Param #   \n",
      "=================================================================\n",
      "conv2d_18 (Conv2D)           (None, 222, 222, 32)      896       \n",
      "_________________________________________________________________\n",
      "max_pooling2d_18 (MaxPooling (None, 111, 111, 32)      0         \n",
      "_________________________________________________________________\n",
      "conv2d_19 (Conv2D)           (None, 109, 109, 64)      18496     \n",
      "_________________________________________________________________\n",
      "max_pooling2d_19 (MaxPooling (None, 54, 54, 64)        0         \n",
      "_________________________________________________________________\n",
      "conv2d_20 (Conv2D)           (None, 52, 52, 128)       73856     \n",
      "_________________________________________________________________\n",
      "max_pooling2d_20 (MaxPooling (None, 26, 26, 128)       0         \n",
      "_________________________________________________________________\n",
      "flatten_6 (Flatten)          (None, 86528)             0         \n",
      "_________________________________________________________________\n",
      "dense_12 (Dense)             (None, 512)               44302848  \n",
      "_________________________________________________________________\n",
      "dense_13 (Dense)             (None, 1)                 513       \n",
      "=================================================================\n",
      "Total params: 44,396,609\n",
      "Trainable params: 44,396,609\n",
      "Non-trainable params: 0\n",
      "_________________________________________________________________\n"
     ]
    }
   ],
   "source": [
    "model = models.Sequential()\n",
    "model.add(layers.Conv2D(32, (3,3), activation = 'relu', input_shape=(IMG_SIZE,IMG_SIZE,3)))\n",
    "model.add(layers.MaxPooling2D((2,2)))\n",
    "model.add(layers.Conv2D(64, (3,3), activation = 'relu'))\n",
    "model.add(layers.MaxPooling2D((2,2)))\n",
    "model.add(layers.Conv2D(128, (3,3), activation = 'relu'))\n",
    "model.add(layers.MaxPooling2D((2,2)))\n",
    "model.add(layers.Flatten())\n",
    "model.add(layers.Dense(512, activation = 'relu'))\n",
    "model.add(layers.Dense(1,activation = 'sigmoid'))\n",
    "\n",
    "base_learning_rate = 0.0001\n",
    "model.compile(optimizer=tf.keras.optimizers.Adam(lr=base_learning_rate),\n",
    "              loss=tf.keras.losses.BinaryCrossentropy(),\n",
    "              metrics=['accuracy'])\n",
    "\n",
    "model.summary()"
   ]
  },
  {
   "cell_type": "code",
   "execution_count": 71,
   "metadata": {},
   "outputs": [
    {
     "name": "stdout",
     "output_type": "stream",
     "text": [
      "Train for 60 steps, validate for 6 steps\n",
      "Epoch 1/10\n",
      "60/60 [==============================] - 90s 1s/step - loss: 0.5756 - accuracy: 0.7806 - val_loss: 0.2798 - val_accuracy: 0.9091\n",
      "Epoch 2/10\n",
      "60/60 [==============================] - 85s 1s/step - loss: 0.2447 - accuracy: 0.9067 - val_loss: 0.2469 - val_accuracy: 0.9091\n",
      "Epoch 3/10\n",
      "60/60 [==============================] - 86s 1s/step - loss: 0.2110 - accuracy: 0.9211 - val_loss: 0.2489 - val_accuracy: 0.8838\n",
      "Epoch 4/10\n",
      "60/60 [==============================] - 85s 1s/step - loss: 0.1919 - accuracy: 0.9389 - val_loss: 0.2181 - val_accuracy: 0.9343\n",
      "Epoch 5/10\n",
      "60/60 [==============================] - 130s 2s/step - loss: 0.1961 - accuracy: 0.9289 - val_loss: 0.2276 - val_accuracy: 0.9242\n",
      "Epoch 6/10\n",
      "60/60 [==============================] - 132s 2s/step - loss: 0.1687 - accuracy: 0.9428 - val_loss: 0.2116 - val_accuracy: 0.9242\n",
      "Epoch 7/10\n",
      "60/60 [==============================] - 130s 2s/step - loss: 0.1461 - accuracy: 0.9494 - val_loss: 0.2633 - val_accuracy: 0.9343\n",
      "Epoch 8/10\n",
      "60/60 [==============================] - 129s 2s/step - loss: 0.1378 - accuracy: 0.9494 - val_loss: 0.1990 - val_accuracy: 0.9192\n",
      "Epoch 9/10\n",
      "60/60 [==============================] - 129s 2s/step - loss: 0.1263 - accuracy: 0.9550 - val_loss: 0.2055 - val_accuracy: 0.9242\n",
      "Epoch 10/10\n",
      "60/60 [==============================] - 131s 2s/step - loss: 0.1140 - accuracy: 0.9611 - val_loss: 0.2202 - val_accuracy: 0.9394\n"
     ]
    }
   ],
   "source": [
    "\n",
    "history = model.fit(tr_gen,\n",
    "                    steps_per_epoch = TRAIN_CNT//TRAIN_BATCH_SIZE,\n",
    "                    epochs = 10,\n",
    "                    validation_data = vld_gen,\n",
    "                    validation_steps = VLD_CNT//VLD_BATCH_SIZE)"
   ]
  },
  {
   "cell_type": "code",
   "execution_count": null,
   "metadata": {},
   "outputs": [],
   "source": []
  }
 ],
 "metadata": {
  "kernelspec": {
   "display_name": "Python 3",
   "language": "python",
   "name": "python3"
  },
  "language_info": {
   "codemirror_mode": {
    "name": "ipython",
    "version": 3
   },
   "file_extension": ".py",
   "mimetype": "text/x-python",
   "name": "python",
   "nbconvert_exporter": "python",
   "pygments_lexer": "ipython3",
   "version": "3.7.6"
  }
 },
 "nbformat": 4,
 "nbformat_minor": 4
}
