{
 "cells": [
  {
   "cell_type": "code",
   "execution_count": 74,
   "metadata": {},
   "outputs": [],
   "source": [
    "import random\n",
    "import os\n",
    "import numpy as np\n",
    "import cv2\n",
    "import pandas as pd\n",
    "import matplotlib.pyplot as plt\n",
    "import tensorflow as tf\n",
    "import time\n",
    "from tensorflow.keras import models\n",
    "from tensorflow.keras import layers\n",
    "\n",
    "BATCH_SIZE = 32\n",
    "IMG_SIZE = 224\n",
    "\n",
    "TRAIN_DIR = './data/pre/train_images/'\n",
    "TEST_DIR = './data/pre/test_images/'\n",
    "ROOT_DIR = './data/pre/'\n",
    "MODELS_DIR = './Models'\n",
    "\n",
    "TRAIN_DF = pd.read_csv('./data/pre/train.csv')\n",
    "TEST_DF = pd.read_csv('./data/pre/test.csv')\n",
    "\n",
    "CNTS = np.array([[1443, 362],\n",
    "                 [295, 75],\n",
    "                 [799, 200],\n",
    "                 [154, 39],\n",
    "                 [235, 60]])"
   ]
  },
  {
   "cell_type": "code",
   "execution_count": 51,
   "metadata": {},
   "outputs": [],
   "source": [
    "def GetSingleClass(df,c,n):\n",
    "    lx = (df['class'] == c) & (df['type'] == 0)\n",
    "    res = list(df[lx]['filename'].to_numpy())\n",
    "    if lx.sum() > n:\n",
    "        return res[:n]\n",
    "    m = n - lx.sum()\n",
    "    lx = (df['class'] == c) & (df['type'] != 0)\n",
    "    lst = list(df[lx].sort_values(by='type')['filename'].to_numpy())\n",
    "    res += lst[:m]\n",
    "    return res\n",
    "    \n",
    "def GetClassesElements(df,cv,nv):\n",
    "    res = []\n",
    "    for i in range(len(cv)):\n",
    "        res += GetSingleClass(df,cv[i],nv[i])\n",
    "    return res\n",
    "        \n",
    "def GetGenerator(df,cv,nv,rootdir,bs = 32):\n",
    "    fv1 = GetClassesElements(df,cv[0],nv[0])\n",
    "    fv2 = GetClassesElements(df,cv[1],nv[1])\n",
    "    df = pd.DataFrame({'filename' : fv1 + fv2, 'class' : ['0']*len(fv1) + ['1']*len(fv2)})\n",
    "    for i in range(100):\n",
    "        df = df.sample(frac = 1).reset_index(drop=True)\n",
    "    gen = tf.keras.preprocessing.image.ImageDataGenerator(rescale=1./255.)\n",
    "    tr_gen = gen.flow_from_dataframe(df,target_size = (IMG_SIZE, IMG_SIZE),directory = rootdir,\n",
    "                                     class_mode = 'binary', batch_size = bs) \n",
    "    return tr_gen\n",
    "\n",
    "def SaveModel(model,name):\n",
    "    path = os.path.join(MODELS_DIR,name)\n",
    "    for suf in [''] + [str(i) for i in range(256)]:\n",
    "        modified_path = path + suf\n",
    "        if not os.path.exists(modified_path):\n",
    "            os.makedirs(modified_path)\n",
    "            path = modified_path\n",
    "            break\n",
    "    model.save(path)\n",
    "    return path\n",
    "\n",
    "def draw_evolution(history):\n",
    "    acc = history.history['accuracy']\n",
    "    val_acc = history.history['val_accuracy']\n",
    "    loss = history.history['loss']\n",
    "    val_loss = history.history['val_loss']\n",
    "    epochs = range(1, len(acc) + 1)\n",
    "    plt.plot(epochs, acc, 'bo', label='Training acc')\n",
    "    plt.plot(epochs, val_acc, 'b', label='Validation acc')\n",
    "    plt.title('Training and validation accuracy')\n",
    "    plt.legend()\n",
    "    plt.figure()\n",
    "    plt.plot(epochs, loss, 'bo', label='Training loss')\n",
    "    plt.plot(epochs, val_loss, 'b', label='Validation loss')\n",
    "    plt.title('Training and validation loss')\n",
    "    plt.legend()\n",
    "    plt.show()"
   ]
  },
  {
   "cell_type": "code",
   "execution_count": 89,
   "metadata": {},
   "outputs": [
    {
     "name": "stdout",
     "output_type": "stream",
     "text": [
      "Found 2376 validated image filenames belonging to 2 classes.\n",
      "Found 150 validated image filenames belonging to 2 classes.\n",
      "Found 150 validated image filenames belonging to 2 classes.\n"
     ]
    }
   ],
   "source": [
    "train_batch_size = 128\n",
    "train_set = [[1],[2,3,4]]\n",
    "train_cnts = [[1188], [799,154,235]]\n",
    "train_cnt = np.array([x for y in train_cnts for x in y]).sum()\n",
    "train = GetGenerator(TRAIN_DF,train_set,train_cnts, TRAIN_DIR,bs = train_batch_size)\n",
    "\n",
    "test_batch_size = 64\n",
    "test_set = [[1],[2,3,4]]\n",
    "test_cnts = [[75], [25,25,25]]\n",
    "test_cnt = np.array([x for y in test_cnts for x in y]).sum()\n",
    "test = GetGenerator(TEST_DF,test_set,test_cnts, TEST_DIR,bs = test_batch_size)\n",
    "\n",
    "eval_set = [[1],[2,3,4]]\n",
    "eval_cnts = [[75], [200,39,60]]\n",
    "eval_cnt = np.array([x for y in test_cnts for x in y]).sum()\n",
    "eval_gen = GetGenerator(TEST_DF,test_set,test_cnts, TEST_DIR,bs = 64)"
   ]
  },
  {
   "cell_type": "code",
   "execution_count": 83,
   "metadata": {},
   "outputs": [
    {
     "name": "stdout",
     "output_type": "stream",
     "text": [
      "Model: \"sequential_8\"\n",
      "_________________________________________________________________\n",
      "Layer (type)                 Output Shape              Param #   \n",
      "=================================================================\n",
      "conv2d_40 (Conv2D)           (None, 222, 222, 32)      896       \n",
      "_________________________________________________________________\n",
      "max_pooling2d_40 (MaxPooling (None, 111, 111, 32)      0         \n",
      "_________________________________________________________________\n",
      "conv2d_41 (Conv2D)           (None, 109, 109, 64)      18496     \n",
      "_________________________________________________________________\n",
      "max_pooling2d_41 (MaxPooling (None, 54, 54, 64)        0         \n",
      "_________________________________________________________________\n",
      "conv2d_42 (Conv2D)           (None, 52, 52, 128)       73856     \n",
      "_________________________________________________________________\n",
      "max_pooling2d_42 (MaxPooling (None, 26, 26, 128)       0         \n",
      "_________________________________________________________________\n",
      "conv2d_43 (Conv2D)           (None, 24, 24, 256)       295168    \n",
      "_________________________________________________________________\n",
      "max_pooling2d_43 (MaxPooling (None, 12, 12, 256)       0         \n",
      "_________________________________________________________________\n",
      "conv2d_44 (Conv2D)           (None, 10, 10, 512)       1180160   \n",
      "_________________________________________________________________\n",
      "max_pooling2d_44 (MaxPooling (None, 5, 5, 512)         0         \n",
      "_________________________________________________________________\n",
      "flatten_4 (Flatten)          (None, 12800)             0         \n",
      "_________________________________________________________________\n",
      "dropout_1 (Dropout)          (None, 12800)             0         \n",
      "_________________________________________________________________\n",
      "dense_14 (Dense)             (None, 512)               6554112   \n",
      "_________________________________________________________________\n",
      "dense_15 (Dense)             (None, 1)                 513       \n",
      "=================================================================\n",
      "Total params: 8,123,201\n",
      "Trainable params: 8,123,201\n",
      "Non-trainable params: 0\n",
      "_________________________________________________________________\n"
     ]
    }
   ],
   "source": [
    "name_of_model = 'Model_5_GlobAve_512_0005_ep40'\n",
    "\n",
    "model = models.Sequential()\n",
    "model.add(layers.Conv2D(32, (3,3), activation = 'relu', input_shape=(IMG_SIZE,IMG_SIZE,3)))\n",
    "model.add(layers.MaxPooling2D((2,2)))\n",
    "model.add(layers.Conv2D(64, (3,3), activation = 'relu'))\n",
    "model.add(layers.MaxPooling2D((2,2)))\n",
    "model.add(layers.Conv2D(128, (3,3), activation = 'relu'))\n",
    "model.add(layers.MaxPooling2D((2,2)))\n",
    "model.add(layers.Conv2D(256, (3,3), activation = 'relu'))\n",
    "model.add(layers.MaxPooling2D((2,2)))\n",
    "model.add(layers.Conv2D(512, (3,3), activation = 'relu'))\n",
    "model.add(layers.MaxPooling2D((2,2)))\n",
    "#model.add(layers.GlobalAveragePooling2D())\n",
    "model.add(layers.Flatten())\n",
    "model.add(layers.Dropout(0.5))\n",
    "model.add(layers.Dense(512, activation = 'relu'))\n",
    "model.add(layers.Dense(1,activation = 'sigmoid'))\n",
    "\n",
    "base_learning_rate = 0.0005\n",
    "model.compile(optimizer=tf.keras.optimizers.Adam(lr=base_learning_rate),\n",
    "              loss=tf.keras.losses.BinaryCrossentropy(),\n",
    "              metrics=['accuracy'])\n",
    "\n",
    "model.summary()"
   ]
  },
  {
   "cell_type": "code",
   "execution_count": null,
   "metadata": {},
   "outputs": [
    {
     "name": "stdout",
     "output_type": "stream",
     "text": [
      "Train for 18 steps, validate for 2 steps\n",
      "Epoch 1/5\n",
      "18/18 [==============================] - 181s 10s/step - loss: 0.0265 - accuracy: 0.9893 - val_loss: 0.9837 - val_accuracy: 0.7422\n",
      "Epoch 2/5\n",
      " 1/18 [>.............................] - ETA: 4:44 - loss: 0.0047 - accuracy: 1.0000"
     ]
    }
   ],
   "source": [
    "start = time.time()\n",
    "history = model.fit(train,\n",
    "                    steps_per_epoch = train_cnt//train_batch_size,\n",
    "                    epochs = 5,\n",
    "                    validation_data = test,\n",
    "                    validation_steps = test_cnt//test_batch_size)\n",
    "elapsed_time = time.time() - start\n",
    "print(elapsed_time)"
   ]
  },
  {
   "cell_type": "code",
   "execution_count": 85,
   "metadata": {},
   "outputs": [
    {
     "data": {
      "image/png": "[encoded data removed]",
      "text/plain": [
       "<Figure size 432x288 with 1 Axes>"
      ]
     },
     "metadata": {
      "needs_background": "light"
     },
     "output_type": "display_data"
    },
    {
     "data": {
      "image/png": "[encoded data removed]",
      "text/plain": [
       "<Figure size 432x288 with 1 Axes>"
      ]
     },
     "metadata": {
      "needs_background": "light"
     },
     "output_type": "display_data"
    }
   ],
   "source": [
    "draw_evolution(history)"
   ]
  },
  {
   "cell_type": "code",
   "execution_count": 86,
   "metadata": {},
   "outputs": [
    {
     "name": "stdout",
     "output_type": "stream",
     "text": [
      "3/3 [==============================] - 6s 2s/step - loss: 1.4203 - accuracy: 0.7667\n"
     ]
    },
    {
     "data": {
      "text/plain": [
       "[1.4203194975852966, 0.76666665]"
      ]
     },
     "execution_count": 86,
     "metadata": {},
     "output_type": "execute_result"
    }
   ],
   "source": [
    "model.evaluate(eval_gen)"
   ]
  },
  {
   "cell_type": "code",
   "execution_count": 88,
   "metadata": {},
   "outputs": [
    {
     "name": "stdout",
     "output_type": "stream",
     "text": [
      "INFO:tensorflow:Assets written to: ./Models\\Model_5_Flat_Dr05_512_0005_ep40_bch64_acc76_LT2h\\assets\n"
     ]
    },
    {
     "data": {
      "text/plain": [
       "'./Models\\\\Model_5_Flat_Dr05_512_0005_ep40_bch64_acc76_LT2h'"
      ]
     },
     "execution_count": 88,
     "metadata": {},
     "output_type": "execute_result"
    }
   ],
   "source": [
    "name_of_model = 'Model_5_Flat_Dr05_512_0005_ep40_bch64_acc76_LT2h'\n",
    "SaveModel(model,name_of_model)"
   ]
  },
  {
   "cell_type": "code",
   "execution_count": null,
   "metadata": {},
   "outputs": [],
   "source": []
  }
 ],
 "metadata": {
  "kernelspec": {
   "display_name": "Python 3",
   "language": "python",
   "name": "python3"
  },
  "language_info": {
   "codemirror_mode": {
    "name": "ipython",
    "version": 3
   },
   "file_extension": ".py",
   "mimetype": "text/x-python",
   "name": "python",
   "nbconvert_exporter": "python",
   "pygments_lexer": "ipython3",
   "version": "3.6.7"
  }
 },
 "nbformat": 4,
 "nbformat_minor": 4
}
