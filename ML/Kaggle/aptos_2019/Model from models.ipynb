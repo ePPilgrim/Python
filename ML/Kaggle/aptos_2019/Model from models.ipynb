{
 "cells": [
  {
   "cell_type": "code",
   "execution_count": 1,
   "metadata": {},
   "outputs": [],
   "source": [
    "import shutil\n",
    "import random\n",
    "import os\n",
    "import numpy as np\n",
    "import cv2\n",
    "import pandas as pd\n",
    "import matplotlib.pyplot as plt\n",
    "import tensorflow as tf\n",
    "import time\n",
    "from tensorflow.keras import models\n",
    "from tensorflow.keras import layers\n",
    "\n",
    "DEST_MODELS_DIR = './Models'\n",
    "SRC_MODELS_DIR = './TempModels'"
   ]
  },
  {
   "cell_type": "code",
   "execution_count": null,
   "metadata": {},
   "outputs": [],
   "source": [
    "vec = [x[1] for x in os.walk(MODELS_DIR)]\n",
    "dirs = vec[0]\n",
    "ii = 1\n",
    "for folder in dirs:\n",
    "    path = os.path.join(MODELS_DIR,folder)\n",
    "    model = tf.keras.models.load_model(path)\n",
    "    print('{} '.format(ii) + folder)\n",
    "    model.evaluate(eval_gen1)\n",
    "    model.evaluate(eval_gen2)\n",
    "    model.evaluate(eval_gen3)\n",
    "    model.evaluate(eval_gen4)\n",
    "    ii += 1\n",
    "\n",
    "models = ['Model_5_1024_0001_l201_ep37_i26_shuffle_bch64_a85_b85_c84_d88',\n",
    " 'Model_5_1024_0001_l201_ep20_shuffle_bch64_a80_b84_c80_d85',\n",
    " 'Model5_v2_1024_0001_l2005_ep40_sh_bch64_b92',\n",
    " 'Model5_v2_1024_0001_l2005_ep33_sh_bch64_b90',\n",
    " 'Model5_1024_0001_l20075_ep21_shuffle_bch64_b88',\n",
    " 'Model5_1024_0001_l20075_ep108_shuffle_bch64_b86',\n",
    " 'Model5_1024_0001_l2005_ep99_shuffle_bch64_b89',\n",
    " 'Model5_1024_0001_l2005_ep95_shuffle_bch64_b92',\n",
    " 'Model5_1024_0001_l2005_ep83_shuffle_bch64_b90',\n",
    " 'Model5_1024_0001_l2005_ep76_shuffle_bch64_b90',\n",
    " 'Model5_1024_0001_l2005_ep103_shuffle_bch64_b89',\n",
    " 'Model5_1024_0001_l20045_ep88_bch64_b92',\n",
    " 'Model5_1024_0001_l20045_ep55_bch64_b88',\n",
    " 'Model5_1024_0001_l20045_ep47_bch64_b89',\n",
    " 'Model5_1024_0001_l20045_ep40_bch64_b86',\n",
    " 'Model5_1024_0001_l20025_ep74_sh_bch64_b88',\n",
    " 'Model5_1024_0001_l20025_ep95_sh_bch64_b86',\n",
    " 'Model5_1024_0001_l20045_ep100_bch64_b86',\n",
    " 'Model5_1024_0001_l20045_ep11_bch64_b86',\n",
    " 'Model5_1024_0001_l20045_ep12_bch64_b88',\n",
    " 'Model5_1024_0001_l20045_ep23_bch64_b92',\n",
    " 'Model5_1024_0001_l20045_ep30_bch64_b90']\n",
    "\n",
    "for model in models:\n",
    "    src = os.path.join('./TempModels',model)\n",
    "    dist = os.path.join(MODELS_DIR, '1',model)\n",
    "    shutil.copytree(src,dist)\n",
    "    \n",
    "model = tf.keras.models.load_model('./Models\\\\1')"
   ]
  }
 ],
 "metadata": {
  "kernelspec": {
   "display_name": "Python 3",
   "language": "python",
   "name": "python3"
  },
  "language_info": {
   "codemirror_mode": {
    "name": "ipython",
    "version": 3
   },
   "file_extension": ".py",
   "mimetype": "text/x-python",
   "name": "python",
   "nbconvert_exporter": "python",
   "pygments_lexer": "ipython3",
   "version": "3.6.7"
  }
 },
 "nbformat": 4,
 "nbformat_minor": 4
}
