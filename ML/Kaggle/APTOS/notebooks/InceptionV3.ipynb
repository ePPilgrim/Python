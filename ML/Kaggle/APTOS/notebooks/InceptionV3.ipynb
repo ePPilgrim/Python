{
 "cells": [
  {
   "cell_type": "code",
   "execution_count": null,
   "metadata": {},
   "outputs": [],
   "source": [
    "%load_ext tensorboard\n",
    "\n",
    "from headers import *\n",
    "from common import CreateAndSaveModel\n",
    "from common import GetTrainTestSets\n",
    "from common import ClearTrainingOutput\n",
    " \n",
    "def BuildModel(x_learn_layers = 311, learn_rate = 0.0001, l1 = None, l2 = None, top_layer_cnt = 1, units = 512, version = 0):\n",
    "    basemodel = BaseModel(learn_rate = learn_rate, L1 = l1, L2 = l2,\n",
    "                          top_layer_cnt = top_layer_cnt, units = units, version = version)\n",
    "    tunner_model = InceptionV3(include_top=False, weights='imagenet')\n",
    "    return PredefinedModel(model = tunner_model, top_layers = x_learn_layers, intercept_module = basemodel).Create()"
   ]
  },
  {
   "cell_type": "markdown",
   "metadata": {},
   "source": [
    "# 3 vs 4"
   ]
  },
  {
   "cell_type": "code",
   "execution_count": null,
   "metadata": {},
   "outputs": [],
   "source": [
    "train_set, test_set = GetTrainTestSets([[3],[4]], [[2048], [2048]], [[1024], [1024]])\n",
    "keras_tuning_project_name = 'inception_v_three'\n",
    "tunning_epoch_cnt = 5"
   ]
  },
  {
   "cell_type": "markdown",
   "metadata": {},
   "source": [
    "## (3 vs 4): Keras Tuning "
   ]
  },
  {
   "cell_type": "code",
   "execution_count": null,
   "metadata": {},
   "outputs": [],
   "source": [
    "#put the weight information into the memory for each configuration and epoch\n",
    "#so this method could consume tens of gigabays of memory\n",
    "#devide one configuration into little ones \n",
    "def model_builder(hp): \n",
    "    hp_units = hp.Choice('units', values = [512,1024])\n",
    "    hp_top_layer_cnt = hp.Choice('top_layer_cnt', values = [1,2])\n",
    "    hp_l1 = hp.Choice('l1', values = [0.0, 0.0001, 0.0005, 0.001])\n",
    "    hp_l2 = hp.Choice('l2', values = [0.0, 0.0001, 0.0005, 0.001])\n",
    "    hp_learn_rate = hp.Choice('learn_rate', values = [0.001, 0.0001])\n",
    "    predefinedModel = BuildModel(learn_rate = hp_learn_rate, l1 = hp_l1, l2 = hp_l2,\n",
    "                          top_layer_cnt = hp_top_layer_cnt, units = hp_units)\n",
    "    return predefinedModel.model\n",
    "\n",
    "tuner = kt.Hyperband(model_builder,\n",
    "                     objective = 'val_accuracy', \n",
    "                     max_epochs = tunning_epoch_cnt,\n",
    "                     factor = 2,\n",
    "                     directory = 'keras_tuning',\n",
    "                     project_name = keras_tuning_project_name) "
   ]
  },
  {
   "cell_type": "code",
   "execution_count": null,
   "metadata": {},
   "outputs": [],
   "source": [
    "tuner.search(train_set, epochs = tunning_epoch_cnt, validation_data = test_set, callbacks = [ClearTrainingOutput()])\n",
    "\n",
    "# Get the optimal hyperparameters\n",
    "best_hps = tuner.get_best_hyperparameters(num_trials = 1)[0]\n",
    "tuner.results_summary()\n",
    "#mmodels = tuner.get_best_models(num_models = 3)"
   ]
  },
  {
   "cell_type": "markdown",
   "metadata": {},
   "source": [
    "## (3 vs 4): Tuning1"
   ]
  },
  {
   "cell_type": "code",
   "execution_count": null,
   "metadata": {},
   "outputs": [],
   "source": [
    "EPOCH = 10\n",
    "predefinedModel = BuildModel(learn_rate = 0.0001, l1 = 0.0001, l2 = 0.0001,top_layer_cnt = 1, units = 512)\n",
    "extra_callbacks = [TensorBoard(log_dir=\"logs\", histogram_freq=1)]"
   ]
  },
  {
   "cell_type": "code",
   "execution_count": null,
   "metadata": {},
   "outputs": [],
   "source": [
    "predefinedModel.fit(train_set = train_set, val_set = test_set, epochs = EPOCH,\n",
    "                log = True, threshold = 0.7,extra_callbacks = extra_callbacks)"
   ]
  },
  {
   "cell_type": "markdown",
   "metadata": {},
   "source": [
    "### (3 vs 4): Save Model1"
   ]
  },
  {
   "cell_type": "code",
   "execution_count": null,
   "metadata": {},
   "outputs": [],
   "source": [
    "CreateAndSaveModel(root_dir = '', model = predefinedModel.model, test_set,\n",
    "                   name = predefinedModel.getDescription(), extent = 'hdf5')"
   ]
  }
 ],
 "metadata": {
  "kernelspec": {
   "display_name": "Python 3",
   "language": "python",
   "name": "python3"
  },
  "language_info": {
   "codemirror_mode": {
    "name": "ipython",
    "version": 3
   },
   "file_extension": ".py",
   "mimetype": "text/x-python",
   "name": "python",
   "nbconvert_exporter": "python",
   "pygments_lexer": "ipython3",
   "version": "3.6.7"
  }
 },
 "nbformat": 4,
 "nbformat_minor": 4
}
