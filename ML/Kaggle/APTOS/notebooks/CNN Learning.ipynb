{
 "cells": [
  {
   "cell_type": "code",
   "execution_count": 1,
   "metadata": {},
   "outputs": [],
   "source": [
    "import os\n",
    "from dotenv import find_dotenv, load_dotenv\n",
    "from pathlib import Path\n",
    "import sys\n",
    "import tensorflow as tf\n",
    "import matplotlib.pyplot as plt\n",
    "import numpy as np\n",
    "\n",
    "absProjectDir = Path(os.getcwd()).resolve().parents[0]\n",
    "projectDir = os.path.relpath(absProjectDir,os.curdir)\n",
    "load_dotenv(find_dotenv())\n",
    "\n",
    "trainDfPath = os.path.join(projectDir, os.environ.get(\"REF_PROC_TRAIN_DF\"))\n",
    "testDfPath = os.path.join(projectDir, os.environ.get(\"REF_PROC_TEST_DF\"))\n",
    "testOrigDir = os.path.join(projectDir, os.environ.get(\"PROC_TEST_ORIG_DIR\"))\n",
    "testAugmDir = os.path.join(projectDir, os.environ.get(\"PROC_TEST_AUG_DIR\"))\n",
    "trainOrigDir = os.path.join(projectDir, os.environ.get(\"PROC_TRAIN_ORIG_DIR\"))\n",
    "trainAugmDir = os.path.join(projectDir, os.environ.get(\"PROC_TRAIN_AUG_DIR\"))\n",
    "testRootDir = os.path.commonpath([testOrigDir, testAugmDir])\n",
    "trainRootDir = os.path.commonpath([trainOrigDir, trainAugmDir])\n",
    "\n",
    "sys.path.append(os.path.join(projectDir,'src/data'))\n",
    "import imggen as imgen"
   ]
  },
  {
   "cell_type": "code",
   "execution_count": 2,
   "metadata": {},
   "outputs": [],
   "source": [
    "trgen = imgen.Generator(trainDfPath, trainRootDir, (224,224))\n",
    "trgen.baseDf.head(5)\n",
    "trgen.SetDataFrameForGeneration([[0,3],[1,2]],[[32,32],[64,64]])"
   ]
  },
  {
   "cell_type": "code",
   "execution_count": 3,
   "metadata": {},
   "outputs": [
    {
     "name": "stdout",
     "output_type": "stream",
     "text": [
      "Found 192 validated image filenames belonging to 2 classes.\n"
     ]
    }
   ],
   "source": [
    "it = trgen.GetGenerator(bs = 8)\n",
    "imgs = it.next()"
   ]
  },
  {
   "cell_type": "code",
   "execution_count": null,
   "metadata": {},
   "outputs": [],
   "source": []
  }
 ],
 "metadata": {
  "kernelspec": {
   "display_name": "Python 3",
   "language": "python",
   "name": "python3"
  },
  "language_info": {
   "codemirror_mode": {
    "name": "ipython",
    "version": 3
   },
   "file_extension": ".py",
   "mimetype": "text/x-python",
   "name": "python",
   "nbconvert_exporter": "python",
   "pygments_lexer": "ipython3",
   "version": "3.7.6"
  }
 },
 "nbformat": 4,
 "nbformat_minor": 4
}
