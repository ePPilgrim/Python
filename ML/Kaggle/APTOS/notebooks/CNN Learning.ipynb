{
 "cells": [
  {
   "cell_type": "code",
   "execution_count": 10,
   "metadata": {},
   "outputs": [],
   "source": [
    "import os\n",
    "from dotenv import find_dotenv, load_dotenv\n",
    "from pathlib import Path\n",
    "import sys\n",
    "import tensorflow as tf\n",
    "import matplotlib.pyplot as plt\n",
    "import numpy as np\n",
    "\n",
    "from tensorflow.keras.layers import Conv2D\n",
    "from tensorflow.keras.layers import BatchNormalization\n",
    "from tensorflow.keras.layers import ReLU\n",
    "from tensorflow.keras.layers import SeparableConv2D\n",
    "from tensorflow.keras.layers import GlobalAveragePooling2D\n",
    "from tensorflow.keras.layers import MaxPool2D\n",
    "from tensorflow.keras.layers import Dense\n",
    "from tensorflow.keras.layers import concatenate\n",
    "from tensorflow.keras.layers import Concatenate\n",
    "from tensorflow.keras.layers import DepthwiseConv2D\n",
    "\n",
    "absProjectDir = Path(os.getcwd()).resolve().parents[0]\n",
    "projectDir = os.path.relpath(absProjectDir,os.curdir)\n",
    "load_dotenv(find_dotenv())\n",
    "\n",
    "trainDfPath = os.path.join(projectDir, os.environ.get(\"REF_PROC_TRAIN_DF\"))\n",
    "testDfPath = os.path.join(projectDir, os.environ.get(\"REF_PROC_TEST_DF\"))\n",
    "testOrigDir = os.path.join(projectDir, os.environ.get(\"PROC_TEST_ORIG_DIR\"))\n",
    "testAugmDir = os.path.join(projectDir, os.environ.get(\"PROC_TEST_AUG_DIR\"))\n",
    "trainOrigDir = os.path.join(projectDir, os.environ.get(\"PROC_TRAIN_ORIG_DIR\"))\n",
    "trainAugmDir = os.path.join(projectDir, os.environ.get(\"PROC_TRAIN_AUG_DIR\"))\n",
    "testRootDir = os.path.commonpath([testOrigDir, testAugmDir])\n",
    "trainRootDir = os.path.commonpath([trainOrigDir, trainAugmDir])\n",
    "modelDir = os.path.join(projectDir, os.environ.get(\"MODEL_DIR\"))\n",
    "\n",
    "sys.path.append(os.path.join(projectDir,'src/data'))\n",
    "sys.path.append(os.path.join(projectDir,'src/models'))\n",
    "import imggen as imgen\n",
    "from customlayer import DepthWiseConvBatchNorm\n",
    "from customlayer import ConvBatchNorm\n",
    "from customlayer import InceptionType\n",
    "from customlayer import CustomInceptionFactory\n",
    "\n",
    "from basemodel import BaseModel\n",
    "from basemodel import DepthWiseConvModel1\n",
    "from basemodel import ConvModel1\n",
    "from basemodel import InterceptionModelV1\n",
    "from basemodel import InterceptionModelV2\n",
    "from basemodel import StemDecorator\n",
    "from basemodel import StemDecoratorConv\n",
    "from basemodel import StemDecoratorDepthWiseConv"
   ]
  },
  {
   "cell_type": "code",
   "execution_count": 11,
   "metadata": {},
   "outputs": [
    {
     "name": "stdout",
     "output_type": "stream",
     "text": [
      "Found 4096 validated image filenames belonging to 2 classes.\n",
      "Found 2048 validated image filenames belonging to 2 classes.\n",
      "Found 2048 validated image filenames belonging to 2 classes.\n"
     ]
    }
   ],
   "source": [
    "trgen = imgen.Generator(trainDfPath, trainRootDir, (224,224))\n",
    "trgen.SetDataFrameForGeneration([[2],[3,4]],[[2048],[1024,1024]])\n",
    "train_set = trgen.GetGenerator(bs = 64)\n",
    "\n",
    "tsgen = imgen.Generator(testDfPath,testRootDir, (224,224))\n",
    "tsgen.SetDataFrameForGeneration([[2],[3,4]], [[1024],[512, 512]])\n",
    "test_set = tsgen.GetGenerator(bs = 2048)\n",
    "\n",
    "evalgen = imgen.Generator(testDfPath,testRootDir, (224,224))\n",
    "evalgen.SetDataFrameForGeneration([[2],[3]], [[512],[512]])\n",
    "eval_set = tsgen.GetGenerator(bs = 1024)"
   ]
  },
  {
   "cell_type": "code",
   "execution_count": 12,
   "metadata": {},
   "outputs": [],
   "source": [
    "def SaveModel(model,name,modelDir):\n",
    "    path = os.path.join(modelDir,name)\n",
    "    for suf in [''] + [str(i) for i in range(256)]:\n",
    "        modified_path = path + suf\n",
    "        if not os.path.exists(modified_path):\n",
    "            os.makedirs(modified_path)\n",
    "            path = modified_path\n",
    "            break\n",
    "    model.save(path)\n",
    "    return path"
   ]
  },
  {
   "cell_type": "code",
   "execution_count": 13,
   "metadata": {},
   "outputs": [],
   "source": [
    "model1 = DepthWiseConvModel1()\n",
    "model2 = ConvModel1()"
   ]
  },
  {
   "cell_type": "code",
   "execution_count": null,
   "metadata": {},
   "outputs": [
    {
     "name": "stdout",
     "output_type": "stream",
     "text": [
      "Model DepthWiseConvModel1_F32_U512_LR0001_LCnt6 is built\n",
      "Train for 64 steps, validate for 1 steps\n",
      "Epoch 1/120\n",
      "63/64 [============================>.] - ETA: 5s - loss: 0.6855 - accuracy: 0.5880 "
     ]
    }
   ],
   "source": [
    "histories = dict()\n",
    "for obj in [model1, model2]:\n",
    "    for unit in [512, 1024]:\n",
    "        for lr in [0.0001, 0.0005, 0.001]:\n",
    "            obj.units = unit\n",
    "            obj.learn_rate = lr\n",
    "            model = obj.Create()\n",
    "            history = model.fit(train_set,\n",
    "                 steps_per_epoch = 64,\n",
    "                 epochs = 120, validation_data = test_set,validation_steps = 1)\n",
    "            SaveModel(model, model.name, modelDir)\n",
    "            histories[model.name] = history    "
   ]
  },
  {
   "cell_type": "code",
   "execution_count": null,
   "metadata": {},
   "outputs": [],
   "source": []
  },
  {
   "cell_type": "code",
   "execution_count": null,
   "metadata": {},
   "outputs": [],
   "source": []
  },
  {
   "cell_type": "code",
   "execution_count": null,
   "metadata": {},
   "outputs": [],
   "source": []
  },
  {
   "cell_type": "code",
   "execution_count": null,
   "metadata": {},
   "outputs": [],
   "source": []
  },
  {
   "cell_type": "code",
   "execution_count": null,
   "metadata": {},
   "outputs": [],
   "source": []
  },
  {
   "cell_type": "code",
   "execution_count": null,
   "metadata": {},
   "outputs": [],
   "source": [
    "intercept = StemDecoratorConv(conv_layer_cnt = 2, intercept_module = InterceptionModelV2())\n",
    "model = intercept.Create()"
   ]
  },
  {
   "cell_type": "code",
   "execution_count": null,
   "metadata": {},
   "outputs": [],
   "source": [
    "hist = model.fit(train_set,\n",
    "                 steps_per_epoch = 128 / 8,\n",
    "                 epochs = 1, validation_data = test_set,validation_steps = 2)"
   ]
  },
  {
   "cell_type": "code",
   "execution_count": null,
   "metadata": {},
   "outputs": [],
   "source": [
    "m1 = ConvModel1()\n",
    "model1 = m1.Create()\n",
    "model1.summary()"
   ]
  },
  {
   "cell_type": "code",
   "execution_count": null,
   "metadata": {},
   "outputs": [],
   "source": [
    "m2 = DepthWiseConvModel1()\n",
    "model2 = m2.Create()\n",
    "model2.summary()"
   ]
  },
  {
   "cell_type": "code",
   "execution_count": null,
   "metadata": {},
   "outputs": [],
   "source": []
  }
 ],
 "metadata": {
  "kernelspec": {
   "display_name": "Python 3",
   "language": "python",
   "name": "python3"
  },
  "language_info": {
   "codemirror_mode": {
    "name": "ipython",
    "version": 3
   },
   "file_extension": ".py",
   "mimetype": "text/x-python",
   "name": "python",
   "nbconvert_exporter": "python",
   "pygments_lexer": "ipython3",
   "version": "3.6.7"
  }
 },
 "nbformat": 4,
 "nbformat_minor": 4
}
