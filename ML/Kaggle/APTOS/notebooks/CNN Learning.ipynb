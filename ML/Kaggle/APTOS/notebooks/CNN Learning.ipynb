{
 "cells": [
  {
   "cell_type": "code",
   "execution_count": null,
   "metadata": {},
   "outputs": [],
   "source": [
    "import os\n",
    "from dotenv import find_dotenv, load_dotenv\n",
    "from pathlib import Path\n",
    "import sys\n",
    "import tensorflow as tf\n",
    "import matplotlib.pyplot as plt\n",
    "import numpy as np\n",
    "\n",
    "from tensorflow.keras.layers import Conv2D\n",
    "from tensorflow.keras.layers import BatchNormalization\n",
    "from tensorflow.keras.layers import ReLU\n",
    "from tensorflow.keras.layers import SeparableConv2D\n",
    "from tensorflow.keras.layers import GlobalAveragePooling2D\n",
    "from tensorflow.keras.layers import MaxPool2D\n",
    "from tensorflow.keras.layers import Dense\n",
    "from tensorflow.keras.layers import concatenate\n",
    "from tensorflow.keras.layers import Concatenate\n",
    "from tensorflow.keras.layers import DepthwiseConv2D\n",
    "\n",
    "absProjectDir = Path(os.getcwd()).resolve().parents[0]\n",
    "projectDir = os.path.relpath(absProjectDir,os.curdir)\n",
    "load_dotenv(find_dotenv())\n",
    "\n",
    "trainDfPath = os.path.join(projectDir, os.environ.get(\"REF_PROC_TRAIN_DF\"))\n",
    "testDfPath = os.path.join(projectDir, os.environ.get(\"REF_PROC_TEST_DF\"))\n",
    "testOrigDir = os.path.join(projectDir, os.environ.get(\"PROC_TEST_ORIG_DIR\"))\n",
    "testAugmDir = os.path.join(projectDir, os.environ.get(\"PROC_TEST_AUG_DIR\"))\n",
    "trainOrigDir = os.path.join(projectDir, os.environ.get(\"PROC_TRAIN_ORIG_DIR\"))\n",
    "trainAugmDir = os.path.join(projectDir, os.environ.get(\"PROC_TRAIN_AUG_DIR\"))\n",
    "testRootDir = os.path.commonpath([testOrigDir, testAugmDir])\n",
    "trainRootDir = os.path.commonpath([trainOrigDir, trainAugmDir])\n",
    "\n",
    "sys.path.append(os.path.join(projectDir,'src/data'))\n",
    "sys.path.append(os.path.join(projectDir,'src/models'))\n",
    "import imggen as imgen\n",
    "from customlayer import DepthWiseConvBatchNorm\n",
    "from customlayer import ConvBatchNorm\n",
    "from customlayer import InceptionType\n",
    "from customlayer import CustomInceptionFactory\n",
    "\n",
    "from basemodel import BaseModel\n",
    "from basemodel import DepthWiseConvModel1\n",
    "from basemodel import ConvModel1\n",
    "from basemodel import InterceptionModelV1\n",
    "from basemodel import InterceptionModelV2\n",
    "from basemodel import StemDecorator\n",
    "from basemodel import StemDecoratorConv\n",
    "from basemodel import StemDecoratorDepthWiseConv"
   ]
  },
  {
   "cell_type": "code",
   "execution_count": null,
   "metadata": {},
   "outputs": [],
   "source": [
    "trgen = imgen.Generator(trainDfPath, trainRootDir, (224,224))\n",
    "trgen.SetDataFrameForGeneration([[2],[3]],[[256],[256]])\n",
    "tsgen = imgen.Generator(testDfPath,testRootDir, (224,224))\n",
    "tsgen.SetDataFrameForGeneration([[2],[3]], [[32],[32]])\n",
    "train_set = trgen.GetGenerator(bs = 16)\n",
    "test_set = tsgen.GetGenerator(bs = 16)"
   ]
  },
  {
   "cell_type": "code",
   "execution_count": null,
   "metadata": {},
   "outputs": [],
   "source": [
    "intercept = StemDecoratorConv(conv_layer_cnt = 2, intercept_module = InterceptionModelV2())\n",
    "model = intercept.Create()"
   ]
  },
  {
   "cell_type": "code",
   "execution_count": null,
   "metadata": {},
   "outputs": [],
   "source": [
    "hist = model.fit(train_set,\n",
    "                 steps_per_epoch = 128 / 8,\n",
    "                 epochs = 1, validation_data = test_set,validation_steps = 2)"
   ]
  },
  {
   "cell_type": "code",
   "execution_count": null,
   "metadata": {},
   "outputs": [],
   "source": [
    "m1 = ConvModel1()\n",
    "model1 = m1.Create()\n",
    "model1.summary()"
   ]
  },
  {
   "cell_type": "code",
   "execution_count": null,
   "metadata": {},
   "outputs": [],
   "source": [
    "m2 = DepthWiseConvModel1()\n",
    "model2 = m2.Create()\n",
    "model2.summary()"
   ]
  },
  {
   "cell_type": "code",
   "execution_count": null,
   "metadata": {},
   "outputs": [],
   "source": []
  }
 ],
 "metadata": {
  "kernelspec": {
   "display_name": "Python 3",
   "language": "python",
   "name": "python3"
  },
  "language_info": {
   "codemirror_mode": {
    "name": "ipython",
    "version": 3
   },
   "file_extension": ".py",
   "mimetype": "text/x-python",
   "name": "python",
   "nbconvert_exporter": "python",
   "pygments_lexer": "ipython3",
   "version": "3.7.6"
  }
 },
 "nbformat": 4,
 "nbformat_minor": 4
}
