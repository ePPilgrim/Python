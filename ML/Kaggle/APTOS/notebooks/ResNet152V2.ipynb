{
 "cells": [
  {
   "cell_type": "code",
   "execution_count": 1,
   "metadata": {},
   "outputs": [],
   "source": [
    "%load_ext tensorboard\n",
    "\n",
    "from headers import *\n",
    "from common import CreateAndSaveModel\n",
    "from common import GetTrainTestSets\n",
    "from common import ClearTrainingOutput\n",
    " \n",
    "def BuildModel(x_learn_layers = 564, learn_rate = 0.0001, l1 = None, l2 = None, top_layer_cnt = 1, units = 512, version = 0):\n",
    "    basemodel = BaseModel(learn_rate = learn_rate, L1 = l1, L2 = l2,\n",
    "                          top_layer_cnt = top_layer_cnt, units = units, version = version)\n",
    "    tunner_model = ResNet152V2(include_top=False, weights='imagenet')\n",
    "    return PredefinedModel(model = tunner_model, top_layers = x_learn_layers, intercept_module = basemodel).Create()"
   ]
  },
  {
   "cell_type": "markdown",
   "metadata": {},
   "source": [
    "# 3 vs 4"
   ]
  },
  {
   "cell_type": "code",
   "execution_count": 2,
   "metadata": {},
   "outputs": [
    {
     "name": "stdout",
     "output_type": "stream",
     "text": [
      "Found 4096 validated image filenames belonging to 2 classes.\n",
      "Found 2048 validated image filenames belonging to 2 classes.\n"
     ]
    }
   ],
   "source": [
    "train_set, test_set = GetTrainTestSets([[3],[4]], [[2048], [2048]], [[1024], [1024]])\n",
    "keras_tuning_project_name = 'res_net_v_two'# throw exception when either capital letters or numbers are in name of directory\n",
    "tunning_epoch_cnt = 5"
   ]
  },
  {
   "cell_type": "markdown",
   "metadata": {},
   "source": [
    "## (3 vs 4): Keras Tuning "
   ]
  },
  {
   "cell_type": "code",
   "execution_count": null,
   "metadata": {},
   "outputs": [],
   "source": [
    "#put the weight information into the memory for each configuration and epoch\n",
    "#so this method could consume tens of gigabays of memory\n",
    "#devide one configuration into little ones \n",
    "def model_builder(hp): \n",
    "    hp_units = hp.Choice('units', values = [512,1024])\n",
    "    hp_top_layer_cnt = hp.Choice('top_layer_cnt', values = [1,2])\n",
    "    hp_l1 = hp.Choice('l1', values = [0.0, 0.0001, 0.0005, 0.001])\n",
    "    hp_l2 = hp.Choice('l2', values = [0.0, 0.0001, 0.0005, 0.001])\n",
    "    hp_learn_rate = hp.Choice('learn_rate', values = [0.001, 0.0001])\n",
    "    predefinedModel = BuildModel(learn_rate = hp_learn_rate, l1 = hp_l1, l2 = hp_l2,\n",
    "                          top_layer_cnt = hp_top_layer_cnt, units = hp_units)\n",
    "    return predefinedModel.model\n",
    "\n",
    "tuner = kt.Hyperband(model_builder,\n",
    "                     objective = 'val_accuracy', \n",
    "                     max_epochs = tunning_epoch_cnt,\n",
    "                     factor = 2,\n",
    "                     directory = 'keras_tuning', # throw exception when either capital letters or numbers are in name of directory\n",
    "                     project_name = keras_tuning_project_name) # throw exception when either capital letters or numbers are in name of directory"
   ]
  },
  {
   "cell_type": "code",
   "execution_count": null,
   "metadata": {},
   "outputs": [],
   "source": [
    "tuner.search(train_set, epochs = tunning_epoch_cnt, validation_data = test_set, callbacks = [ClearTrainingOutput()])\n",
    "\n",
    "# Get the optimal hyperparameters\n",
    "best_hps = tuner.get_best_hyperparameters(num_trials = 1)[0]\n",
    "tuner.results_summary()\n",
    "#mmodels = tuner.get_best_models(num_models = 3)"
   ]
  },
  {
   "cell_type": "markdown",
   "metadata": {},
   "source": [
    "Summary:\n",
    "1. Score: 0.66, L1 = L2 = LearnRate = 0.001\n",
    "2. Score: 0.65, L1 = L2 = 0.0005, LearnRate = 0.001\n",
    "3. Score: 0.65, L2 = 0.0005, LearnRate = 0.0001"
   ]
  },
  {
   "cell_type": "markdown",
   "metadata": {},
   "source": [
    "## (3 vs 4): Tuning1"
   ]
  },
  {
   "cell_type": "code",
   "execution_count": 3,
   "metadata": {},
   "outputs": [
    {
     "name": "stdout",
     "output_type": "stream",
     "text": [
      "Model resnet152v2_TL564_PredefinedModel_F32_U512x1_LR001_L1001_L2001_LCnt6_V is built\n"
     ]
    }
   ],
   "source": [
    "EPOCH = 10\n",
    "predefinedModel = BuildModel(learn_rate = 0.001, l1 = 0.001, l2 = 0.001,top_layer_cnt = 1, units = 512)\n",
    "extra_callbacks = [TensorBoard(log_dir=\"logs\", histogram_freq=1)]"
   ]
  },
  {
   "cell_type": "code",
   "execution_count": null,
   "metadata": {},
   "outputs": [
    {
     "name": "stdout",
     "output_type": "stream",
     "text": [
      "Train for 64 steps, validate for 16 steps\n",
      "Epoch 1/10\n",
      "64/64 [==============================] - ETA: 2:58:42 - loss: 1.7584 - accuracy: 0.359 - ETA: 2:11:26 - loss: 2.3499 - accuracy: 0.476 - ETA: 1:54:30 - loss: 2.2087 - accuracy: 0.489 - ETA: 1:44:08 - loss: 2.0284 - accuracy: 0.496 - ETA: 1:40:04 - loss: 1.9175 - accuracy: 0.512 - ETA: 1:34:57 - loss: 1.8421 - accuracy: 0.510 - ETA: 1:31:27 - loss: 1.7811 - accuracy: 0.522 - ETA: 1:27:47 - loss: 1.7347 - accuracy: 0.525 - ETA: 1:24:06 - loss: 1.7083 - accuracy: 0.519 - ETA: 1:21:01 - loss: 1.6772 - accuracy: 0.529 - ETA: 1:17:49 - loss: 1.6516 - accuracy: 0.532 - ETA: 1:15:18 - loss: 1.6286 - accuracy: 0.536 - ETA: 1:13:12 - loss: 1.6086 - accuracy: 0.534 - ETA: 1:11:11 - loss: 1.5887 - accuracy: 0.543 - ETA: 1:08:55 - loss: 1.5693 - accuracy: 0.547 - ETA: 1:07:05 - loss: 1.5534 - accuracy: 0.545 - ETA: 1:05:28 - loss: 1.5367 - accuracy: 0.551 - ETA: 1:03:55 - loss: 1.5235 - accuracy: 0.564 - ETA: 1:02:04 - loss: 1.5093 - accuracy: 0.567 - ETA: 1:00:29 - loss: 1.4947 - accuracy: 0.575 - ETA: 58:54 - loss: 1.4877 - accuracy: 0.5744  - ETA: 57:14 - loss: 1.4789 - accuracy: 0.573 - ETA: 55:48 - loss: 1.4683 - accuracy: 0.576 - ETA: 54:12 - loss: 1.4582 - accuracy: 0.577 - ETA: 52:30 - loss: 1.4485 - accuracy: 0.576 - ETA: 50:57 - loss: 1.4388 - accuracy: 0.576 - ETA: 49:24 - loss: 1.4320 - accuracy: 0.578 - ETA: 48:02 - loss: 1.4252 - accuracy: 0.584 - ETA: 46:41 - loss: 1.4161 - accuracy: 0.583 - ETA: 45:12 - loss: 1.4058 - accuracy: 0.588 - ETA: 43:44 - loss: 1.3976 - accuracy: 0.589 - ETA: 42:12 - loss: 1.3913 - accuracy: 0.589 - ETA: 40:46 - loss: 1.3827 - accuracy: 0.591 - ETA: 39:20 - loss: 1.3745 - accuracy: 0.596 - ETA: 37:54 - loss: 1.3660 - accuracy: 0.599 - ETA: 36:34 - loss: 1.3570 - accuracy: 0.602 - ETA: 35:12 - loss: 1.3504 - accuracy: 0.602 - ETA: 33:52 - loss: 1.3412 - accuracy: 0.606 - ETA: 32:30 - loss: 1.3316 - accuracy: 0.612 - ETA: 31:05 - loss: 1.3245 - accuracy: 0.612 - ETA: 29:41 - loss: 1.3164 - accuracy: 0.615 - ETA: 28:19 - loss: 1.3086 - accuracy: 0.620 - ETA: 27:02 - loss: 1.3012 - accuracy: 0.623 - ETA: 25:46 - loss: 1.2925 - accuracy: 0.627 - ETA: 24:25 - loss: 1.2846 - accuracy: 0.629 - ETA: 23:07 - loss: 1.2782 - accuracy: 0.633 - ETA: 21:49 - loss: 1.2719 - accuracy: 0.633 - ETA: 20:33 - loss: 1.2634 - accuracy: 0.636 - ETA: 19:16 - loss: 1.2564 - accuracy: 0.638 - ETA: 17:59 - loss: 1.2485 - accuracy: 0.641 - ETA: 16:43 - loss: 1.2440 - accuracy: 0.643 - ETA: 15:24 - loss: 1.2378 - accuracy: 0.643 - ETA: 14:04 - loss: 1.2302 - accuracy: 0.645 - ETA: 12:47 - loss: 1.2234 - accuracy: 0.646 - ETA: 11:32 - loss: 1.2186 - accuracy: 0.646 - ETA: 10:14 - loss: 1.2135 - accuracy: 0.648 - ETA: 8:57 - loss: 1.2066 - accuracy: 0.649 - ETA: 7:40 - loss: 1.2013 - accuracy: 0.65 - ETA: 6:24 - loss: 1.1982 - accuracy: 0.65 - ETA: 5:07 - loss: 1.1950 - accuracy: 0.65 - ETA: 3:50 - loss: 1.1925 - accuracy: 0.65 - ETA: 2:33 - loss: 1.1942 - accuracy: 0.65 - ETA: 1:16 - loss: 1.1914 - accuracy: 0.65 - 5654s 88s/step - loss: 1.1873 - accuracy: 0.6536 - val_loss: 71563677.2500 - val_accuracy: 0.5000\n",
      "Epoch 2/10\n",
      "64/64 [==============================] - ETA: 2:34:17 - loss: 0.9420 - accuracy: 0.734 - ETA: 1:54:22 - loss: 1.1197 - accuracy: 0.687 - ETA: 1:38:04 - loss: 1.0917 - accuracy: 0.651 - ETA: 1:30:26 - loss: 1.1069 - accuracy: 0.632 - ETA: 1:24:21 - loss: 1.0675 - accuracy: 0.653 - ETA: 1:20:28 - loss: 1.0338 - accuracy: 0.679 - ETA: 1:19:38 - loss: 1.0125 - accuracy: 0.680 - ETA: 1:17:54 - loss: 0.9992 - accuracy: 0.689 - ETA: 1:15:19 - loss: 1.0018 - accuracy: 0.689 - ETA: 1:12:25 - loss: 0.9891 - accuracy: 0.692 - ETA: 1:10:00 - loss: 0.9852 - accuracy: 0.693 - ETA: 1:07:59 - loss: 0.9725 - accuracy: 0.700 - ETA: 1:05:57 - loss: 0.9621 - accuracy: 0.699 - ETA: 1:04:14 - loss: 0.9520 - accuracy: 0.700 - ETA: 1:02:14 - loss: 0.9498 - accuracy: 0.700 - ETA: 1:00:43 - loss: 0.9411 - accuracy: 0.705 - ETA: 59:21 - loss: 0.9356 - accuracy: 0.7022  - ETA: 57:56 - loss: 0.9298 - accuracy: 0.700 - ETA: 56:18 - loss: 0.9247 - accuracy: 0.699 - ETA: 54:57 - loss: 0.9337 - accuracy: 0.694 - ETA: 53:49 - loss: 0.9276 - accuracy: 0.699 - ETA: 52:18 - loss: 0.9207 - accuracy: 0.702 - ETA: 50:48 - loss: 0.9175 - accuracy: 0.701 - ETA: 49:14 - loss: 0.9130 - accuracy: 0.703 - ETA: 47:51 - loss: 0.9118 - accuracy: 0.702 - ETA: 46:37 - loss: 0.9055 - accuracy: 0.704 - ETA: 45:15 - loss: 0.9035 - accuracy: 0.705 - ETA: 43:49 - loss: 0.8959 - accuracy: 0.707 - ETA: 42:32 - loss: 0.8925 - accuracy: 0.710 - ETA: 41:11 - loss: 0.8859 - accuracy: 0.712 - ETA: 39:52 - loss: 0.8802 - accuracy: 0.714 - ETA: 38:34 - loss: 0.8750 - accuracy: 0.715 - ETA: 37:20 - loss: 0.8705 - accuracy: 0.719 - ETA: 36:07 - loss: 0.8657 - accuracy: 0.721 - ETA: 34:54 - loss: 0.8608 - accuracy: 0.725 - ETA: 33:37 - loss: 0.8544 - accuracy: 0.726 - ETA: 32:19 - loss: 0.8484 - accuracy: 0.728 - ETA: 31:05 - loss: 0.8434 - accuracy: 0.728 - ETA: 29:50 - loss: 0.8432 - accuracy: 0.729 - ETA: 28:41 - loss: 0.8408 - accuracy: 0.730 - ETA: 27:28 - loss: 0.8349 - accuracy: 0.732 - ETA: 26:14 - loss: 0.8310 - accuracy: 0.733 - ETA: 25:03 - loss: 0.8277 - accuracy: 0.734 - ETA: 23:50 - loss: 0.8286 - accuracy: 0.734 - ETA: 22:36 - loss: 0.8214 - accuracy: 0.738 - ETA: 21:25 - loss: 0.8182 - accuracy: 0.739 - ETA: 20:13 - loss: 0.8148 - accuracy: 0.740 - ETA: 19:00 - loss: 0.8106 - accuracy: 0.741 - ETA: 17:47 - loss: 0.8085 - accuracy: 0.741 - ETA: 16:36 - loss: 0.8042 - accuracy: 0.741 - ETA: 15:26 - loss: 0.8029 - accuracy: 0.741 - ETA: 14:17 - loss: 0.7998 - accuracy: 0.740 - ETA: 13:05 - loss: 0.7980 - accuracy: 0.740 - ETA: 11:53 - loss: 0.7944 - accuracy: 0.741 - ETA: 10:42 - loss: 0.7898 - accuracy: 0.742 - ETA: 9:31 - loss: 0.7863 - accuracy: 0.744 - ETA: 8:19 - loss: 0.7827 - accuracy: 0.74 - ETA: 7:09 - loss: 0.7784 - accuracy: 0.74 - ETA: 5:58 - loss: 0.7772 - accuracy: 0.74 - ETA: 4:46 - loss: 0.7723 - accuracy: 0.74 - ETA: 3:34 - loss: 0.7680 - accuracy: 0.74 - ETA: 2:22 - loss: 0.7637 - accuracy: 0.74 - ETA: 1:11 - loss: 0.7592 - accuracy: 0.75 - 5284s 83s/step - loss: 0.7544 - accuracy: 0.7520 - val_loss: 54.6705 - val_accuracy: 0.5000\n",
      "Epoch 3/10\n"
     ]
    },
    {
     "name": "stdout",
     "output_type": "stream",
     "text": [
      "64/64 [==============================] - ETA: 2:30:32 - loss: 0.4451 - accuracy: 0.890 - ETA: 1:49:59 - loss: 0.4801 - accuracy: 0.867 - ETA: 1:36:09 - loss: 0.4886 - accuracy: 0.833 - ETA: 1:27:56 - loss: 0.4876 - accuracy: 0.843 - ETA: 1:24:01 - loss: 0.5243 - accuracy: 0.834 - ETA: 1:19:44 - loss: 0.5119 - accuracy: 0.835 - ETA: 1:16:34 - loss: 0.5359 - accuracy: 0.825 - ETA: 1:13:55 - loss: 0.5333 - accuracy: 0.820 - ETA: 1:11:17 - loss: 0.5774 - accuracy: 0.819 - ETA: 1:09:42 - loss: 0.5803 - accuracy: 0.818 - ETA: 1:07:47 - loss: 0.5679 - accuracy: 0.823 - ETA: 1:06:03 - loss: 0.5615 - accuracy: 0.824 - ETA: 1:04:48 - loss: 0.5558 - accuracy: 0.830 - ETA: 1:03:06 - loss: 0.5598 - accuracy: 0.824 - ETA: 1:01:41 - loss: 0.5547 - accuracy: 0.827 - ETA: 1:00:01 - loss: 0.5616 - accuracy: 0.828 - ETA: 58:34 - loss: 0.5565 - accuracy: 0.8309  - ETA: 57:44 - loss: 0.5501 - accuracy: 0.834 - ETA: 56:21 - loss: 0.5483 - accuracy: 0.833 - ETA: 55:09 - loss: 0.5461 - accuracy: 0.834 - ETA: 53:40 - loss: 0.5461 - accuracy: 0.834 - ETA: 52:24 - loss: 0.5506 - accuracy: 0.835 - ETA: 51:20 - loss: 0.5503 - accuracy: 0.837 - ETA: 50:01 - loss: 0.5436 - accuracy: 0.840 - ETA: 48:41 - loss: 0.5417 - accuracy: 0.841 - ETA: 47:37 - loss: 0.5383 - accuracy: 0.843 - ETA: 46:31 - loss: 0.5357 - accuracy: 0.845 - ETA: 45:23 - loss: 0.5306 - accuracy: 0.847 - ETA: 44:11 - loss: 0.5242 - accuracy: 0.850 - ETA: 42:57 - loss: 0.5209 - accuracy: 0.851 - ETA: 41:37 - loss: 0.5229 - accuracy: 0.851 - ETA: 40:23 - loss: 0.5174 - accuracy: 0.854 - ETA: 39:05 - loss: 0.5126 - accuracy: 0.855 - ETA: 37:48 - loss: 0.5133 - accuracy: 0.856 - ETA: 36:33 - loss: 0.5121 - accuracy: 0.856 - ETA: 35:28 - loss: 0.5105 - accuracy: 0.856 - ETA: 34:13 - loss: 0.5064 - accuracy: 0.856 - ETA: 32:59 - loss: 0.5012 - accuracy: 0.858 - ETA: 31:39 - loss: 0.4967 - accuracy: 0.859 - ETA: 30:23 - loss: 0.4932 - accuracy: 0.860 - ETA: 29:11 - loss: 0.4890 - accuracy: 0.861 - ETA: 27:58 - loss: 0.4884 - accuracy: 0.860 - ETA: 26:38 - loss: 0.4850 - accuracy: 0.860 - ETA: 25:20 - loss: 0.4813 - accuracy: 0.861 - ETA: 24:01 - loss: 0.4764 - accuracy: 0.864 - ETA: 22:43 - loss: 0.4728 - accuracy: 0.865 - ETA: 21:29 - loss: 0.4707 - accuracy: 0.864 - ETA: 20:15 - loss: 0.4689 - accuracy: 0.865 - ETA: 18:58 - loss: 0.4642 - accuracy: 0.868 - ETA: 17:40 - loss: 0.4599 - accuracy: 0.869 - ETA: 16:23 - loss: 0.4568 - accuracy: 0.869 - ETA: 15:07 - loss: 0.4544 - accuracy: 0.869 - ETA: 13:51 - loss: 0.4523 - accuracy: 0.869 - ETA: 12:35 - loss: 0.4491 - accuracy: 0.870 - ETA: 11:20 - loss: 0.4493 - accuracy: 0.870 - ETA: 10:04 - loss: 0.4476 - accuracy: 0.870 - ETA: 8:49 - loss: 0.4445 - accuracy: 0.871 - ETA: 7:34 - loss: 0.4419 - accuracy: 0.87 - ETA: 6:18 - loss: 0.4394 - accuracy: 0.87 - ETA: 5:02 - loss: 0.4390 - accuracy: 0.87 - ETA: 3:47 - loss: 0.4363 - accuracy: 0.87 - ETA: 2:31 - loss: 0.4361 - accuracy: 0.87 - ETA: 1:15 - loss: 0.4344 - accuracy: 0.87 - 5672s 89s/step - loss: 0.4320 - accuracy: 0.8752 - val_loss: 11.7844 - val_accuracy: 0.4751\n",
      "Epoch 4/10\n",
      "64/64 [==============================] - ETA: 3:23:19 - loss: 0.3015 - accuracy: 0.906 - ETA: 2:26:44 - loss: 0.2776 - accuracy: 0.921 - ETA: 2:04:24 - loss: 0.2824 - accuracy: 0.927 - ETA: 1:51:46 - loss: 0.2873 - accuracy: 0.929 - ETA: 1:45:39 - loss: 0.2861 - accuracy: 0.931 - ETA: 1:41:21 - loss: 0.2735 - accuracy: 0.940 - ETA: 1:37:54 - loss: 0.2695 - accuracy: 0.942 - ETA: 1:34:35 - loss: 0.2803 - accuracy: 0.939 - ETA: 1:30:05 - loss: 0.2826 - accuracy: 0.939 - ETA: 1:26:12 - loss: 0.2794 - accuracy: 0.942 - ETA: 1:23:25 - loss: 0.2924 - accuracy: 0.933 - ETA: 1:21:32 - loss: 0.2891 - accuracy: 0.932 - ETA: 1:19:13 - loss: 0.2849 - accuracy: 0.931 - ETA: 1:17:10 - loss: 0.2796 - accuracy: 0.933 - ETA: 1:14:53 - loss: 0.2761 - accuracy: 0.933 - ETA: 1:12:23 - loss: 0.2746 - accuracy: 0.933 - ETA: 1:10:22 - loss: 0.2691 - accuracy: 0.937 - ETA: 1:08:33 - loss: 0.2639 - accuracy: 0.939 - ETA: 1:06:37 - loss: 0.2715 - accuracy: 0.935 - ETA: 1:05:27 - loss: 0.2701 - accuracy: 0.935 - ETA: 1:03:53 - loss: 0.2681 - accuracy: 0.937 - ETA: 1:02:20 - loss: 0.2670 - accuracy: 0.937 - ETA: 1:00:20 - loss: 0.2816 - accuracy: 0.935 - ETA: 58:36 - loss: 0.2797 - accuracy: 0.9342  - ETA: 56:49 - loss: 0.2777 - accuracy: 0.933 - ETA: 55:03 - loss: 0.2777 - accuracy: 0.933 - ETA: 53:24 - loss: 0.2814 - accuracy: 0.932 - ETA: 51:55 - loss: 0.2795 - accuracy: 0.933 - ETA: 50:25 - loss: 0.2802 - accuracy: 0.932 - ETA: 48:58 - loss: 0.2818 - accuracy: 0.930 - ETA: 47:22 - loss: 0.2810 - accuracy: 0.929 - ETA: 45:48 - loss: 0.2805 - accuracy: 0.929 - ETA: 44:10 - loss: 0.2828 - accuracy: 0.927 - ETA: 42:42 - loss: 0.2865 - accuracy: 0.925 - ETA: 41:13 - loss: 0.2886 - accuracy: 0.925 - ETA: 39:44 - loss: 0.2873 - accuracy: 0.925 - ETA: 38:19 - loss: 0.2861 - accuracy: 0.926 - ETA: 36:48 - loss: 0.2862 - accuracy: 0.925 - ETA: 35:19 - loss: 0.2850 - accuracy: 0.925 - ETA: 33:55 - loss: 0.2825 - accuracy: 0.926 - ETA: 32:24 - loss: 0.2803 - accuracy: 0.927 - ETA: 30:57 - loss: 0.2815 - accuracy: 0.927 - ETA: 29:29 - loss: 0.2808 - accuracy: 0.927 - ETA: 28:00 - loss: 0.2822 - accuracy: 0.927 - ETA: 26:33 - loss: 0.2813 - accuracy: 0.927 - ETA: 25:07 - loss: 0.2792 - accuracy: 0.928 - ETA: 23:41 - loss: 0.2774 - accuracy: 0.929 - ETA: 22:14 - loss: 0.2779 - accuracy: 0.929 - ETA: 20:49 - loss: 0.2771 - accuracy: 0.929 - ETA: 19:25 - loss: 0.2766 - accuracy: 0.930 - ETA: 18:03 - loss: 0.2755 - accuracy: 0.930 - ETA: 16:39 - loss: 0.2739 - accuracy: 0.930 - ETA: 15:14 - loss: 0.2725 - accuracy: 0.929 - ETA: 13:51 - loss: 0.2735 - accuracy: 0.929 - ETA: 12:27 - loss: 0.2734 - accuracy: 0.929 - ETA: 11:02 - loss: 0.2739 - accuracy: 0.928 - ETA: 9:38 - loss: 0.2748 - accuracy: 0.927 - ETA: 8:16 - loss: 0.2735 - accuracy: 0.92 - ETA: 6:53 - loss: 0.2721 - accuracy: 0.92 - ETA: 5:30 - loss: 0.2712 - accuracy: 0.92 - ETA: 4:07 - loss: 0.2694 - accuracy: 0.92 - ETA: 2:44 - loss: 0.2694 - accuracy: 0.92 - ETA: 1:22 - loss: 0.2690 - accuracy: 0.92 - 6116s 96s/step - loss: 0.2675 - accuracy: 0.9280 - val_loss: 23.6679 - val_accuracy: 0.4341\n",
      "Epoch 5/10\n"
     ]
    },
    {
     "name": "stdout",
     "output_type": "stream",
     "text": [
      "64/64 [==============================] - ETA: 3:03:34 - loss: 0.1627 - accuracy: 0.968 - ETA: 2:23:43 - loss: 0.1604 - accuracy: 0.960 - ETA: 2:05:55 - loss: 0.2399 - accuracy: 0.921 - ETA: 1:55:14 - loss: 0.2439 - accuracy: 0.914 - ETA: 1:49:39 - loss: 0.2237 - accuracy: 0.918 - ETA: 1:45:14 - loss: 0.2174 - accuracy: 0.919 - ETA: 1:40:55 - loss: 0.2123 - accuracy: 0.928 - ETA: 1:37:10 - loss: 0.2137 - accuracy: 0.923 - ETA: 1:33:42 - loss: 0.2096 - accuracy: 0.923 - ETA: 1:31:30 - loss: 0.2188 - accuracy: 0.926 - ETA: 1:28:31 - loss: 0.2143 - accuracy: 0.930 - ETA: 1:25:28 - loss: 0.2092 - accuracy: 0.933 - ETA: 1:23:03 - loss: 0.2032 - accuracy: 0.938 - ETA: 1:20:24 - loss: 0.2023 - accuracy: 0.939 - ETA: 1:18:07 - loss: 0.1967 - accuracy: 0.942 - ETA: 1:16:36 - loss: 0.1928 - accuracy: 0.944 - ETA: 1:14:45 - loss: 0.1972 - accuracy: 0.943 - ETA: 1:13:51 - loss: 0.1974 - accuracy: 0.942 - ETA: 1:12:07 - loss: 0.1965 - accuracy: 0.944 - ETA: 1:10:13 - loss: 0.1933 - accuracy: 0.945 - ETA: 1:08:17 - loss: 0.1898 - accuracy: 0.947 - ETA: 1:06:12 - loss: 0.1905 - accuracy: 0.947 - ETA: 1:04:24 - loss: 0.1889 - accuracy: 0.948 - ETA: 1:02:23 - loss: 0.1933 - accuracy: 0.945 - ETA: 1:00:28 - loss: 0.1924 - accuracy: 0.946 - ETA: 58:36 - loss: 0.1908 - accuracy: 0.9471  - ETA: 57:01 - loss: 0.1882 - accuracy: 0.948 - ETA: 55:16 - loss: 0.1902 - accuracy: 0.947 - ETA: 53:25 - loss: 0.1879 - accuracy: 0.948 - ETA: 51:40 - loss: 0.1855 - accuracy: 0.949 - ETA: 49:48 - loss: 0.1840 - accuracy: 0.949 - ETA: 47:58 - loss: 0.1816 - accuracy: 0.950 - ETA: 46:14 - loss: 0.1791 - accuracy: 0.951 - ETA: 44:30 - loss: 0.1786 - accuracy: 0.951 - ETA: 42:49 - loss: 0.1769 - accuracy: 0.952 - ETA: 41:17 - loss: 0.1752 - accuracy: 0.952 - ETA: 39:47 - loss: 0.1727 - accuracy: 0.953 - ETA: 38:10 - loss: 0.1715 - accuracy: 0.953 - ETA: 36:35 - loss: 0.1708 - accuracy: 0.953 - ETA: 35:01 - loss: 0.1686 - accuracy: 0.954 - ETA: 33:28 - loss: 0.1698 - accuracy: 0.954 - ETA: 31:59 - loss: 0.1678 - accuracy: 0.955 - ETA: 30:28 - loss: 0.1732 - accuracy: 0.954 - ETA: 28:55 - loss: 0.1726 - accuracy: 0.955 - ETA: 27:25 - loss: 0.1734 - accuracy: 0.954 - ETA: 25:57 - loss: 0.1722 - accuracy: 0.955 - ETA: 24:27 - loss: 0.1729 - accuracy: 0.955 - ETA: 22:56 - loss: 0.1777 - accuracy: 0.954 - ETA: 21:27 - loss: 0.1781 - accuracy: 0.953 - ETA: 20:01 - loss: 0.1776 - accuracy: 0.953 - ETA: 18:32 - loss: 0.1786 - accuracy: 0.951 - ETA: 17:04 - loss: 0.1776 - accuracy: 0.952 - ETA: 15:37 - loss: 0.1807 - accuracy: 0.951 - ETA: 14:09 - loss: 0.1809 - accuracy: 0.950 - ETA: 12:42 - loss: 0.1793 - accuracy: 0.951 - ETA: 11:14 - loss: 0.1790 - accuracy: 0.951 - ETA: 9:49 - loss: 0.1795 - accuracy: 0.951 - ETA: 8:24 - loss: 0.1798 - accuracy: 0.95 - ETA: 6:59 - loss: 0.1797 - accuracy: 0.95 - ETA: 5:34 - loss: 0.1788 - accuracy: 0.95 - ETA: 4:10 - loss: 0.1791 - accuracy: 0.95 - ETA: 2:47 - loss: 0.1778 - accuracy: 0.95 - ETA: 1:23 - loss: 0.1769 - accuracy: 0.95 - 6180s 97s/step - loss: 0.1787 - accuracy: 0.9517 - val_loss: 50.9997 - val_accuracy: 0.4756\n",
      "Epoch 6/10\n",
      "64/64 [==============================] - ETA: 3:03:55 - loss: 0.1708 - accuracy: 0.953 - ETA: 2:20:39 - loss: 0.1417 - accuracy: 0.968 - ETA: 1:59:23 - loss: 0.1452 - accuracy: 0.958 - ETA: 1:51:14 - loss: 0.1317 - accuracy: 0.968 - ETA: 1:44:31 - loss: 0.1415 - accuracy: 0.962 - ETA: 1:39:16 - loss: 0.1388 - accuracy: 0.966 - ETA: 1:34:57 - loss: 0.1358 - accuracy: 0.966 - ETA: 1:31:03 - loss: 0.1362 - accuracy: 0.966 - ETA: 1:27:19 - loss: 0.1371 - accuracy: 0.963 - ETA: 1:24:36 - loss: 0.1475 - accuracy: 0.960 - ETA: 1:21:54 - loss: 0.1486 - accuracy: 0.958 - ETA: 1:20:14 - loss: 0.1454 - accuracy: 0.959 - ETA: 1:18:00 - loss: 0.1618 - accuracy: 0.955 - ETA: 1:15:11 - loss: 0.1611 - accuracy: 0.955 - ETA: 1:12:44 - loss: 0.1579 - accuracy: 0.957 - ETA: 1:10:35 - loss: 0.1566 - accuracy: 0.958 - ETA: 1:08:57 - loss: 0.1601 - accuracy: 0.957 - ETA: 1:07:52 - loss: 0.1622 - accuracy: 0.955 - ETA: 1:06:01 - loss: 0.1572 - accuracy: 0.958 - ETA: 1:04:21 - loss: 0.1640 - accuracy: 0.956 - ETA: 1:02:39 - loss: 0.1630 - accuracy: 0.956 - ETA: 1:00:44 - loss: 0.1602 - accuracy: 0.957 - ETA: 59:14 - loss: 0.1577 - accuracy: 0.9579  - ETA: 57:45 - loss: 0.1556 - accuracy: 0.959 - ETA: 56:01 - loss: 0.1549 - accuracy: 0.959 - ETA: 54:15 - loss: 0.1520 - accuracy: 0.960 - ETA: 52:41 - loss: 0.1540 - accuracy: 0.959 - ETA: 51:04 - loss: 0.1538 - accuracy: 0.959 - ETA: 49:32 - loss: 0.1547 - accuracy: 0.959 - ETA: 48:01 - loss: 0.1526 - accuracy: 0.960 - ETA: 46:24 - loss: 0.1543 - accuracy: 0.959 - ETA: 44:46 - loss: 0.1521 - accuracy: 0.960 - ETA: 43:23 - loss: 0.1493 - accuracy: 0.962 - ETA: 42:04 - loss: 0.1476 - accuracy: 0.962 - ETA: 40:50 - loss: 0.1469 - accuracy: 0.962 - ETA: 39:27 - loss: 0.1451 - accuracy: 0.963 - ETA: 37:56 - loss: 0.1464 - accuracy: 0.962 - ETA: 36:37 - loss: 0.1449 - accuracy: 0.962 - ETA: 35:15 - loss: 0.1439 - accuracy: 0.962 - ETA: 33:46 - loss: 0.1432 - accuracy: 0.962 - ETA: 32:25 - loss: 0.1411 - accuracy: 0.963 - ETA: 30:59 - loss: 0.1397 - accuracy: 0.964 - ETA: 29:36 - loss: 0.1389 - accuracy: 0.964 - ETA: 28:12 - loss: 0.1381 - accuracy: 0.964 - ETA: 26:47 - loss: 0.1369 - accuracy: 0.964 - ETA: 25:23 - loss: 0.1353 - accuracy: 0.965 - ETA: 24:00 - loss: 0.1342 - accuracy: 0.966 - ETA: 22:38 - loss: 0.1330 - accuracy: 0.966 - ETA: 21:18 - loss: 0.1320 - accuracy: 0.966 - ETA: 19:54 - loss: 0.1313 - accuracy: 0.966 - ETA: 18:34 - loss: 0.1301 - accuracy: 0.966 - ETA: 17:11 - loss: 0.1285 - accuracy: 0.967 - ETA: 15:47 - loss: 0.1277 - accuracy: 0.967 - ETA: 14:22 - loss: 0.1264 - accuracy: 0.968 - ETA: 12:58 - loss: 0.1254 - accuracy: 0.968 - ETA: 11:33 - loss: 0.1243 - accuracy: 0.968 - ETA: 10:07 - loss: 0.1235 - accuracy: 0.968 - ETA: 8:43 - loss: 0.1242 - accuracy: 0.968 - ETA: 7:18 - loss: 0.1232 - accuracy: 0.96 - ETA: 5:52 - loss: 0.1222 - accuracy: 0.96 - ETA: 4:26 - loss: 0.1212 - accuracy: 0.97 - ETA: 2:57 - loss: 0.1206 - accuracy: 0.97 - ETA: 1:29 - loss: 0.1193 - accuracy: 0.97 - 6638s 104s/step - loss: 0.1190 - accuracy: 0.9705 - val_loss: 4.4002 - val_accuracy: 0.5508\n",
      "Epoch 7/10\n"
     ]
    },
    {
     "name": "stdout",
     "output_type": "stream",
     "text": [
      "64/64 [==============================] - ETA: 3:50:04 - loss: 0.0706 - accuracy: 0.968 - ETA: 2:47:43 - loss: 0.0628 - accuracy: 0.976 - ETA: 2:25:48 - loss: 0.0568 - accuracy: 0.984 - ETA: 2:13:17 - loss: 0.0615 - accuracy: 0.984 - ETA: 2:05:49 - loss: 0.0623 - accuracy: 0.984 - ETA: 2:00:09 - loss: 0.0614 - accuracy: 0.984 - ETA: 1:55:16 - loss: 0.0578 - accuracy: 0.986 - ETA: 1:54:59 - loss: 0.0620 - accuracy: 0.986 - ETA: 1:52:25 - loss: 0.0611 - accuracy: 0.987 - ETA: 1:50:25 - loss: 0.0584 - accuracy: 0.989 - ETA: 1:48:06 - loss: 0.0579 - accuracy: 0.990 - ETA: 1:44:49 - loss: 0.0575 - accuracy: 0.990 - ETA: 1:41:55 - loss: 0.0584 - accuracy: 0.989 - ETA: 1:39:10 - loss: 0.0567 - accuracy: 0.990 - ETA: 1:36:50 - loss: 0.0564 - accuracy: 0.989 - ETA: 1:36:23 - loss: 0.0561 - accuracy: 0.989 - ETA: 1:36:09 - loss: 0.0552 - accuracy: 0.989 - ETA: 1:35:00 - loss: 0.0554 - accuracy: 0.988 - ETA: 1:32:59 - loss: 0.0552 - accuracy: 0.989 - ETA: 1:31:01 - loss: 0.0553 - accuracy: 0.988 - ETA: 1:28:29 - loss: 0.0546 - accuracy: 0.988 - ETA: 1:25:23 - loss: 0.0644 - accuracy: 0.987 - ETA: 1:23:02 - loss: 0.0644 - accuracy: 0.987 - ETA: 1:20:06 - loss: 0.0635 - accuracy: 0.987 - ETA: 1:17:23 - loss: 0.0659 - accuracy: 0.986 - ETA: 1:14:39 - loss: 0.0698 - accuracy: 0.986 - ETA: 1:12:13 - loss: 0.0688 - accuracy: 0.986 - ETA: 1:09:52 - loss: 0.0691 - accuracy: 0.985 - ETA: 1:07:22 - loss: 0.0696 - accuracy: 0.984 - ETA: 1:04:53 - loss: 0.0684 - accuracy: 0.984 - ETA: 1:02:22 - loss: 0.0697 - accuracy: 0.983 - ETA: 1:00:14 - loss: 0.0691 - accuracy: 0.983 - ETA: 58:20 - loss: 0.0692 - accuracy: 0.9839  - ETA: 56:19 - loss: 0.0687 - accuracy: 0.984 - ETA: 54:19 - loss: 0.0691 - accuracy: 0.984 - ETA: 52:10 - loss: 0.0688 - accuracy: 0.984 - ETA: 50:08 - loss: 0.0697 - accuracy: 0.983 - ETA: 48:08 - loss: 0.0699 - accuracy: 0.982 - ETA: 46:01 - loss: 0.0700 - accuracy: 0.982 - ETA: 43:55 - loss: 0.0706 - accuracy: 0.981 - ETA: 41:52 - loss: 0.0705 - accuracy: 0.981 - ETA: 39:54 - loss: 0.0708 - accuracy: 0.981 - ETA: 37:53 - loss: 0.0703 - accuracy: 0.981 - ETA: 35:56 - loss: 0.0694 - accuracy: 0.981 - ETA: 34:09 - loss: 0.0692 - accuracy: 0.981 - ETA: 32:18 - loss: 0.0690 - accuracy: 0.982 - ETA: 30:26 - loss: 0.0691 - accuracy: 0.982 - ETA: 28:32 - loss: 0.0695 - accuracy: 0.982 - ETA: 26:37 - loss: 0.0691 - accuracy: 0.982 - ETA: 24:45 - loss: 0.0690 - accuracy: 0.981 - ETA: 22:53 - loss: 0.0692 - accuracy: 0.981 - ETA: 21:02 - loss: 0.0690 - accuracy: 0.981 - ETA: 19:14 - loss: 0.0686 - accuracy: 0.981 - ETA: 17:26 - loss: 0.0684 - accuracy: 0.981 - ETA: 15:37 - loss: 0.0684 - accuracy: 0.981 - ETA: 13:49 - loss: 0.0680 - accuracy: 0.981 - ETA: 12:04 - loss: 0.0686 - accuracy: 0.980 - ETA: 10:18 - loss: 0.0680 - accuracy: 0.981 - ETA: 8:33 - loss: 0.0683 - accuracy: 0.980 - ETA: 6:48 - loss: 0.0683 - accuracy: 0.98 - ETA: 5:05 - loss: 0.0685 - accuracy: 0.98 - ETA: 3:23 - loss: 0.0678 - accuracy: 0.98 - ETA: 1:41 - loss: 0.0674 - accuracy: 0.98 - 7224s 113s/step - loss: 0.0672 - accuracy: 0.9812 - val_loss: 4.7545 - val_accuracy: 0.4917\n",
      "Epoch 8/10\n",
      "64/64 [==============================] - ETA: 2:55:00 - loss: 0.0742 - accuracy: 0.953 - ETA: 2:13:16 - loss: 0.0826 - accuracy: 0.953 - ETA: 1:53:33 - loss: 0.0827 - accuracy: 0.953 - ETA: 1:44:14 - loss: 0.0764 - accuracy: 0.957 - ETA: 1:38:17 - loss: 0.0719 - accuracy: 0.962 - ETA: 1:33:39 - loss: 0.0737 - accuracy: 0.966 - ETA: 1:31:04 - loss: 0.0681 - accuracy: 0.971 - ETA: 1:28:27 - loss: 0.0645 - accuracy: 0.974 - ETA: 1:25:26 - loss: 0.0640 - accuracy: 0.974 - ETA: 1:22:44 - loss: 0.0624 - accuracy: 0.975 - ETA: 1:20:10 - loss: 0.0620 - accuracy: 0.974 - ETA: 1:18:33 - loss: 0.0595 - accuracy: 0.976 - ETA: 1:16:49 - loss: 0.0570 - accuracy: 0.978 - ETA: 1:14:29 - loss: 0.0570 - accuracy: 0.978 - ETA: 1:12:36 - loss: 0.0555 - accuracy: 0.980 - ETA: 1:10:31 - loss: 0.0563 - accuracy: 0.979 - ETA: 1:08:28 - loss: 0.0566 - accuracy: 0.978 - ETA: 1:06:54 - loss: 0.0565 - accuracy: 0.978 - ETA: 1:04:52 - loss: 0.0559 - accuracy: 0.978 - ETA: 1:03:09 - loss: 0.0551 - accuracy: 0.979 - ETA: 1:01:20 - loss: 0.0550 - accuracy: 0.979 - ETA: 59:42 - loss: 0.0555 - accuracy: 0.9801  - ETA: 58:01 - loss: 0.0550 - accuracy: 0.980 - ETA: 56:31 - loss: 0.0550 - accuracy: 0.979 - ETA: 54:55 - loss: 0.0555 - accuracy: 0.979 - ETA: 53:19 - loss: 0.0554 - accuracy: 0.980 - ETA: 51:31 - loss: 0.0558 - accuracy: 0.980 - ETA: 49:51 - loss: 0.0550 - accuracy: 0.980 - ETA: 48:21 - loss: 0.0539 - accuracy: 0.981 - ETA: 46:51 - loss: 0.0537 - accuracy: 0.981 - ETA: 45:15 - loss: 0.0533 - accuracy: 0.981 - ETA: 43:48 - loss: 0.0529 - accuracy: 0.982 - ETA: 42:24 - loss: 0.0532 - accuracy: 0.982 - ETA: 41:03 - loss: 0.0537 - accuracy: 0.981 - ETA: 39:42 - loss: 0.0530 - accuracy: 0.981 - ETA: 38:25 - loss: 0.0540 - accuracy: 0.980 - ETA: 36:57 - loss: 0.0545 - accuracy: 0.980 - ETA: 35:33 - loss: 0.0548 - accuracy: 0.979 - ETA: 34:09 - loss: 0.0548 - accuracy: 0.980 - ETA: 32:44 - loss: 0.0551 - accuracy: 0.979 - ETA: 31:20 - loss: 0.0553 - accuracy: 0.979 - ETA: 29:56 - loss: 0.0550 - accuracy: 0.980 - ETA: 28:32 - loss: 0.0551 - accuracy: 0.980 - ETA: 27:10 - loss: 0.0558 - accuracy: 0.979 - ETA: 25:48 - loss: 0.0561 - accuracy: 0.978 - ETA: 24:30 - loss: 0.0556 - accuracy: 0.978 - ETA: 23:12 - loss: 0.0552 - accuracy: 0.979 - ETA: 21:49 - loss: 0.0553 - accuracy: 0.979 - ETA: 20:26 - loss: 0.0548 - accuracy: 0.979 - ETA: 19:02 - loss: 0.0548 - accuracy: 0.980 - ETA: 17:39 - loss: 0.0549 - accuracy: 0.980 - ETA: 16:17 - loss: 0.0544 - accuracy: 0.980 - ETA: 14:53 - loss: 0.0541 - accuracy: 0.980 - ETA: 13:31 - loss: 0.0536 - accuracy: 0.980 - ETA: 12:09 - loss: 0.0534 - accuracy: 0.981 - ETA: 10:48 - loss: 0.0531 - accuracy: 0.981 - ETA: 9:26 - loss: 0.0528 - accuracy: 0.981 - ETA: 8:04 - loss: 0.0525 - accuracy: 0.98 - ETA: 6:43 - loss: 0.0525 - accuracy: 0.98 - ETA: 5:22 - loss: 0.0519 - accuracy: 0.98 - ETA: 4:01 - loss: 0.0521 - accuracy: 0.98 - ETA: 2:40 - loss: 0.0519 - accuracy: 0.98 - ETA: 1:20 - loss: 0.0522 - accuracy: 0.98 - 5870s 92s/step - loss: 0.0527 - accuracy: 0.9812 - val_loss: 2.6906 - val_accuracy: 0.5083\n",
      "Epoch 9/10\n"
     ]
    },
    {
     "name": "stdout",
     "output_type": "stream",
     "text": [
      "64/64 [==============================] - ETA: 2:44:04 - loss: 0.0258 - accuracy: 1.000 - ETA: 2:02:38 - loss: 0.0440 - accuracy: 0.992 - ETA: 1:45:02 - loss: 0.0456 - accuracy: 0.989 - ETA: 1:35:19 - loss: 0.0469 - accuracy: 0.992 - ETA: 1:28:22 - loss: 0.0541 - accuracy: 0.984 - ETA: 1:24:53 - loss: 0.0483 - accuracy: 0.987 - ETA: 1:21:50 - loss: 0.0462 - accuracy: 0.988 - ETA: 1:18:18 - loss: 0.0436 - accuracy: 0.990 - ETA: 1:15:37 - loss: 0.0507 - accuracy: 0.986 - ETA: 1:13:46 - loss: 0.0504 - accuracy: 0.985 - ETA: 1:11:35 - loss: 0.0473 - accuracy: 0.987 - ETA: 1:09:42 - loss: 0.0470 - accuracy: 0.988 - ETA: 1:07:55 - loss: 0.0454 - accuracy: 0.989 - ETA: 1:06:21 - loss: 0.0453 - accuracy: 0.988 - ETA: 1:04:42 - loss: 0.0450 - accuracy: 0.989 - ETA: 1:02:58 - loss: 0.0453 - accuracy: 0.988 - ETA: 1:01:41 - loss: 0.0475 - accuracy: 0.986 - ETA: 1:00:27 - loss: 0.0493 - accuracy: 0.984 - ETA: 59:03 - loss: 0.0492 - accuracy: 0.9844  - ETA: 57:38 - loss: 0.0498 - accuracy: 0.983 - ETA: 56:22 - loss: 0.0501 - accuracy: 0.983 - ETA: 54:42 - loss: 0.0503 - accuracy: 0.983 - ETA: 53:18 - loss: 0.0505 - accuracy: 0.983 - ETA: 51:47 - loss: 0.0503 - accuracy: 0.983 - ETA: 50:19 - loss: 0.0496 - accuracy: 0.983 - ETA: 48:51 - loss: 0.0487 - accuracy: 0.983 - ETA: 47:22 - loss: 0.0477 - accuracy: 0.984 - ETA: 45:51 - loss: 0.0478 - accuracy: 0.984 - ETA: 44:31 - loss: 0.0475 - accuracy: 0.984 - ETA: 43:18 - loss: 0.0467 - accuracy: 0.984 - ETA: 42:00 - loss: 0.0463 - accuracy: 0.985 - ETA: 40:37 - loss: 0.0455 - accuracy: 0.985 - ETA: 39:16 - loss: 0.0453 - accuracy: 0.985 - ETA: 37:56 - loss: 0.0463 - accuracy: 0.985 - ETA: 36:39 - loss: 0.0465 - accuracy: 0.985 - ETA: 35:27 - loss: 0.0469 - accuracy: 0.985 - ETA: 34:10 - loss: 0.0466 - accuracy: 0.985 - ETA: 32:51 - loss: 0.0468 - accuracy: 0.984 - ETA: 31:29 - loss: 0.0464 - accuracy: 0.984 - ETA: 30:11 - loss: 0.0469 - accuracy: 0.984 - ETA: 28:53 - loss: 0.0471 - accuracy: 0.984 - ETA: 27:38 - loss: 0.0465 - accuracy: 0.984 - ETA: 26:23 - loss: 0.0462 - accuracy: 0.984 - ETA: 25:07 - loss: 0.0459 - accuracy: 0.985 - ETA: 23:50 - loss: 0.0458 - accuracy: 0.985 - ETA: 22:34 - loss: 0.0462 - accuracy: 0.985 - ETA: 21:17 - loss: 0.0458 - accuracy: 0.985 - ETA: 20:03 - loss: 0.0460 - accuracy: 0.985 - ETA: 18:48 - loss: 0.0461 - accuracy: 0.985 - ETA: 17:31 - loss: 0.0458 - accuracy: 0.985 - ETA: 16:15 - loss: 0.0460 - accuracy: 0.985 - ETA: 15:00 - loss: 0.0462 - accuracy: 0.984 - ETA: 13:47 - loss: 0.0466 - accuracy: 0.984 - ETA: 12:32 - loss: 0.0468 - accuracy: 0.984 - ETA: 11:16 - loss: 0.0466 - accuracy: 0.984 - ETA: 10:02 - loss: 0.0471 - accuracy: 0.983 - ETA: 8:46 - loss: 0.0473 - accuracy: 0.982 - ETA: 7:30 - loss: 0.0475 - accuracy: 0.98 - ETA: 6:15 - loss: 0.0479 - accuracy: 0.98 - ETA: 5:00 - loss: 0.0474 - accuracy: 0.98 - ETA: 3:45 - loss: 0.0479 - accuracy: 0.98 - ETA: 2:30 - loss: 0.0477 - accuracy: 0.98 - ETA: 1:15 - loss: 0.0478 - accuracy: 0.98 - 5562s 87s/step - loss: 0.0479 - accuracy: 0.9817 - val_loss: 2.4306 - val_accuracy: 0.4751\n",
      "Epoch 10/10\n",
      "63/64 [============================>.] - ETA: 2:33:33 - loss: 0.0291 - accuracy: 1.000 - ETA: 1:56:32 - loss: 0.0496 - accuracy: 0.984 - ETA: 1:41:10 - loss: 0.0488 - accuracy: 0.979 - ETA: 1:31:23 - loss: 0.0581 - accuracy: 0.976 - ETA: 1:26:37 - loss: 0.0518 - accuracy: 0.978 - ETA: 1:24:15 - loss: 0.0487 - accuracy: 0.981 - ETA: 1:21:15 - loss: 0.0480 - accuracy: 0.982 - ETA: 1:18:51 - loss: 0.0476 - accuracy: 0.982 - ETA: 1:16:41 - loss: 0.0519 - accuracy: 0.975 - ETA: 1:14:15 - loss: 0.0505 - accuracy: 0.976 - ETA: 1:11:59 - loss: 0.0531 - accuracy: 0.974 - ETA: 1:09:54 - loss: 0.0532 - accuracy: 0.974 - ETA: 1:08:39 - loss: 0.0539 - accuracy: 0.972 - ETA: 1:06:52 - loss: 0.0548 - accuracy: 0.972 - ETA: 1:05:13 - loss: 0.0558 - accuracy: 0.970 - ETA: 1:03:21 - loss: 0.0551 - accuracy: 0.971 - ETA: 1:01:55 - loss: 0.0539 - accuracy: 0.972 - ETA: 1:00:34 - loss: 0.0529 - accuracy: 0.973 - ETA: 58:55 - loss: 0.0516 - accuracy: 0.9745  - ETA: 57:31 - loss: 0.0514 - accuracy: 0.974 - ETA: 55:53 - loss: 0.0531 - accuracy: 0.972 - ETA: 54:08 - loss: 0.0516 - accuracy: 0.973 - ETA: 52:43 - loss: 0.0517 - accuracy: 0.973 - ETA: 51:36 - loss: 0.0514 - accuracy: 0.974 - ETA: 50:09 - loss: 0.0510 - accuracy: 0.975 - ETA: 48:43 - loss: 0.0507 - accuracy: 0.975 - ETA: 47:21 - loss: 0.0510 - accuracy: 0.975 - ETA: 46:10 - loss: 0.0515 - accuracy: 0.974 - ETA: 44:57 - loss: 0.0507 - accuracy: 0.975 - ETA: 43:45 - loss: 0.0497 - accuracy: 0.976 - ETA: 42:25 - loss: 0.0492 - accuracy: 0.976 - ETA: 41:15 - loss: 0.0486 - accuracy: 0.977 - ETA: 40:01 - loss: 0.0477 - accuracy: 0.977 - ETA: 38:37 - loss: 0.0478 - accuracy: 0.977 - ETA: 37:36 - loss: 0.0476 - accuracy: 0.977 - ETA: 36:37 - loss: 0.0478 - accuracy: 0.977 - ETA: 35:32 - loss: 0.0469 - accuracy: 0.978 - ETA: 34:32 - loss: 0.0470 - accuracy: 0.978 - ETA: 33:28 - loss: 0.0465 - accuracy: 0.978 - ETA: 32:16 - loss: 0.0463 - accuracy: 0.978 - ETA: 30:48 - loss: 0.0464 - accuracy: 0.978 - ETA: 29:25 - loss: 0.0466 - accuracy: 0.978 - ETA: 28:04 - loss: 0.0465 - accuracy: 0.978 - ETA: 26:43 - loss: 0.0460 - accuracy: 0.979 - ETA: 25:26 - loss: 0.0464 - accuracy: 0.978 - ETA: 24:06 - loss: 0.0457 - accuracy: 0.978 - ETA: 22:45 - loss: 0.0458 - accuracy: 0.979 - ETA: 21:24 - loss: 0.0454 - accuracy: 0.979 - ETA: 20:02 - loss: 0.0447 - accuracy: 0.979 - ETA: 18:41 - loss: 0.0448 - accuracy: 0.980 - ETA: 17:21 - loss: 0.0446 - accuracy: 0.980 - ETA: 16:00 - loss: 0.0447 - accuracy: 0.979 - ETA: 14:39 - loss: 0.0444 - accuracy: 0.980 - ETA: 13:22 - loss: 0.0440 - accuracy: 0.980 - ETA: 12:02 - loss: 0.0437 - accuracy: 0.980 - ETA: 10:42 - loss: 0.0436 - accuracy: 0.980 - ETA: 9:21 - loss: 0.0438 - accuracy: 0.980 - ETA: 8:02 - loss: 0.0436 - accuracy: 0.98 - ETA: 6:43 - loss: 0.0432 - accuracy: 0.98 - ETA: 5:24 - loss: 0.0432 - accuracy: 0.98 - ETA: 4:04 - loss: 0.0433 - accuracy: 0.98 - ETA: 2:43 - loss: 0.0435 - accuracy: 0.98 - ETA: 1:21 - loss: 0.0431 - accuracy: 0.9814"
     ]
    }
   ],
   "source": [
    "predefinedModel.fit(train_set = train_set, val_set = test_set, epochs = EPOCH,log = True, threshold = 0.65)"
   ]
  },
  {
   "cell_type": "code",
   "execution_count": 8,
   "metadata": {},
   "outputs": [
    {
     "data": {
      "text/plain": [
       "<keras_preprocessing.image.dataframe_iterator.DataFrameIterator at 0x21d66a70080>"
      ]
     },
     "execution_count": 8,
     "metadata": {},
     "output_type": "execute_result"
    }
   ],
   "source": [
    "test_set"
   ]
  },
  {
   "cell_type": "markdown",
   "metadata": {},
   "source": [
    "### (3 vs 4): Save Model1"
   ]
  },
  {
   "cell_type": "code",
   "execution_count": null,
   "metadata": {},
   "outputs": [],
   "source": [
    "CreateAndSaveModel(root_dir = '', model = predefinedModel.model, test_set,\n",
    "                   name = predefinedModel.getDescription(), extent = 'hdf5') \"???\""
   ]
  },
  {
   "cell_type": "code",
   "execution_count": null,
   "metadata": {},
   "outputs": [],
   "source": []
  },
  {
   "cell_type": "code",
   "execution_count": null,
   "metadata": {},
   "outputs": [],
   "source": []
  },
  {
   "cell_type": "code",
   "execution_count": null,
   "metadata": {},
   "outputs": [],
   "source": []
  }
 ],
 "metadata": {
  "kernelspec": {
   "display_name": "Python 3",
   "language": "python",
   "name": "python3"
  },
  "language_info": {
   "codemirror_mode": {
    "name": "ipython",
    "version": 3
   },
   "file_extension": ".py",
   "mimetype": "text/x-python",
   "name": "python",
   "nbconvert_exporter": "python",
   "pygments_lexer": "ipython3",
   "version": "3.6.7"
  }
 },
 "nbformat": 4,
 "nbformat_minor": 4
}
