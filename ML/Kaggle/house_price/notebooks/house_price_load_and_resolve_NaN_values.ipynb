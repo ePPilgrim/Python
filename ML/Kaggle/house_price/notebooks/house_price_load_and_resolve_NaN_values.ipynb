{
 "cells": [
  {
   "cell_type": "code",
   "execution_count": 2,
   "metadata": {
    "collapsed": true
   },
   "outputs": [],
   "source": [
    "import pandas as pd\n",
    "import numpy as np\n",
    "import matplotlib.pyplot as plt\n",
    "import os\n",
    "project_dir = 'C:\\\\Users\\\\PLDD\\\\python\\\\Python\\\\ML\\\\Kaggle\\\\house_price'\n",
    "raw_path = os.path.join(project_dir,'data','raw')\n",
    "train_path = os.path.join(raw_path, 'train.csv')\n",
    "test_path = os.path.join(raw_path, 'test.csv')"
   ]
  },
  {
   "cell_type": "markdown",
   "metadata": {},
   "source": [
    " # Create data frame"
   ]
  },
  {
   "cell_type": "markdown",
   "metadata": {},
   "source": [
    "Combines train and test data frame:"
   ]
  },
  {
   "cell_type": "code",
   "execution_count": 217,
   "metadata": {},
   "outputs": [],
   "source": [
    "train_df = pd.read_csv(train_path)\n",
    "test_df = pd.read_csv(test_path)\n",
    "test_df['SalePrice'] = 0.0\n",
    "df = train_df.append(test_df)\n",
    "df.index = list(range(train_df.index.size + test_df.index.size))\n",
    "# 2916 out of 2919 Utilities are AllPub so i think it should be droped off\n",
    "df = df.drop('Utilities', axis = 1)"
   ]
  },
  {
   "cell_type": "markdown",
   "metadata": {},
   "source": [
    "# Proccess outliers"
   ]
  },
  {
   "cell_type": "code",
   "execution_count": 218,
   "metadata": {},
   "outputs": [],
   "source": [
    "#'LotFrontage', 'LotArea', 'MasVnrArea', 'GrLivArea', 'GarageArea', 'PoolArea', 'SalePrice']\n",
    "#copydf['LotFrontage'].plot.hist()\n",
    "#copydf['LotFrontage'].plot.box()\n",
    "#copydf['LotArea'].plot.hist()\n",
    "#copydf['LotArea'].plot.box()\n",
    "#copydf['GrLivArea'].plot.hist()\n",
    "#copydf['GrLivArea'].plot.box()\n",
    "#plt.show()\n",
    "lx = (df['LotFrontage'] > 200) | (df['LotArea'] > 100000) | (df['GrLivArea'] > 4000)\n",
    "#df = df.drop(df.index[lx], axis = 0)\n",
    "df.loc[df['LotFrontage'] > 200,'LotFrontage'] = np.nan\n",
    "df.loc[df['LotArea'] > 100000,'LotArea'] = np.nan\n",
    "df.loc[df['GrLivArea'] > 4000,'GrLivArea'] = np.nan"
   ]
  },
  {
   "cell_type": "markdown",
   "metadata": {},
   "source": [
    "# Proccess Nan values"
   ]
  },
  {
   "cell_type": "code",
   "execution_count": 219,
   "metadata": {},
   "outputs": [],
   "source": [
    "DefSeqCat = ['Alley','BsmtQual', 'BsmtCond', 'BsmtExposure',\n",
    "       'BsmtFinType1', 'BsmtFinType2', 'FireplaceQu',\n",
    "       'GarageType', 'GarageFinish', 'GarageQual', 'GarageCond', 'PoolQC',\n",
    "       'Fence', 'MiscFeature']\n",
    "UndefSeqCat1 = ['MSZoning', 'Utilities', 'Exterior1st', 'Exterior2nd','Electrical', 'KitchenQual',\n",
    "            'Functional', 'SaleType'] # there are defenetly lost elements \n",
    "UndefSeqCat2 = ['MasVnrType'] # i may just not make it clear the property of the column\n",
    "UndefSeqNum = ['LotFrontage', 'MasVnrArea', 'BsmtFinSF1', 'BsmtFinSF2', 'BsmtUnfSF', 'TotalBsmtSF', \n",
    "               'BsmtFullBath', 'BsmtHalfBath', 'GarageYrBlt', 'GarageCars', 'GarageArea']\n",
    "\n",
    "replace=dict.fromkeys(DefSeqCat, 'NoNe')\n",
    "df = df.fillna(replace)\n",
    "#'MasVnrType'\n",
    "ix = df.index[df['MasVnrType'].isnull()]\n",
    "df.loc[ix,'MasVnrType'] = 'NoNe'\n",
    "df.loc[ix,'MasVnrArea'] = 0\n",
    "\n",
    "NanCol = ['LotFrontage', 'MSZoning', 'Utilities', 'Exterior1st', 'Exterior2nd', 'MasVnrType',\n",
    "       'MasVnrArea', 'BsmtFinSF1', 'BsmtFinSF2', 'BsmtUnfSF', 'TotalBsmtSF',\n",
    "       'Electrical', 'BsmtFullBath', 'BsmtHalfBath', 'KitchenQual',\n",
    "       'Functional', 'GarageYrBlt', 'GarageCars', 'GarageArea', 'SaleType']"
   ]
  },
  {
   "cell_type": "markdown",
   "metadata": {},
   "source": [
    "Replace NAN values in 'LotFrontage' and 'LotArea' with iterpolated value."
   ]
  },
  {
   "cell_type": "code",
   "execution_count": 220,
   "metadata": {
    "collapsed": true
   },
   "outputs": [],
   "source": [
    "def ReplaceNanValues_LotFrontageArea(df, alables, abins, fromfld, tofld, catclass, targetclass):\n",
    "    fullclass = catclass + [targetclass]\n",
    "    df[tofld]=pd.cut(x = df[fromfld].values, bins = abins, right = False, labels = alables)\n",
    "    validdf = df[fullclass].dropna(axis = 0, how = 'any')\n",
    "    nandf = df[df[targetclass].isnull()]\n",
    "    pvt = validdf.pivot_table(values = targetclass, index = catclass, aggfunc = np.mean)\n",
    "    pvt=pvt[pvt.notnull().all(1)]\n",
    "    t1 = pvt.loc[[tuple(x) for x in nandf[catclass].values]]\n",
    "    t1.index = nandf.index\n",
    "    df.loc[nandf.index,targetclass] = t1[targetclass]\n",
    "    df = df.drop(tofld, axis = 1)\n",
    "    return df"
   ]
  },
  {
   "cell_type": "code",
   "execution_count": 221,
   "metadata": {},
   "outputs": [
    {
     "name": "stdout",
     "output_type": "stream",
     "text": [
      "83\n",
      "0\n",
      "0\n"
     ]
    }
   ],
   "source": [
    "copydf = df.copy()\n",
    "yearlable = ['1906', '1942', '1975', '1991', '2011']\n",
    "yearbin = [1800,1906,1942,1975, 1991, 2011]\n",
    "\n",
    "#case 1\n",
    "catclass = ['Neighborhood', 'LotConfig','LotShape','YearInt']\n",
    "copydf = ReplaceNanValues_LotFrontageArea(copydf, yearlable, yearbin, 'YearBuilt', 'YearInt', catclass, 'LotFrontage' )\n",
    "copydf = ReplaceNanValues_LotFrontageArea(copydf, yearlable, yearbin, 'YearBuilt', 'YearInt', catclass, 'LotArea')\n",
    "#print(copydf[copydf['LotFrontage'].isnull()].index.size)\n",
    "\n",
    "catclass = ['LotConfig','LotShape','YearInt']\n",
    "#case 2\n",
    "copydf = ReplaceNanValues_LotFrontageArea(copydf, yearlable, yearbin, 'YearBuilt', 'YearInt', catclass, 'LotFrontage')\n",
    "copydf = ReplaceNanValues_LotFrontageArea(copydf, yearlable, yearbin, 'YearBuilt', 'YearInt', catclass, 'LotArea')\n",
    "#print(copydf[copydf['LotFrontage'].isnull()].index.size)\n",
    "\n",
    "#case 3\n",
    "yearlable = ['1942', '1991', '2011']\n",
    "yearbin = [1800, 1942, 1991, 2011]\n",
    "copydf = ReplaceNanValues_LotFrontageArea(copydf, yearlable, yearbin, 'YearBuilt', 'YearInt', catclass, 'LotFrontage')\n",
    "copydf = ReplaceNanValues_LotFrontageArea(copydf, yearlable, yearbin, 'YearBuilt', 'YearInt', catclass, 'LotArea')\n",
    "#print(copydf[copydf['LotFrontage'].isnull()].index.size)\n",
    "\n",
    "#case 4\n",
    "yearlable = ['1975', '1991', '2011']\n",
    "yearbin = [1800, 1975, 1991, 2011]\n",
    "copydf = ReplaceNanValues_LotFrontageArea(copydf, yearlable, yearbin, 'YearBuilt', 'YearInt', catclass, 'LotFrontage')\n",
    "copydf = ReplaceNanValues_LotFrontageArea(copydf, yearlable, yearbin, 'YearBuilt', 'YearInt', catclass, 'LotArea')\n",
    "#print(copydf[copydf['LotFrontage'].isnull()].index.size)\n",
    "\n",
    "#case 5\n",
    "yearlable = ['2011']\n",
    "yearbin = [1800, 2011]\n",
    "copydf = ReplaceNanValues_LotFrontageArea(copydf, yearlable, yearbin, 'YearBuilt', 'YearInt', catclass, 'LotFrontage')\n",
    "copydf = ReplaceNanValues_LotFrontageArea(copydf, yearlable, yearbin, 'YearBuilt', 'YearInt', catclass, 'LotArea')\n",
    "#print(copydf[copydf['LotFrontage'].isnull()].index.size)\n",
    "#print(copydf[copydf['LotArea'].isnull()].index.size)\n",
    "df = copydf"
   ]
  },
  {
   "cell_type": "markdown",
   "metadata": {},
   "source": [
    "Replace Nan in 'MSZoning'"
   ]
  },
  {
   "cell_type": "code",
   "execution_count": 222,
   "metadata": {},
   "outputs": [],
   "source": [
    "ind1 = [1915, 2216, 2250] # C - assign by many factors\n",
    "ind2 = [2904] # RL - by Lot Area, LotFrontage and YearBuilt \n",
    "df.loc[ind1,'MSZoning'] = 'C'\n",
    "df.loc[ind2,'MSZoning'] = 'RL'"
   ]
  },
  {
   "cell_type": "markdown",
   "metadata": {},
   "source": [
    "Replace Nan in 'Exterior1st' and 'Exterior2nd'"
   ]
  },
  {
   "cell_type": "code",
   "execution_count": 223,
   "metadata": {},
   "outputs": [],
   "source": [
    "targetclass = ['Exterior1st', 'Exterior2nd']\n",
    "ind = [2151]\n",
    "df.loc[ind,targetclass] = 'AsbShng'"
   ]
  },
  {
   "cell_type": "markdown",
   "metadata": {},
   "source": [
    "Add column 'RangeYrBlt' and remove columns 'GarageYrBlt' and 'YearBilt'"
   ]
  },
  {
   "cell_type": "code",
   "execution_count": 233,
   "metadata": {},
   "outputs": [],
   "source": [
    "yearbins = [1800, 1895, 1905, 1917, 1927, 1937,1947,1960, 1973, 1989, 1998, 2012]\n",
    "yearlabels = ['1895', '1905', '1917', '1927', '1937', '1947', '1960', '1973', '1989', '1998', '2012']\n",
    "if df.columns.isin(['YearBuilt']).any():\n",
    "    df['RangeYrBlt']=pd.cut(x = df['YearBuilt'].values, bins = yearbins, right = False, labels = yearlabels)\n",
    "    df = df.drop('YearBuilt', axis = 1)\n",
    "if df.columns.isin(['GarageYrBlt']).any():\n",
    "    df = df.drop('GarageYrBlt', axis = 1)"
   ]
  },
  {
   "cell_type": "markdown",
   "metadata": {},
   "source": [
    "Replace Nan in 'BsmtFinSF1', 'BsmtFinSF2', 'BsmtUnfSF', 'TotalBsmtSF' (row index - 2120)"
   ]
  },
  {
   "cell_type": "code",
   "execution_count": 252,
   "metadata": {},
   "outputs": [],
   "source": [
    "# There is no basement in this house so all areas we take as 0\n",
    "df.loc[2120,['BsmtFinSF1', 'BsmtFinSF2', 'BsmtUnfSF', 'TotalBsmtSF']] = 0"
   ]
  },
  {
   "cell_type": "markdown",
   "metadata": {},
   "source": [
    "Replase Nan in 'Electrical' (row index - 1379)"
   ]
  },
  {
   "cell_type": "code",
   "execution_count": 261,
   "metadata": {},
   "outputs": [],
   "source": [
    "df.loc[1379, 'Electrical'] = 'SBrkr' #  all houses in 2012 year built have this type of Electrical"
   ]
  },
  {
   "cell_type": "markdown",
   "metadata": {},
   "source": [
    "Replase Nan in 'GrLivArea'"
   ]
  },
  {
   "cell_type": "code",
   "execution_count": 277,
   "metadata": {},
   "outputs": [],
   "source": [
    "if df.columns.isin(['GrLivArea']).any():\n",
    "    df = df.drop('GrLivArea', axis = 1) # it is sum of '1stFlrSF' and '2ndFlrSF'"
   ]
  },
  {
   "cell_type": "markdown",
   "metadata": {},
   "source": [
    "Replace Nan in 'BsmtFullBath' and 'BsmtHalfBath' (row indexes are 2120 and 2188) # all these houses have no basements"
   ]
  },
  {
   "cell_type": "code",
   "execution_count": 297,
   "metadata": {},
   "outputs": [],
   "source": [
    "df.loc[[2120,2188],['BsmtFullBath', 'BsmtHalfBath']] = 0"
   ]
  },
  {
   "cell_type": "markdown",
   "metadata": {},
   "source": [
    "Replace Nan in 'KitchenQual' (row index is 1555)"
   ]
  },
  {
   "cell_type": "code",
   "execution_count": 311,
   "metadata": {},
   "outputs": [],
   "source": [
    "# Value of 'KitchenQual' depends on 'OverallQual', 'OverallCond'\n",
    "df.loc[1555, 'KitchenQual'] = 'TA'"
   ]
  },
  {
   "cell_type": "markdown",
   "metadata": {},
   "source": [
    "Replace Nan in 'Functional' (row indexes are 2216, 2473)"
   ]
  },
  {
   "cell_type": "code",
   "execution_count": 323,
   "metadata": {},
   "outputs": [],
   "source": [
    "# The most used functionality is 'Typ'\n",
    "df.loc[[2216, 2473],'Functional'] = 'Typ'"
   ]
  },
  {
   "cell_type": "markdown",
   "metadata": {},
   "source": [
    "Replace Nan in 'GarageCars', 'GarageArea' (row index is 2576)"
   ]
  },
  {
   "cell_type": "code",
   "execution_count": 333,
   "metadata": {
    "collapsed": true
   },
   "outputs": [],
   "source": [
    "#there is no garage so its area is 0\n",
    "df.loc[2576,'GarageArea'] = 0\n",
    "if df.columns.isin(['GarageCars']).any():\n",
    "    df = df.drop('GarageCars', axis = 1) # it has straight dependency on garage area"
   ]
  },
  {
   "cell_type": "markdown",
   "metadata": {},
   "source": [
    "Replace Nan in 'SaleType' (row index is 2489)"
   ]
  },
  {
   "cell_type": "code",
   "execution_count": 349,
   "metadata": {},
   "outputs": [],
   "source": [
    "df.loc[2489, 'SaleType'] = 'WD' # the most used type according to sold year and sale condition"
   ]
  },
  {
   "cell_type": "markdown",
   "metadata": {},
   "source": [
    "# Categorizing"
   ]
  },
  {
   "cell_type": "code",
   "execution_count": 411,
   "metadata": {},
   "outputs": [
    {
     "data": {
      "text/plain": [
       "Index(['Condition1', 'Condition2', 'BldgType', 'HouseStyle', 'RoofStyle',\n",
       "       'RoofMatl', 'Exterior1st', 'Exterior2nd', 'MasVnrType', 'ExterQual',\n",
       "       'ExterCond', 'Foundation', 'BsmtQual', 'BsmtCond', 'BsmtExposure',\n",
       "       'BsmtFinType1', 'BsmtFinType2', 'Heating', 'HeatingQC', 'CentralAir',\n",
       "       'Electrical', 'KitchenQual', 'Functional', 'FireplaceQu', 'GarageType',\n",
       "       'GarageFinish', 'GarageQual', 'GarageCond', 'PavedDrive', 'PoolQC',\n",
       "       'Fence', 'MiscFeature', 'SaleType', 'SaleCondition'],\n",
       "      dtype='object')"
      ]
     },
     "execution_count": 411,
     "metadata": {},
     "output_type": "execute_result"
    }
   ],
   "source": [
    "#copydf = df.copy()\n",
    "copydf.columns[copydf.dtypes == 'object']"
   ]
  },
  {
   "cell_type": "code",
   "execution_count": 430,
   "metadata": {},
   "outputs": [],
   "source": [
    "OrderedCat = ['MSZoning', 'Street','Alley', 'Condition1', 'Condition2', 'BldgType', 'HouseStyle', 'RoofMatl']\n",
    "NonOrderedCat = ['LandContour', 'LotConfig', 'LotShape', 'LandContour', 'LotConfig', 'LandSlope', 'Neighborhood', 'RoofStyle'\n",
    "                'Exterior1st','Exterior2nd']\n",
    "\n",
    "copydf['MSZoning'] = pd.Categorical(copydf['MSZoning'].values, ['C', 'C (all)', 'RH', 'FV', 'RM', 'RL'], ordered = True)\n",
    "copydf['Street'] = pd.Categorical(copydf['Street'].values, ['Grvl','Pave'], ordered = True)\n",
    "copydf['Alley'] = pd.Categorical(copydf['Alley'].values, ['NoNe', 'Grvl', 'Pave'], ordered = True)\n",
    "copydf['LotShape'] = pd.Categorical(copydf['LotShape'].values, ['Reg', 'IR1', 'IR2', 'IR3'], ordered = False)\n",
    "copydf['LandContour'] = pd.Categorical(copydf['LandContour'].values, ['Lvl', 'Bnk', 'Low', 'HLS'], ordered = False)\n",
    "copydf['LotConfig'] = pd.Categorical(copydf['LotConfig'].values, ['Inside', 'FR2', 'Corner', 'CulDSac', 'FR3'], ordered = False)\n",
    "copydf['LandSlope'] = pd.Categorical(copydf['LandSlope'].values, ['Gtl', 'Mod', 'Sev'], ordered = False)\n",
    "copydf['Neighborhood'] = pd.Categorical(copydf['Neighborhood'].values, ['CollgCr', 'Veenker', 'Crawfor', 'NoRidge', 'Mitchel', 'Somerst',\n",
    "       'NWAmes', 'OldTown', 'BrkSide', 'Sawyer', 'NridgHt', 'NAmes',\n",
    "       'SawyerW', 'IDOTRR', 'MeadowV', 'Edwards', 'Timber', 'Gilbert',\n",
    "       'StoneBr', 'ClearCr', 'NPkVill', 'Blmngtn', 'BrDale', 'SWISU',\n",
    "       'Blueste'], ordered = False)\n",
    "copydf['Condition1'] = pd.Categorical(copydf['Condition1'].values, ['PosA', 'PosN', 'Norm', 'RRNn', 'RRNe', 'RRAe',  'RRAn', 'Feedr', 'Artery'], ordered = True)\n",
    "copydf['Condition2'] = pd.Categorical(copydf['Condition2'].values, ['PosA', 'PosN', 'Norm', 'RRNn', 'RRAe', 'RRAn','Feedr', 'Artery'], ordered = True)\n",
    "copydf['BldgType'] = pd.Categorical(copydf['BldgType'].values, ['2fmCon', 'Duplex', 'Twnhs', 'TwnhsE', '1Fam'], ordered = True)\n",
    "copydf['HouseStyle'] = pd.Categorical(copydf['HouseStyle'].values, ['1.5Unf', '1.5Fin', 'SFoyer', 'SLvl', '1Story', '2.5Unf', '2.5Fin', '2Story'], ordered = True)\n",
    "copydf['RoofStyle'] = pd.Categorical(copydf['RoofStyle'].values, ['Gable', 'Hip', 'Gambrel', 'Mansard', 'Flat', 'Shed'], ordered = False)\n",
    "copydf['RoofMatl'] = pd.Categorical(copydf['RoofMatl'].values, ['Roll', 'ClyTile', 'Metal', 'CompShg', 'Tar&Grv', 'Membran', 'WdShake', 'WdShngl'], ordered = True)\n",
    "copydf['Exterior1st'] = pd.Categorical(copydf['Exterior1st'].values, ['VinylSd', 'MetalSd', 'Wd Sdng', 'HdBoard', 'BrkFace', 'WdShing', 'CemntBd', 'Plywood', 'AsbShng', 'Stucco', 'BrkComm', 'AsphShn','Stone', 'ImStucc', 'CBlock'], ordered = False)\n",
    "copydf['Exterior2nd'] = pd.Categorical(copydf['Exterior2nd'].values, ['VinylSd', 'MetalSd', 'Wd Shng', 'HdBoard', 'Plywood', 'Wd Sdng','CmentBd', 'BrkFace', 'Stucco', 'AsbShng', 'Brk Cmn', 'ImStucc','AsphShn', 'Stone', 'Other', 'CBlock'], ordered = False)\n",
    "\n",
    "\n"
   ]
  },
  {
   "cell_type": "code",
   "execution_count": 432,
   "metadata": {},
   "outputs": [
    {
     "data": {
      "text/plain": [
       "array(['VinylSd', 'MetalSd', 'Wd Shng', 'HdBoard', 'Plywood', 'Wd Sdng',\n",
       "       'CmentBd', 'BrkFace', 'Stucco', 'AsbShng', 'Brk Cmn', 'ImStucc',\n",
       "       'AsphShn', 'Stone', 'Other', 'CBlock'], dtype=object)"
      ]
     },
     "execution_count": 432,
     "metadata": {},
     "output_type": "execute_result"
    }
   ],
   "source": [
    "fld = 'Exterior2nd'\n",
    "copydf[fld].unique()"
   ]
  },
  {
   "cell_type": "code",
   "execution_count": 433,
   "metadata": {},
   "outputs": [
    {
     "data": {
      "text/html": [
       "<div>\n",
       "<style>\n",
       "    .dataframe thead tr:only-child th {\n",
       "        text-align: right;\n",
       "    }\n",
       "\n",
       "    .dataframe thead th {\n",
       "        text-align: left;\n",
       "    }\n",
       "\n",
       "    .dataframe tbody tr th {\n",
       "        vertical-align: top;\n",
       "    }\n",
       "</style>\n",
       "<table border=\"1\" class=\"dataframe\">\n",
       "  <thead>\n",
       "    <tr>\n",
       "      <th></th>\n",
       "      <th>mean</th>\n",
       "      <th>std</th>\n",
       "      <th>size</th>\n",
       "      <th>amax</th>\n",
       "    </tr>\n",
       "    <tr>\n",
       "      <th></th>\n",
       "      <th>SalePrice</th>\n",
       "      <th>SalePrice</th>\n",
       "      <th>SalePrice</th>\n",
       "      <th>SalePrice</th>\n",
       "    </tr>\n",
       "    <tr>\n",
       "      <th>Exterior2nd</th>\n",
       "      <th></th>\n",
       "      <th></th>\n",
       "      <th></th>\n",
       "      <th></th>\n",
       "    </tr>\n",
       "  </thead>\n",
       "  <tbody>\n",
       "    <tr>\n",
       "      <th>AsbShng</th>\n",
       "      <td>114060.550000</td>\n",
       "      <td>42315.043608</td>\n",
       "      <td>20</td>\n",
       "      <td>225000</td>\n",
       "    </tr>\n",
       "    <tr>\n",
       "      <th>AsphShn</th>\n",
       "      <td>138000.000000</td>\n",
       "      <td>37509.998667</td>\n",
       "      <td>3</td>\n",
       "      <td>175000</td>\n",
       "    </tr>\n",
       "    <tr>\n",
       "      <th>Brk Cmn</th>\n",
       "      <td>126714.285714</td>\n",
       "      <td>38693.084161</td>\n",
       "      <td>7</td>\n",
       "      <td>155000</td>\n",
       "    </tr>\n",
       "    <tr>\n",
       "      <th>BrkFace</th>\n",
       "      <td>195818.000000</td>\n",
       "      <td>95097.551756</td>\n",
       "      <td>25</td>\n",
       "      <td>430000</td>\n",
       "    </tr>\n",
       "    <tr>\n",
       "      <th>CBlock</th>\n",
       "      <td>105000.000000</td>\n",
       "      <td>NaN</td>\n",
       "      <td>1</td>\n",
       "      <td>105000</td>\n",
       "    </tr>\n",
       "    <tr>\n",
       "      <th>CmentBd</th>\n",
       "      <td>230093.833333</td>\n",
       "      <td>116140.396221</td>\n",
       "      <td>60</td>\n",
       "      <td>556581</td>\n",
       "    </tr>\n",
       "    <tr>\n",
       "      <th>HdBoard</th>\n",
       "      <td>167661.565217</td>\n",
       "      <td>70061.078357</td>\n",
       "      <td>207</td>\n",
       "      <td>755000</td>\n",
       "    </tr>\n",
       "    <tr>\n",
       "      <th>ImStucc</th>\n",
       "      <td>252070.000000</td>\n",
       "      <td>193176.672447</td>\n",
       "      <td>10</td>\n",
       "      <td>745000</td>\n",
       "    </tr>\n",
       "    <tr>\n",
       "      <th>MetalSd</th>\n",
       "      <td>149803.172897</td>\n",
       "      <td>55078.595310</td>\n",
       "      <td>214</td>\n",
       "      <td>392000</td>\n",
       "    </tr>\n",
       "    <tr>\n",
       "      <th>Other</th>\n",
       "      <td>319000.000000</td>\n",
       "      <td>NaN</td>\n",
       "      <td>1</td>\n",
       "      <td>319000</td>\n",
       "    </tr>\n",
       "    <tr>\n",
       "      <th>Plywood</th>\n",
       "      <td>168112.387324</td>\n",
       "      <td>46955.744372</td>\n",
       "      <td>142</td>\n",
       "      <td>320000</td>\n",
       "    </tr>\n",
       "    <tr>\n",
       "      <th>Stone</th>\n",
       "      <td>158224.800000</td>\n",
       "      <td>63533.067573</td>\n",
       "      <td>5</td>\n",
       "      <td>230000</td>\n",
       "    </tr>\n",
       "    <tr>\n",
       "      <th>Stucco</th>\n",
       "      <td>155905.153846</td>\n",
       "      <td>74862.492410</td>\n",
       "      <td>26</td>\n",
       "      <td>381000</td>\n",
       "    </tr>\n",
       "    <tr>\n",
       "      <th>VinylSd</th>\n",
       "      <td>214432.460317</td>\n",
       "      <td>80708.309670</td>\n",
       "      <td>504</td>\n",
       "      <td>611657</td>\n",
       "    </tr>\n",
       "    <tr>\n",
       "      <th>Wd Sdng</th>\n",
       "      <td>148386.065990</td>\n",
       "      <td>59892.856640</td>\n",
       "      <td>197</td>\n",
       "      <td>475000</td>\n",
       "    </tr>\n",
       "    <tr>\n",
       "      <th>Wd Shng</th>\n",
       "      <td>161328.947368</td>\n",
       "      <td>88974.217820</td>\n",
       "      <td>38</td>\n",
       "      <td>538000</td>\n",
       "    </tr>\n",
       "  </tbody>\n",
       "</table>\n",
       "</div>"
      ],
      "text/plain": [
       "                      mean            std      size      amax\n",
       "                 SalePrice      SalePrice SalePrice SalePrice\n",
       "Exterior2nd                                                  \n",
       "AsbShng      114060.550000   42315.043608        20    225000\n",
       "AsphShn      138000.000000   37509.998667         3    175000\n",
       "Brk Cmn      126714.285714   38693.084161         7    155000\n",
       "BrkFace      195818.000000   95097.551756        25    430000\n",
       "CBlock       105000.000000            NaN         1    105000\n",
       "CmentBd      230093.833333  116140.396221        60    556581\n",
       "HdBoard      167661.565217   70061.078357       207    755000\n",
       "ImStucc      252070.000000  193176.672447        10    745000\n",
       "MetalSd      149803.172897   55078.595310       214    392000\n",
       "Other        319000.000000            NaN         1    319000\n",
       "Plywood      168112.387324   46955.744372       142    320000\n",
       "Stone        158224.800000   63533.067573         5    230000\n",
       "Stucco       155905.153846   74862.492410        26    381000\n",
       "VinylSd      214432.460317   80708.309670       504    611657\n",
       "Wd Sdng      148386.065990   59892.856640       197    475000\n",
       "Wd Shng      161328.947368   88974.217820        38    538000"
      ]
     },
     "execution_count": 433,
     "metadata": {},
     "output_type": "execute_result"
    }
   ],
   "source": [
    "pvt=train_df.pivot_table(values = 'SalePrice', index = [fld], aggfunc = [np.mean, np.std, np.size, np.max])\n",
    "pvt"
   ]
  },
  {
   "cell_type": "code",
   "execution_count": null,
   "metadata": {
    "collapsed": true
   },
   "outputs": [],
   "source": [
    "copydf['MSZoning'] = CategoricalDtype(['FV', ''])"
   ]
  }
 ],
 "metadata": {
  "kernelspec": {
   "display_name": "Python 3",
   "language": "python",
   "name": "python3"
  },
  "language_info": {
   "codemirror_mode": {
    "name": "ipython",
    "version": 3
   },
   "file_extension": ".py",
   "mimetype": "text/x-python",
   "name": "python",
   "nbconvert_exporter": "python",
   "pygments_lexer": "ipython3",
   "version": "3.6.3"
  }
 },
 "nbformat": 4,
 "nbformat_minor": 2
}
