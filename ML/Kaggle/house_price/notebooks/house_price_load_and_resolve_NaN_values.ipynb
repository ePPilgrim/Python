{
 "cells": [
  {
   "cell_type": "code",
   "execution_count": 1,
   "metadata": {
    "collapsed": true
   },
   "outputs": [],
   "source": [
    "import pandas as pd\n",
    "import numpy as np\n",
    "import matplotlib.pyplot as plt\n",
    "import os\n",
    "project_dir = 'C:\\\\Users\\\\PLDD\\\\python\\\\Python\\\\ML\\\\Kaggle\\\\house_price'\n",
    "raw_path = os.path.join(project_dir,'data','raw')\n",
    "train_path = os.path.join(raw_path, 'train.csv')\n",
    "test_path = os.path.join(raw_path, 'test.csv')"
   ]
  },
  {
   "cell_type": "markdown",
   "metadata": {},
   "source": [
    " # Create data frame"
   ]
  },
  {
   "cell_type": "markdown",
   "metadata": {},
   "source": [
    "Combines train and test data frame:"
   ]
  },
  {
   "cell_type": "code",
   "execution_count": 2,
   "metadata": {
    "collapsed": true
   },
   "outputs": [],
   "source": [
    "train_df = pd.read_csv(train_path)\n",
    "test_df = pd.read_csv(test_path)\n",
    "test_df['SalePrice'] = 0.0"
   ]
  },
  {
   "cell_type": "markdown",
   "metadata": {},
   "source": [
    "Define and fill some nan value with simple NoNe that means - this property attribute is absent"
   ]
  },
  {
   "cell_type": "code",
   "execution_count": 4,
   "metadata": {
    "collapsed": true
   },
   "outputs": [],
   "source": [
    "DefSeqCat = ['Alley','BsmtQual', 'BsmtCond', 'BsmtExposure',\n",
    "       'BsmtFinType1', 'BsmtFinType2', 'FireplaceQu',\n",
    "       'GarageType', 'GarageFinish', 'GarageQual', 'GarageCond', 'PoolQC',\n",
    "       'Fence', 'MiscFeature']\n",
    "UndefSeqCat1 = ['MSZoning', 'Utilities', 'Exterior1st', 'Exterior2nd','Electrical', 'KitchenQual',\n",
    "            'Functional', 'SaleType'] # there are defenetly lost elements \n",
    "UndefSeqCat2 = ['MasVnrType'] # i may just not make it clear the property of the column\n",
    "UndefSeqNum = ['LotFrontage', 'MasVnrArea', 'BsmtFinSF1', 'BsmtFinSF2', 'BsmtUnfSF', 'TotalBsmtSF', \n",
    "               'BsmtFullBath', 'BsmtHalfBath', 'GarageYrBlt', 'GarageCars', 'GarageArea']"
   ]
  },
  {
   "cell_type": "markdown",
   "metadata": {},
   "source": [
    "Replace NAN values in 'LotFrontage' with iterpolated value."
   ]
  },
  {
   "cell_type": "code",
   "execution_count": 8,
   "metadata": {
    "collapsed": true
   },
   "outputs": [],
   "source": [
    "df = train_df.append(test_df)\n",
    "df.index = list(range(train_df.index.size + test_df.index.size))\n",
    "\n",
    "yearlable = ['1906', '1942', '1975', '1991', '2011']\n",
    "yearbin = [1800,1906,1942,1975, 1991, 2011]\n",
    "df['YearInt']=pd.cut(x = df['YearBuilt'].values, bins = yearbin, right = False, labels = yearlable)\n",
    "\n",
    "replace=dict.fromkeys(DefSeqCat, 'NoNe')\n",
    "df = df.fillna(replace)"
   ]
  },
  {
   "cell_type": "code",
   "execution_count": 10,
   "metadata": {},
   "outputs": [
    {
     "name": "stdout",
     "output_type": "stream",
     "text": [
      "81\n"
     ]
    }
   ],
   "source": [
    "#case 1 - try to fill 'LotFrontage' with mean 'YearInt' data:\n",
    "catclass = ['Neighborhood', 'LotConfig','LotShape','YearInt']\n",
    "fullclass = catclass + ['LotFrontage']\n",
    "validdf = df[fullclass].dropna(axis = 0, how = 'any')\n",
    "nandf = df[df['LotFrontage'].isnull()]\n",
    "pvt = validdf.pivot_table(values = 'LotFrontage', index = catclass, aggfunc = np.mean)\n",
    "pvt=pvt[pvt.notnull().all(1)]\n",
    "t1 = pvt.loc[[tuple(x) for x in nandf[catclass].values]]\n",
    "t1.index = nandf.index\n",
    "df.loc[nandf.index,'LotFrontage'] = t1['LotFrontage']\n",
    "print(df[df['LotFrontage'].isnull()].index.size)\n",
    "\n",
    "#case 2\n",
    "validdf = df[fullclass].dropna(axis = 0, how = 'any')\n",
    "#nandf = df[df['LotFrontage'].isnull()]\n",
    "#pvt = validdf.pivot_table(values = 'LotFrontage', index = catclass, aggfunc = np.mean)\n",
    "#pvt=pvt[pvt.notnull().all(1)]\n",
    "#t1 = pvt.loc[[tuple(x) for x in nandf[catclass].values]]\n",
    "#t1.index = nandf.index\n",
    "#df.loc[nandf.index,'LotFrontage'] = t1['LotFrontage']\n"
   ]
  },
  {
   "cell_type": "code",
   "execution_count": null,
   "metadata": {
    "collapsed": true
   },
   "outputs": [],
   "source": []
  },
  {
   "cell_type": "code",
   "execution_count": 382,
   "metadata": {},
   "outputs": [
    {
     "data": {
      "text/plain": [
       "<matplotlib.axes._subplots.AxesSubplot at 0x1cebda4bc18>"
      ]
     },
     "execution_count": 382,
     "metadata": {},
     "output_type": "execute_result"
    }
   ],
   "source": [
    "#import matplotlib.pyplot as plt\n",
    "#plt.figure()\n",
    "#nandf = df[df['LotFrontage'].isnull()]\n",
    "#nandf['YearBuilt'].hist(bins = 100)\n",
    "#plt.show()\n",
    "#yy\n",
    "#plt.plot()\n",
    "#nandf.pivot_table(values = 'LotFrontage', index = ['YearBuilt'], aggfunc = np.size).sort_values(by='LotFrontage', axis = 0)\n",
    "#tt=nandf.pivot_table(values = 'LotFrontage', index = catclass, aggfunc = np.size)\n",
    "#tt[tt['LotFrontage'].notnull()].sort_values(by='LotFrontage', axis = 0)\n",
    "#tt.sort_values(by='LotFrontage', axis = 0)\n",
    "\n"
   ]
  },
  {
   "cell_type": "code",
   "execution_count": 384,
   "metadata": {},
   "outputs": [
    {
     "data": {
      "text/plain": [
       "MultiIndex(levels=[['std', 'mean', 'size', 'amin', 'amax', 'RelStd'], ['LotFrontage']],\n",
       "           labels=[[0, 1, 2, 3, 4, 5], [0, 0, 0, 0, 0, 0]])"
      ]
     },
     "execution_count": 384,
     "metadata": {},
     "output_type": "execute_result"
    }
   ],
   "source": [
    "yy.columns"
   ]
  },
  {
   "cell_type": "code",
   "execution_count": 385,
   "metadata": {},
   "outputs": [
    {
     "data": {
      "text/plain": [
       "MultiIndex(levels=[['CollgCr', 'Gilbert', 'NAmes', 'NWAmes', 'Sawyer'], ['Corner', 'CulDSac', 'FR2', 'FR3', 'Inside'], ['IR1', 'IR2', 'IR3', 'Reg'], ['1906', '1942', '1975', '1991', '2011']],\n",
       "           labels=[[0, 0, 0, 0, 0, 0, 0, 0, 0, 0, 0, 0, 0, 0, 0, 0, 1, 1, 1, 1, 1, 1, 1, 1, 2, 2, 2, 2, 2, 2, 2, 2, 2, 2, 3, 3, 3, 3, 3, 3, 3, 3, 3, 3, 4, 4, 4, 4, 4, 4, 4, 4], [0, 0, 0, 0, 1, 1, 1, 2, 2, 4, 4, 4, 4, 4, 4, 4, 0, 1, 2, 4, 4, 4, 4, 4, 0, 0, 0, 1, 2, 2, 4, 4, 4, 4, 0, 0, 0, 0, 1, 4, 4, 4, 4, 4, 0, 0, 1, 2, 4, 4, 4, 4], [0, 3, 3, 3, 0, 0, 1, 1, 3, 0, 0, 0, 1, 3, 3, 3, 0, 0, 0, 0, 1, 3, 3, 3, 0, 3, 3, 0, 1, 3, 0, 3, 3, 3, 0, 0, 3, 3, 0, 0, 0, 3, 3, 3, 3, 3, 0, 3, 0, 3, 3, 3], [4, 2, 3, 4, 3, 4, 4, 4, 4, 2, 3, 4, 4, 2, 3, 4, 4, 4, 4, 4, 4, 2, 3, 4, 2, 1, 2, 2, 4, 2, 2, 1, 2, 4, 2, 3, 2, 3, 3, 2, 3, 2, 3, 4, 1, 2, 2, 2, 2, 1, 2, 3]],\n",
       "           names=['Neighborhood', 'LotConfig', 'LotShape', 'YearInt'])"
      ]
     },
     "execution_count": 385,
     "metadata": {},
     "output_type": "execute_result"
    }
   ],
   "source": [
    "yy.index"
   ]
  },
  {
   "cell_type": "code",
   "execution_count": null,
   "metadata": {
    "collapsed": true
   },
   "outputs": [],
   "source": []
  }
 ],
 "metadata": {
  "kernelspec": {
   "display_name": "Python 3",
   "language": "python",
   "name": "python3"
  },
  "language_info": {
   "codemirror_mode": {
    "name": "ipython",
    "version": 3
   },
   "file_extension": ".py",
   "mimetype": "text/x-python",
   "name": "python",
   "nbconvert_exporter": "python",
   "pygments_lexer": "ipython3",
   "version": "3.6.3"
  }
 },
 "nbformat": 4,
 "nbformat_minor": 2
}
