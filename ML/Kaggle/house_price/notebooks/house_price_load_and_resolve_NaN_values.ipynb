{
 "cells": [
  {
   "cell_type": "code",
   "execution_count": 2,
   "metadata": {
    "collapsed": true
   },
   "outputs": [],
   "source": [
    "import pandas as pd\n",
    "import numpy as np\n",
    "import matplotlib.pyplot as plt\n",
    "import os\n",
    "project_dir = 'C:\\\\Users\\\\PLDD\\\\python\\\\Python\\\\ML\\\\Kaggle\\\\house_price'\n",
    "raw_path = os.path.join(project_dir,'data','raw')\n",
    "train_path = os.path.join(raw_path, 'train.csv')\n",
    "test_path = os.path.join(raw_path, 'test.csv')"
   ]
  },
  {
   "cell_type": "markdown",
   "metadata": {},
   "source": [
    " # Create data frame"
   ]
  },
  {
   "cell_type": "markdown",
   "metadata": {},
   "source": [
    "Combines train and test data frame:"
   ]
  },
  {
   "cell_type": "code",
   "execution_count": 217,
   "metadata": {},
   "outputs": [],
   "source": [
    "train_df = pd.read_csv(train_path)\n",
    "test_df = pd.read_csv(test_path)\n",
    "test_df['SalePrice'] = 0.0\n",
    "df = train_df.append(test_df)\n",
    "df.index = list(range(train_df.index.size + test_df.index.size))\n",
    "# 2916 out of 2919 Utilities are AllPub so i think it should be droped off\n",
    "df = df.drop('Utilities', axis = 1)"
   ]
  },
  {
   "cell_type": "markdown",
   "metadata": {},
   "source": [
    "# Proccess outliers"
   ]
  },
  {
   "cell_type": "code",
   "execution_count": 218,
   "metadata": {},
   "outputs": [],
   "source": [
    "#'LotFrontage', 'LotArea', 'MasVnrArea', 'GrLivArea', 'GarageArea', 'PoolArea', 'SalePrice']\n",
    "#copydf['LotFrontage'].plot.hist()\n",
    "#copydf['LotFrontage'].plot.box()\n",
    "#copydf['LotArea'].plot.hist()\n",
    "#copydf['LotArea'].plot.box()\n",
    "#copydf['GrLivArea'].plot.hist()\n",
    "#copydf['GrLivArea'].plot.box()\n",
    "#plt.show()\n",
    "lx = (df['LotFrontage'] > 200) | (df['LotArea'] > 100000) | (df['GrLivArea'] > 4000)\n",
    "#df = df.drop(df.index[lx], axis = 0)\n",
    "df.loc[df['LotFrontage'] > 200,'LotFrontage'] = np.nan\n",
    "df.loc[df['LotArea'] > 100000,'LotArea'] = np.nan\n",
    "df.loc[df['GrLivArea'] > 4000,'GrLivArea'] = np.nan"
   ]
  },
  {
   "cell_type": "markdown",
   "metadata": {},
   "source": [
    "# Proccess Nan values"
   ]
  },
  {
   "cell_type": "code",
   "execution_count": 219,
   "metadata": {},
   "outputs": [],
   "source": [
    "DefSeqCat = ['Alley','BsmtQual', 'BsmtCond', 'BsmtExposure',\n",
    "       'BsmtFinType1', 'BsmtFinType2', 'FireplaceQu',\n",
    "       'GarageType', 'GarageFinish', 'GarageQual', 'GarageCond', 'PoolQC',\n",
    "       'Fence', 'MiscFeature']\n",
    "UndefSeqCat1 = ['MSZoning', 'Utilities', 'Exterior1st', 'Exterior2nd','Electrical', 'KitchenQual',\n",
    "            'Functional', 'SaleType'] # there are defenetly lost elements \n",
    "UndefSeqCat2 = ['MasVnrType'] # i may just not make it clear the property of the column\n",
    "UndefSeqNum = ['LotFrontage', 'MasVnrArea', 'BsmtFinSF1', 'BsmtFinSF2', 'BsmtUnfSF', 'TotalBsmtSF', \n",
    "               'BsmtFullBath', 'BsmtHalfBath', 'GarageYrBlt', 'GarageCars', 'GarageArea']\n",
    "\n",
    "replace=dict.fromkeys(DefSeqCat, 'NoNe')\n",
    "df = df.fillna(replace)\n",
    "#'MasVnrType'\n",
    "ix = df.index[df['MasVnrType'].isnull()]\n",
    "df.loc[ix,'MasVnrType'] = 'NoNe'\n",
    "df.loc[ix,'MasVnrArea'] = 0\n",
    "\n",
    "NanCol = ['LotFrontage', 'MSZoning', 'Utilities', 'Exterior1st', 'Exterior2nd', 'MasVnrType',\n",
    "       'MasVnrArea', 'BsmtFinSF1', 'BsmtFinSF2', 'BsmtUnfSF', 'TotalBsmtSF',\n",
    "       'Electrical', 'BsmtFullBath', 'BsmtHalfBath', 'KitchenQual',\n",
    "       'Functional', 'GarageYrBlt', 'GarageCars', 'GarageArea', 'SaleType']"
   ]
  },
  {
   "cell_type": "markdown",
   "metadata": {},
   "source": [
    "Replace NAN values in 'LotFrontage' and 'LotArea' with iterpolated value."
   ]
  },
  {
   "cell_type": "code",
   "execution_count": 220,
   "metadata": {
    "collapsed": true
   },
   "outputs": [],
   "source": [
    "def ReplaceNanValues_LotFrontageArea(df, alables, abins, fromfld, tofld, catclass, targetclass):\n",
    "    fullclass = catclass + [targetclass]\n",
    "    df[tofld]=pd.cut(x = df[fromfld].values, bins = abins, right = False, labels = alables)\n",
    "    validdf = df[fullclass].dropna(axis = 0, how = 'any')\n",
    "    nandf = df[df[targetclass].isnull()]\n",
    "    pvt = validdf.pivot_table(values = targetclass, index = catclass, aggfunc = np.mean)\n",
    "    pvt=pvt[pvt.notnull().all(1)]\n",
    "    t1 = pvt.loc[[tuple(x) for x in nandf[catclass].values]]\n",
    "    t1.index = nandf.index\n",
    "    df.loc[nandf.index,targetclass] = t1[targetclass]\n",
    "    df = df.drop(tofld, axis = 1)\n",
    "    return df"
   ]
  },
  {
   "cell_type": "code",
   "execution_count": 221,
   "metadata": {},
   "outputs": [
    {
     "name": "stdout",
     "output_type": "stream",
     "text": [
      "83\n",
      "0\n",
      "0\n"
     ]
    }
   ],
   "source": [
    "copydf = df.copy()\n",
    "yearlable = ['1906', '1942', '1975', '1991', '2011']\n",
    "yearbin = [1800,1906,1942,1975, 1991, 2011]\n",
    "\n",
    "#case 1\n",
    "catclass = ['Neighborhood', 'LotConfig','LotShape','YearInt']\n",
    "copydf = ReplaceNanValues_LotFrontageArea(copydf, yearlable, yearbin, 'YearBuilt', 'YearInt', catclass, 'LotFrontage' )\n",
    "copydf = ReplaceNanValues_LotFrontageArea(copydf, yearlable, yearbin, 'YearBuilt', 'YearInt', catclass, 'LotArea')\n",
    "#print(copydf[copydf['LotFrontage'].isnull()].index.size)\n",
    "\n",
    "catclass = ['LotConfig','LotShape','YearInt']\n",
    "#case 2\n",
    "copydf = ReplaceNanValues_LotFrontageArea(copydf, yearlable, yearbin, 'YearBuilt', 'YearInt', catclass, 'LotFrontage')\n",
    "copydf = ReplaceNanValues_LotFrontageArea(copydf, yearlable, yearbin, 'YearBuilt', 'YearInt', catclass, 'LotArea')\n",
    "#print(copydf[copydf['LotFrontage'].isnull()].index.size)\n",
    "\n",
    "#case 3\n",
    "yearlable = ['1942', '1991', '2011']\n",
    "yearbin = [1800, 1942, 1991, 2011]\n",
    "copydf = ReplaceNanValues_LotFrontageArea(copydf, yearlable, yearbin, 'YearBuilt', 'YearInt', catclass, 'LotFrontage')\n",
    "copydf = ReplaceNanValues_LotFrontageArea(copydf, yearlable, yearbin, 'YearBuilt', 'YearInt', catclass, 'LotArea')\n",
    "#print(copydf[copydf['LotFrontage'].isnull()].index.size)\n",
    "\n",
    "#case 4\n",
    "yearlable = ['1975', '1991', '2011']\n",
    "yearbin = [1800, 1975, 1991, 2011]\n",
    "copydf = ReplaceNanValues_LotFrontageArea(copydf, yearlable, yearbin, 'YearBuilt', 'YearInt', catclass, 'LotFrontage')\n",
    "copydf = ReplaceNanValues_LotFrontageArea(copydf, yearlable, yearbin, 'YearBuilt', 'YearInt', catclass, 'LotArea')\n",
    "#print(copydf[copydf['LotFrontage'].isnull()].index.size)\n",
    "\n",
    "#case 5\n",
    "yearlable = ['2011']\n",
    "yearbin = [1800, 2011]\n",
    "copydf = ReplaceNanValues_LotFrontageArea(copydf, yearlable, yearbin, 'YearBuilt', 'YearInt', catclass, 'LotFrontage')\n",
    "copydf = ReplaceNanValues_LotFrontageArea(copydf, yearlable, yearbin, 'YearBuilt', 'YearInt', catclass, 'LotArea')\n",
    "#print(copydf[copydf['LotFrontage'].isnull()].index.size)\n",
    "#print(copydf[copydf['LotArea'].isnull()].index.size)\n",
    "df = copydf"
   ]
  },
  {
   "cell_type": "markdown",
   "metadata": {},
   "source": [
    "Replace Nan in 'MSZoning'"
   ]
  },
  {
   "cell_type": "code",
   "execution_count": 222,
   "metadata": {},
   "outputs": [],
   "source": [
    "ind1 = [1915, 2216, 2250] # C - assign by many factors\n",
    "ind2 = [2904] # RL - by Lot Area, LotFrontage and YearBuilt \n",
    "df.loc[ind1,'MSZoning'] = 'C'\n",
    "df.loc[ind2,'MSZoning'] = 'RL'"
   ]
  },
  {
   "cell_type": "markdown",
   "metadata": {},
   "source": [
    "Replace Nan in 'Exterior1st' and 'Exterior2nd'"
   ]
  },
  {
   "cell_type": "code",
   "execution_count": 223,
   "metadata": {},
   "outputs": [],
   "source": [
    "targetclass = ['Exterior1st', 'Exterior2nd']\n",
    "ind = [2151]\n",
    "df.loc[ind,targetclass] = 'AsbShng'"
   ]
  },
  {
   "cell_type": "markdown",
   "metadata": {},
   "source": [
    "Add column 'RangeYrBlt' and remove columns 'GarageYrBlt' and 'YearBilt'"
   ]
  },
  {
   "cell_type": "code",
   "execution_count": 233,
   "metadata": {},
   "outputs": [],
   "source": [
    "yearbins = [1800, 1895, 1905, 1917, 1927, 1937,1947,1960, 1973, 1989, 1998, 2012]\n",
    "yearlabels = ['1895', '1905', '1917', '1927', '1937', '1947', '1960', '1973', '1989', '1998', '2012']\n",
    "if df.columns.isin(['YearBuilt']).any():\n",
    "    df['RangeYrBlt']=pd.cut(x = df['YearBuilt'].values, bins = yearbins, right = False, labels = yearlabels)\n",
    "    df = df.drop('YearBuilt', axis = 1)\n",
    "if df.columns.isin(['GarageYrBlt']).any():\n",
    "    df = df.drop('GarageYrBlt', axis = 1)"
   ]
  },
  {
   "cell_type": "markdown",
   "metadata": {},
   "source": [
    "Replace Nan in 'BsmtFinSF1', 'BsmtFinSF2', 'BsmtUnfSF', 'TotalBsmtSF' (row index - 2120)"
   ]
  },
  {
   "cell_type": "code",
   "execution_count": 252,
   "metadata": {},
   "outputs": [],
   "source": [
    "# There is no basement in this house so all areas we take as 0\n",
    "df.loc[2120,['BsmtFinSF1', 'BsmtFinSF2', 'BsmtUnfSF', 'TotalBsmtSF']] = 0"
   ]
  },
  {
   "cell_type": "markdown",
   "metadata": {},
   "source": [
    "Replase Nan in 'Electrical' (row index - 1379)"
   ]
  },
  {
   "cell_type": "code",
   "execution_count": 261,
   "metadata": {},
   "outputs": [],
   "source": [
    "df.loc[1379, 'Electrical'] = 'SBrkr' #  all houses in 2012 year built have this type of Electrical"
   ]
  },
  {
   "cell_type": "markdown",
   "metadata": {},
   "source": [
    "Replase Nan in 'GrLivArea'"
   ]
  },
  {
   "cell_type": "code",
   "execution_count": 277,
   "metadata": {},
   "outputs": [],
   "source": [
    "if df.columns.isin(['GrLivArea']).any():\n",
    "    df = df.drop('GrLivArea', axis = 1) # it is sum of '1stFlrSF' and '2ndFlrSF'"
   ]
  },
  {
   "cell_type": "markdown",
   "metadata": {},
   "source": [
    "Replace Nan in 'BsmtFullBath' and 'BsmtHalfBath' (row indexes are 2120 and 2188) # all these houses have no basements"
   ]
  },
  {
   "cell_type": "code",
   "execution_count": 297,
   "metadata": {},
   "outputs": [],
   "source": [
    "df.loc[[2120,2188],['BsmtFullBath', 'BsmtHalfBath']] = 0"
   ]
  },
  {
   "cell_type": "markdown",
   "metadata": {},
   "source": [
    "Replace Nan in 'KitchenQual' (row index is 1555)"
   ]
  },
  {
   "cell_type": "code",
   "execution_count": 311,
   "metadata": {},
   "outputs": [],
   "source": [
    "# Value of 'KitchenQual' depends on 'OverallQual', 'OverallCond'\n",
    "df.loc[1555, 'KitchenQual'] = 'TA'"
   ]
  },
  {
   "cell_type": "markdown",
   "metadata": {},
   "source": [
    "Replace Nan in 'Functional' (row indexes are 2216, 2473)"
   ]
  },
  {
   "cell_type": "code",
   "execution_count": 323,
   "metadata": {},
   "outputs": [],
   "source": [
    "# The most used functionality is 'Typ'\n",
    "df.loc[[2216, 2473],'Functional'] = 'Typ'"
   ]
  },
  {
   "cell_type": "markdown",
   "metadata": {},
   "source": [
    "Replace Nan in 'GarageCars', 'GarageArea' (row index is 2576)"
   ]
  },
  {
   "cell_type": "code",
   "execution_count": 333,
   "metadata": {
    "collapsed": true
   },
   "outputs": [],
   "source": [
    "#there is no garage so its area is 0\n",
    "df.loc[2576,'GarageArea'] = 0\n",
    "if df.columns.isin(['GarageCars']).any():\n",
    "    df = df.drop('GarageCars', axis = 1) # it has straight dependency on garage area"
   ]
  },
  {
   "cell_type": "markdown",
   "metadata": {},
   "source": [
    "Replace Nan in 'SaleType' (row index is 2489)"
   ]
  },
  {
   "cell_type": "code",
   "execution_count": 349,
   "metadata": {},
   "outputs": [],
   "source": [
    "df.loc[2489, 'SaleType'] = 'WD' # the most used type according to sold year and sale condition"
   ]
  },
  {
   "cell_type": "markdown",
   "metadata": {},
   "source": [
    "# Categorizing"
   ]
  },
  {
   "cell_type": "code",
   "execution_count": 357,
   "metadata": {},
   "outputs": [
    {
     "data": {
      "text/plain": [
       "Index(['MSZoning', 'Street', 'Alley', 'LotShape', 'LandContour', 'LotConfig',\n",
       "       'LandSlope', 'Neighborhood', 'Condition1', 'Condition2', 'BldgType',\n",
       "       'HouseStyle', 'RoofStyle', 'RoofMatl', 'Exterior1st', 'Exterior2nd',\n",
       "       'MasVnrType', 'ExterQual', 'ExterCond', 'Foundation', 'BsmtQual',\n",
       "       'BsmtCond', 'BsmtExposure', 'BsmtFinType1', 'BsmtFinType2', 'Heating',\n",
       "       'HeatingQC', 'CentralAir', 'Electrical', 'KitchenQual', 'Functional',\n",
       "       'FireplaceQu', 'GarageType', 'GarageFinish', 'GarageQual', 'GarageCond',\n",
       "       'PavedDrive', 'PoolQC', 'Fence', 'MiscFeature', 'SaleType',\n",
       "       'SaleCondition'],\n",
       "      dtype='object')"
      ]
     },
     "execution_count": 357,
     "metadata": {},
     "output_type": "execute_result"
    }
   ],
   "source": [
    "copydf = df.copy()\n",
    "copydf.columns[copydf.dtypes == 'object']"
   ]
  },
  {
   "cell_type": "code",
   "execution_count": 358,
   "metadata": {},
   "outputs": [
    {
     "data": {
      "text/plain": [
       "array(['RL', 'RM', 'C (all)', 'FV', 'RH', 'C'], dtype=object)"
      ]
     },
     "execution_count": 358,
     "metadata": {},
     "output_type": "execute_result"
    }
   ],
   "source": [
    "copydf['MSZoning'].unique()"
   ]
  },
  {
   "cell_type": "code",
   "execution_count": 360,
   "metadata": {},
   "outputs": [
    {
     "data": {
      "text/html": [
       "<div>\n",
       "<style>\n",
       "    .dataframe thead tr:only-child th {\n",
       "        text-align: right;\n",
       "    }\n",
       "\n",
       "    .dataframe thead th {\n",
       "        text-align: left;\n",
       "    }\n",
       "\n",
       "    .dataframe tbody tr th {\n",
       "        vertical-align: top;\n",
       "    }\n",
       "</style>\n",
       "<table border=\"1\" class=\"dataframe\">\n",
       "  <thead>\n",
       "    <tr>\n",
       "      <th></th>\n",
       "      <th>mean</th>\n",
       "      <th>std</th>\n",
       "    </tr>\n",
       "    <tr>\n",
       "      <th></th>\n",
       "      <th>SalePrice</th>\n",
       "      <th>SalePrice</th>\n",
       "    </tr>\n",
       "    <tr>\n",
       "      <th>MSZoning</th>\n",
       "      <th></th>\n",
       "      <th></th>\n",
       "    </tr>\n",
       "  </thead>\n",
       "  <tbody>\n",
       "    <tr>\n",
       "      <th>C (all)</th>\n",
       "      <td>74528.000000</td>\n",
       "      <td>33791.092031</td>\n",
       "    </tr>\n",
       "    <tr>\n",
       "      <th>FV</th>\n",
       "      <td>214014.061538</td>\n",
       "      <td>52369.662067</td>\n",
       "    </tr>\n",
       "    <tr>\n",
       "      <th>RH</th>\n",
       "      <td>131558.375000</td>\n",
       "      <td>35714.118435</td>\n",
       "    </tr>\n",
       "    <tr>\n",
       "      <th>RL</th>\n",
       "      <td>191004.994787</td>\n",
       "      <td>80766.341319</td>\n",
       "    </tr>\n",
       "    <tr>\n",
       "      <th>RM</th>\n",
       "      <td>126316.830275</td>\n",
       "      <td>48521.689833</td>\n",
       "    </tr>\n",
       "  </tbody>\n",
       "</table>\n",
       "</div>"
      ],
      "text/plain": [
       "                   mean           std\n",
       "              SalePrice     SalePrice\n",
       "MSZoning                             \n",
       "C (all)    74528.000000  33791.092031\n",
       "FV        214014.061538  52369.662067\n",
       "RH        131558.375000  35714.118435\n",
       "RL        191004.994787  80766.341319\n",
       "RM        126316.830275  48521.689833"
      ]
     },
     "execution_count": 360,
     "metadata": {},
     "output_type": "execute_result"
    }
   ],
   "source": [
    "train_df.pivot_table(values = 'SalePrice', index = ['MSZoning'], aggfunc = [np.mean, np.std])"
   ]
  },
  {
   "cell_type": "code",
   "execution_count": null,
   "metadata": {
    "collapsed": true
   },
   "outputs": [],
   "source": [
    "copydf['MSZoning'] = CategoricalDtype(['FV', ''])"
   ]
  }
 ],
 "metadata": {
  "kernelspec": {
   "display_name": "Python 3",
   "language": "python",
   "name": "python3"
  },
  "language_info": {
   "codemirror_mode": {
    "name": "ipython",
    "version": 3
   },
   "file_extension": ".py",
   "mimetype": "text/x-python",
   "name": "python",
   "nbconvert_exporter": "python",
   "pygments_lexer": "ipython3",
   "version": "3.6.3"
  }
 },
 "nbformat": 4,
 "nbformat_minor": 2
}
