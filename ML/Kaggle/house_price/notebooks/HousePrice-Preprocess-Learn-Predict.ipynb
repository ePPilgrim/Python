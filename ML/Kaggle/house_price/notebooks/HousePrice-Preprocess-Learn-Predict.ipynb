{
 "cells": [
  {
   "cell_type": "code",
   "execution_count": 15,
   "metadata": {},
   "outputs": [],
   "source": [
    "import pandas as pd\n",
    "import numpy as np\n",
    "import numpy.ma as npma\n",
    "import scipy as sc\n",
    "from scipy import stats\n",
    "from scipy.stats import norm, skew #for some statistics\n",
    "import matplotlib.pyplot as plt\n",
    "import seaborn as sns\n",
    "import os\n",
    "import re\n",
    "import sklearn as skl\n",
    "from sklearn.model_selection import train_test_split\n",
    "from sklearn import linear_model\n",
    "from sklearn.kernel_ridge import KernelRidge\n",
    "from sklearn.compose import ColumnTransformer\n",
    "\n",
    "from sklearn.preprocessing import StandardScaler\n",
    "from sklearn.preprocessing import MinMaxScaler\n",
    "from sklearn.preprocessing import RobustScaler\n",
    "from sklearn.preprocessing import Normalizer\n",
    "from sklearn.preprocessing import PowerTransformer\n",
    "from sklearn.preprocessing.data import QuantileTransformer\n",
    "from sklearn.preprocessing import PolynomialFeatures\n",
    "from sklearn.pipeline import Pipeline\n",
    "from sklearn.pipeline import make_pipeline\n",
    "from sklearn.model_selection import GridSearchCV\n",
    "from sklearn.preprocessing import LabelEncoder\n",
    "from scipy.special import boxcox1p\n",
    "\n",
    "from sklearn.linear_model import ElasticNet, Lasso, LassoLars,  BayesianRidge, LassoLarsIC, Ridge\n",
    "from sklearn.svm import SVC\n",
    "from sklearn.ensemble import RandomForestRegressor,  GradientBoostingRegressor\n",
    "from sklearn.kernel_ridge import KernelRidge\n",
    "from sklearn.pipeline import make_pipeline\n",
    "from sklearn.preprocessing import RobustScaler\n",
    "from sklearn.base import BaseEstimator, TransformerMixin, RegressorMixin, clone\n",
    "from sklearn.model_selection import KFold, cross_val_score, train_test_split\n",
    "from sklearn.metrics import mean_squared_error\n",
    "os.sys.path.append(os.path.pardir)\n",
    "from src.models.ConvexRegressor import ConvexRegressor\n",
    "from src.models.ConvexRegressor import convregparam\n",
    "from src.models.ConvexRegressor import convregconv\n",
    "\n",
    "#############################################################################################################\n",
    "project_dir =os.path.pardir\n",
    "raw_path = os.path.join(project_dir,'data','processed')\n",
    "train_path = os.path.join(raw_path, 'train.csv')\n",
    "test_path = os.path.join(raw_path, 'test.csv')\n",
    "sns.set()\n",
    "train = pd.read_csv(train_path)\n",
    "test = pd.read_csv(test_path)\n",
    "train = train.drop(['Id','Unnamed: 0'],axis = 1)\n",
    "test = test.drop(['Unnamed: 0'],axis = 1)\n",
    "y = train['SalePrice'].values\n",
    "Ids = test['Id'].values\n",
    "train_x = train.drop('SalePrice',axis = 1).values\n",
    "test_x = test.drop('Id',axis = 1).values\n",
    "\n",
    "#################################################################################################################\n",
    "def LearnAndPredict(x_test,x, y, scaler, solver, ids, q = 0.4, filename = 'temp.csv'):\n",
    "    yscaler = QuantileTransformer(output_distribution='normal').fit(y.reshape([-1,1]))\n",
    "    y = yscaler.transform(y.reshape([-1,1])).ravel()\n",
    "    scaler = scaler.fit(x)\n",
    "    x = scaler.transform(x)\n",
    "    solver = solver.fit(x, y)\n",
    "    x_test = scaler.transform(x_test)\n",
    "    y = solver.predict(x_test)\n",
    "    y = yscaler.inverse_transform(y.reshape([-1,1])).ravel()\n",
    "    df_submission = pd.DataFrame({'Id': ids, 'SalePrice' : y} )\n",
    "    submission_data_path = os.path.join(os.path.pardir,'data','external')\n",
    "    submission_file_path = os.path.join(submission_data_path, filename)\n",
    "    df_submission.to_csv(submission_file_path, index=False)\n",
    "    #print(solver.best_score_)\n",
    "    #print(solver.best_params_)\n",
    "    #sns.distplot(y,fit = norm)\n",
    "    return solver.coef_\n",
    "\n",
    "def linear_ml_solve(x, y, scaler, solver, q = 0.4):\n",
    "    yscaler = QuantileTransformer(output_distribution='normal').fit(y.reshape([-1,1]))\n",
    "    y = yscaler.transform(y.reshape([-1,1])).ravel()\n",
    "    x = scaler.fit_transform(x)\n",
    "    x_train, x_test, y_train, y_test = train_test_split(x, y, test_size=q, random_state=0)\n",
    "    solver = solver.fit(x_train, y_train)\n",
    "    score = solver.score(x_test,y_test)\n",
    "    print(score)\n",
    "    y = solver.predict(x_test)\n",
    "    y = yscaler.inverse_transform(y.reshape([-1,1])).ravel()\n",
    "    print(solver.best_score_)\n",
    "    print(solver.best_params_)\n",
    "    #sns.distplot(y,fit = norm)\n",
    "    return y"
   ]
  },
  {
   "cell_type": "markdown",
   "metadata": {},
   "source": [
    "# 1. Lasso and Ridge"
   ]
  },
  {
   "cell_type": "code",
   "execution_count": 3,
   "metadata": {},
   "outputs": [
    {
     "name": "stdout",
     "output_type": "stream",
     "text": [
      "{'Lasso$$&&$$alpha': [7.0, 6.0, 3.0, 0.02, 0.001, 0.00099, 0.009, 0.0008], 'Ridge$$&&$$alpha': [7.0, 6.0, 4.0, 2.0, 0.6, 0.5, 0.55, 0.45], 'convparams': [{'Ridge': 0.11, 'Lasso': 0.89}, {'Ridge': 0.1, 'Lasso': 0.9}, {'Ridge': 0.09, 'Lasso': 0.91}, {'Ridge': 0.05, 'Lasso': 0.95}, {'Ridge': 0.01, 'Lasso': 0.99}, {'Ridge': 0.001, 'Lasso': 0.999}]}\n",
      "0.919300261382389\n",
      "{'Lasso$$&&$$alpha': 0.001, 'Ridge$$&&$$alpha': 7.0, 'convparams': {'Ridge': 0.001, 'Lasso': 0.999}}\n"
     ]
    }
   ],
   "source": [
    "scaler = RobustScaler()\n",
    "est1 = Ridge()\n",
    "est2 = Lasso()\n",
    "estimators = [est1,est2]\n",
    "cest = ConvexRegressor(ests=estimators)\n",
    "param_grid = convregparam(est2,{'alpha': [ 7.0, 6.0, 3.0, 0.02,0.001, 0.00099, 0.009, 0.0008]})\n",
    "param_grid.update(convregparam(est1,{'alpha' : [7.0, 6.0, 4.0, 2.0, 0.6,0.5,0.55,0.45]}))\n",
    "param_grid.update({'convparams' : [convregconv(estimators,[0.11, 0.89]), convregconv(estimators,[0.1,0.9]),\n",
    "                                   convregconv(estimators,[0.09, 0.91]), convregconv(estimators,[0.05,0.95]),\n",
    "                                   convregconv(estimators,[0.01,0.99]), convregconv(estimators,[0.001,0.999])]})\n",
    "\n",
    "gsolver = GridSearchCV(cest, cv=5,param_grid=param_grid)\n",
    "house_price = LearnAndPredict(test_x,train_x, y, scaler, solver = gsolver, ids = Ids, q = 0.4, filename = 'LassoRidge.csv')\n",
    "#0.919300261382389\n",
    "#{'Lasso$$&&$$alpha': 0.001, 'Ridge$$&&$$alpha': 7.0, 'convparams': {'Ridge': 0.001, 'Lasso': 0.999}}"
   ]
  },
  {
   "cell_type": "code",
   "execution_count": 4,
   "metadata": {},
   "outputs": [
    {
     "name": "stdout",
     "output_type": "stream",
     "text": [
      "0.9193015828986981\n",
      "{'Lasso$$&&$$alpha': 0.001, 'Ridge$$&&$$alpha': 9.0, 'convparams': {'Ridge': 0.0001, 'Lasso': 0.9999}}\n"
     ]
    }
   ],
   "source": [
    "scaler = RobustScaler()\n",
    "est1 = Ridge()\n",
    "est2 = Lasso()\n",
    "estimators = [est1,est2]\n",
    "cest = ConvexRegressor(ests=estimators)\n",
    "param_grid = convregparam(est2,{'alpha': [0.0005, 0.0009, 0.001, 0.0015, 0.0019, 0.002]})\n",
    "param_grid.update(convregparam(est1,{'alpha' : [7.0, 7.5, 8.0, 8.5, 9.0]}))\n",
    "param_grid.update({'convparams' : [convregconv(estimators,[0.0001,0.9999]), convregconv(estimators,[0.001,0.999])]})\n",
    "\n",
    "gsolver = GridSearchCV(cest, cv=5,param_grid=param_grid)\n",
    "house_price = LearnAndPredict(test_x,train_x, y, scaler, solver = gsolver, ids = Ids, q = 0.4, filename = 'LassoRidge.csv')"
   ]
  },
  {
   "cell_type": "code",
   "execution_count": null,
   "metadata": {},
   "outputs": [],
   "source": [
    "scaler = RobustScaler()\n",
    "est = Ridge()\n",
    "param_grid = {'alpha': [8.0, 7.8, 7.5, 7.3, 7.0]}\n",
    "gsolver = GridSearchCV(Ridge(max_iter = 10000,tol = 0.00001), cv=5,param_grid=param_grid)\n",
    "house_price = LearnAndPredict(test_x,train_x, y, scaler, solver = gsolver, ids = Ids, q = 0.4, filename = 'Ridge.csv')"
   ]
  },
  {
   "cell_type": "code",
   "execution_count": 16,
   "metadata": {},
   "outputs": [],
   "source": [
    "scaler = RobustScaler()\n",
    "est = Lasso()\n",
    "param_grid = {'alpha': [5.0,3.0,2.0,1.5,1.3,1.2,1.1,1e0,0.8,0.5,0.2,0.1, 1e-2,0.05,1e-3,0.005, 1e-4,0.0005, 1e-5,0.000051e-6,1e-7]}\n",
    "param_grid = {'alpha': [ 0.004,0.003, 0.002,0.001, 0.000888889, 0.0008, 0.0005, 0.0009, 0.0015, 0.0019]}\n",
    "param_grid = {'alpha': [ 0.001]}\n",
    "gsolver = GridSearchCV(Lasso(max_iter = 10000,tol = 0.0001), cv=5,param_grid=param_grid)\n",
    "gsolver = Lasso(max_iter = 10000,tol = 0.0001,alpha = 0.001)\n",
    "house_price = LearnAndPredict(test_x,train_x, y, scaler, solver = gsolver, ids = Ids, q = 0.4, filename = 'Lasso.csv')\n",
    "#linear_ml_solve(train_x, y, scaler, gsolver, q = 0.4)"
   ]
  },
  {
   "cell_type": "code",
   "execution_count": 19,
   "metadata": {},
   "outputs": [
    {
     "data": {
      "text/plain": [
       "130"
      ]
     },
     "execution_count": 19,
     "metadata": {},
     "output_type": "execute_result"
    }
   ],
   "source": [
    "(house_price == 0.0).sum()"
   ]
  },
  {
   "cell_type": "code",
   "execution_count": null,
   "metadata": {},
   "outputs": [],
   "source": []
  }
 ],
 "metadata": {
  "kernelspec": {
   "display_name": "Python 3",
   "language": "python",
   "name": "python3"
  },
  "language_info": {
   "codemirror_mode": {
    "name": "ipython",
    "version": 3
   },
   "file_extension": ".py",
   "mimetype": "text/x-python",
   "name": "python",
   "nbconvert_exporter": "python",
   "pygments_lexer": "ipython3",
   "version": "3.6.8"
  }
 },
 "nbformat": 4,
 "nbformat_minor": 2
}
