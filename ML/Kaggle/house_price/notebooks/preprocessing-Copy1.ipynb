{
 "cells": [
  {
   "cell_type": "code",
   "execution_count": 137,
   "metadata": {},
   "outputs": [],
   "source": [
    "import pandas as pd\n",
    "import numpy as np\n",
    "import scipy as sc\n",
    "from scipy import stats\n",
    "from scipy.stats import norm, skew #for some statistics\n",
    "import matplotlib.pyplot as plt\n",
    "import seaborn as sns\n",
    "import os\n",
    "import sklearn as skl\n",
    "from sklearn.model_selection import train_test_split\n",
    "from sklearn import linear_model\n",
    "from sklearn.kernel_ridge import KernelRidge\n",
    "\n",
    "from sklearn.preprocessing import StandardScaler\n",
    "from sklearn.preprocessing import MinMaxScaler\n",
    "from sklearn.preprocessing import RobustScaler\n",
    "from sklearn.preprocessing import Normalizer\n",
    "from sklearn.preprocessing import PowerTransformer\n",
    "from sklearn.preprocessing.data import QuantileTransformer\n",
    "from sklearn.preprocessing import PolynomialFeatures\n",
    "from sklearn.pipeline import Pipeline\n",
    "from sklearn.model_selection import GridSearchCV\n",
    "from sklearn.preprocessing import LabelEncoder\n",
    "from scipy.special import boxcox1p\n",
    "\n",
    "from sklearn.linear_model import ElasticNet, Lasso, LassoLars,  BayesianRidge, LassoLarsIC, Ridge\n",
    "from sklearn.ensemble import RandomForestRegressor,  GradientBoostingRegressor\n",
    "from sklearn.kernel_ridge import KernelRidge\n",
    "from sklearn.pipeline import make_pipeline\n",
    "from sklearn.preprocessing import RobustScaler\n",
    "from sklearn.base import BaseEstimator, TransformerMixin, RegressorMixin, clone\n",
    "from sklearn.model_selection import KFold, cross_val_score, train_test_split\n",
    "from sklearn.metrics import mean_squared_error\n",
    "#import xgboost as xgb\n",
    "#import lightgbm as lgb\n",
    "project_dir = 'C:\\\\Users\\\\PLDD\\\\python\\\\Python\\\\ML\\\\Kaggle\\\\house_price'\n",
    "raw_path = os.path.join(project_dir,'data','raw')\n",
    "train_path = os.path.join(raw_path, 'train.csv')\n",
    "test_path = os.path.join(raw_path, 'test.csv')\n",
    "sns.set()"
   ]
  },
  {
   "cell_type": "code",
   "execution_count": 139,
   "metadata": {},
   "outputs": [],
   "source": [
    "train = pd.read_csv(train_path)\n",
    "test = pd.read_csv(test_path)\n",
    "test['SalePrice'] = 0.0\n",
    "df = train.append(test)"
   ]
  },
  {
   "cell_type": "code",
   "execution_count": null,
   "metadata": {},
   "outputs": [],
   "source": [
    "f1 = ['BsmtQual','BsmtCond','BsmtExposure','BsmtFinType1','BsmtFinSF1','BsmtFinType2','BsmtFinSF2','BsmtUnfSF',\n",
    "     'TotalBsmtSF','BsmtFullBath','BsmtHalfBath']\n",
    "f2 = ['GarageType','GarageYrBlt','GarageFinish','GarageCars','GarageArea','GarageQual','GarageCond']\n",
    "#GarageType (Garage location) - has type Basment investigate how it correlates with basment category.\n",
    "f3 = ['GarageYrBlt','MoSold','YrSold','YearBuilt','YearRemodAdd']"
   ]
  },
  {
   "cell_type": "code",
   "execution_count": 164,
   "metadata": {},
   "outputs": [],
   "source": [
    "flds = ['YearBuilt','YearRemodAdd','YrSold','MoSold','GarageYrBlt','GarageType','GarageArea']\n",
    "f = df[flds]"
   ]
  },
  {
   "cell_type": "code",
   "execution_count": 165,
   "metadata": {},
   "outputs": [
    {
     "name": "stdout",
     "output_type": "stream",
     "text": [
      "<class 'pandas.core.frame.DataFrame'>\n",
      "Int64Index: 2919 entries, 0 to 1458\n",
      "Data columns (total 7 columns):\n",
      "YearBuilt       2919 non-null int64\n",
      "YearRemodAdd    2919 non-null int64\n",
      "YrSold          2919 non-null int64\n",
      "MoSold          2919 non-null int64\n",
      "GarageYrBlt     2760 non-null float64\n",
      "GarageType      2762 non-null object\n",
      "GarageArea      2918 non-null float64\n",
      "dtypes: float64(2), int64(4), object(1)\n",
      "memory usage: 182.4+ KB\n"
     ]
    }
   ],
   "source": [
    "f.info()"
   ]
  },
  {
   "cell_type": "code",
   "execution_count": 166,
   "metadata": {},
   "outputs": [
    {
     "name": "stderr",
     "output_type": "stream",
     "text": [
      "C:\\Users\\PLDD\\Anaconda3\\lib\\site-packages\\pandas\\core\\indexing.py:543: SettingWithCopyWarning: \n",
      "A value is trying to be set on a copy of a slice from a DataFrame.\n",
      "Try using .loc[row_indexer,col_indexer] = value instead\n",
      "\n",
      "See the caveats in the documentation: http://pandas.pydata.org/pandas-docs/stable/indexing.html#indexing-view-versus-copy\n",
      "  self.obj[item] = s\n"
     ]
    },
    {
     "name": "stdout",
     "output_type": "stream",
     "text": [
      "<class 'pandas.core.frame.DataFrame'>\n",
      "Int64Index: 2919 entries, 0 to 1458\n",
      "Data columns (total 7 columns):\n",
      "YearBuilt       2919 non-null int64\n",
      "YearRemodAdd    2919 non-null int64\n",
      "YrSold          2919 non-null int64\n",
      "MoSold          2919 non-null int64\n",
      "GarageYrBlt     2917 non-null float64\n",
      "GarageType      2919 non-null object\n",
      "GarageArea      2918 non-null float64\n",
      "dtypes: float64(2), int64(4), object(1)\n",
      "memory usage: 182.4+ KB\n"
     ]
    }
   ],
   "source": [
    "lx = f['GarageArea'] == 0.0\n",
    "f.loc[lx,:] = 0\n",
    "f.info()\n"
   ]
  },
  {
   "cell_type": "code",
   "execution_count": 155,
   "metadata": {},
   "outputs": [
    {
     "name": "stdout",
     "output_type": "stream",
     "text": [
      "<class 'pandas.core.frame.DataFrame'>\n",
      "Int64Index: 2919 entries, 0 to 1458\n",
      "Data columns (total 2 columns):\n",
      "a    2919 non-null int64\n",
      "b    2919 non-null int64\n",
      "dtypes: int64(2)\n",
      "memory usage: 68.4 KB\n"
     ]
    }
   ],
   "source": [
    "x1 = f['YrSold'] - f['YearRemodAdd']\n",
    "x2 = f['YrSold'] - f['YearBuilt']\n",
    "g = pd.DataFrame()\n",
    "g['a'] = x1\n",
    "g['b'] = x2\n",
    "g.info()"
   ]
  },
  {
   "cell_type": "code",
   "execution_count": 160,
   "metadata": {},
   "outputs": [
    {
     "data": {
      "text/plain": [
       "<seaborn.axisgrid.PairGrid at 0x1d0b40e30b8>"
      ]
     },
     "execution_count": 160,
     "metadata": {},
     "output_type": "execute_result"
    },
    {
     "data": {
      "image/png": "[encoded data removed]",
      "text/plain": [
       "<matplotlib.figure.Figure at 0x1d0b2bec8d0>"
      ]
     },
     "metadata": {
      "needs_background": "light"
     },
     "output_type": "display_data"
    }
   ],
   "source": [
    "sns.PairGrid(g).map(plt.scatter)"
   ]
  },
  {
   "cell_type": "code",
   "execution_count": 163,
   "metadata": {},
   "outputs": [],
   "source": [
    "class BaseTransformer:\n",
    "    def fit(self, X, y):\n",
    "        return self\n",
    "## ['YearBuilt','YearRemodAdd','YrSold','MoSold','GarageYrBlt','GarageArea']\n",
    "\n",
    "class Transformer1(BaseTransformer):\n",
    "    def __init__(self, akeyfld, avalue):\n",
    "        self.keyfld = akeyfld\n",
    "        self.value = avalue\n",
    "    def Transform(self, X):\n",
    "        flds = list(set(X.columns) - set(keyfld))\n",
    "        lx = (X[keyfld] == 0) & (X[flds].isnull().any(axis = 1))\n",
    "        X.loc[lx,flds] = X[lx][flds].fillna(value = value)\n",
    "        "
   ]
  },
  {
   "cell_type": "code",
   "execution_count": 15,
   "metadata": {},
   "outputs": [],
   "source": [
    "class HousePrice:\n",
    "    train = 0\n",
    "    test = 1\n",
    "    def __init__(self, train_path, test_path):\n",
    "        train = pd.read_csv(train_path)\n",
    "        train['Id'] = train\n",
    "        test = pd.read_csv(test_path)\n",
    "        test[['SalePrice', 'Id']] = (0.0, test)\n",
    "        self.mlsets = pd.concat([train, test],ignore_index = True) \n",
    "        self.trainlx = self.mlsets['Id'] == train\n",
    "        self.testlx = self.mlsets['Id'] == test\n",
    "        \n",
    "#################### Treat Nan values #############################################################\n",
    "    def __garage_basement_common_nan_handle(self, akeyfld, aflds, avalue):\n",
    "        lx = (self.mlsets[akeyfld] == 0) & (self.mlsets[aflds].isnull().any(axis = 1))\n",
    "        self.mlsets.loc[lx,aflds] = self.mlsets[lx][aflds].fillna(value = avalue)\n",
    "            \n",
    "    def __garage_nan_handle(self):\n",
    "        lx = self.mlsets['GarageYrBlt'].isnull()\n",
    "        self.mlsets.loc[lx,'GarageYrBlt'] = self.mlsets[lx]['YearRemodAdd']\n",
    "        lx = self.mlsets['GarageCars'].isnull()\n",
    "        self.mlsets.loc[lx,'GarageCars'] = self.mlsets[~lx]['GarageCars'].mean()\n",
    "        lx = self.mlsets['GarageArea'].isnull()\n",
    "        self.mlsets.loc[lx,'GarageArea'] = self.mlsets[~lx]['GarageArea'].median()\n",
    "        self.__garage_basement_common_nan_handle('GarageArea', ['GarageType','GarageFinish','GarageQual','GarageCond'], 'None')\n",
    "        self.__garage_basement_common_nan_handle('GarageArea', ['GarageYrBlt','GarageCars'], 0)\n",
    "        \n",
    "    def __basement_nan_handle(self):\n",
    "        df = self.mlsets\n",
    "        numflds = ['BsmtFinSF1', 'BsmtFinSF2']\n",
    "        catflds = ['BsmtFinType1','BsmtFinType2']\n",
    "        for (catfld, numfld) in zip(catflds,numflds):\n",
    "            lx = [numfld].isnull()\n",
    "            tmp = df.groupby([catfld])[numfld].describe()\n",
    "            df.loc[lx,numfld] = np.sum(tmp['50%'] * tmp['count'] / tmp['count'].sum())   \n",
    "        fld = 'TotalBsmtSF'\n",
    "        lx = df[fld].isnull()\n",
    "        df.loc[lx,fld] = df[lx][['BsmtFinSF1', 'BsmtFinSF2']].sum(axis = 1)\n",
    "        fld = 'BsmtUnfSF'\n",
    "        lx = df[fld].isnull()\n",
    "        df.loc[lx,fld] = df[lx]['TotalBsmtSF'] - df[lx][['BsmtFinSF1', 'BsmtFinSF2']].sum(axis = 1)\n",
    "        flds = ['BsmtFullBath','BsmtHalfBath'] \n",
    "        lx = df['BsmtFullBath'].isnull()\n",
    "        df.loc[lx,['BsmtFullBath','BsmtHalfBath']]= df[~lx][['BsmtFullBath','BsmtHalfBath']].mean(axis = 0).values  \n",
    "        self.__garage_basement_common_nan_handle('TotalBsmtSF', ['BsmtQual','BsmtCond','BsmtExposure','BsmtFinType1','BsmtFinType2'], 'None')\n",
    "        self.__garage_basement_common_nan_handle('TotalBsmtSF', ['BsmtFinSF1','BsmtFinSF2','BsmtUnfSF','TotalBsmtSF','BsmtFullBath','BsmtHalfBath'], 0)\n",
    "\n",
    "    def __from_nan_to_None(self):\n",
    "        col = ['FireplaceQu','Alley','PoolQC','Fence','MiscFeature']\n",
    "        self.mlsets[col] = test[col].fillna(value = 'None')\n",
    "        \n",
    "    def __MasVnrArea_nan_handle(self):\n",
    "        df = self.mlsets\n",
    "        lx = (df['MasVnrArea'] != 0) & (df['MasVnrType'] == 'None')\n",
    "        df.loc[lx,'MasVnrArea'] = 0.0\n",
    "        lx = (df['MasVnrArea'] == 0) & (df['MasVnrType'] != 'None')\n",
    "        df.loc[lx,'MasVnrType'] = 'None'\n",
    "        lx = df['MasVnrArea'].isnull()\n",
    "        tmp = df.groupby(['MasVnrType'])['MasVnrArea'].describe()\n",
    "        df.loc[lx,'MasVnrArea'] = np.sum(tmp['50%'] * tmp['count'] / tmp['count'].sum()) \n",
    "    \n",
    "    def __find_regresion(self,df,fld):\n",
    "    scaler = QuantileTransformer()\n",
    "    param_grid = {'alpha': [1e0,0.5, 0.1, 1e-2, 1e-3,1e-4,1e-5,1e-6],'gamma': np.logspace(-4, 2, 14)}\n",
    "    solver = GridSearchCV(KernelRidge(kernel = 'rbf'), cv=5, param_grid=param_grid)\n",
    "    #solver = linear_model.RidgeCV(alphas = np.arange(0.001, 5, 0.001))\n",
    "    \n",
    "    #param_grid = {'alpha': [5.0,3.0,2.0,1.5,1.3,1.2,1.1,1e0,0.8,0.5,0.2,0.1, 1e-2, 1e-3,1e-4,1e-5,1e-6,1e-7]}\n",
    "    #solver = GridSearchCV(Ridge(max_iter = 10000,tol = 0.00001), cv=5,param_grid=param_grid)\n",
    "    #scaler_x = RobustScaler() #make_pipeline(RobustScaler(),PowerTransformer())\n",
    "    #scaler_y = PowerTransformer()\n",
    "    scaler_x = QuantileTransformer() \n",
    "    \n",
    "    df = pd.get_dummies(df)\n",
    "    lx = df[fld].isnull()\n",
    "    dfy = df[fld]\n",
    "    dfx = df.drop(fld, axis = 1)\n",
    "    X = dfx[~lx].as_matrix().astype('float')\n",
    "    y = dfy[~lx].ravel()\n",
    "    #scaler_y = scaler_y.fit(y.reshape(-1,1))\n",
    "    #y = scaler_y.transform(y.reshape(-1,1)).ravel()\n",
    "    \n",
    "    X_train, X_test, y_train, y_test = train_test_split(X, y, test_size=0.4, random_state=0)\n",
    "    scaler_x = scaler_x.fit(X_train)\n",
    "    X_train = scaler_x.transform(X_train)\n",
    "    X_test = scaler_x.transform(X_test)\n",
    "\n",
    "    solver.fit(X_train, y_train)\n",
    "    print(solver.score(X_test, y_test))\n",
    "    X = scaler_x.fit_transform(X)\n",
    "    XX = scaler_x.transform(dfx[lx].as_matrix().astype('float'))\n",
    "    solver.fit(X, y) \n",
    "    yy = solver.predict(XX).astype('float')\n",
    "    dfy[lx] = yy#scaler_y.inverse_transform(yy.reshape(-1,1)).ravel()\n",
    "    return dfy\n",
    "\n",
    "  \n",
    "        \n"
   ]
  },
  {
   "cell_type": "code",
   "execution_count": 29,
   "metadata": {},
   "outputs": [],
   "source": [
    "def GetTrainTestSets(train_path, test_path):   \n",
    "    train = pd.read_csv(train_path)\n",
    "    test = pd.read_csv(test_path)\n",
    "    col = ['FireplaceQu','Alley','PoolQC','Fence','MiscFeature']\n",
    "    train[col] = train[col].fillna(value = 'None')\n",
    "    test[col] = test[col].fillna(value = 'None')\n",
    "    \n",
    "    catcol = [['BsmtQual','BsmtCond','BsmtExposure','BsmtFinType1','BsmtFinType2'],\n",
    "              ['GarageType','GarageFinish','GarageQual','GarageCond']]\n",
    "    numcol = [['BsmtFinSF1','BsmtFinSF2','BsmtUnfSF','TotalBsmtSF','BsmtFullBath','BsmtHalfBath'],\n",
    "              ['GarageYrBlt','GarageCars','GarageArea']]\n",
    "    keyflds = ['TotalBsmtSF','GarageArea']\n",
    "    for (catflds,numflds,keyfld) in zip(catcol, numcol, keyflds):\n",
    "        \n",
    "        lx = (train[keyfld] == 0) & (train[catflds].isnull().any(axis = 1))\n",
    "        train.loc[lx,catflds] = train[lx][catflds].fillna(value = 'None')\n",
    "        \n",
    "        lx = (train[keyfld] == 0) & (train[numflds].isnull().any(axis = 1))\n",
    "        train.loc[lx,numflds] = train[lx][numflds].fillna(value = 0)\n",
    "        \n",
    "        lx = (test[keyfld] == 0) & (test[catflds].isnull().any(axis = 1))\n",
    "        test.loc[lx,catflds] = test[lx][catflds].fillna(value = 'None')\n",
    "        \n",
    "        lx = (test[keyfld] == 0) & (test[numflds].isnull().any(axis = 1))\n",
    "        test.loc[lx,numflds] = test[lx][numflds].fillna(value = 0)\n",
    "        \n",
    "    train = train.drop('Utilities', axis = 1)\n",
    "    test = test.drop('Utilities', axis = 1)\n",
    "    return (train, test)"
   ]
  },
  {
   "cell_type": "code",
   "execution_count": 55,
   "metadata": {},
   "outputs": [],
   "source": [
    "from sklearn.compose import ColumnTransformer\n",
    "from sklearn.feature_extraction.text import CountVectorizer\n",
    "from sklearn.preprocessing import OneHotEncoder"
   ]
  },
  {
   "cell_type": "code",
   "execution_count": 135,
   "metadata": {},
   "outputs": [],
   "source": [
    "from sklearn.base import BaseEstimator\n",
    "from sklearn.pipeline import Pipeline\n",
    "g1 = pd.DataFrame({'a' : [1,2,3], 'b' : ['11', '22', '33']})\n",
    "class Tr(BaseEstimator):\n",
    "    def fit(self,X,y = None):\n",
    "        self.columns = X.columns\n",
    "        return self\n",
    "    def transform(self, X):\n",
    "        X[X.columns[0]] += 4\n",
    "        print(X.head())\n",
    "        return X\n",
    "    def fit_transform(self,X,y = None):\n",
    "        self = self.fit(X)\n",
    "        return self.transform(X)\n",
    "    def get_feature_names(self):\n",
    "        return self.columns\n",
    "    \n",
    "column_trans = ColumnTransformer([('a_category', Tr(), ['a']),#Pipeline([('s1' ,Tr()), ('s2',Tr())]), ['a']),\n",
    "                                  ('b_category', OneHotEncoder(dtype = 'float'), ['b'])],\n",
    "                                 remainder='drop')\n",
    "\n"
   ]
  },
  {
   "cell_type": "code",
   "execution_count": 136,
   "metadata": {},
   "outputs": [
    {
     "name": "stdout",
     "output_type": "stream",
     "text": [
      "   a\n",
      "0  5\n",
      "1  6\n",
      "2  7\n",
      "[[5. 1. 0. 0.]\n",
      " [6. 0. 1. 0.]\n",
      " [7. 0. 0. 1.]]\n",
      "['a_category__a', 'b_category__x0_11.0', 'b_category__x0_22.0', 'b_category__x0_33.0']\n"
     ]
    },
    {
     "name": "stderr",
     "output_type": "stream",
     "text": [
      "C:\\Users\\PLDD\\Anaconda3\\lib\\site-packages\\sklearn\\preprocessing\\_encoders.py:363: FutureWarning: The handling of integer data will change in version 0.22. Currently, the categories are determined based on the range [0, max(values)], while in the future they will be determined based on the unique values.\n",
      "If you want the future behaviour and silence this warning, you can specify \"categories='auto'\".\n",
      "In case you used a LabelEncoder before this OneHotEncoder to convert the categories to integers, then you can now use the OneHotEncoder directly.\n",
      "  warnings.warn(msg, FutureWarning)\n"
     ]
    }
   ],
   "source": [
    "rr = column_trans.fit_transform(g1)\n",
    "#p = Pipeline([('b', Tr()),('a', column_trans)])\n",
    "#rr=p.fit_transform(g1)\n",
    "print(rr)\n",
    "print(column_trans.get_feature_names())\n",
    "#g2 = pd.DataFrame(data = rr, columns = column_trans.get_feature_names)\n",
    "#gg=Tr()\n",
    "#g1[g1.columns[0]] += 4"
   ]
  },
  {
   "cell_type": "code",
   "execution_count": 93,
   "metadata": {},
   "outputs": [
    {
     "name": "stdout",
     "output_type": "stream",
     "text": [
      "<class 'pandas.core.frame.DataFrame'>\n",
      "RangeIndex: 3 entries, 0 to 2\n",
      "Data columns (total 2 columns):\n",
      "a    3 non-null int64\n",
      "b    3 non-null object\n",
      "dtypes: int64(1), object(1)\n",
      "memory usage: 128.0+ bytes\n"
     ]
    }
   ],
   "source": [
    "g1.info()"
   ]
  },
  {
   "cell_type": "code",
   "execution_count": 73,
   "metadata": {},
   "outputs": [],
   "source": [
    "class Base:\n",
    "    def fff(self):\n",
    "        print('Base')\n",
    "class Derivative(Base):\n",
    "    pass\n"
   ]
  },
  {
   "cell_type": "code",
   "execution_count": 74,
   "metadata": {},
   "outputs": [
    {
     "name": "stdout",
     "output_type": "stream",
     "text": [
      "Base\n"
     ]
    }
   ],
   "source": [
    "v = Derivative()\n",
    "v.fff()"
   ]
  },
  {
   "cell_type": "code",
   "execution_count": 30,
   "metadata": {},
   "outputs": [],
   "source": [
    "(train, test) = GetTrainTestSets(train_path, test_path)"
   ]
  },
  {
   "cell_type": "code",
   "execution_count": 31,
   "metadata": {},
   "outputs": [],
   "source": [
    "def ProccessOutliers(train, test):\n",
    "    lx1 = (train['SalePrice'] <= 200000) & (train['GrLivArea'] >= 4000) \n",
    "    lx2 = train['LotFrontage'] > 300 \n",
    "    lx = lx1 | lx2\n",
    "    train = train[~lx]\n",
    "    return (train, test)"
   ]
  },
  {
   "cell_type": "code",
   "execution_count": 32,
   "metadata": {},
   "outputs": [],
   "source": [
    "def ProcessFeature(train, test):\n",
    "    #train['SalePrice'] = np.log1p(train['SalePrice'])\n",
    "    return (train, test)"
   ]
  },
  {
   "cell_type": "code",
   "execution_count": 33,
   "metadata": {},
   "outputs": [],
   "source": [
    "def FindRegresion(df,fld):\n",
    "    scaler = QuantileTransformer()\n",
    "    param_grid = {'alpha': [1e0,0.5, 0.1, 1e-2, 1e-3,1e-4,1e-5,1e-6],'gamma': np.logspace(-4, 2, 14)}\n",
    "    solver = GridSearchCV(KernelRidge(kernel = 'rbf'), cv=5, param_grid=param_grid)\n",
    "    #solver = linear_model.RidgeCV(alphas = np.arange(0.001, 5, 0.001))\n",
    "    \n",
    "    #param_grid = {'alpha': [5.0,3.0,2.0,1.5,1.3,1.2,1.1,1e0,0.8,0.5,0.2,0.1, 1e-2, 1e-3,1e-4,1e-5,1e-6,1e-7]}\n",
    "    #solver = GridSearchCV(Ridge(max_iter = 10000,tol = 0.00001), cv=5,param_grid=param_grid)\n",
    "    #scaler_x = RobustScaler() #make_pipeline(RobustScaler(),PowerTransformer())\n",
    "    #scaler_y = PowerTransformer()\n",
    "    scaler_x = QuantileTransformer() \n",
    "    \n",
    "    df = pd.get_dummies(df)\n",
    "    lx = df[fld].isnull()\n",
    "    dfy = df[fld]\n",
    "    dfx = df.drop(fld, axis = 1)\n",
    "    X = dfx[~lx].as_matrix().astype('float')\n",
    "    y = dfy[~lx].ravel()\n",
    "    #scaler_y = scaler_y.fit(y.reshape(-1,1))\n",
    "    #y = scaler_y.transform(y.reshape(-1,1)).ravel()\n",
    "    \n",
    "    X_train, X_test, y_train, y_test = train_test_split(X, y, test_size=0.4, random_state=0)\n",
    "    scaler_x = scaler_x.fit(X_train)\n",
    "    X_train = scaler_x.transform(X_train)\n",
    "    X_test = scaler_x.transform(X_test)\n",
    "\n",
    "    solver.fit(X_train, y_train)\n",
    "    print(solver.score(X_test, y_test))\n",
    "    X = scaler_x.fit_transform(X)\n",
    "    XX = scaler_x.transform(dfx[lx].as_matrix().astype('float'))\n",
    "    solver.fit(X, y) \n",
    "    yy = solver.predict(XX).astype('float')\n",
    "    dfy[lx] = yy#scaler_y.inverse_transform(yy.reshape(-1,1)).ravel()\n",
    "    return dfy"
   ]
  },
  {
   "cell_type": "code",
   "execution_count": 34,
   "metadata": {},
   "outputs": [],
   "source": [
    "def PreprocessAll(df):\n",
    "    df['MSSubClass'] = df['MSSubClass'].apply(str)\n",
    "    df['OverallCond'] = df['OverallCond'].astype(str)\n",
    "    df['YrSold'] = df['YrSold'].astype(str)\n",
    "    df['MoSold'] = df['MoSold'].astype(str)\n",
    "    return df"
   ]
  },
  {
   "cell_type": "code",
   "execution_count": 35,
   "metadata": {},
   "outputs": [],
   "source": [
    "def ProccessNumNans(df):\n",
    "    fld = 'LotFrontage'\n",
    "    df.loc[:,[fld]] = FindRegresion(df[['LotFrontage','Neighborhood','LotConfig','LotArea']],fld)\n",
    "    \n",
    "    lx = (df['MasVnrArea'] != 0) & (df['MasVnrType'] == 'None')\n",
    "    df.loc[lx,'MasVnrArea'] = 0.0\n",
    "    lx = (df['MasVnrArea'] == 0) & (df['MasVnrType'] != 'None')\n",
    "    df.loc[lx,'MasVnrType'] = 'None'\n",
    "    \n",
    "    numflds = ['MasVnrArea', 'BsmtFinSF1', 'BsmtFinSF2']\n",
    "    catflds = ['MasVnrType', 'BsmtFinType1','BsmtFinType2']\n",
    "\n",
    "    for (catfld, numfld) in zip(catflds,numflds):\n",
    "        lx = df[numfld].isnull()\n",
    "        tmp = df.groupby([catfld])[numfld].describe()\n",
    "        df.loc[lx,numfld] = np.sum(tmp['50%'] * tmp['count'] / tmp['count'].sum())   \n",
    "        \n",
    "    fld = 'TotalBsmtSF'\n",
    "    lx = df[fld].isnull()\n",
    "    df.loc[lx,fld] = df[lx][['BsmtFinSF1', 'BsmtFinSF2']].sum(axis = 1)\n",
    "    \n",
    "    fld = 'BsmtUnfSF'\n",
    "    lx = df[fld].isnull()\n",
    "    df.loc[lx,fld] = df[lx]['TotalBsmtSF'] - df[lx][['BsmtFinSF1', 'BsmtFinSF2']].sum(axis = 1)\n",
    "    \n",
    "    flds = ['BsmtFullBath','BsmtHalfBath'] \n",
    "    lx = df['BsmtFullBath'].isnull()\n",
    "    df.loc[lx,['BsmtFullBath','BsmtHalfBath']]= df[~lx][['BsmtFullBath','BsmtHalfBath']].mean(axis = 0).values\n",
    "    \n",
    "    lx = df['GarageYrBlt'].isnull()\n",
    "    df.loc[lx,'GarageYrBlt'] = df[lx]['YearRemodAdd']\n",
    "    lx = df['GarageCars'].isnull()\n",
    "    df.loc[lx,'GarageCars'] = df[~lx]['GarageCars'].mean()\n",
    "    lx = df['GarageArea'].isnull()\n",
    "    df.loc[lx,'GarageArea'] = df[~lx]['GarageArea'].median()\n",
    "    return df"
   ]
  },
  {
   "cell_type": "code",
   "execution_count": 36,
   "metadata": {},
   "outputs": [],
   "source": [
    "def ProccessCategoricalNans(df):\n",
    "    oldflds = []\n",
    "    newdf = pd.DataFrame()\n",
    "######################## 1) MSZoning - 'RL', 'RM', 'C (all)', 'FV', 'RH', nan ############################\n",
    "    colname = 'MSZoning'\n",
    "    oldflds.append(colname)\n",
    "    #### with Mitchel neighbor it is highly likely that zoning is 'RL' (grouping by Neighbors + BuiltYear)\n",
    "    lx=(df[colname].isnull()) & (df['Neighborhood'] == 'Mitchel')  \n",
    "    df.loc[lx,colname] = 'RL'\n",
    "    ### group by IDOTRR neighbor\n",
    "    invalidlx = df[colname].isnull() \n",
    "    idotrrlx = df['Neighborhood'] == 'IDOTRR'\n",
    "\n",
    "    tempdf = pd.get_dummies(df[colname],prefix = colname).astype(float)\n",
    "    tempdf.loc[invalidlx,:] = tempdf[idotrrlx].sum().values / tempdf[idotrrlx].sum().sum()\n",
    "    newdf[tempdf.columns] = tempdf\n",
    "######################## 2) ordered categorias\n",
    "    catflds = ['FireplaceQu','ExterQual','ExterCond','HeatingQC','PoolQC','LandSlope','LotShape',\n",
    "               'PavedDrive','Street','Alley','CentralAir','MSSubClass','OverallCond','YrSold','MoSold']\n",
    "    df['FireplaceQu'] = pd.Categorical(df['FireplaceQu'].values,  ['None','Po', 'Fa', 'TA', 'Gd', 'Ex'], ordered = True)\n",
    "    df['ExterQual'] = pd.Categorical(df['ExterQual'].values, ['Po', 'Fa', 'TA', 'Gd', 'Ex'], ordered = True)\n",
    "    df['ExterCond'] = pd.Categorical(df['ExterCond'].values, ['Po', 'Fa', 'TA', 'Gd', 'Ex'], ordered = True)\n",
    "    df['HeatingQC'] = pd.Categorical(df['HeatingQC'].values, ['Po', 'Fa', 'TA', 'Gd', 'Ex'], ordered = True)\n",
    "    df['PoolQC'] = pd.Categorical(df['PoolQC'].values, ['None', 'Fa', 'TA', 'Gd', 'Ex'], ordered = True)\n",
    "    df['LandSlope'] = pd.Categorical(df['LandSlope'].values, ['Sev', 'Mod', 'Gtl'], ordered = True)\n",
    "    df['LotShape'] = pd.Categorical(df['LotShape'].values, ['Reg', 'IR1', 'IR2', 'IR3'], ordered = True)\n",
    "    df['PavedDrive'] = pd.Categorical(df['PavedDrive'].values, ['N', 'P', 'Y'], ordered = True)\n",
    "    df['Street'] = pd.Categorical(df['Street'].values, ['Grvl','Pave'], ordered = True)\n",
    "    df['Alley'] = pd.Categorical(df['Alley'].values, ['None', 'Grvl', 'Pave'], ordered = True)\n",
    "    df['CentralAir'] = pd.Categorical(df['CentralAir'].values, ['N', 'Y'], ordered = True)\n",
    "    df['MSSubClass'] = pd.Categorical(df['MSSubClass'].values, ['20','30','40','45','50','60','70','75','80','85','90','120','150','160','180','190'], ordered = True)\n",
    "    df['OverallCond'] = pd.Categorical(df['OverallCond'].values, ['1','2','3','4','5','6','7','8','9'], ordered = True)\n",
    "    df['YrSold'] = pd.Categorical(df['YrSold'].values, ['2006','2007','2008','2009','2010'], ordered = True)\n",
    "    df['MoSold'] = pd.Categorical(df['MoSold'].values, ['1','2','3','4','5','6','7','8','9','10','11','12'], ordered = True)\n",
    "\n",
    "    nanflds = ['BsmtQual', 'BsmtCond', 'BsmtExposure', 'BsmtFinType1', 'BsmtFinType2','KitchenQual',\n",
    "               'GarageFinish', 'GarageQual','GarageCond']\n",
    "    df['BsmtQual'] = pd.Categorical(df['BsmtQual'].values, ['None', 'Po', 'Fa', 'TA', 'Gd', 'Ex'], ordered = True)\n",
    "    df['BsmtCond'] = pd.Categorical(df['BsmtCond'].values, ['None', 'Po', 'Fa', 'TA', 'Gd', 'Ex'], ordered = True)\n",
    "    df['BsmtExposure'] = pd.Categorical(df['BsmtExposure'].values, ['None', 'No', 'Mn', 'Av', 'Gd'], ordered = True)\n",
    "    df['BsmtFinType1'] = pd.Categorical(df['BsmtFinType1'].values, ['None','Unf','LwQ', 'Rec','BLQ','ALQ','GLQ'], ordered = True)\n",
    "    df['BsmtFinType2'] = pd.Categorical(df['BsmtFinType2'].values, ['None','Unf','LwQ', 'Rec','BLQ','ALQ','GLQ'], ordered = True)\n",
    "    df['KitchenQual'] = pd.Categorical(df['KitchenQual'].values, ['Po', 'Fa', 'TA', 'Gd', 'Ex'], ordered = True)\n",
    "    df['GarageFinish'] = pd.Categorical(df['GarageFinish'].values, ['None', 'Unf', 'RFn', 'Fin'], ordered = True)\n",
    "    df['GarageQual'] = pd.Categorical(df['GarageQual'].values, ['None', 'Po', 'Fa', 'TA', 'Gd', 'Ex'], ordered = True)\n",
    "    df['GarageCond'] = pd.Categorical(df['GarageCond'].values, ['None', 'Po', 'Fa', 'TA', 'Gd', 'Ex'], ordered = True)\n",
    "    df.loc[:,catflds + nanflds] = df[catflds + nanflds].apply(lambda x: x.cat.codes).astype('float')\n",
    "    for fld in nanflds:\n",
    "        lx = df[fld] < 0.0\n",
    "        df.loc[lx,fld] = df[~lx][fld].mean()\n",
    "######################## 3) 'Exterior1st', 'Exterior2nd','MasVnrType','Electrical','KitchenQual'#############\n",
    "########################'BsmtQual', 'BsmtCond','BsmtExposure','BsmtFinType1','BsmtFinType2'##################\n",
    "######################## 'Functional','GarageType', 'GarageFinish', 'GarageQual','GarageCond'################\n",
    "######################## 'PoolQC','SaleType'#################################################################   \n",
    "    catflds = ['Exterior1st','Exterior2nd','MasVnrType','Electrical','GarageType','SaleType','Functional']\n",
    "    for fld in catflds:\n",
    "        lx = df[fld].isnull()\n",
    "        oldflds.append(fld)\n",
    "        tmp = pd.get_dummies(df[fld],prefix = fld).astype(float)\n",
    "        tmp.loc[lx,:] = tmp[~lx].sum().values / tmp[~lx].sum().sum()\n",
    "        newdf[tmp.columns] = tmp\n",
    "    df = df.drop(labels = oldflds,axis = 1)\n",
    "    df[newdf.columns] = newdf\n",
    "    df = pd.get_dummies(df).astype(float)\n",
    "    return df"
   ]
  },
  {
   "cell_type": "code",
   "execution_count": 37,
   "metadata": {},
   "outputs": [],
   "source": [
    "def FormatAndSave(df):\n",
    "    processed_data_path = os.path.join(os.path.pardir,'data','processed')\n",
    "    write_train_path = os.path.join(processed_data_path, 'train.csv')\n",
    "    write_test_path = os.path.join(processed_data_path, 'test.csv')\n",
    "    train_df = df[df['SalePrice'] != 0]\n",
    "    train_df.loc[:,'Id'] = train_df['Id'].astype('int32').values\n",
    "    test_df = df[df['SalePrice'] == 0]\n",
    "    test_df = test_df.drop(labels = 'SalePrice',axis = 1)\n",
    "    test_df.loc[:,'Id'] = test_df['Id'].astype('int32').values\n",
    "    train_df.to_csv(write_train_path)\n",
    "    test_df.to_csv(write_test_path) \n",
    "    return (df,train_df,test_df)"
   ]
  },
  {
   "cell_type": "code",
   "execution_count": 38,
   "metadata": {},
   "outputs": [],
   "source": [
    "def GetResultData(train_path, test_path):\n",
    "    (train, test) = GetTrainTestSets(train_path, test_path)\n",
    "    (train, test) = ProccessOutliers(train, test)\n",
    "    (train, test) = ProcessFeature(train, test)\n",
    "    train1 = train\n",
    "    test1 = test\n",
    "    test['SalePrice'] = 0\n",
    "    return (train.append(test), train1, test1)"
   ]
  },
  {
   "cell_type": "code",
   "execution_count": 39,
   "metadata": {},
   "outputs": [
    {
     "name": "stderr",
     "output_type": "stream",
     "text": [
      "C:\\Users\\PLDD\\Anaconda3\\lib\\site-packages\\ipykernel_launcher.py:17: FutureWarning: Method .as_matrix will be removed in a future version. Use .values instead.\n",
      "C:\\Users\\PLDD\\Anaconda3\\lib\\site-packages\\sklearn\\model_selection\\_search.py:841: DeprecationWarning: The default of the `iid` parameter will change from True to False in version 0.22 and will be removed in 0.24. This will change numeric results when test-set sizes are unequal.\n",
      "  DeprecationWarning)\n"
     ]
    },
    {
     "name": "stdout",
     "output_type": "stream",
     "text": [
      "0.5735878919174737\n"
     ]
    },
    {
     "name": "stderr",
     "output_type": "stream",
     "text": [
      "C:\\Users\\PLDD\\Anaconda3\\lib\\site-packages\\ipykernel_launcher.py:30: FutureWarning: Method .as_matrix will be removed in a future version. Use .values instead.\n",
      "C:\\Users\\PLDD\\Anaconda3\\lib\\site-packages\\ipykernel_launcher.py:33: SettingWithCopyWarning: \n",
      "A value is trying to be set on a copy of a slice from a DataFrame\n",
      "\n",
      "See the caveats in the documentation: http://pandas.pydata.org/pandas-docs/stable/indexing.html#indexing-view-versus-copy\n",
      "C:\\Users\\PLDD\\Anaconda3\\lib\\site-packages\\pandas\\core\\indexing.py:630: SettingWithCopyWarning: \n",
      "A value is trying to be set on a copy of a slice from a DataFrame.\n",
      "Try using .loc[row_indexer,col_indexer] = value instead\n",
      "\n",
      "See the caveats in the documentation: http://pandas.pydata.org/pandas-docs/stable/indexing.html#indexing-view-versus-copy\n",
      "  self.obj[item_labels[indexer[info_axis]]] = value\n"
     ]
    }
   ],
   "source": [
    "(df, train, test) = GetResultData(train_path, test_path)\n",
    "#df = ProccessNumNans(df)\n",
    "(df, train, test) = df.pipe(PreprocessAll).pipe(ProccessNumNans).pipe(ProccessCategoricalNans).pipe(FormatAndSave)\n",
    "#best score = 0.627"
   ]
  },
  {
   "cell_type": "code",
   "execution_count": 49,
   "metadata": {},
   "outputs": [],
   "source": [
    "import matplotlib as mtl"
   ]
  },
  {
   "cell_type": "code",
   "execution_count": 50,
   "metadata": {},
   "outputs": [
    {
     "data": {
      "text/plain": [
       "'C:\\\\Users\\\\PLDD\\\\Anaconda3\\\\lib\\\\site-packages\\\\matplotlib\\\\mpl-data\\\\matplotlibrc'"
      ]
     },
     "execution_count": 50,
     "metadata": {},
     "output_type": "execute_result"
    }
   ],
   "source": [
    "mtl.matplotlib_fname()"
   ]
  },
  {
   "cell_type": "code",
   "execution_count": 132,
   "metadata": {},
   "outputs": [
    {
     "data": {
      "text/plain": [
       "<seaborn.axisgrid.JointGrid at 0x1a0dae322b0>"
      ]
     },
     "execution_count": 132,
     "metadata": {},
     "output_type": "execute_result"
    },
    {
     "data": {
      "image/png": "[encoded data removed]",
      "text/plain": [
       "<matplotlib.figure.Figure at 0x1a0dae326a0>"
      ]
     },
     "metadata": {},
     "output_type": "display_data"
    }
   ],
   "source": [
    "y = train['SalePrice'].values\n",
    "sns.JointGrid(x = 'SalePrice', y = 'GrLivArea', data=train[['SalePrice','GrLivArea']]).plot(sns.scatterplot, sns.distplot)"
   ]
  },
  {
   "cell_type": "code",
   "execution_count": 135,
   "metadata": {},
   "outputs": [
    {
     "data": {
      "text/html": [
       "<div>\n",
       "<style scoped>\n",
       "    .dataframe tbody tr th:only-of-type {\n",
       "        vertical-align: middle;\n",
       "    }\n",
       "\n",
       "    .dataframe tbody tr th {\n",
       "        vertical-align: top;\n",
       "    }\n",
       "\n",
       "    .dataframe thead th {\n",
       "        text-align: right;\n",
       "    }\n",
       "</style>\n",
       "<table border=\"1\" class=\"dataframe\">\n",
       "  <thead>\n",
       "    <tr style=\"text-align: right;\">\n",
       "      <th></th>\n",
       "      <th>SalePrice</th>\n",
       "      <th>GrLivArea</th>\n",
       "    </tr>\n",
       "  </thead>\n",
       "  <tbody>\n",
       "    <tr>\n",
       "      <th>SalePrice</th>\n",
       "      <td>1.000000</td>\n",
       "      <td>0.734842</td>\n",
       "    </tr>\n",
       "    <tr>\n",
       "      <th>GrLivArea</th>\n",
       "      <td>0.734842</td>\n",
       "      <td>1.000000</td>\n",
       "    </tr>\n",
       "  </tbody>\n",
       "</table>\n",
       "</div>"
      ],
      "text/plain": [
       "           SalePrice  GrLivArea\n",
       "SalePrice   1.000000   0.734842\n",
       "GrLivArea   0.734842   1.000000"
      ]
     },
     "execution_count": 135,
     "metadata": {},
     "output_type": "execute_result"
    }
   ],
   "source": [
    "train[['SalePrice','GrLivArea']].corr()"
   ]
  },
  {
   "cell_type": "code",
   "execution_count": null,
   "metadata": {},
   "outputs": [],
   "source": [
    "flds =['SalePrice','GrLivArea', 'GarageArea', 'LotArea', 'TotalBsmtSF', '1stFlrSF', '2ndFlrSF']\n",
    "#sns.PairGrid(train[flds]).map(plt.scatter)\n",
    "cor = train.corr()\n",
    "#sns.distplot(cor['SalePrice'])\n",
    "cor['SalePrice']"
   ]
  },
  {
   "cell_type": "markdown",
   "metadata": {},
   "source": [
    "#  Build model"
   ]
  },
  {
   "cell_type": "code",
   "execution_count": 326,
   "metadata": {},
   "outputs": [],
   "source": [
    "processed_data_path = os.path.join(os.path.pardir,'data','processed')\n",
    "train_path = os.path.join(processed_data_path, 'train.csv')\n",
    "test_path = os.path.join(processed_data_path, 'test.csv')\n",
    "train_df = pd.read_csv(train_path)\n",
    "test_df = pd.read_csv(test_path)\n",
    "test_df = test_df.drop(labels = ['Unnamed: 0'],axis = 1)\n",
    "train_df = train_df.drop(labels = ['Id','Unnamed: 0'],axis = 1)"
   ]
  },
  {
   "cell_type": "code",
   "execution_count": 327,
   "metadata": {},
   "outputs": [],
   "source": [
    "def linear_ml_solve(train_df, test_df, scaler, solver, q = 0.4, target = 'temp.csv'):\n",
    "    collx = train_df.columns != 'SalePrice'\n",
    "    X = train_df.loc[:,collx ].as_matrix().astype('float')\n",
    "    y = train_df['SalePrice'].ravel()\n",
    "    scaler_y = RobustScaler()#PowerTransformer()\n",
    "    scaler_y = scaler_y.fit(y.reshape(-1,1))\n",
    "    #y = scaler_y.transform(y.reshape(-1,1))\n",
    "    y = np.log1p(y)\n",
    "    \n",
    "    X_train, X_test, y_train, y_test = train_test_split(X, y, test_size=q, random_state=0)\n",
    "    #scaler = scaler.fit(X_train)\n",
    "    X_train = scaler.fit_transform(X_train)\n",
    "    sscore = 0.0\n",
    "    if q != 0:\n",
    "        X_test = scaler.transform(X_test)\n",
    "        solver.fit(X_train, y_train)\n",
    "        sscore = solver.score(X_test, y_test)\n",
    "    else: \n",
    "        print(\"No test subsets!!!!\")\n",
    "    scaler = scaler.fit(X) \n",
    "    X = scaler.transform(X)  \n",
    "    ids = test_df['Id'].values\n",
    "    test_df = test_df.drop(labels = 'Id',axis = 1)\n",
    "    XX = scaler.transform(test_df.as_matrix().astype('float'))\n",
    "    solver.fit(X, y) \n",
    "    pred_y = solver.predict(XX).astype('float')\n",
    "    df_submission = pd.DataFrame({'Id': ids, 'SalePrice' : np.exp(pred_y) - 1.0} )\n",
    "    #df_submission = pd.DataFrame({'Id': ids, 'SalePrice' : scaler_y.inverse_transform(pred_y.reshape(-1,1)).ravel()} )\n",
    "    submission_data_path = os.path.join(os.path.pardir,'data','external')\n",
    "    submission_file_path = os.path.join(submission_data_path, target)\n",
    "    df_submission.to_csv(submission_file_path, index=False)\n",
    "    print(sscore)\n",
    "    return (df_submission, solver, sscore) "
   ]
  },
  {
   "cell_type": "code",
   "execution_count": 328,
   "metadata": {},
   "outputs": [],
   "source": [
    "#Validation function\n",
    "def rmsle_cv(model):\n",
    "    kf = KFold(5, shuffle=True, random_state=42).get_n_splits(train.values)\n",
    "    rmse= np.sqrt(-cross_val_score(model, train.values, y_train, scoring=\"neg_mean_squared_error\", cv = kf))\n",
    "    return(rmse)"
   ]
  },
  {
   "cell_type": "markdown",
   "metadata": {},
   "source": [
    "# Preprocessing Scaling"
   ]
  },
  {
   "cell_type": "code",
   "execution_count": 329,
   "metadata": {},
   "outputs": [],
   "source": [
    "scaler1 = StandardScaler()\n",
    "scaler2 = MinMaxScaler()\n",
    "scaler3 = RobustScaler()\n",
    "scaler4 = Normalizer()\n",
    "scaler5 = QuantileTransformer()\n",
    "scaler6 = PowerTransformer()\n",
    "scaler7 = make_pipeline(RobustScaler(), PowerTransformer())"
   ]
  },
  {
   "cell_type": "markdown",
   "metadata": {},
   "source": [
    "# ML"
   ]
  },
  {
   "cell_type": "code",
   "execution_count": 282,
   "metadata": {},
   "outputs": [
    {
     "name": "stderr",
     "output_type": "stream",
     "text": [
      "C:\\Users\\PLDD\\Anaconda3\\lib\\site-packages\\sklearn\\model_selection\\_search.py:841: DeprecationWarning: The default of the `iid` parameter will change from True to False in version 0.22 and will be removed in 0.24. This will change numeric results when test-set sizes are unequal.\n",
      "  DeprecationWarning)\n"
     ]
    },
    {
     "name": "stdout",
     "output_type": "stream",
     "text": [
      "0.9156653808926848\n",
      "{'alpha': 7.0}\n",
      "0.9163517290520821\n"
     ]
    },
    {
     "name": "stderr",
     "output_type": "stream",
     "text": [
      "C:\\Users\\PLDD\\Anaconda3\\lib\\site-packages\\sklearn\\model_selection\\_search.py:841: DeprecationWarning: The default of the `iid` parameter will change from True to False in version 0.22 and will be removed in 0.24. This will change numeric results when test-set sizes are unequal.\n",
      "  DeprecationWarning)\n"
     ]
    }
   ],
   "source": [
    "#Ridge Linear Regresion\n",
    "param_grid = {'alpha': [7.0,6.0,5.0,3.0,2.0,1.5,1.3,1.2,1.1,1.001,0.8,0.5,0.2,0.1, 1e-2, 1e-3,1e-4,1e-5,1e-6,1e-7]}\n",
    "solver = GridSearchCV(Ridge(max_iter = 10000,tol = 0.00001), cv=5,param_grid=param_grid)\n",
    "scaler = RobustScaler()\n",
    "(ridgedm, ridgesolver, ridgescore) = linear_ml_solve(train_df, test_df, scaler, solver, 0.4,'Ridged.csv')\n",
    "print(ridgesolver.best_params_)\n",
    "print(ridgesolver.best_score_)\n",
    "#max score = 0.9158041549014316"
   ]
  },
  {
   "cell_type": "code",
   "execution_count": 332,
   "metadata": {},
   "outputs": [
    {
     "name": "stdout",
     "output_type": "stream",
     "text": [
      "0.9183152160821689\n"
     ]
    }
   ],
   "source": [
    "#Lasso Linear Regresion\n",
    "#param_grid = {'alpha': [5.0,3.0,2.0,1.5,1.3,1.2,1.1,1e0,0.8,0.5,0.2,0.1, 1e-2,0.05,1e-3,0.005, 1e-4,0.0005, 1e-5,0.000051e-6,1e-7]}\n",
    "param_grid = {'alpha': [ 0.04,0.03, 0.02,0.001, 0.000888889, 0.0008]}\n",
    "solver = GridSearchCV(Lasso(max_iter = 25000,tol = 0.000001), cv=5,param_grid=param_grid)\n",
    "solver = Lasso(max_iter = 25000,tol = 0.000001, alpha = 0.000888889)\n",
    "scaler = RobustScaler()\n",
    "(lassom, lassomsolver, lassomscore) = linear_ml_solve(train_df, test_df, scaler, solver, 0.4,'Lasso.csv')\n",
    "#print(lassomsolver.best_params_)\n",
    "#print(lassomsolver.best_score_)\n",
    "#max score = 0.9183107282670468\n",
    "#0.00089 0.9183148121017135\n",
    "#0.000889 0.9183151760580683\n",
    "#alpha = 0.000888889 score = 0.9183152160821689"
   ]
  },
  {
   "cell_type": "code",
   "execution_count": 341,
   "metadata": {},
   "outputs": [
    {
     "name": "stdout",
     "output_type": "stream",
     "text": [
      "0.9183152193227974\n",
      "{'alpha': 0.00088888}\n",
      "0.9193322693422967\n"
     ]
    }
   ],
   "source": [
    "#LassoLARS Linear Regresion\n",
    "param_grid = {'alpha': [5.0,3.0,2.0,1.5,1.3,1.2,1.1,1e0,0.8,0.5,0.2,0.1, 1e-2,0.05,1e-3,0.005, 1e-4,0.0005, 1e-5,0.000051e-6,1e-7]}\n",
    "param_grid = {'alpha': [0.001, 0.00088888]}\n",
    "solver = GridSearchCV(Lasso(max_iter = 25000,tol = 0.000001), cv=5,param_grid=param_grid)\n",
    "#solver = LassoLars(max_iter = 25000,alpha = 0.00088888)\n",
    "scaler = RobustScaler()\n",
    "(lassolarsm, lassolarsmsolver, lassolarsmscore) = linear_ml_solve(train_df, test_df, scaler, solver, 0.4,'LassoLars.csv')\n",
    "print(lassolarsmsolver.best_params_)\n",
    "print(lassolarsmsolver.best_score_)"
   ]
  },
  {
   "cell_type": "code",
   "execution_count": null,
   "metadata": {},
   "outputs": [],
   "source": [
    "#LassoLarsIC Linear Regresion\n",
    "solver = LassoLarsIC(max_iter = 25000, criterion = 'aic')\n",
    "scaler = RobustScaler()\n",
    "lassolarsICm = linear_ml_solve(train_df, test_df, scaler, solver, 0.4,'LassoLarsIC.csv')\n",
    "#max score = 0.8964009621989726"
   ]
  },
  {
   "cell_type": "code",
   "execution_count": null,
   "metadata": {},
   "outputs": [],
   "source": [
    "[x for x in np.logspace(start = 0.0001, stop = 0.99, num=100)]"
   ]
  },
  {
   "cell_type": "code",
   "execution_count": null,
   "metadata": {},
   "outputs": [],
   "source": [
    "#ElasticNet Regresion\n",
    "param_grid = {'alpha': [5.0,3.0,2.0,1.5,1.3,1.2,1.1,1e0,0.99,0.9,0.8,0.6,0.5,0.4,0.3,0.25,0.2,0.1, 1e-2,0.05,1e-3,0.005, 1e-4,0.0005, 1e-5,0.000051e-6,1e-7],\n",
    "             'l1_ratio' : [1e-3,5e-3,1e-2,5e-2,0.1,0.2,0.25,0.3,0.4,0.5,0.55,0.6,0.65,0.7,0.75,0.8,0.85,0.9,0.901,0.91,0.92,0.93,0.94,0.95,0.96,0.97,0.98,0.99,0.995,0.999]}\n",
    "solver = GridSearchCV(ElasticNet(max_iter = 25000,tol = 0.00001), cv=5,param_grid=param_grid)\n",
    "print(solver.estimator.alpha)\n",
    "scaler = RobustScaler()\n",
    "elastic_net_m = linear_ml_solve(train_df, test_df, scaler, solver, 0.4,'ElasticNet.csv')\n",
    "#max_score = 0.9183288770325282"
   ]
  },
  {
   "cell_type": "code",
   "execution_count": null,
   "metadata": {},
   "outputs": [],
   "source": [
    "solver1 = linear_model.RidgeCV(alphas = np.arange(0.001, 5, 0.001))\n",
    "solver2 = linear_model.LassoCV()\n",
    "solver3 = linear_model.ElasticNetCV(alphas = np.arange(0.001, 5, 0.001), max_iter = 20000 )\n",
    "solver4 = linear_model.BayesianRidge()\n",
    "solver6 = linear_model.PassiveAggressiveRegressor(C = 10,tol = 0.00001, max_iter = 50000)\n",
    "solver7 = linear_model.HuberRegressor(max_iter=10000)\n",
    "solver8 = Pipeline([('poly', PolynomialFeatures(degree=2)),  ('linear', solver1)])\n",
    "\n",
    "param_grid = {\n",
    "    'alpha': [1e0,0.5, 0.1, 1e-2, 1e-3,1e-4,1e-5,1e-6],\n",
    "    'gamma': np.logspace(-4, 2, 14)\n",
    "}\n",
    "solver5_1 = GridSearchCV(KernelRidge(kernel = 'polynomial',degree = 80), cv=8, param_grid=param_grid)\n",
    "solver5_2 = GridSearchCV(KernelRidge(kernel = 'rbf'), cv=8, param_grid=param_grid)"
   ]
  },
  {
   "cell_type": "code",
   "execution_count": null,
   "metadata": {},
   "outputs": [],
   "source": [
    "\n",
    "subm = linear_ml_solve(train_df, test_df, scaler5, solver2, 0.4,'11_LassoCV.csv')"
   ]
  }
 ],
 "metadata": {
  "kernelspec": {
   "display_name": "Python 3",
   "language": "python",
   "name": "python3"
  },
  "language_info": {
   "codemirror_mode": {
    "name": "ipython",
    "version": 3
   },
   "file_extension": ".py",
   "mimetype": "text/x-python",
   "name": "python",
   "nbconvert_exporter": "python",
   "pygments_lexer": "ipython3",
   "version": "3.7.1"
  }
 },
 "nbformat": 4,
 "nbformat_minor": 2
}
