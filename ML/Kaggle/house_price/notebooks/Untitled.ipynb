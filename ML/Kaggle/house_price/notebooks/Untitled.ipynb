{
 "cells": [
  {
   "cell_type": "code",
   "execution_count": 4,
   "metadata": {},
   "outputs": [],
   "source": [
    "import pandas as pd\n",
    "import numpy as np\n",
    "import matplotlib.pyplot as plt\n",
    "import os\n",
    "import sklearn as skl\n",
    "from sklearn.linear_model import ElasticNet, Lasso, LassoLars,  BayesianRidge, LassoLarsIC, Ridge\n",
    "import copy\n",
    "import sys"
   ]
  },
  {
   "cell_type": "code",
   "execution_count": 5,
   "metadata": {},
   "outputs": [
    {
     "data": {
      "text/plain": [
       "'C:\\\\Users\\\\PLDD\\\\Anaconda3\\\\envs\\\\house_price\\\\lib\\\\site-packages\\\\pandas\\\\__init__.py'"
      ]
     },
     "execution_count": 5,
     "metadata": {},
     "output_type": "execute_result"
    }
   ],
   "source": [
    "pd.__file__"
   ]
  },
  {
   "cell_type": "code",
   "execution_count": 9,
   "metadata": {},
   "outputs": [],
   "source": [
    "from src.models.ConvexRegressor import ConvexRegressor"
   ]
  },
  {
   "cell_type": "code",
   "execution_count": 7,
   "metadata": {},
   "outputs": [
    {
     "data": {
      "text/plain": [
       "['C:\\\\Users\\\\PLDD\\\\Practice\\\\GitHub\\\\Python\\\\ML\\\\Kaggle\\\\house_price\\\\notebooks',\n",
       " 'C:\\\\Users\\\\PLDD\\\\Anaconda3\\\\envs\\\\house_price\\\\python37.zip',\n",
       " 'C:\\\\Users\\\\PLDD\\\\Anaconda3\\\\envs\\\\house_price\\\\DLLs',\n",
       " 'C:\\\\Users\\\\PLDD\\\\Anaconda3\\\\envs\\\\house_price\\\\lib',\n",
       " 'C:\\\\Users\\\\PLDD\\\\Anaconda3\\\\envs\\\\house_price',\n",
       " '',\n",
       " 'C:\\\\Users\\\\PLDD\\\\Anaconda3\\\\envs\\\\house_price\\\\lib\\\\site-packages',\n",
       " 'C:\\\\Users\\\\PLDD\\\\Anaconda3\\\\envs\\\\house_price\\\\lib\\\\site-packages\\\\IPython\\\\extensions',\n",
       " 'C:\\\\Users\\\\PLDD\\\\.ipython']"
      ]
     },
     "execution_count": 7,
     "metadata": {},
     "output_type": "execute_result"
    }
   ],
   "source": [
    "os.sys.path"
   ]
  },
  {
   "cell_type": "code",
   "execution_count": 8,
   "metadata": {},
   "outputs": [],
   "source": [
    "os.sys.path.append('C:\\\\Users\\\\PLDD\\\\Practice\\\\GitHub\\\\Python\\\\ML\\\\Kaggle\\\\house_price')"
   ]
  },
  {
   "cell_type": "code",
   "execution_count": 18,
   "metadata": {},
   "outputs": [
    {
     "data": {
      "text/plain": [
       "'..'"
      ]
     },
     "execution_count": 18,
     "metadata": {},
     "output_type": "execute_result"
    }
   ],
   "source": [
    "os.path.pardir"
   ]
  },
  {
   "cell_type": "code",
   "execution_count": null,
   "metadata": {},
   "outputs": [],
   "source": []
  }
 ],
 "metadata": {
  "kernelspec": {
   "display_name": "Python 3",
   "language": "python",
   "name": "python3"
  },
  "language_info": {
   "codemirror_mode": {
    "name": "ipython",
    "version": 3
   },
   "file_extension": ".py",
   "mimetype": "text/x-python",
   "name": "python",
   "nbconvert_exporter": "python",
   "pygments_lexer": "ipython3",
   "version": "3.7.3"
  }
 },
 "nbformat": 4,
 "nbformat_minor": 2
}
