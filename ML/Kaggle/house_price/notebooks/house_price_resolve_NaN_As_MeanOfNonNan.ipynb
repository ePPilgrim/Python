{
 "cells": [
  {
   "cell_type": "markdown",
   "metadata": {},
   "source": [
    "# Implement data handling of learning data"
   ]
  },
  {
   "cell_type": "code",
   "execution_count": 2,
   "metadata": {
    "collapsed": true
   },
   "outputs": [],
   "source": [
    "import pandas as pd\n",
    "import numpy as np\n",
    "import matplotlib.pyplot as plt\n",
    "import os"
   ]
  },
  {
   "cell_type": "code",
   "execution_count": 3,
   "metadata": {},
   "outputs": [],
   "source": [
    "get_processed_data_script_file = os.path.join(os.path.pardir,'src','data','get_processed_data.py')"
   ]
  },
  {
   "cell_type": "code",
   "execution_count": 39,
   "metadata": {},
   "outputs": [
    {
     "name": "stdout",
     "output_type": "stream",
     "text": [
      "Overwriting ..\\src\\data\\get_processed_data.py\n"
     ]
    }
   ],
   "source": [
    "%%writefile $get_processed_data_script_file\n",
    "import pandas as pd\n",
    "import numpy as np\n",
    "import matplotlib.pyplot as plt\n",
    "import os\n",
    "\n",
    "def CreateDataFrame(df):\n",
    "    project_dir = 'C:\\\\Users\\\\PLDD\\\\python\\\\Python\\\\ML\\\\Kaggle\\\\house_price'\n",
    "    raw_path = os.path.join(project_dir,'data','raw')\n",
    "    train_path = os.path.join(raw_path, 'train.csv')\n",
    "    test_path = os.path.join(raw_path, 'test.csv')\n",
    "    train_df = pd.read_csv(train_path)\n",
    "    test_df = pd.read_csv(test_path)\n",
    "    test_df['SalePrice'] = 0.0\n",
    "    df = train_df.append(test_df)\n",
    "    df.index = list(range(train_df.index.size + test_df.index.size))\n",
    "################# 2916 out of 2919 Utilities are AllPub so i think it should be droped off\n",
    "    df = df.drop('Utilities', axis = 1)\n",
    "############### Handle basment information - replace nan with no_basment or zero quatity\n",
    "    catbsmflds = ['BsmtQual', 'BsmtCond','BsmtExposure','BsmtFinType1','BsmtFinType2']\n",
    "    ambsmflds = ['BsmtFinSF1','BsmtFinSF2','TotalBsmtSF','BsmtUnfSF','BsmtFullBath','BsmtHalfBath']\n",
    "    lx = df[catbsmflds].isnull().all(axis = 1) \n",
    "    lx = lx & (df['TotalBsmtSF']==0.0)\n",
    "    df.loc[lx,catbsmflds] = 'NoBsm'\n",
    "    df.loc[lx,ambsmflds] = 0.0\n",
    "############### Handle garage information - replace nan with no_garage or zero quatity    \n",
    "    catflds = ['GarageType', 'GarageFinish', 'GarageQual','GarageCond']\n",
    "    yearfld = 'GarageYrBlt'\n",
    "    amtfld = 'GarageArea'\n",
    "    lx = (df[catflds].isnull().all(axis = 1)) & (df[amtfld]==0.0)\n",
    "    df.loc[lx,catflds] = 'NoGarage'\n",
    "    df.loc[lx,yearfld] = 0\n",
    "############### Handle Pool information - replace nan with no_pool or zero quatity    \n",
    "    catfld = 'PoolQC'\n",
    "    amtfld = 'PoolArea'\n",
    "    lx = (df[catfld].isnull())& (df[amtfld]==0.0)\n",
    "    df.loc[lx,catfld] = 'NoPool'\n",
    "############### Handle FireplaceQu nan - it is only no fireplace #################################\n",
    "    fld = 'FireplaceQu'\n",
    "    lx = df['Fireplaces'] == 0\n",
    "    df.loc[lx,fld] = 'NoFireplace'\n",
    "############### Handle 'Fence', 'MiscFeature' - just replace it with NoFence or feature###########    \n",
    "    flds =['Fence', 'MiscFeature']\n",
    "    df.loc[:,flds] = df[flds].fillna(value = 'Noooo')\n",
    "    return df\n",
    "##################################################################################################################\n",
    "def ResolveNaN(df):\n",
    "    oldflds = []\n",
    "    newdf = pd.DataFrame()\n",
    "######################## 1) MSZoning - 'RL', 'RM', 'C (all)', 'FV', 'RH', nan ################################\n",
    "    colname = 'MSZoning'\n",
    "    oldflds.append(colname)\n",
    "    #### with Mitchel neighbor it is highly likely that zoning is 'RL' (grouping by Neighbors + BuiltYear)\n",
    "    lx=(df[colname].isnull()) & (df['Neighborhood'] == 'Mitchel')  \n",
    "    df.loc[lx,colname] = 'RL'\n",
    "    ### group by IDOTRR neighbor\n",
    "    invalidlx = df[colname].isnull() \n",
    "    idotrrlx = df['Neighborhood'] == 'IDOTRR'\n",
    "\n",
    "    tempdf = pd.get_dummies(df[colname],prefix = colname).astype(float)\n",
    "    tempdf.loc[invalidlx,:] = tempdf[idotrrlx].sum().values / tempdf[idotrrlx].sum().sum()\n",
    "    newdf[tempdf.columns] = tempdf\n",
    "######################## 2) LotFrontage - float value, nan ################################ \n",
    "    #Exclude this field from ML - base on the idea that Lot Area is more important parameter than LotFrontage\n",
    "    colnames = ['LotFrontage','GarageCars']\n",
    "    oldflds += colnames\n",
    "######################## 3) Alley  - nan, 'Grvl', 'Pave' ################################ \n",
    "    colname = 'Alley'\n",
    "    oldflds.append(colname)\n",
    "    tempdf = pd.get_dummies(df[colname],prefix = colname,dummy_na = True).astype(float)\n",
    "    newdf[tempdf.columns] = tempdf\n",
    "######################## 4) 'Exterior1st', 'Exterior2nd','MasVnrType','Electrical','KitchenQual'#############\n",
    "########################'BsmtQual', 'BsmtCond','BsmtExposure','BsmtFinType1','BsmtFinType2'##################\n",
    "######################## 'Functional','GarageType', 'GarageFinish', 'GarageQual','GarageCond'################\n",
    "######################## 'PoolQC','SaleType'#################################################################   \n",
    "    colnames = ['Exterior1st','Exterior2nd','MasVnrType','Electrical','KitchenQual',\n",
    "                'BsmtQual','BsmtCond','BsmtExposure','BsmtFinType1','BsmtFinType2',\n",
    "               'Functional','GarageType', 'GarageFinish', 'GarageQual','GarageCond',\n",
    "               'PoolQC','SaleType']\n",
    "    for colname in colnames:\n",
    "        lx = df[colname].isnull()\n",
    "        oldflds.append(colname)\n",
    "        tempdf = pd.get_dummies(df[colname],prefix = colname).astype(float)\n",
    "        tempdf.loc[lx,:] = tempdf[~lx].sum().values / tempdf[~lx].sum().sum()\n",
    "        newdf[tempdf.columns] = tempdf\n",
    "####################### 5) Mean apprx - 'MasVnrArea','BsmtFullBath','BsmtHalfBath'###########################\n",
    "    colnames = ['MasVnrArea','BsmtFullBath','BsmtHalfBath']\n",
    "    for colname in colnames:\n",
    "        lx = df[colname].isnull()\n",
    "        df.loc[lx,colname] = df[~lx][colname].mean()\n",
    "\n",
    "####################### 6) Median apprx - 'BsmtFinSF1','BsmtFinSF2','TotalBsmtSF','BsmtUnfSF','GarageArea'###\n",
    "    colnames = ['BsmtFinSF1','BsmtFinSF2','TotalBsmtSF','BsmtUnfSF','GarageArea']\n",
    "    for colname in colnames:\n",
    "        lx = df[colname].isnull()\n",
    "        df.loc[lx,colname] = df[~lx][colname].median()\n",
    "##################### 7) 'GarageYrBlt'####################################################################### \n",
    "    colname = 'GarageYrBlt'\n",
    "    lx = df[colname].isnull()\n",
    "    df.loc[lx,colname] = df[lx]['YearBuilt']\n",
    "    \n",
    "    df = df.drop(labels = oldflds,axis = 1)\n",
    "    df[newdf.columns] = newdf\n",
    "################################################Convert int and Objects type fields into float64 ###############\n",
    "    df = pd.get_dummies(df).astype('float64')\n",
    "    df.loc[:,'Id'] = df['Id'].astype('int32')\n",
    "    return df\n",
    "####################################################################################################################\n",
    "def FormatAndSave(df):\n",
    "    dff = df.copy()\n",
    "    categorical_flds = dff.columns[dff.dtypes == 'category'].values\n",
    "    dff = pd.get_dummies(dff, columns = categorical_flds)\n",
    "    \n",
    "    processed_data_path = os.path.join(os.path.pardir,'data','processed')\n",
    "    write_train_path = os.path.join(processed_data_path, 'train.csv')\n",
    "    write_test_path = os.path.join(processed_data_path, 'test.csv')\n",
    "    \n",
    "    # train data\n",
    "    dff.loc[dff.SalePrice != 0].to_csv(write_train_path) \n",
    "    # test data\n",
    "    columns = [column for column in dff.columns if column != 'SalePrice']\n",
    "    dff.loc[dff.SalePrice == 0, columns].to_csv(write_test_path)\n",
    "    return df\n",
    "\n",
    "if __name__ == '__main__':\n",
    "    df = pd.DataFrame()\n",
    "    df = df.pipe(CreateDataFrame).pipe(ResolveNaN).pipe(FormatAndSave)"
   ]
  },
  {
   "cell_type": "code",
   "execution_count": 40,
   "metadata": {},
   "outputs": [],
   "source": [
    "!python $get_processed_data_script_file"
   ]
  },
  {
   "cell_type": "code",
   "execution_count": 41,
   "metadata": {
    "collapsed": true
   },
   "outputs": [],
   "source": [
    "processed_data_path = os.path.join(os.path.pardir,'data','processed')\n",
    "write_train_path = os.path.join(processed_data_path, 'train.csv')\n",
    "write_test_path = os.path.join(processed_data_path, 'test.csv')\n",
    "train_df = pd.read_csv(write_train_path)"
   ]
  },
  {
   "cell_type": "markdown",
   "metadata": {},
   "source": [
    "#  Build model"
   ]
  },
  {
   "cell_type": "code",
   "execution_count": 42,
   "metadata": {
    "collapsed": true
   },
   "outputs": [],
   "source": [
    "import pandas as pd\n",
    "import numpy as np\n",
    "import matplotlib.pyplot as plt\n",
    "import os\n",
    "import sklearn as skl\n",
    "from sklearn.model_selection import train_test_split\n",
    "from sklearn import linear_model\n",
    "from sklearn.kernel_ridge import KernelRidge"
   ]
  },
  {
   "cell_type": "code",
   "execution_count": 43,
   "metadata": {
    "collapsed": true
   },
   "outputs": [],
   "source": [
    "processed_data_path = os.path.join(os.path.pardir,'data','processed')\n",
    "train_path = os.path.join(processed_data_path, 'train.csv')\n",
    "test_path = os.path.join(processed_data_path, 'test.csv')\n",
    "train_df = pd.read_csv(train_path)\n",
    "test_df = pd.read_csv(test_path)"
   ]
  },
  {
   "cell_type": "code",
   "execution_count": 51,
   "metadata": {
    "collapsed": true
   },
   "outputs": [],
   "source": [
    "def linear_ml_solve(train_df, test_df, scaler, solver, q = 0.4, target = 'temp.csv'):\n",
    "    X = train_df.loc[:,train_df.columns != 'SalePrice'].as_matrix().astype('float')\n",
    "    y = train_df['SalePrice'].ravel()\n",
    "    X_train, X_test, y_train, y_test = train_test_split(X, y, test_size=q, random_state=0)\n",
    "    X_train = scaler.fit_transform(X_train)\n",
    "    if q != 0:\n",
    "        X_test = scaler.transform(X_test)\n",
    "        solver.fit(X_train, y_train)\n",
    "        print(solver.score(X_test, y_test))\n",
    "    else: \n",
    "        print(\"No test subsets!!!!\")\n",
    "    X = scaler.fit_transform(X)    \n",
    "    XX = scaler.transform(test_df.as_matrix().astype('float'))\n",
    "    solver.fit(X, y) \n",
    "    pred_y = solver.predict(XX).astype('int')\n",
    "    df_submission = pd.DataFrame({'Id': test_df['Id'].values, 'SalePrice' : pred_y} )\n",
    "    submission_data_path = os.path.join(os.path.pardir,'data','external')\n",
    "    submission_file_path = os.path.join(submission_data_path, target)\n",
    "    df_submission.to_csv(submission_file_path, index=False)"
   ]
  },
  {
   "cell_type": "markdown",
   "metadata": {},
   "source": [
    "# Preprocessing Scaling"
   ]
  },
  {
   "cell_type": "code",
   "execution_count": 52,
   "metadata": {
    "collapsed": true
   },
   "outputs": [],
   "source": [
    "from sklearn.preprocessing import StandardScaler\n",
    "from sklearn.preprocessing import MinMaxScaler\n",
    "from sklearn.preprocessing import RobustScaler\n",
    "from sklearn.preprocessing import Normalizer\n",
    "from sklearn.preprocessing.data import QuantileTransformer\n",
    "from sklearn.preprocessing import PolynomialFeatures\n",
    "from sklearn.pipeline import Pipeline\n",
    "from sklearn.model_selection import GridSearchCV\n",
    "\n",
    "scaler1 = StandardScaler()\n",
    "scaler2 = MinMaxScaler()\n",
    "scaler3 = RobustScaler()\n",
    "scaler4 = Normalizer()\n",
    "scaler5 = QuantileTransformer()"
   ]
  },
  {
   "cell_type": "markdown",
   "metadata": {},
   "source": [
    "# ML"
   ]
  },
  {
   "cell_type": "code",
   "execution_count": 60,
   "metadata": {},
   "outputs": [
    {
     "data": {
      "text/plain": [
       "array([1.e-04, 1.e-03, 1.e-02, 1.e-01, 1.e+00, 1.e+01, 1.e+02])"
      ]
     },
     "execution_count": 60,
     "metadata": {},
     "output_type": "execute_result"
    }
   ],
   "source": [
    "np.logspace(-4, 2, 7)\n"
   ]
  },
  {
   "cell_type": "code",
   "execution_count": 85,
   "metadata": {},
   "outputs": [],
   "source": [
    "solver1 = linear_model.RidgeCV(alphas = np.arange(0.001, 5, 0.001))\n",
    "solver2 = linear_model.LassoCV()\n",
    "solver3 = linear_model.ElasticNetCV(alphas = np.arange(0.001, 5, 0.001), max_iter = 20000 )\n",
    "solver4 = linear_model.BayesianRidge()\n",
    "solver6 = linear_model.PassiveAggressiveRegressor(C = 10,tol = 0.00001, max_iter = 50000)\n",
    "solver7 = linear_model.HuberRegressor(max_iter=10000)\n",
    "solver8 = Pipeline([('poly', PolynomialFeatures(degree=2)),  ('linear', solver1)])\n",
    "\n",
    "param_grid = {\n",
    "    'alpha': [2e0,1e0,0.5, 0.1, 1e-2, 1e-3,1e-4,1e-5,1e-6],\n",
    "    'gamma': np.logspace(-4, 2, 14)\n",
    "}\n",
    "solver5_1 = GridSearchCV(KernelRidge(kernel = 'polynomial',degree = 80), cv=8, param_grid=param_grid)\n",
    "solver5_2 = GridSearchCV(KernelRidge(kernel = 'rbf'), cv=8, param_grid=param_grid)"
   ]
  },
  {
   "cell_type": "code",
   "execution_count": 86,
   "metadata": {},
   "outputs": [
    {
     "name": "stdout",
     "output_type": "stream",
     "text": [
      "0.8233104015747309\n"
     ]
    }
   ],
   "source": [
    "\n",
    "linear_ml_solve(train_df, test_df, scaler5, solver5_2, 0.4,'02_KernelRidge_RBF.csv')"
   ]
  },
  {
   "cell_type": "code",
   "execution_count": null,
   "metadata": {
    "collapsed": true
   },
   "outputs": [],
   "source": [
    "'01_KernelRidge_polynomial.csv' '01_KernelRidge_RBF.csv'"
   ]
  }
 ],
 "metadata": {
  "kernelspec": {
   "display_name": "Python 3",
   "language": "python",
   "name": "python3"
  },
  "language_info": {
   "codemirror_mode": {
    "name": "ipython",
    "version": 3
   },
   "file_extension": ".py",
   "mimetype": "text/x-python",
   "name": "python",
   "nbconvert_exporter": "python",
   "pygments_lexer": "ipython3",
   "version": "3.6.3"
  }
 },
 "nbformat": 4,
 "nbformat_minor": 2
}
