{
 "cells": [
  {
   "cell_type": "code",
   "execution_count": 386,
   "metadata": {
    "collapsed": true
   },
   "outputs": [],
   "source": [
    "import pandas as pd\n",
    "import numpy as np\n",
    "import matplotlib.pyplot as plt\n",
    "import os\n",
    "project_dir = 'C:\\\\Users\\\\PLDD\\\\python\\\\Python\\\\ML\\\\Kaggle\\\\house_price'\n",
    "raw_path = os.path.join(project_dir,'data','raw')\n",
    "train_path = os.path.join(raw_path, 'train.csv')\n",
    "test_path = os.path.join(raw_path, 'test.csv')"
   ]
  },
  {
   "cell_type": "markdown",
   "metadata": {},
   "source": [
    " # Create data frame"
   ]
  },
  {
   "cell_type": "markdown",
   "metadata": {},
   "source": [
    "Combines train and test data frame:"
   ]
  },
  {
   "cell_type": "code",
   "execution_count": 387,
   "metadata": {
    "collapsed": true
   },
   "outputs": [],
   "source": [
    "def CreateDataFrame(train_path, test_path):\n",
    "    train_df = pd.read_csv(train_path)\n",
    "    test_df = pd.read_csv(test_path)\n",
    "    test_df['SalePrice'] = 0.0\n",
    "    df = train_df.append(test_df)\n",
    "    df.index = list(range(train_df.index.size + test_df.index.size))\n",
    "    # 2916 out of 2919 Utilities are AllPub so i think it should be droped off\n",
    "    df = df.drop('Utilities', axis = 1)\n",
    "    return df"
   ]
  },
  {
   "cell_type": "code",
   "execution_count": 388,
   "metadata": {
    "collapsed": true
   },
   "outputs": [],
   "source": [
    "init_df = CreateDataFrame(train_path,test_path)\n",
    "df = init_df.copy()\n"
   ]
  },
  {
   "cell_type": "code",
   "execution_count": 389,
   "metadata": {
    "collapsed": true
   },
   "outputs": [],
   "source": [
    "def HandleUndefRows(df):\n",
    "    \n",
    "    oldflds = []\n",
    "    newdf = pd.DataFrame()\n",
    "    \n",
    "######################## 1) MSZoning - 'RL', 'RM', 'C (all)', 'FV', 'RH', nan ################################\n",
    "    colname = 'MSZoning'\n",
    "    oldflds.append(colname)\n",
    "    # with Mitchel neighbor it is highly likely that zoning is 'RL' (grouping by Neighbors + BuiltYear)\n",
    "    lx=(df[colname].isnull()) & (df['Neighborhood'] == 'Mitchel')  \n",
    "    df.loc[lx,colname] = 'RL'\n",
    "    # group by IDOTRR neighbor\n",
    "    invalidlx = df[colname].isnull() \n",
    "    idotrrlx = df['Neighborhood'] == 'IDOTRR'\n",
    "\n",
    "    tempdf = pd.get_dummies(df[colname],prefix = colname).astype(float)\n",
    "    tempdf.loc[invalidlx,:] = tempdf[idotrrlx].sum().values / tempdf[idotrrlx].sum().sum()\n",
    "    newdf[tempdf.columns] = tempdf\n",
    "    \n",
    "######################## 2) LotFrontage - float value, nan ################################ \n",
    "    #Exclude this field from ML - base on the idea that Lot Area is more important parameter than LotFrontage\n",
    "    colname = 'LotFrontage'\n",
    "    oldflds.append(colname)\n",
    "######################## 3) Alley  - nan, 'Grvl', 'Pave' ################################ \n",
    "    colname = 'Alley'\n",
    "    oldflds.append(colname)\n",
    "    tempdf = pd.get_dummies(df[colname],prefix = colname,dummy_na = True).astype(float)\n",
    "    newdf[tempdf.columns] = tempdf\n",
    "    \n",
    "    \n",
    "    \n",
    "    df = df.drop(labels = oldflds,axis = 1)\n",
    "    df[newdf.columns] = newdf\n",
    "    return df\n",
    "    "
   ]
  },
  {
   "cell_type": "code",
   "execution_count": 451,
   "metadata": {},
   "outputs": [
    {
     "data": {
      "text/plain": [
       "Exterior2nd  Exterior1st\n",
       "AsbShng      AsbShng          35\n",
       "             BrkFace           1\n",
       "             VinylSd           1\n",
       "             Wd Sdng           1\n",
       "AsphShn      AsphShn           2\n",
       "             HdBoard           1\n",
       "             MetalSd           1\n",
       "Brk Cmn      BrkComm           4\n",
       "             Plywood          18\n",
       "BrkFace      BrkFace          44\n",
       "             HdBoard           1\n",
       "             Stucco            1\n",
       "             Wd Sdng           1\n",
       "CBlock       CBlock            1\n",
       "             MetalSd           1\n",
       "             Plywood           1\n",
       "CmentBd      AsbShng           1\n",
       "             CemntBd         124\n",
       "             Stucco            1\n",
       "HdBoard      BrkFace           3\n",
       "             HdBoard         383\n",
       "             MetalSd           3\n",
       "             Plywood           6\n",
       "             Stone             1\n",
       "             VinylSd           1\n",
       "             Wd Sdng           7\n",
       "             WdShing           2\n",
       "ImStucc      HdBoard           6\n",
       "             ImStucc           1\n",
       "             Plywood           4\n",
       "                            ... \n",
       "Stucco       VinylSd           1\n",
       "             Wd Sdng           3\n",
       "             WdShing           1\n",
       "VinylSd      AsbShng           1\n",
       "             BrkFace           1\n",
       "             CBlock            1\n",
       "             MetalSd           2\n",
       "             Plywood           1\n",
       "             VinylSd        1005\n",
       "             Wd Sdng           3\n",
       "Wd Sdng      AsbShng           1\n",
       "             BrkComm           1\n",
       "             BrkFace          20\n",
       "             CemntBd           1\n",
       "             HdBoard           3\n",
       "             MetalSd           2\n",
       "             Plywood           4\n",
       "             Stucco            2\n",
       "             VinylSd           2\n",
       "             Wd Sdng         353\n",
       "             WdShing           2\n",
       "Wd Shng      BrkFace           1\n",
       "             CemntBd           1\n",
       "             HdBoard           5\n",
       "             MetalSd           1\n",
       "             Plywood           1\n",
       "             Stucco            4\n",
       "             VinylSd           9\n",
       "             Wd Sdng          18\n",
       "             WdShing          41\n",
       "Length: 86, dtype: int64"
      ]
     },
     "execution_count": 451,
     "metadata": {},
     "output_type": "execute_result"
    }
   ],
   "source": [
    "df = init_df.copy()\n",
    "#df = HandleUndefRows(df)\n",
    "lx = df['Exterior1st'].isnull()\n",
    "df[lx][['Exterior1st','YearBuilt']]#(df['Neighborhood']== 'Edwards') & \n",
    "ddf = df[(df['Neighborhood']== 'Edwards') &(df['YearBuilt'] < 1950)][['Neighborhood','YearBuilt','Exterior1st']]\n",
    "fff = ddf.pivot_table(values = ['Exterior1st'],index = ['Neighborhood','YearBuilt','Exterior1st'], aggfunc = np.shape)\n",
    "#df[df['Exterior2nd'].isnull()][['Exterior2nd','YearBuilt']]\n",
    "#df[df['YearBuilt']<1990][['Exterior2nd','Exterior1st','MasVnrType','RoofMatl']]\n",
    "#ddf.groupby('Exterior1st')\n",
    "ddf = df[['Exterior2nd','Exterior1st']]\n",
    "ddf.groupby(['Exterior2nd','Exterior1st']).size()"
   ]
  },
  {
   "cell_type": "code",
   "execution_count": 365,
   "metadata": {},
   "outputs": [],
   "source": [
    "df = init_df.copy()\n",
    "#df['VVV'] = np.sqrt(df['LotArea'])\n",
    "#lx=df['LotShape'] == 'Reg'\n",
    "#df[df['LotShape'] == 'Reg'][['LotFrontage','VVV']]\n",
    "#plt.plot(df.loc[:,'LotArea'],df.loc[:,'LotFrontage'],'ro')\n",
    "#plt.show()\n",
    "lx = df['LotFrontage'].isnull()\n",
    "df[['Neighborhood','LotFrontage']].groupby('Neighborhood').std()/df[['Neighborhood','LotFrontage']].groupby('Neighborhood').mean()\n",
    "ddf = df[['Neighborhood','LotFrontage','LotConfig']]\n",
    "fff = ddf.pivot_table(values = ['LotFrontage'],index = ['Neighborhood','LotConfig'], aggfunc = [np.mean,np.median,min,max,np.std])\n"
   ]
  },
  {
   "cell_type": "code",
   "execution_count": 399,
   "metadata": {},
   "outputs": [
    {
     "data": {
      "text/plain": [
       "Index(['MSZoning', 'LotFrontage', 'Alley', 'Exterior1st', 'Exterior2nd',\n",
       "       'MasVnrType', 'MasVnrArea', 'BsmtQual', 'BsmtCond', 'BsmtExposure',\n",
       "       'BsmtFinType1', 'BsmtFinSF1', 'BsmtFinType2', 'BsmtFinSF2', 'BsmtUnfSF',\n",
       "       'TotalBsmtSF', 'Electrical', 'BsmtFullBath', 'BsmtHalfBath',\n",
       "       'KitchenQual', 'Functional', 'FireplaceQu', 'GarageType', 'GarageYrBlt',\n",
       "       'GarageFinish', 'GarageCars', 'GarageArea', 'GarageQual', 'GarageCond',\n",
       "       'PoolQC', 'Fence', 'MiscFeature', 'SaleType'],\n",
       "      dtype='object')"
      ]
     },
     "execution_count": 399,
     "metadata": {},
     "output_type": "execute_result"
    }
   ],
   "source": [
    "df = init_df.copy()\n",
    "df.columns[df.isnull().any()]\n"
   ]
  },
  {
   "cell_type": "code",
   "execution_count": 380,
   "metadata": {},
   "outputs": [],
   "source": [
    "c=df.isnull().any(axis=0)\n",
    "col=df.columns[c]\n"
   ]
  },
  {
   "cell_type": "code",
   "execution_count": 116,
   "metadata": {},
   "outputs": [
    {
     "data": {
      "text/html": [
       "<div>\n",
       "<style>\n",
       "    .dataframe thead tr:only-child th {\n",
       "        text-align: right;\n",
       "    }\n",
       "\n",
       "    .dataframe thead th {\n",
       "        text-align: left;\n",
       "    }\n",
       "\n",
       "    .dataframe tbody tr th {\n",
       "        vertical-align: top;\n",
       "    }\n",
       "</style>\n",
       "<table border=\"1\" class=\"dataframe\">\n",
       "  <thead>\n",
       "    <tr style=\"text-align: right;\">\n",
       "      <th></th>\n",
       "      <th>GarageType</th>\n",
       "      <th>GarageYrBlt</th>\n",
       "      <th>GarageQual</th>\n",
       "      <th>GarageCond</th>\n",
       "      <th>GarageArea</th>\n",
       "      <th>GarageCars</th>\n",
       "    </tr>\n",
       "  </thead>\n",
       "  <tbody>\n",
       "    <tr>\n",
       "      <th>2126</th>\n",
       "      <td>Detchd</td>\n",
       "      <td>NaN</td>\n",
       "      <td>NaN</td>\n",
       "      <td>NaN</td>\n",
       "      <td>360.0</td>\n",
       "      <td>1.0</td>\n",
       "    </tr>\n",
       "    <tr>\n",
       "      <th>2576</th>\n",
       "      <td>Detchd</td>\n",
       "      <td>NaN</td>\n",
       "      <td>NaN</td>\n",
       "      <td>NaN</td>\n",
       "      <td>NaN</td>\n",
       "      <td>NaN</td>\n",
       "    </tr>\n",
       "  </tbody>\n",
       "</table>\n",
       "</div>"
      ],
      "text/plain": [
       "     GarageType  GarageYrBlt GarageQual GarageCond  GarageArea  GarageCars\n",
       "2126     Detchd          NaN        NaN        NaN       360.0         1.0\n",
       "2576     Detchd          NaN        NaN        NaN         NaN         NaN"
      ]
     },
     "execution_count": 116,
     "metadata": {},
     "output_type": "execute_result"
    }
   ],
   "source": [
    "lx1 = ~df['GarageType'].isnull()\n",
    "lx2 = df['GarageFinish'].isnull()\n",
    "df[lx1&lx2][['GarageType','GarageYrBlt','GarageQual','GarageCond','GarageArea','GarageCars']]\n"
   ]
  },
  {
   "cell_type": "code",
   "execution_count": 45,
   "metadata": {},
   "outputs": [
    {
     "data": {
      "text/html": [
       "<div>\n",
       "<style>\n",
       "    .dataframe thead tr:only-child th {\n",
       "        text-align: right;\n",
       "    }\n",
       "\n",
       "    .dataframe thead th {\n",
       "        text-align: left;\n",
       "    }\n",
       "\n",
       "    .dataframe tbody tr th {\n",
       "        vertical-align: top;\n",
       "    }\n",
       "</style>\n",
       "<table border=\"1\" class=\"dataframe\">\n",
       "  <thead>\n",
       "    <tr style=\"text-align: right;\">\n",
       "      <th></th>\n",
       "      <th>A_a</th>\n",
       "      <th>A_b</th>\n",
       "      <th>B_a</th>\n",
       "      <th>B_b</th>\n",
       "      <th>B_c</th>\n",
       "    </tr>\n",
       "  </thead>\n",
       "  <tbody>\n",
       "    <tr>\n",
       "      <th>0</th>\n",
       "      <td>1</td>\n",
       "      <td>0</td>\n",
       "      <td>0</td>\n",
       "      <td>1</td>\n",
       "      <td>0</td>\n",
       "    </tr>\n",
       "    <tr>\n",
       "      <th>1</th>\n",
       "      <td>0</td>\n",
       "      <td>1</td>\n",
       "      <td>1</td>\n",
       "      <td>0</td>\n",
       "      <td>0</td>\n",
       "    </tr>\n",
       "    <tr>\n",
       "      <th>2</th>\n",
       "      <td>1</td>\n",
       "      <td>0</td>\n",
       "      <td>0</td>\n",
       "      <td>0</td>\n",
       "      <td>1</td>\n",
       "    </tr>\n",
       "  </tbody>\n",
       "</table>\n",
       "</div>"
      ],
      "text/plain": [
       "   A_a  A_b  B_a  B_b  B_c\n",
       "0    1    0    0    1    0\n",
       "1    0    1    1    0    0\n",
       "2    1    0    0    0    1"
      ]
     },
     "execution_count": 45,
     "metadata": {},
     "output_type": "execute_result"
    }
   ],
   "source": [
    "#PoolQC => PoolArea - nan is no pool\n",
    "df = pd.DataFrame({'A': ['a', 'b', 'a'], 'B': ['b', 'a', 'c']})\n",
    "pd.get_dummies(df)"
   ]
  },
  {
   "cell_type": "markdown",
   "metadata": {},
   "source": [
    "# Proccess outliers"
   ]
  },
  {
   "cell_type": "code",
   "execution_count": 28,
   "metadata": {
    "collapsed": true
   },
   "outputs": [],
   "source": [
    "def ProccessOutliers(df):\n",
    "#'LotFrontage', 'LotArea', 'MasVnrArea', 'GrLivArea', 'GarageArea', 'PoolArea', 'SalePrice']\n",
    "#copydf['LotFrontage'].plot.hist()\n",
    "#copydf['LotFrontage'].plot.box()\n",
    "#copydf['LotArea'].plot.hist()\n",
    "#copydf['LotArea'].plot.box()\n",
    "#copydf['GrLivArea'].plot.hist()\n",
    "#copydf['GrLivArea'].plot.box()\n",
    "#plt.show()\n",
    "    lx = (df['LotFrontage'] > 200) | (df['LotArea'] > 100000) | (df['GrLivArea'] > 4000)\n",
    "#df = df.drop(df.index[lx], axis = 0)\n",
    "    df.loc[df['LotFrontage'] > 200,'LotFrontage'] = np.nan\n",
    "    df.loc[df['LotArea'] > 100000,'LotArea'] = np.nan\n",
    "    df.loc[df['GrLivArea'] > 4000,'GrLivArea'] = np.nan\n",
    "    return df"
   ]
  },
  {
   "cell_type": "markdown",
   "metadata": {},
   "source": [
    "# Proccess Nan values"
   ]
  },
  {
   "cell_type": "code",
   "execution_count": 29,
   "metadata": {
    "collapsed": true
   },
   "outputs": [],
   "source": [
    "def ReplaceNanValues_LotFrontageArea(df, alables, abins, fromfld, tofld, catclass, targetclass):\n",
    "    fullclass = catclass + [targetclass]\n",
    "    df[tofld]=pd.cut(x = df[fromfld].values, bins = abins, right = False, labels = alables)\n",
    "    validdf = df[fullclass].dropna(axis = 0, how = 'any')\n",
    "    nandf = df[df[targetclass].isnull()]\n",
    "    pvt = validdf.pivot_table(values = targetclass, index = catclass, aggfunc = np.median)\n",
    "    pvt=pvt[pvt.notnull().all(1)]\n",
    "    t1 = pvt.loc[[tuple(x) for x in nandf[catclass].values]]\n",
    "    t1.index = nandf.index\n",
    "    df.loc[nandf.index,targetclass] = t1[targetclass]\n",
    "    df = df.drop(tofld, axis = 1)\n",
    "    return df\n",
    "\n",
    "def ProccessNanValues(df):\n",
    "    DefSeqCat = ['Alley','BsmtQual', 'BsmtCond', 'BsmtExposure','BsmtFinType1', 'BsmtFinType2', 'FireplaceQu',\n",
    "                 'GarageType', 'GarageFinish', 'GarageQual', 'GarageCond', 'PoolQC',\n",
    "                 'Fence', 'MiscFeature']\n",
    "    UndefSeqCat1 = ['MSZoning', 'Utilities', 'Exterior1st', 'Exterior2nd','Electrical', 'KitchenQual',\n",
    "                    'Functional', 'SaleType'] # there are defenetly lost elements \n",
    "    UndefSeqCat2 = ['MasVnrType'] # i may just not make it clear the property of the column\n",
    "    UndefSeqNum = ['LotFrontage', 'MasVnrArea', 'BsmtFinSF1', 'BsmtFinSF2', 'BsmtUnfSF', 'TotalBsmtSF', \n",
    "                   'BsmtFullBath', 'BsmtHalfBath', 'GarageYrBlt', 'GarageCars', 'GarageArea']\n",
    "\n",
    "    replace=dict.fromkeys(DefSeqCat, 'None')\n",
    "    df = df.fillna(replace)\n",
    "#'MasVnrType'\n",
    "    ix = df.index[df['MasVnrType'].isnull()]\n",
    "    df.loc[ix,'MasVnrType'] = 'None'\n",
    "    df.loc[ix,'MasVnrArea'] = 0\n",
    "\n",
    "    NanCol = ['LotFrontage', 'MSZoning', 'Utilities', 'Exterior1st', 'Exterior2nd', 'MasVnrType',\n",
    "              'MasVnrArea', 'BsmtFinSF1', 'BsmtFinSF2', 'BsmtUnfSF', 'TotalBsmtSF',\n",
    "              'Electrical', 'BsmtFullBath', 'BsmtHalfBath', 'KitchenQual',\n",
    "              'Functional', 'GarageYrBlt', 'GarageCars', 'GarageArea', 'SaleType']\n",
    "    #Replace NAN values in 'LotFrontage' and 'LotArea' with iterpolated value.\n",
    "    yearlable = ['1906', '1942', '1975', '1991', '2011']\n",
    "    yearbin = [1800,1906,1942,1975, 1991, 2011]\n",
    "\n",
    "#case 1\n",
    "    catclass = ['Neighborhood', 'LotConfig','LotShape','YearInt']\n",
    "    df = ReplaceNanValues_LotFrontageArea(df, yearlable, yearbin, 'YearBuilt', 'YearInt', catclass, 'LotFrontage' )\n",
    "    df = ReplaceNanValues_LotFrontageArea(df, yearlable, yearbin, 'YearBuilt', 'YearInt', catclass, 'LotArea')\n",
    "    #print(df[df['LotFrontage'].isnull()].index.size)\n",
    "\n",
    "    catclass = ['LotConfig','LotShape','YearInt']\n",
    "#case 2\n",
    "    df = ReplaceNanValues_LotFrontageArea(df, yearlable, yearbin, 'YearBuilt', 'YearInt', catclass, 'LotFrontage')\n",
    "    df = ReplaceNanValues_LotFrontageArea(df, yearlable, yearbin, 'YearBuilt', 'YearInt', catclass, 'LotArea')\n",
    "    #print(df[df['LotFrontage'].isnull()].index.size)\n",
    "\n",
    "#case 3\n",
    "    yearlable = ['1942', '1991', '2011']\n",
    "    yearbin = [1800, 1942, 1991, 2011]\n",
    "    df = ReplaceNanValues_LotFrontageArea(df, yearlable, yearbin, 'YearBuilt', 'YearInt', catclass, 'LotFrontage')\n",
    "    df = ReplaceNanValues_LotFrontageArea(df, yearlable, yearbin, 'YearBuilt', 'YearInt', catclass, 'LotArea')\n",
    "    #print(df[df['LotFrontage'].isnull()].index.size)\n",
    "\n",
    "#case 4\n",
    "    yearlable = ['1975', '1991', '2011']\n",
    "    yearbin = [1800, 1975, 1991, 2011]\n",
    "    df = ReplaceNanValues_LotFrontageArea(df, yearlable, yearbin, 'YearBuilt', 'YearInt', catclass, 'LotFrontage')\n",
    "    df = ReplaceNanValues_LotFrontageArea(df, yearlable, yearbin, 'YearBuilt', 'YearInt', catclass, 'LotArea')\n",
    "    #print(df[df['LotFrontage'].isnull()].index.size)\n",
    "\n",
    "#case 5\n",
    "    yearlable = ['2011']\n",
    "    yearbin = [1800, 2011]\n",
    "    df = ReplaceNanValues_LotFrontageArea(df, yearlable, yearbin, 'YearBuilt', 'YearInt', catclass, 'LotFrontage')\n",
    "    df = ReplaceNanValues_LotFrontageArea(df, yearlable, yearbin, 'YearBuilt', 'YearInt', catclass, 'LotArea')\n",
    "    #print(df[df['LotFrontage'].isnull()].index.size)\n",
    "    #print(df[df['LotArea'].isnull()].index.size)\n",
    "    \n",
    "    #Replace Nan in 'MSZoning'\n",
    "    ind1 = [1915, 2216, 2250] # C - assign by many factors\n",
    "    ind2 = [2904] # RL - by Lot Area, LotFrontage and YearBuilt \n",
    "    df.loc[ind1,'MSZoning'] = 'C'\n",
    "    df.loc[ind2,'MSZoning'] = 'RL'\n",
    "    \n",
    "    #Replace Nan in 'Exterior1st' and 'Exterior2nd'\n",
    "    targetclass = ['Exterior1st', 'Exterior2nd']\n",
    "    ind = [2151]\n",
    "    df.loc[ind,targetclass] = 'AsbShng'\n",
    "    \n",
    "    #Add column 'RangeYrBlt' and remove columns 'GarageYrBlt' and 'YearBilt'\n",
    "    yearbins = [1800, 1895, 1905, 1917, 1927, 1937,1947,1960, 1973, 1989, 1998, 2012]\n",
    "    yearlabels = ['1895', '1905', '1917', '1927', '1937', '1947', '1960', '1973', '1989', '1998', '2012']\n",
    "    if df.columns.isin(['YearBuilt']).any():\n",
    "        df['RangeYrBlt']=pd.cut(x = df['YearBuilt'].values, bins = yearbins, right = False, labels = yearlabels)\n",
    "        df = df.drop('YearBuilt', axis = 1)\n",
    "    if df.columns.isin(['GarageYrBlt']).any():\n",
    "        df = df.drop('GarageYrBlt', axis = 1)\n",
    "    \n",
    "    #Replace Nan in 'BsmtFinSF1', 'BsmtFinSF2', 'BsmtUnfSF', 'TotalBsmtSF' (row index - 2120)\n",
    "    # There is no basement in this house so all areas we take as 0\n",
    "    df.loc[2120,['BsmtFinSF1', 'BsmtFinSF2', 'BsmtUnfSF', 'TotalBsmtSF']] = 0\n",
    "    \n",
    "    #Replase Nan in 'Electrical' (row index - 1379)\n",
    "    df.loc[1379, 'Electrical'] = 'SBrkr' #  all houses in 2012 year built have this type of Electrical\n",
    "    \n",
    "    #Replase Nan in 'GrLivArea'\n",
    "    if df.columns.isin(['GrLivArea']).any():\n",
    "        df = df.drop('GrLivArea', axis = 1) # it is sum of '1stFlrSF' and '2ndFlrSF'\n",
    "        \n",
    "    #Replace Nan in 'BsmtFullBath' and 'BsmtHalfBath' (row indexes are 2120 and 2188) # all these houses have no basements\n",
    "    df.loc[[2120,2188],['BsmtFullBath', 'BsmtHalfBath']] = 0\n",
    "    \n",
    "    #Replace Nan in 'KitchenQual' (row index is 1555)\n",
    "    # Value of 'KitchenQual' depends on 'OverallQual', 'OverallCond'\n",
    "    df.loc[1555, 'KitchenQual'] = 'TA'\n",
    "    \n",
    "    #Replace Nan in 'Functional' (row indexes are 2216, 2473)\n",
    "    # The most used functionality is 'Typ'\n",
    "    df.loc[[2216, 2473],'Functional'] = 'Typ'\n",
    "    \n",
    "    #Replace Nan in 'GarageCars', 'GarageArea' (row index is 2576)\n",
    "    #there is no garage so its area is 0\n",
    "    df.loc[2576,'GarageArea'] = 0\n",
    "    if df.columns.isin(['GarageCars']).any():\n",
    "        df = df.drop('GarageCars', axis = 1) # it has straight dependency on garage area\n",
    "        \n",
    "    #Replace Nan in 'SaleType' (row index is 2489)\n",
    "    df.loc[2489, 'SaleType'] = 'WD' # the most used type according to sold year and sale condition\n",
    "    \n",
    "    return df"
   ]
  },
  {
   "cell_type": "markdown",
   "metadata": {},
   "source": [
    "# Categorizing"
   ]
  },
  {
   "cell_type": "code",
   "execution_count": 30,
   "metadata": {
    "collapsed": true
   },
   "outputs": [],
   "source": [
    "def sorted_columns(df, what, bby):\n",
    "    t_df = df.loc[df[bby] != 0]\n",
    "    t_df = t_df.groupby([what]).agg({bby : 'median'})\n",
    "    t_df = t_df.sort_values(by = bby, axis = 0 )\n",
    "    return t_df.index.values\n",
    "\n",
    "def Categorizing(copydf):\n",
    "\n",
    "    OrderedCat = ['MSZoning', 'Street','Alley', 'Condition1', 'Condition2', 'BldgType', 'HouseStyle', 'RoofMatl']\n",
    "    NonOrderedCat = ['LandContour', 'LotConfig', 'LotShape', 'LandContour', 'LotConfig', 'LandSlope', 'Neighborhood', 'RoofStyle'\n",
    "                'Exterior1st','Exterior2nd']\n",
    "\n",
    "    copydf['MSZoning'] = pd.Categorical(copydf['MSZoning'].values, ['C', 'C (all)', 'RM', 'RH', 'RL', 'FV'], ordered = True)\n",
    "    copydf['Street'] = pd.Categorical(copydf['Street'].values, ['Grvl','Pave'], ordered = True)\n",
    "    copydf['Alley'] = pd.Categorical(copydf['Alley'].values, ['None', 'Grvl', 'Pave'], ordered = True)\n",
    "    copydf['LotShape'] = pd.Categorical(copydf['LotShape'].values, ['Reg', 'IR1', 'IR2', 'IR3'], ordered = True) # can be droped\n",
    "    copydf['LandContour'] = pd.Categorical(copydf['LandContour'].values, ['Lvl', 'Bnk', 'Low', 'HLS'], ordered = True)\n",
    "    copydf['LotConfig'] = pd.Categorical(copydf['LotConfig'].values, ['FR2', 'Corner', 'Inside', 'CulDSac', 'FR3'], ordered = True)\n",
    "    copydf['LandSlope'] = pd.Categorical(copydf['LandSlope'].values, ['Sev', 'Mod', 'Gtl'], ordered = True)\n",
    "    copydf['Neighborhood'] = pd.Categorical(copydf['Neighborhood'].values, sorted_columns(copydf.loc[copydf.SalePrice != 0], 'Neighborhood' , 'SalePrice'), ordered = True)\n",
    "    copydf['Condition1'] = pd.Categorical(copydf['Condition1'].values, ['PosA', 'PosN', 'Norm', 'RRNn', 'RRNe', 'RRAe',  'RRAn', 'Feedr', 'Artery'], ordered = True)\n",
    "    copydf['Condition2'] = pd.Categorical(copydf['Condition2'].values, ['PosA', 'PosN', 'Norm', 'RRNn', 'RRAe', 'RRAn','Feedr', 'Artery'], ordered = True)\n",
    "    copydf['BldgType'] = pd.Categorical(copydf['BldgType'].values, ['2fmCon', 'Duplex', 'Twnhs', 'TwnhsE', '1Fam'], ordered = True)\n",
    "    copydf['HouseStyle'] = pd.Categorical(copydf['HouseStyle'].values, ['1.5Unf', '1.5Fin', 'SFoyer', 'SLvl', '1Story', '2.5Unf', '2.5Fin', '2Story'], ordered = True)\n",
    "    copydf['RoofStyle'] = pd.Categorical(copydf['RoofStyle'].values, sorted_columns(copydf.loc[copydf.SalePrice != 0], 'RoofStyle', 'SalePrice'), ordered = True)\n",
    "    copydf['RoofMatl'] = pd.Categorical(copydf['RoofMatl'].values, ['Roll', 'ClyTile', 'Metal', 'CompShg', 'Tar&Grv', 'Membran', 'WdShake', 'WdShngl'], ordered = True)\n",
    "    copydf['Exterior1st'] = pd.Categorical(copydf['Exterior1st'].values, sorted_columns(copydf.loc[copydf.SalePrice != 0], 'Exterior1st', 'SalePrice'), ordered = True)\n",
    "    copydf['Exterior2nd'] = pd.Categorical(copydf['Exterior2nd'].values, sorted_columns(copydf.loc[copydf.SalePrice != 0], 'Exterior2nd', 'SalePrice'), ordered = True)\n",
    "    copydf['MasVnrType'] = pd.Categorical(copydf['MasVnrType'].values, sorted_columns(copydf.loc[copydf.SalePrice != 0], 'MasVnrType', 'SalePrice'), ordered = True)\n",
    "    copydf['ExterQual'] = pd.Categorical(copydf['ExterQual'].values, ['Po', 'Fa', 'TA', 'Gd', 'Ex'], ordered = True)\n",
    "    copydf['ExterCond'] = pd.Categorical(copydf['ExterCond'].values, ['Po', 'Fa', 'TA', 'Gd', 'Ex'], ordered = True)\n",
    "    copydf['Foundation'] = pd.Categorical(copydf['Foundation'].values, ['Slab', 'Stone', 'Wood', 'BrkTil', 'CBlock', 'PConc'], ordered = True)\n",
    "    copydf['BsmtQual'] = pd.Categorical(copydf['BsmtQual'].values, ['None', 'Po', 'Fa', 'TA', 'Gd', 'Ex'], ordered = True)\n",
    "    copydf['BsmtCond'] = pd.Categorical(copydf['BsmtCond'].values, ['None', 'Po', 'Fa', 'TA', 'Gd', 'Ex'], ordered = True)\n",
    "    copydf['BsmtExposure'] = pd.Categorical(copydf['BsmtExposure'].values, ['None', 'No', 'Mn', 'Av', 'Gd'], ordered = True)\n",
    "    copydf['BsmtFinType1'] = pd.Categorical(copydf['BsmtFinType1'].values, ['None', 'LwQ', 'Rec','Unf','BLQ','ALQ','GLQ'], ordered = True)\n",
    "    copydf['BsmtFinType2'] = pd.Categorical(copydf['BsmtFinType2'].values, ['None', 'LwQ', 'Rec','Unf','BLQ','ALQ','GLQ'], ordered = True)\n",
    "    copydf['Heating'] = pd.Categorical(copydf['Heating'].values, ['Floor', 'Grav', 'Wall', 'OthW', 'GasW','GasA'], ordered = True)\n",
    "    copydf['HeatingQC'] = pd.Categorical(copydf['HeatingQC'].values, ['Po', 'Fa', 'TA', 'Gd', 'Ex'], ordered = True)\n",
    "    copydf['CentralAir'] = pd.Categorical(copydf['CentralAir'].values, ['N', 'Y'], ordered = True)\n",
    "    copydf['Electrical'] = pd.Categorical(copydf['Electrical'].values, ['Mix', 'FuseP', 'FuseF', 'FuseA', 'SBrkr' ], ordered = True)\n",
    "    copydf['KitchenQual'] = pd.Categorical(copydf['KitchenQual'].values, ['Po', 'Fa', 'TA', 'Gd', 'Ex'], ordered = True)\n",
    "    copydf['Functional'] = pd.Categorical(copydf['Functional'].values, ['Sev', 'Maj2', 'Maj1', 'Min1', 'Min2', 'Mod', 'Typ'], ordered = True)\n",
    "    copydf['FireplaceQu'] = pd.Categorical(copydf['FireplaceQu'].values, ['None','Po', 'Fa', 'TA', 'Gd', 'Ex'], ordered = True)\n",
    "    copydf['GarageType'] = pd.Categorical(copydf['GarageType'].values, ['None', 'CarPort','Detchd', '2Types', 'Basment', 'Attchd', 'BuiltIn'], ordered = True)\n",
    "    copydf['GarageFinish'] = pd.Categorical(copydf['GarageFinish'].values, ['None', 'Unf', 'RFn', 'Fin'], ordered = True)\n",
    "    copydf['GarageQual'] = pd.Categorical(copydf['GarageQual'].values, ['None', 'Po', 'Fa', 'TA', 'Gd', 'Ex'], ordered = True)\n",
    "    copydf['GarageCond'] = pd.Categorical(copydf['GarageCond'].values, ['None', 'Po', 'Fa', 'TA', 'Gd', 'Ex'], ordered = True)\n",
    "    copydf['PavedDrive'] = pd.Categorical(copydf['PavedDrive'].values, ['N', 'P', 'Y'], ordered = True)\n",
    "\n",
    "    copydf['PoolQC'] = pd.Categorical(copydf['PoolQC'].values, ['None', 'Fa', 'TA', 'Gd', 'Ex'], ordered = True)\n",
    "    copydf['Fence'] = pd.Categorical(copydf['Fence'].values, ['MnWw', 'GdWo', 'MnPrv', 'GdPrv', 'None'], ordered = True)\n",
    "    copydf['MiscFeature'] = pd.Categorical(copydf['MiscFeature'].values, ['Othr', 'Shed', 'Gar2', 'None', 'TenC'], ordered = True)\n",
    "    copydf['SaleType'] = pd.Categorical(copydf['SaleType'].values, ['Oth', 'ConLD', 'ConLw', 'COD', 'WD', 'ConLI', 'CWD', 'Con', 'New'], ordered = True)\n",
    "    copydf['SaleCondition'] = pd.Categorical(copydf['SaleCondition'].values, ['AdjLand', 'Abnorml', 'Family', 'Alloca', 'Normal', 'Partial'], ordered = True)\n",
    "\n",
    "    #print(copydf.columns[copydf.dtypes == 'object'].size)\n",
    "    return copydf"
   ]
  },
  {
   "cell_type": "code",
   "execution_count": 54,
   "metadata": {
    "collapsed": true
   },
   "outputs": [],
   "source": [
    "def FormatAndSave(df):\n",
    "    dff = df.copy()\n",
    "    categorical_flds = dff.columns[dff.dtypes == 'category'].values\n",
    "    dff = pd.get_dummies(dff, columns = categorical_flds)\n",
    "    \n",
    "    processed_data_path = os.path.join(os.path.pardir,'data','processed')\n",
    "    write_train_path = os.path.join(processed_data_path, 'train.csv')\n",
    "    write_test_path = os.path.join(processed_data_path, 'test.csv')\n",
    "    \n",
    "    # train data\n",
    "    dff.loc[dff.SalePrice != 0].to_csv(write_train_path) \n",
    "    # test data\n",
    "    columns = [column for column in dff.columns if column != 'SalePrice']\n",
    "    dff.loc[dff.SalePrice == 0, columns].to_csv(write_test_path) "
   ]
  },
  {
   "cell_type": "code",
   "execution_count": 55,
   "metadata": {
    "collapsed": true
   },
   "outputs": [],
   "source": [
    "df = CreateDataFrame(train_path, test_path)\n",
    "df = df.pipe(ProccessOutliers).pipe(ProccessNanValues).pipe(Categorizing).pipe(FormatAndSave)"
   ]
  },
  {
   "cell_type": "markdown",
   "metadata": {},
   "source": [
    "# Insert implementation into script file"
   ]
  },
  {
   "cell_type": "code",
   "execution_count": 76,
   "metadata": {
    "collapsed": true
   },
   "outputs": [],
   "source": [
    "get_processed_data_script_file = os.path.join(os.path.pardir,'src','data','get_processed_data.py')"
   ]
  },
  {
   "cell_type": "code",
   "execution_count": 77,
   "metadata": {},
   "outputs": [
    {
     "name": "stdout",
     "output_type": "stream",
     "text": [
      "Overwriting ..\\src\\data\\get_processed_data.py\n"
     ]
    }
   ],
   "source": [
    "%%writefile $get_processed_data_script_file\n",
    "import pandas as pd\n",
    "import numpy as np\n",
    "import matplotlib.pyplot as plt\n",
    "import os\n",
    "\n",
    "def CreateDataFrame():\n",
    "    project_dir = 'C:\\\\Users\\\\PLDD\\\\python\\\\Python\\\\ML\\\\Kaggle\\\\house_price'\n",
    "    raw_path = os.path.join(project_dir,'data','raw')\n",
    "    train_path = os.path.join(raw_path, 'train.csv')\n",
    "    test_path = os.path.join(raw_path, 'test.csv')\n",
    "    train_df = pd.read_csv(train_path)\n",
    "    test_df = pd.read_csv(test_path)\n",
    "    test_df['SalePrice'] = 0.0\n",
    "    df = train_df.append(test_df)\n",
    "    df.index = list(range(train_df.index.size + test_df.index.size))\n",
    "    df = df.drop('Utilities', axis = 1)\n",
    "    return df\n",
    "\n",
    "def ProccessOutliers(df):\n",
    "    lx = (df['LotFrontage'] > 200) | (df['LotArea'] > 100000) | (df['GrLivArea'] > 4000)\n",
    "    df.loc[df['LotFrontage'] > 200,'LotFrontage'] = np.nan\n",
    "    df.loc[df['LotArea'] > 100000,'LotArea'] = np.nan\n",
    "    df.loc[df['GrLivArea'] > 4000,'GrLivArea'] = np.nan\n",
    "    return df\n",
    "\n",
    "def ReplaceNanValues_LotFrontageArea(df, alables, abins, fromfld, tofld, catclass, targetclass):\n",
    "    fullclass = catclass + [targetclass]\n",
    "    df[tofld]=pd.cut(x = df[fromfld].values, bins = abins, right = False, labels = alables)\n",
    "    validdf = df[fullclass].dropna(axis = 0, how = 'any')\n",
    "    nandf = df[df[targetclass].isnull()]\n",
    "    pvt = validdf.pivot_table(values = targetclass, index = catclass, aggfunc = np.median)\n",
    "    pvt=pvt[pvt.notnull().all(1)]\n",
    "    t1 = pvt.loc[[tuple(x) for x in nandf[catclass].values]]\n",
    "    t1.index = nandf.index\n",
    "    df.loc[nandf.index,targetclass] = t1[targetclass]\n",
    "    df = df.drop(tofld, axis = 1)\n",
    "    return df\n",
    "\n",
    "def ProccessNanValues(df):\n",
    "    DefSeqCat = ['Alley','BsmtQual', 'BsmtCond', 'BsmtExposure','BsmtFinType1', 'BsmtFinType2', 'FireplaceQu',\n",
    "                 'GarageType', 'GarageFinish', 'GarageQual', 'GarageCond', 'PoolQC',\n",
    "                 'Fence', 'MiscFeature']\n",
    "    UndefSeqCat1 = ['MSZoning', 'Utilities', 'Exterior1st', 'Exterior2nd','Electrical', 'KitchenQual',\n",
    "                    'Functional', 'SaleType'] # there are defenetly lost elements \n",
    "    UndefSeqCat2 = ['MasVnrType'] # i may just not make it clear the property of the column\n",
    "    UndefSeqNum = ['LotFrontage', 'MasVnrArea', 'BsmtFinSF1', 'BsmtFinSF2', 'BsmtUnfSF', 'TotalBsmtSF', \n",
    "                   'BsmtFullBath', 'BsmtHalfBath', 'GarageYrBlt', 'GarageCars', 'GarageArea']\n",
    "    replace=dict.fromkeys(DefSeqCat, 'None')\n",
    "    df = df.fillna(replace)\n",
    "#'MasVnrType'\n",
    "    ix = df.index[df['MasVnrType'].isnull()]\n",
    "    df.loc[ix,'MasVnrType'] = 'None'\n",
    "    df.loc[ix,'MasVnrArea'] = 0\n",
    "    NanCol = ['LotFrontage', 'MSZoning', 'Utilities', 'Exterior1st', 'Exterior2nd', 'MasVnrType',\n",
    "              'MasVnrArea', 'BsmtFinSF1', 'BsmtFinSF2', 'BsmtUnfSF', 'TotalBsmtSF',\n",
    "              'Electrical', 'BsmtFullBath', 'BsmtHalfBath', 'KitchenQual',\n",
    "              'Functional', 'GarageYrBlt', 'GarageCars', 'GarageArea', 'SaleType']\n",
    "    #Replace NAN values in 'LotFrontage' and 'LotArea' with iterpolated value.\n",
    "    yearlable = ['1906', '1942', '1975', '1991', '2011']\n",
    "    yearbin = [1800,1906,1942,1975, 1991, 2011]\n",
    "#case 1\n",
    "    catclass = ['Neighborhood', 'LotConfig','LotShape','YearInt']\n",
    "    df = ReplaceNanValues_LotFrontageArea(df, yearlable, yearbin, 'YearBuilt', 'YearInt', catclass, 'LotFrontage' )\n",
    "    df = ReplaceNanValues_LotFrontageArea(df, yearlable, yearbin, 'YearBuilt', 'YearInt', catclass, 'LotArea')\n",
    "    #print(df[df['LotFrontage'].isnull()].index.size)\n",
    "    catclass = ['LotConfig','LotShape','YearInt']\n",
    "#case 2\n",
    "    df = ReplaceNanValues_LotFrontageArea(df, yearlable, yearbin, 'YearBuilt', 'YearInt', catclass, 'LotFrontage')\n",
    "    df = ReplaceNanValues_LotFrontageArea(df, yearlable, yearbin, 'YearBuilt', 'YearInt', catclass, 'LotArea')\n",
    "    #print(df[df['LotFrontage'].isnull()].index.size)\n",
    "#case 3\n",
    "    yearlable = ['1942', '1991', '2011']\n",
    "    yearbin = [1800, 1942, 1991, 2011]\n",
    "    df = ReplaceNanValues_LotFrontageArea(df, yearlable, yearbin, 'YearBuilt', 'YearInt', catclass, 'LotFrontage')\n",
    "    df = ReplaceNanValues_LotFrontageArea(df, yearlable, yearbin, 'YearBuilt', 'YearInt', catclass, 'LotArea')\n",
    "    #print(df[df['LotFrontage'].isnull()].index.size)\n",
    "#case 4\n",
    "    yearlable = ['1975', '1991', '2011']\n",
    "    yearbin = [1800, 1975, 1991, 2011]\n",
    "    df = ReplaceNanValues_LotFrontageArea(df, yearlable, yearbin, 'YearBuilt', 'YearInt', catclass, 'LotFrontage')\n",
    "    df = ReplaceNanValues_LotFrontageArea(df, yearlable, yearbin, 'YearBuilt', 'YearInt', catclass, 'LotArea')\n",
    "    #print(df[df['LotFrontage'].isnull()].index.size)\n",
    "#case 5\n",
    "    yearlable = ['2011']\n",
    "    yearbin = [1800, 2011]\n",
    "    df = ReplaceNanValues_LotFrontageArea(df, yearlable, yearbin, 'YearBuilt', 'YearInt', catclass, 'LotFrontage')\n",
    "    df = ReplaceNanValues_LotFrontageArea(df, yearlable, yearbin, 'YearBuilt', 'YearInt', catclass, 'LotArea')   \n",
    "#Replace Nan in 'MSZoning'\n",
    "    ind1 = [1915, 2216, 2250] # C - assign by many factors\n",
    "    ind2 = [2904] # RL - by Lot Area, LotFrontage and YearBuilt \n",
    "    df.loc[ind1,'MSZoning'] = 'C'\n",
    "    df.loc[ind2,'MSZoning'] = 'RL'    \n",
    "#Replace Nan in 'Exterior1st' and 'Exterior2nd'\n",
    "    targetclass = ['Exterior1st', 'Exterior2nd']\n",
    "    ind = [2151]\n",
    "    df.loc[ind,targetclass] = 'AsbShng'  \n",
    "#Add column 'RangeYrBlt' and remove columns 'GarageYrBlt' and 'YearBilt'\n",
    "    yearbins = [1800, 1895, 1905, 1917, 1927, 1937,1947,1960, 1973, 1989, 1998, 2012]\n",
    "    yearlabels = ['1895', '1905', '1917', '1927', '1937', '1947', '1960', '1973', '1989', '1998', '2012']\n",
    "    if df.columns.isin(['YearBuilt']).any():\n",
    "        df['RangeYrBlt']=pd.cut(x = df['YearBuilt'].values, bins = yearbins, right = False, labels = yearlabels)\n",
    "        df = df.drop('YearBuilt', axis = 1)\n",
    "    if df.columns.isin(['GarageYrBlt']).any():\n",
    "        df = df.drop('GarageYrBlt', axis = 1)\n",
    "    df.loc[2120,['BsmtFinSF1', 'BsmtFinSF2', 'BsmtUnfSF', 'TotalBsmtSF']] = 0\n",
    "    df.loc[1379, 'Electrical'] = 'SBrkr' #  all houses in 2012 year built have this type of Electrical\n",
    "    if df.columns.isin(['GrLivArea']).any():\n",
    "        df = df.drop('GrLivArea', axis = 1) # it is sum of '1stFlrSF' and '2ndFlrSF'\n",
    "    df.loc[[2120,2188],['BsmtFullBath', 'BsmtHalfBath']] = 0\n",
    "    df.loc[1555, 'KitchenQual'] = 'TA'\n",
    "    df.loc[[2216, 2473],'Functional'] = 'Typ'\n",
    "    df.loc[2576,'GarageArea'] = 0\n",
    "    if df.columns.isin(['GarageCars']).any():\n",
    "        df = df.drop('GarageCars', axis = 1) # it has straight dependency on garage area\n",
    "    df.loc[2489, 'SaleType'] = 'WD' # the most used type according to sold year and sale condition\n",
    "    return df\n",
    "\n",
    "def sorted_columns(df, what, bby):\n",
    "    t_df = df.loc[df[bby] != 0]\n",
    "    t_df = t_df.groupby([what]).agg({bby : 'median'})\n",
    "    t_df = t_df.sort_values(by = bby, axis = 0 )\n",
    "    return t_df.index.values\n",
    "\n",
    "def FormatAndSave(df):\n",
    "    dff = df.copy()\n",
    "    categorical_flds = dff.columns[dff.dtypes == 'category' ].values\n",
    "    dff = pd.get_dummies(dff)#, columns = categorical_flds)\n",
    "    processed_data_path = os.path.join(os.path.pardir,'data','processed')\n",
    "    write_train_path = os.path.join(processed_data_path, 'train.csv')\n",
    "    write_test_path = os.path.join(processed_data_path, 'test.csv')\n",
    "    dff.loc[dff.SalePrice != 0].to_csv(write_train_path) \n",
    "    columns = [column for column in dff.columns if column != 'SalePrice']\n",
    "    dff.loc[dff.SalePrice == 0, columns].to_csv(write_test_path) \n",
    "\n",
    "if __name__ == '__main__':\n",
    "    df = CreateDataFrame()\n",
    "    df = df.pipe(ProccessOutliers).pipe(ProccessNanValues).pipe(FormatAndSave)"
   ]
  },
  {
   "cell_type": "code",
   "execution_count": 78,
   "metadata": {
    "collapsed": true
   },
   "outputs": [],
   "source": [
    "!python $get_processed_data_script_file"
   ]
  },
  {
   "cell_type": "code",
   "execution_count": 80,
   "metadata": {
    "collapsed": true
   },
   "outputs": [],
   "source": [
    "processed_data_path = os.path.join(os.path.pardir,'data','processed')\n",
    "write_train_path = os.path.join(processed_data_path, 'train.csv')\n",
    "write_test_path = os.path.join(processed_data_path, 'test.csv')\n",
    "train_df = pd.read_csv(write_train_path)"
   ]
  },
  {
   "cell_type": "markdown",
   "metadata": {},
   "source": [
    "#  Build model"
   ]
  },
  {
   "cell_type": "code",
   "execution_count": 1,
   "metadata": {
    "collapsed": true
   },
   "outputs": [],
   "source": [
    "import pandas as pd\n",
    "import numpy as np\n",
    "import matplotlib.pyplot as plt\n",
    "import os\n",
    "import sklearn as skl\n",
    "from sklearn.model_selection import train_test_split\n",
    "from sklearn import linear_model\n",
    "from sklearn.kernel_ridge import KernelRidge"
   ]
  },
  {
   "cell_type": "code",
   "execution_count": 2,
   "metadata": {
    "collapsed": true
   },
   "outputs": [],
   "source": [
    "processed_data_path = os.path.join(os.path.pardir,'data','processed')\n",
    "train_path = os.path.join(processed_data_path, 'train.csv')\n",
    "test_path = os.path.join(processed_data_path, 'test.csv')\n",
    "train_df = pd.read_csv(train_path)\n",
    "test_df = pd.read_csv(test_path)"
   ]
  },
  {
   "cell_type": "code",
   "execution_count": 3,
   "metadata": {
    "collapsed": true
   },
   "outputs": [],
   "source": [
    "def linear_ml_solve(train_df, test_df, scaler, solver, q = 0.4, target = 'temp.csv'):\n",
    "    X = train_df.loc[:,train_df.columns != 'SalePrice'].as_matrix().astype('float')\n",
    "    y = train_df['SalePrice'].ravel()\n",
    "    X_train, X_test, y_train, y_test = train_test_split(X, y, test_size=q, random_state=0)\n",
    "    X_train = scaler.fit_transform(X_train)\n",
    "    if q != 0:\n",
    "        X_test = scaler.transform(X_test)\n",
    "        solver.fit(X_train, y_train)\n",
    "        print(solver.score(X_test, y_test))\n",
    "    else: \n",
    "        print(\"No test subsets!!!!\")\n",
    "    X = scaler.fit_transform(X)    \n",
    "    XX = scaler.transform(test_df.as_matrix().astype('float'))\n",
    "    solver.fit(X, y) \n",
    "    pred_y = solver.predict(XX).astype('int')\n",
    "    df_submission = pd.DataFrame({'Id': test_df['Id'].values, 'SalePrice' : pred_y} )\n",
    "    submission_data_path = os.path.join(os.path.pardir,'data','external')\n",
    "    submission_file_path = os.path.join(submission_data_path, target)\n",
    "    df_submission.to_csv(submission_file_path, index=False)"
   ]
  },
  {
   "cell_type": "markdown",
   "metadata": {},
   "source": [
    "# Preprocessing Scaling"
   ]
  },
  {
   "cell_type": "code",
   "execution_count": 4,
   "metadata": {
    "collapsed": true
   },
   "outputs": [],
   "source": [
    "from sklearn.preprocessing import StandardScaler\n",
    "from sklearn.preprocessing import MinMaxScaler\n",
    "from sklearn.preprocessing import RobustScaler\n",
    "from sklearn.preprocessing import Normalizer\n",
    "from sklearn.preprocessing.data import QuantileTransformer\n",
    "from sklearn.preprocessing import PolynomialFeatures\n",
    "from sklearn.pipeline import Pipeline\n",
    "from sklearn.model_selection import GridSearchCV\n",
    "\n",
    "scaler1 = StandardScaler()\n",
    "scaler2 = MinMaxScaler()\n",
    "scaler3 = RobustScaler()\n",
    "scaler4 = Normalizer()\n",
    "scaler5 = QuantileTransformer()"
   ]
  },
  {
   "cell_type": "markdown",
   "metadata": {},
   "source": [
    "# ML"
   ]
  },
  {
   "cell_type": "code",
   "execution_count": 21,
   "metadata": {
    "collapsed": true
   },
   "outputs": [],
   "source": [
    "solver1 = linear_model.RidgeCV(alphas = np.arange(0.001, 5, 0.001))\n",
    "solver2 = linear_model.LassoCV()\n",
    "solver3 = linear_model.ElasticNetCV(alphas = np.arange(0.001, 5, 0.001), max_iter = 20000 )\n",
    "solver4 = linear_model.BayesianRidge()\n",
    "solver5 = KernelRidge(alpha=1.0,kernel='polynomial')\n",
    "solver5_1 = GridSearchCV(KernelRidge(kernel='rbf', gamma=0.1), cv=5,\n",
    "                  param_grid={\"alpha\": [1e0, 0.1, 1e-2, 1e-3],\n",
    "                              \"gamma\": np.logspace(-2, 2, 5)})\n",
    "solver6 = linear_model.PassiveAggressiveRegressor(C = 10,tol = 0.00001, max_iter = 50000)\n",
    "solver7 = linear_model.HuberRegressor(max_iter=10000)\n",
    "solver8 = Pipeline([('poly', PolynomialFeatures(degree=2)),  ('linear', solver1)])"
   ]
  },
  {
   "cell_type": "code",
   "execution_count": 23,
   "metadata": {},
   "outputs": [
    {
     "name": "stdout",
     "output_type": "stream",
     "text": [
      "0.837806080905\n"
     ]
    }
   ],
   "source": [
    "\n",
    "linear_ml_solve(train_df, test_df, scaler5, solver5_1, 0.4,'03_KernelRidge_RBF.csv')"
   ]
  },
  {
   "cell_type": "code",
   "execution_count": null,
   "metadata": {
    "collapsed": true
   },
   "outputs": [],
   "source": []
  }
 ],
 "metadata": {
  "kernelspec": {
   "display_name": "Python 3",
   "language": "python",
   "name": "python3"
  },
  "language_info": {
   "codemirror_mode": {
    "name": "ipython",
    "version": 3
   },
   "file_extension": ".py",
   "mimetype": "text/x-python",
   "name": "python",
   "nbconvert_exporter": "python",
   "pygments_lexer": "ipython3",
   "version": "3.6.3"
  }
 },
 "nbformat": 4,
 "nbformat_minor": 2
}
