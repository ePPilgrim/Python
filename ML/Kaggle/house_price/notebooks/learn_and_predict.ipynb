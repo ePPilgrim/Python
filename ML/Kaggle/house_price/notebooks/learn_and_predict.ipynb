{
 "cells": [
  {
   "cell_type": "code",
   "execution_count": 1,
   "metadata": {},
   "outputs": [],
   "source": [
    "import numpy as np\n",
    "from sklearn.base import RegressorMixin"
   ]
  },
  {
   "cell_type": "code",
   "execution_count": 2,
   "metadata": {},
   "outputs": [],
   "source": [
    "import numpy as np\n",
    "from sklearn.base import RegressorMixin\n",
    "\n",
    "class ConvexRegressor(RegressorMixin):\n",
    "    __delim__ = '$$&&$$'\n",
    "    __coef__ = 'c$o$e$f$'\n",
    "    def __init__(self,ests, convparams=None):\n",
    "        self.ests=ests\n",
    "        self.convparams = convparams\n",
    "        if convparams is None:\n",
    "            val = 1.0 / len(self.estimators)\n",
    "            self.convparams = {x.__class__.__name__ : val for x in self.ests} \n",
    "        self.__estrep__ = {x.__class__.__name__ : x for x in ests}\n",
    "            \n",
    "    def get_params(self, deep=True):\n",
    "        return {'ests' : self.ests, 'convparams' : self.convparams}\n",
    "             \n",
    "    def set_params(self, **params): \n",
    "        for key, val in params.items():\n",
    "            estname,delim,var = key.partition(self.__delim__) \n",
    "            if delim is '':\n",
    "                self.__setattr__(key,val)\n",
    "            else:\n",
    "                self.__estrep__[estname].set_params(**{var : val})  \n",
    "        return self\n",
    "        \n",
    "    def fit(self, X, y, sample_weight=None):\n",
    "        for est in self.ests:\n",
    "            est = est.fit(X,y)\n",
    "        return self\n",
    "            \n",
    "    def predict(self, X): \n",
    "        y = 0\n",
    "        for est in self.ests:\n",
    "            y += self.convparams[est.__class__.__name__] * est.predict(X)\n",
    "        return y\n",
    "          \n",
    "def convregparam(estimator,params):\n",
    "    return {estimator.__class__.__name__ + ConvexRegressor.__delim__ + x : y for x,y in params.items() }\n",
    "\n",
    "def convregconv(ests,convparams):\n",
    "    return {ests[i].__class__.__name__ : convparams[i] for i in range(len(ests))}"
   ]
  },
  {
   "cell_type": "code",
   "execution_count": null,
   "metadata": {},
   "outputs": [],
   "source": []
  }
 ],
 "metadata": {
  "kernelspec": {
   "display_name": "Python 3",
   "language": "python",
   "name": "python3"
  },
  "language_info": {
   "codemirror_mode": {
    "name": "ipython",
    "version": 3
   },
   "file_extension": ".py",
   "mimetype": "text/x-python",
   "name": "python",
   "nbconvert_exporter": "python",
   "pygments_lexer": "ipython3",
   "version": "3.6.8"
  }
 },
 "nbformat": 4,
 "nbformat_minor": 2
}
