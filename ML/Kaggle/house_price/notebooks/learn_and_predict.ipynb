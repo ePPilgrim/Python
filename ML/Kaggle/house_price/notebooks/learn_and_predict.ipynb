{
 "cells": [
  {
   "cell_type": "code",
   "execution_count": 12,
   "metadata": {},
   "outputs": [],
   "source": [
    "import numpy as np\n",
    "from sklearn.linear_model import Ridge\n",
    "from sklearn.preprocessing import normalize"
   ]
  },
  {
   "cell_type": "code",
   "execution_count": 2,
   "metadata": {},
   "outputs": [],
   "source": [
    "ss = Ridge()"
   ]
  },
  {
   "cell_type": "code",
   "execution_count": 53,
   "metadata": {},
   "outputs": [
    {
     "data": {
      "text/plain": [
       "True"
      ]
     },
     "execution_count": 53,
     "metadata": {},
     "output_type": "execute_result"
    }
   ],
   "source": [
    "text = \"AAAA$$&&$$BBBB\"\n",
    "r1,r2,r3 = text.partition('$$&&$$')\n",
    "r1 == 'AAAA'"
   ]
  },
  {
   "cell_type": "code",
   "execution_count": 3,
   "metadata": {},
   "outputs": [
    {
     "data": {
      "text/plain": [
       "{'alpha': 1.0,\n",
       " 'copy_X': True,\n",
       " 'fit_intercept': True,\n",
       " 'max_iter': None,\n",
       " 'normalize': False,\n",
       " 'random_state': None,\n",
       " 'solver': 'auto',\n",
       " 'tol': 0.001}"
      ]
     },
     "execution_count": 3,
     "metadata": {},
     "output_type": "execute_result"
    }
   ],
   "source": [
    "ss.get_params()"
   ]
  },
  {
   "cell_type": "code",
   "execution_count": 5,
   "metadata": {},
   "outputs": [
    {
     "data": {
      "text/plain": [
       "Ridge(alpha=3.0, copy_X=True, fit_intercept=True, max_iter=None,\n",
       "   normalize=False, random_state=None, solver='auto', tol=0.001)"
      ]
     },
     "execution_count": 5,
     "metadata": {},
     "output_type": "execute_result"
    }
   ],
   "source": [
    "ss.set_params(**{'alpha' : 3.0})"
   ]
  },
  {
   "cell_type": "code",
   "execution_count": 48,
   "metadata": {},
   "outputs": [
    {
     "data": {
      "text/plain": [
       "{'a': 1, 'b': 2, 'bb': 44}"
      ]
     },
     "execution_count": 48,
     "metadata": {},
     "output_type": "execute_result"
    }
   ],
   "source": [
    "v1 = {'a' : 1, 'b' : 2}\n",
    "v2 = {'c' : 3}\n",
    "v1['bb'] = 44\n",
    "v1"
   ]
  },
  {
   "cell_type": "code",
   "execution_count": null,
   "metadata": {},
   "outputs": [],
   "source": [
    "class ConvexRegressor:\n",
    "    __delim__ = '$$&&$$'\n",
    "    __coef__ = 'coef'\n",
    "    def __init__(estimators,estparams = None,convexparam=None):\n",
    "        self.estimators=estimators\n",
    "        self.estparams = estparams\n",
    "        if convexparam is None:\n",
    "            val = 1.0 / len(self.estimators)]*len(self.estimators)\n",
    "            self.convexparam = {x : val for x in self.estimators} \n",
    "        else:\n",
    "            self.convexparam = {self.estimators[i] : convexparam[i] for i in range(len(self.estimators))}\n",
    "        self.__estrep__ = {x.__class__.__name__ : x for x in estimators}\n",
    "            \n",
    "    def get_params(self, deep=True):\n",
    "        params = {x.__class__.__name__ + __delim__ + y : val for x in estimators for y,val in x.get_params().items()}\n",
    "        for i in range(len(estimators)):\n",
    "            params[estimators[i].__class__.__name__ + __delim__ + __coef__] = convexparam[i]\n",
    "        return params\n",
    "             \n",
    "    def set_params(self, **params): \n",
    "        for key, val in params.items():\n",
    "            estname,delim,var = key.partition(__delim__) \n",
    "            estimator = __estrep__[estname]\n",
    "            if var == __coef__:\n",
    "                convexparam[estimator] = val\n",
    "            else:\n",
    "                estimator.set_params(**{var : val})      \n",
    "        \n",
    "    def fit(self, X, y, sample_weight=None): pass\n",
    "    def predict(self, X): pass\n",
    "    def score(self, X, y, sample_weight=None): pass\n",
    "    \n",
    "def convregparam(estimator,params):\n",
    "    return {estimator.__class__.__name__ + ConvexRegressor.__delim__ + x : y for x,y in params.items() }"
   ]
  }
 ],
 "metadata": {
  "kernelspec": {
   "display_name": "Python 3",
   "language": "python",
   "name": "python3"
  },
  "language_info": {
   "codemirror_mode": {
    "name": "ipython",
    "version": 3
   },
   "file_extension": ".py",
   "mimetype": "text/x-python",
   "name": "python",
   "nbconvert_exporter": "python",
   "pygments_lexer": "ipython3",
   "version": "3.7.1"
  }
 },
 "nbformat": 4,
 "nbformat_minor": 2
}
