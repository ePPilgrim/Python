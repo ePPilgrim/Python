{
 "cells": [
  {
   "cell_type": "code",
   "execution_count": 2,
   "metadata": {},
   "outputs": [],
   "source": [
    "import pandas as pd\n",
    "import numpy as np\n",
    "import matplotlib.pyplot as plt\n",
    "import seaborn as sns\n",
    "import os\n",
    "project_dir = 'C:\\\\Users\\\\PLDD\\\\python\\\\Python\\\\ML\\\\Kaggle\\\\house_price'\n",
    "raw_path = os.path.join(project_dir,'data','raw')\n",
    "train_path = os.path.join(raw_path, 'train.csv')\n",
    "test_path = os.path.join(raw_path, 'test.csv')"
   ]
  },
  {
   "cell_type": "code",
   "execution_count": 21,
   "metadata": {},
   "outputs": [],
   "source": [
    "train = pd.read_csv(train_path)\n",
    "test = pd.read_csv(test_path)\n",
    "sns.set()"
   ]
  },
  {
   "cell_type": "code",
   "execution_count": null,
   "metadata": {},
   "outputs": [],
   "source": [
    "def ProccessOutliers(df):\n",
    "#'LotFrontage', 'LotArea', 'MasVnrArea', 'GrLivArea', 'GarageArea', 'PoolArea', 'SalePrice']\n",
    "#copydf['LotFrontage'].plot.hist()\n",
    "#copydf['LotFrontage'].plot.box()\n",
    "#copydf['LotArea'].plot.hist()\n",
    "#copydf['LotArea'].plot.box()\n",
    "#copydf['GrLivArea'].plot.hist()\n",
    "#copydf['GrLivArea'].plot.box()\n",
    "#plt.show()\n",
    "    lx = (df['SalePrice'] <= 200000) & (df['GrLivArea'] >= 4000) # drop from train set\n",
    "    lx = df['LotFrontage'] > 300 # drop from train set\n",
    "    lx = (df['LotFrontage'] > 200) | (df['LotArea'] > 100000) | (df['GrLivArea'] > 4000)\n",
    "#df = df.drop(df.index[lx], axis = 0)\n",
    "    df.loc[df['LotFrontage'] > 200,'LotFrontage'] = np.nan\n",
    "    df.loc[df['LotArea'] > 100000,'LotArea'] = np.nan\n",
    "    df.loc[df['GrLivArea'] > 4000,'GrLivArea'] = np.nan\n",
    "    return df"
   ]
  },
  {
   "cell_type": "code",
   "execution_count": 47,
   "metadata": {},
   "outputs": [],
   "source": [
    "columns = ['LotFrontage', 'LotArea', 'OverallQual','OverallCond', 'MasVnrArea', \n",
    "          'BsmtFinSF1','BsmtFinSF2','TotalBsmtSF','GrLivArea','GarageArea','SalePrice']\n",
    "columns = [ 'LotArea','TotalBsmtSF','GrLivArea','GarageArea','SalePrice','BsmtFinSF1','BsmtFinSF2','MasVnrType', 'MasVnrArea']\n",
    "#df = train[columns].astype('float')\n",
    "#sns.pairplot(df)\n",
    "#df.isnull().any()\n",
    "#df.corr()"
   ]
  },
  {
   "cell_type": "code",
   "execution_count": 63,
   "metadata": {},
   "outputs": [
    {
     "data": {
      "text/plain": [
       "array(['BrkFace', 'None', 'Stone', 'BrkCmn', nan], dtype=object)"
      ]
     },
     "execution_count": 63,
     "metadata": {},
     "output_type": "execute_result"
    }
   ],
   "source": [
    "#sns.pairplot(data = df, dropna = True)\n",
    "#lx = train['MasVnrType'] == 'None'\n",
    "#sns.distplot(train[~lx]['MasVnrArea'])\n",
    "#train['MasVnrType'].\n",
    "train['MasVnrType'].unique()"
   ]
  },
  {
   "cell_type": "code",
   "execution_count": 65,
   "metadata": {},
   "outputs": [
    {
     "data": {
      "text/html": [
       "<div>\n",
       "<style>\n",
       "    .dataframe thead tr:only-child th {\n",
       "        text-align: right;\n",
       "    }\n",
       "\n",
       "    .dataframe thead th {\n",
       "        text-align: left;\n",
       "    }\n",
       "\n",
       "    .dataframe tbody tr th {\n",
       "        vertical-align: top;\n",
       "    }\n",
       "</style>\n",
       "<table border=\"1\" class=\"dataframe\">\n",
       "  <thead>\n",
       "    <tr style=\"text-align: right;\">\n",
       "      <th></th>\n",
       "      <th>SalePrice</th>\n",
       "      <th>GrLivArea</th>\n",
       "      <th>GarageArea</th>\n",
       "      <th>LotArea</th>\n",
       "      <th>LotFrontage</th>\n",
       "      <th>YearBuilt</th>\n",
       "      <th>Neighborhood</th>\n",
       "      <th>LotShape</th>\n",
       "      <th>LandContour</th>\n",
       "      <th>LotConfig</th>\n",
       "    </tr>\n",
       "  </thead>\n",
       "  <tbody>\n",
       "    <tr>\n",
       "      <th>934</th>\n",
       "      <td>242000</td>\n",
       "      <td>2069</td>\n",
       "      <td>505</td>\n",
       "      <td>27650</td>\n",
       "      <td>313.0</td>\n",
       "      <td>1960</td>\n",
       "      <td>NAmes</td>\n",
       "      <td>IR2</td>\n",
       "      <td>HLS</td>\n",
       "      <td>Inside</td>\n",
       "    </tr>\n",
       "    <tr>\n",
       "      <th>1298</th>\n",
       "      <td>160000</td>\n",
       "      <td>5642</td>\n",
       "      <td>1418</td>\n",
       "      <td>63887</td>\n",
       "      <td>313.0</td>\n",
       "      <td>2008</td>\n",
       "      <td>Edwards</td>\n",
       "      <td>IR3</td>\n",
       "      <td>Bnk</td>\n",
       "      <td>Corner</td>\n",
       "    </tr>\n",
       "  </tbody>\n",
       "</table>\n",
       "</div>"
      ],
      "text/plain": [
       "      SalePrice  GrLivArea  GarageArea  LotArea  LotFrontage  YearBuilt  \\\n",
       "934      242000       2069         505    27650        313.0       1960   \n",
       "1298     160000       5642        1418    63887        313.0       2008   \n",
       "\n",
       "     Neighborhood LotShape LandContour LotConfig  \n",
       "934         NAmes      IR2         HLS    Inside  \n",
       "1298      Edwards      IR3         Bnk    Corner  "
      ]
     },
     "execution_count": 65,
     "metadata": {},
     "output_type": "execute_result"
    }
   ],
   "source": [
    "df = train[['SalePrice', 'GrLivArea', 'GarageArea','LotArea','LotFrontage', 'YearBuilt','Neighborhood','LotShape','LandContour','LotConfig']]\n",
    "#lx = (df['SalePrice'] <= 200000) & (df['GrLivArea'] >= 4000)\n",
    "lx = train['LotFrontage'] > 300\n",
    "df[lx]\n",
    "#sns.lmplot(x='GrLivArea', y='SalePrice',data = df[~lx])"
   ]
  },
  {
   "cell_type": "code",
   "execution_count": 14,
   "metadata": {},
   "outputs": [
    {
     "data": {
      "text/plain": [
       "Index(['LotFrontage', 'Alley', 'MasVnrType', 'MasVnrArea', 'BsmtQual',\n",
       "       'BsmtCond', 'BsmtExposure', 'BsmtFinType1', 'BsmtFinType2',\n",
       "       'Electrical', 'FireplaceQu', 'GarageType', 'GarageYrBlt',\n",
       "       'GarageFinish', 'GarageQual', 'GarageCond', 'PoolQC', 'Fence',\n",
       "       'MiscFeature'],\n",
       "      dtype='object')"
      ]
     },
     "execution_count": 14,
     "metadata": {},
     "output_type": "execute_result"
    }
   ],
   "source": [
    "df=train.select_dtypes(include=[np.number])\n",
    "df.columns\n",
    "train.columns[train.isnull().any(0)]"
   ]
  },
  {
   "cell_type": "code",
   "execution_count": 71,
   "metadata": {},
   "outputs": [
    {
     "data": {
      "text/plain": [
       "<seaborn.axisgrid.FacetGrid at 0x1f661ee9d68>"
      ]
     },
     "execution_count": 71,
     "metadata": {},
     "output_type": "execute_result"
    },
    {
     "data": {
      "image/png": "[encoded data removed]",
      "text/plain": [
       "<matplotlib.figure.Figure at 0x1f657936128>"
      ]
     },
     "metadata": {},
     "output_type": "display_data"
    }
   ],
   "source": [
    "\n",
    "#train_df.columns 'LotFrontage', 'LotArea'\n",
    "df = train[['SalePrice','Neighborhood','YearBuilt']]\n",
    "lx = (df['YearBuilt'] > 1997) & (df['SalePrice'] < 500000)\n",
    "sns.catplot(x = 'YearBuilt',hue = 'Neighborhood', y = 'SalePrice',data = df[lx],kind=\"swarm\",aspect = 3.4)\n",
    "# scatter plot matrix\n",
    "#columns = ['GrLivArea','SalePrice']\n",
    "#pd.plotting.scatter_matrix(train_df[columns],figsize=(10,10))\n",
    "#plt.figure()\n",
    "#train_df[columns].corr()"
   ]
  },
  {
   "cell_type": "code",
   "execution_count": 99,
   "metadata": {},
   "outputs": [
    {
     "name": "stdout",
     "output_type": "stream",
     "text": [
      "Index(['MSZoning', 'LotFrontage', 'Alley', 'Utilities', 'Exterior1st',\n",
      "       'Exterior2nd', 'MasVnrType', 'MasVnrArea', 'BsmtQual', 'BsmtCond',\n",
      "       'BsmtExposure', 'BsmtFinType1', 'BsmtFinSF1', 'BsmtFinType2',\n",
      "       'BsmtFinSF2', 'BsmtUnfSF', 'TotalBsmtSF', 'Electrical', 'BsmtFullBath',\n",
      "       'BsmtHalfBath', 'KitchenQual', 'Functional', 'FireplaceQu',\n",
      "       'GarageType', 'GarageYrBlt', 'GarageFinish', 'GarageCars', 'GarageArea',\n",
      "       'GarageQual', 'GarageCond', 'PoolQC', 'Fence', 'MiscFeature',\n",
      "       'SaleType'],\n",
      "      dtype='object')\n"
     ]
    },
    {
     "data": {
      "text/plain": [
       "0"
      ]
     },
     "execution_count": 99,
     "metadata": {},
     "output_type": "execute_result"
    }
   ],
   "source": [
    "df = test.copy()\n",
    "df['SalePrice'] = 0.0\n",
    "df = df.append(train)\n",
    "print(df.columns[df.isnull().any()])\n",
    "col = ['Alley']\n",
    "col1 = ['BsmtQual','BsmtCond','BsmtExposure','BsmtFinType1','BsmtFinType2']\n",
    "col2 = ['BsmtFinSF1','BsmtFinSF2','BsmtUnfSF', 'TotalBsmtSF','BsmtFullBath','BsmtHalfBath']\n",
    "df['BsmtFullBath'].unique()\n",
    "lx = df[col1].isnull().any(axis=1)\n",
    "lx2 = df['TotalBsmtSF'] == 0\n",
    "lx3 = ~df[lx2][col1].isnull().all(axis=1)"
   ]
  },
  {
   "cell_type": "code",
   "execution_count": 12,
   "metadata": {},
   "outputs": [
    {
     "name": "stdout",
     "output_type": "stream",
     "text": [
      "['RL' 'RM' 'C (all)' 'FV' 'RH']\n",
      "['RH' 'RL' 'RM' 'FV' 'C (all)' nan]\n"
     ]
    }
   ],
   "source": [
    "print(train_df['MSZoning'].unique())\n",
    "print(test_df['MSZoning'].unique())"
   ]
  },
  {
   "cell_type": "code",
   "execution_count": 4,
   "metadata": {},
   "outputs": [],
   "source": [
    "numberic_features=train_df.select_dtypes(include=[np.number])\n",
    "categorical_features=train_df.select_dtypes(include=[np.object])"
   ]
  },
  {
   "cell_type": "code",
   "execution_count": 7,
   "metadata": {},
   "outputs": [
    {
     "name": "stdout",
     "output_type": "stream",
     "text": [
      "<class 'pandas.core.frame.DataFrame'>\n",
      "RangeIndex: 1460 entries, 0 to 1459\n",
      "Data columns (total 38 columns):\n",
      "Id               1460 non-null int64\n",
      "MSSubClass       1460 non-null int64\n",
      "LotFrontage      1201 non-null float64\n",
      "LotArea          1460 non-null int64\n",
      "OverallQual      1460 non-null int64\n",
      "OverallCond      1460 non-null int64\n",
      "YearBuilt        1460 non-null int64\n",
      "YearRemodAdd     1460 non-null int64\n",
      "MasVnrArea       1452 non-null float64\n",
      "BsmtFinSF1       1460 non-null int64\n",
      "BsmtFinSF2       1460 non-null int64\n",
      "BsmtUnfSF        1460 non-null int64\n",
      "TotalBsmtSF      1460 non-null int64\n",
      "1stFlrSF         1460 non-null int64\n",
      "2ndFlrSF         1460 non-null int64\n",
      "LowQualFinSF     1460 non-null int64\n",
      "GrLivArea        1460 non-null int64\n",
      "BsmtFullBath     1460 non-null int64\n",
      "BsmtHalfBath     1460 non-null int64\n",
      "FullBath         1460 non-null int64\n",
      "HalfBath         1460 non-null int64\n",
      "BedroomAbvGr     1460 non-null int64\n",
      "KitchenAbvGr     1460 non-null int64\n",
      "TotRmsAbvGrd     1460 non-null int64\n",
      "Fireplaces       1460 non-null int64\n",
      "GarageYrBlt      1379 non-null float64\n",
      "GarageCars       1460 non-null int64\n",
      "GarageArea       1460 non-null int64\n",
      "WoodDeckSF       1460 non-null int64\n",
      "OpenPorchSF      1460 non-null int64\n",
      "EnclosedPorch    1460 non-null int64\n",
      "3SsnPorch        1460 non-null int64\n",
      "ScreenPorch      1460 non-null int64\n",
      "PoolArea         1460 non-null int64\n",
      "MiscVal          1460 non-null int64\n",
      "MoSold           1460 non-null int64\n",
      "YrSold           1460 non-null int64\n",
      "SalePrice        1460 non-null int64\n",
      "dtypes: float64(3), int64(35)\n",
      "memory usage: 433.5 KB\n"
     ]
    }
   ],
   "source": [
    "numberic_features.info()"
   ]
  },
  {
   "cell_type": "code",
   "execution_count": null,
   "metadata": {},
   "outputs": [],
   "source": [
    "lx = test_df['Utilities'] == 'AllPub'\n",
    "print(lx.sum())\n",
    "print(lx.size)"
   ]
  },
  {
   "cell_type": "markdown",
   "metadata": {},
   "source": [
    " # Create data frame"
   ]
  },
  {
   "cell_type": "markdown",
   "metadata": {},
   "source": [
    "Combines train and test data frame:"
   ]
  },
  {
   "cell_type": "code",
   "execution_count": null,
   "metadata": {},
   "outputs": [],
   "source": [
    "def CreateDataFrame(train_path, test_path):\n",
    "    train_df = pd.read_csv(train_path)\n",
    "    test_df = pd.read_csv(test_path)\n",
    "    test_df['SalePrice'] = 0.0\n",
    "    df = train_df.append(test_df)\n",
    "    df.index = list(range(train_df.index.size + test_df.index.size))\n",
    "    # 2916 out of 2919 Utilities are AllPub so i think it should be droped off\n",
    "    df = df.drop('Utilities', axis = 1)\n",
    "    return df"
   ]
  },
  {
   "cell_type": "markdown",
   "metadata": {},
   "source": [
    "# Proccess outliers"
   ]
  },
  {
   "cell_type": "code",
   "execution_count": null,
   "metadata": {},
   "outputs": [],
   "source": [
    "def ProccessOutliers(df):\n",
    "#'LotFrontage', 'LotArea', 'MasVnrArea', 'GrLivArea', 'GarageArea', 'PoolArea', 'SalePrice']\n",
    "#copydf['LotFrontage'].plot.hist()\n",
    "#copydf['LotFrontage'].plot.box()\n",
    "#copydf['LotArea'].plot.hist()\n",
    "#copydf['LotArea'].plot.box()\n",
    "#copydf['GrLivArea'].plot.hist()\n",
    "#copydf['GrLivArea'].plot.box()\n",
    "#plt.show()\n",
    "    lx = (df['LotFrontage'] > 200) | (df['LotArea'] > 100000) | (df['GrLivArea'] > 4000)\n",
    "#df = df.drop(df.index[lx], axis = 0)\n",
    "    df.loc[df['LotFrontage'] > 200,'LotFrontage'] = np.nan\n",
    "    df.loc[df['LotArea'] > 100000,'LotArea'] = np.nan\n",
    "    df.loc[df['GrLivArea'] > 4000,'GrLivArea'] = np.nan\n",
    "    return df"
   ]
  },
  {
   "cell_type": "markdown",
   "metadata": {},
   "source": [
    "# Proccess Nan values"
   ]
  },
  {
   "cell_type": "code",
   "execution_count": null,
   "metadata": {},
   "outputs": [],
   "source": [
    "def ReplaceNanValues_LotFrontageArea(df, alables, abins, fromfld, tofld, catclass, targetclass):\n",
    "    fullclass = catclass + [targetclass]\n",
    "    df[tofld]=pd.cut(x = df[fromfld].values, bins = abins, right = False, labels = alables)\n",
    "    validdf = df[fullclass].dropna(axis = 0, how = 'any')\n",
    "    nandf = df[df[targetclass].isnull()]\n",
    "    pvt = validdf.pivot_table(values = targetclass, index = catclass, aggfunc = np.median)\n",
    "    pvt=pvt[pvt.notnull().all(1)]\n",
    "    t1 = pvt.loc[[tuple(x) for x in nandf[catclass].values]]\n",
    "    t1.index = nandf.index\n",
    "    df.loc[nandf.index,targetclass] = t1[targetclass]\n",
    "    df = df.drop(tofld, axis = 1)\n",
    "    return df\n",
    "\n",
    "def ProccessNanValues(df):\n",
    "    DefSeqCat = ['Alley','BsmtQual', 'BsmtCond', 'BsmtExposure','BsmtFinType1', 'BsmtFinType2', 'FireplaceQu',\n",
    "                 'GarageType', 'GarageFinish', 'GarageQual', 'GarageCond', 'PoolQC',\n",
    "                 'Fence', 'MiscFeature']\n",
    "    UndefSeqCat1 = ['MSZoning', 'Utilities', 'Exterior1st', 'Exterior2nd','Electrical', 'KitchenQual',\n",
    "                    'Functional', 'SaleType'] # there are defenetly lost elements \n",
    "    UndefSeqCat2 = ['MasVnrType'] # i may just not make it clear the property of the column\n",
    "    UndefSeqNum = ['LotFrontage', 'MasVnrArea', 'BsmtFinSF1', 'BsmtFinSF2', 'BsmtUnfSF', 'TotalBsmtSF', \n",
    "                   'BsmtFullBath', 'BsmtHalfBath', 'GarageYrBlt', 'GarageCars', 'GarageArea']\n",
    "\n",
    "    replace=dict.fromkeys(DefSeqCat, 'None')\n",
    "    df = df.fillna(replace)\n",
    "#'MasVnrType'\n",
    "    ix = df.index[df['MasVnrType'].isnull()]\n",
    "    df.loc[ix,'MasVnrType'] = 'None'\n",
    "    df.loc[ix,'MasVnrArea'] = 0\n",
    "\n",
    "    NanCol = ['LotFrontage', 'MSZoning', 'Utilities', 'Exterior1st', 'Exterior2nd', 'MasVnrType',\n",
    "              'MasVnrArea', 'BsmtFinSF1', 'BsmtFinSF2', 'BsmtUnfSF', 'TotalBsmtSF',\n",
    "              'Electrical', 'BsmtFullBath', 'BsmtHalfBath', 'KitchenQual',\n",
    "              'Functional', 'GarageYrBlt', 'GarageCars', 'GarageArea', 'SaleType']\n",
    "    #Replace NAN values in 'LotFrontage' and 'LotArea' with iterpolated value.\n",
    "    yearlable = ['1906', '1942', '1975', '1991', '2011']\n",
    "    yearbin = [1800,1906,1942,1975, 1991, 2011]\n",
    "\n",
    "#case 1\n",
    "    catclass = ['Neighborhood', 'LotConfig','LotShape','YearInt']\n",
    "    df = ReplaceNanValues_LotFrontageArea(df, yearlable, yearbin, 'YearBuilt', 'YearInt', catclass, 'LotFrontage' )\n",
    "    df = ReplaceNanValues_LotFrontageArea(df, yearlable, yearbin, 'YearBuilt', 'YearInt', catclass, 'LotArea')\n",
    "    #print(df[df['LotFrontage'].isnull()].index.size)\n",
    "\n",
    "    catclass = ['LotConfig','LotShape','YearInt']\n",
    "#case 2\n",
    "    df = ReplaceNanValues_LotFrontageArea(df, yearlable, yearbin, 'YearBuilt', 'YearInt', catclass, 'LotFrontage')\n",
    "    df = ReplaceNanValues_LotFrontageArea(df, yearlable, yearbin, 'YearBuilt', 'YearInt', catclass, 'LotArea')\n",
    "    #print(df[df['LotFrontage'].isnull()].index.size)\n",
    "\n",
    "#case 3\n",
    "    yearlable = ['1942', '1991', '2011']\n",
    "    yearbin = [1800, 1942, 1991, 2011]\n",
    "    df = ReplaceNanValues_LotFrontageArea(df, yearlable, yearbin, 'YearBuilt', 'YearInt', catclass, 'LotFrontage')\n",
    "    df = ReplaceNanValues_LotFrontageArea(df, yearlable, yearbin, 'YearBuilt', 'YearInt', catclass, 'LotArea')\n",
    "    #print(df[df['LotFrontage'].isnull()].index.size)\n",
    "\n",
    "#case 4\n",
    "    yearlable = ['1975', '1991', '2011']\n",
    "    yearbin = [1800, 1975, 1991, 2011]\n",
    "    df = ReplaceNanValues_LotFrontageArea(df, yearlable, yearbin, 'YearBuilt', 'YearInt', catclass, 'LotFrontage')\n",
    "    df = ReplaceNanValues_LotFrontageArea(df, yearlable, yearbin, 'YearBuilt', 'YearInt', catclass, 'LotArea')\n",
    "    #print(df[df['LotFrontage'].isnull()].index.size)\n",
    "\n",
    "#case 5\n",
    "    yearlable = ['2011']\n",
    "    yearbin = [1800, 2011]\n",
    "    df = ReplaceNanValues_LotFrontageArea(df, yearlable, yearbin, 'YearBuilt', 'YearInt', catclass, 'LotFrontage')\n",
    "    df = ReplaceNanValues_LotFrontageArea(df, yearlable, yearbin, 'YearBuilt', 'YearInt', catclass, 'LotArea')\n",
    "    #print(df[df['LotFrontage'].isnull()].index.size)\n",
    "    #print(df[df['LotArea'].isnull()].index.size)\n",
    "    \n",
    "    #Replace Nan in 'MSZoning'\n",
    "    ind1 = [1915, 2216, 2250] # C - assign by many factors\n",
    "    ind2 = [2904] # RL - by Lot Area, LotFrontage and YearBuilt \n",
    "    df.loc[ind1,'MSZoning'] = 'C'\n",
    "    df.loc[ind2,'MSZoning'] = 'RL'\n",
    "    \n",
    "    #Replace Nan in 'Exterior1st' and 'Exterior2nd'\n",
    "    targetclass = ['Exterior1st', 'Exterior2nd']\n",
    "    ind = [2151]\n",
    "    df.loc[ind,targetclass] = 'AsbShng'\n",
    "    \n",
    "    #Add column 'RangeYrBlt' and remove columns 'GarageYrBlt' and 'YearBilt'\n",
    "    yearbins = [1800, 1895, 1905, 1917, 1927, 1937,1947,1960, 1973, 1989, 1998, 2012]\n",
    "    yearlabels = ['1895', '1905', '1917', '1927', '1937', '1947', '1960', '1973', '1989', '1998', '2012']\n",
    "    if df.columns.isin(['YearBuilt']).any():\n",
    "        df['RangeYrBlt']=pd.cut(x = df['YearBuilt'].values, bins = yearbins, right = False, labels = yearlabels)\n",
    "        df = df.drop('YearBuilt', axis = 1)\n",
    "    if df.columns.isin(['GarageYrBlt']).any():\n",
    "        df = df.drop('GarageYrBlt', axis = 1)\n",
    "    \n",
    "    #Replace Nan in 'BsmtFinSF1', 'BsmtFinSF2', 'BsmtUnfSF', 'TotalBsmtSF' (row index - 2120)\n",
    "    # There is no basement in this house so all areas we take as 0\n",
    "    df.loc[2120,['BsmtFinSF1', 'BsmtFinSF2', 'BsmtUnfSF', 'TotalBsmtSF']] = 0\n",
    "    \n",
    "    #Replase Nan in 'Electrical' (row index - 1379)\n",
    "    df.loc[1379, 'Electrical'] = 'SBrkr' #  all houses in 2012 year built have this type of Electrical\n",
    "    \n",
    "    #Replase Nan in 'GrLivArea'\n",
    "    if df.columns.isin(['GrLivArea']).any():\n",
    "        df = df.drop('GrLivArea', axis = 1) # it is sum of '1stFlrSF' and '2ndFlrSF'\n",
    "        \n",
    "    #Replace Nan in 'BsmtFullBath' and 'BsmtHalfBath' (row indexes are 2120 and 2188) # all these houses have no basements\n",
    "    df.loc[[2120,2188],['BsmtFullBath', 'BsmtHalfBath']] = 0\n",
    "    \n",
    "    #Replace Nan in 'KitchenQual' (row index is 1555)\n",
    "    # Value of 'KitchenQual' depends on 'OverallQual', 'OverallCond'\n",
    "    df.loc[1555, 'KitchenQual'] = 'TA'\n",
    "    \n",
    "    #Replace Nan in 'Functional' (row indexes are 2216, 2473)\n",
    "    # The most used functionality is 'Typ'\n",
    "    df.loc[[2216, 2473],'Functional'] = 'Typ'\n",
    "    \n",
    "    #Replace Nan in 'GarageCars', 'GarageArea' (row index is 2576)\n",
    "    #there is no garage so its area is 0\n",
    "    df.loc[2576,'GarageArea'] = 0\n",
    "    if df.columns.isin(['GarageCars']).any():\n",
    "        df = df.drop('GarageCars', axis = 1) # it has straight dependency on garage area\n",
    "        \n",
    "    #Replace Nan in 'SaleType' (row index is 2489)\n",
    "    df.loc[2489, 'SaleType'] = 'WD' # the most used type according to sold year and sale condition\n",
    "    \n",
    "    return df"
   ]
  },
  {
   "cell_type": "markdown",
   "metadata": {},
   "source": [
    "# Categorizing"
   ]
  },
  {
   "cell_type": "code",
   "execution_count": null,
   "metadata": {},
   "outputs": [],
   "source": [
    "def sorted_columns(df, what, bby):\n",
    "    t_df = df.loc[df[bby] != 0]\n",
    "    t_df = t_df.groupby([what]).agg({bby : 'median'})\n",
    "    t_df = t_df.sort_values(by = bby, axis = 0 )\n",
    "    return t_df.index.values\n",
    "\n",
    "def Categorizing(copydf):\n",
    "\n",
    "    OrderedCat = ['MSZoning', 'Street','Alley', 'Condition1', 'Condition2', 'BldgType', 'HouseStyle', 'RoofMatl']\n",
    "    NonOrderedCat = ['LandContour', 'LotConfig', 'LotShape', 'LandContour', 'LotConfig', 'LandSlope', 'Neighborhood', 'RoofStyle'\n",
    "                'Exterior1st','Exterior2nd']\n",
    "\n",
    "    copydf['MSZoning'] = pd.Categorical(copydf['MSZoning'].values, ['C', 'C (all)', 'RM', 'RH', 'RL', 'FV'], ordered = True)\n",
    "    copydf['Street'] = pd.Categorical(copydf['Street'].values, ['Grvl','Pave'], ordered = True)\n",
    "    copydf['Alley'] = pd.Categorical(copydf['Alley'].values, ['None', 'Grvl', 'Pave'], ordered = True)\n",
    "    copydf['LotShape'] = pd.Categorical(copydf['LotShape'].values, ['Reg', 'IR1', 'IR2', 'IR3'], ordered = True) # can be droped\n",
    "    copydf['LandContour'] = pd.Categorical(copydf['LandContour'].values, ['Lvl', 'Bnk', 'Low', 'HLS'], ordered = True)\n",
    "    copydf['LotConfig'] = pd.Categorical(copydf['LotConfig'].values, ['FR2', 'Corner', 'Inside', 'CulDSac', 'FR3'], ordered = True)\n",
    "    copydf['LandSlope'] = pd.Categorical(copydf['LandSlope'].values, ['Sev', 'Mod', 'Gtl'], ordered = True)\n",
    "    copydf['Neighborhood'] = pd.Categorical(copydf['Neighborhood'].values, sorted_columns(copydf.loc[copydf.SalePrice != 0], 'Neighborhood' , 'SalePrice'), ordered = True)\n",
    "    copydf['Condition1'] = pd.Categorical(copydf['Condition1'].values, ['PosA', 'PosN', 'Norm', 'RRNn', 'RRNe', 'RRAe',  'RRAn', 'Feedr', 'Artery'], ordered = True)\n",
    "    copydf['Condition2'] = pd.Categorical(copydf['Condition2'].values, ['PosA', 'PosN', 'Norm', 'RRNn', 'RRAe', 'RRAn','Feedr', 'Artery'], ordered = True)\n",
    "    copydf['BldgType'] = pd.Categorical(copydf['BldgType'].values, ['2fmCon', 'Duplex', 'Twnhs', 'TwnhsE', '1Fam'], ordered = True)\n",
    "    copydf['HouseStyle'] = pd.Categorical(copydf['HouseStyle'].values, ['1.5Unf', '1.5Fin', 'SFoyer', 'SLvl', '1Story', '2.5Unf', '2.5Fin', '2Story'], ordered = True)\n",
    "    copydf['RoofStyle'] = pd.Categorical(copydf['RoofStyle'].values, sorted_columns(copydf.loc[copydf.SalePrice != 0], 'RoofStyle', 'SalePrice'), ordered = True)\n",
    "    copydf['RoofMatl'] = pd.Categorical(copydf['RoofMatl'].values, ['Roll', 'ClyTile', 'Metal', 'CompShg', 'Tar&Grv', 'Membran', 'WdShake', 'WdShngl'], ordered = True)\n",
    "    copydf['Exterior1st'] = pd.Categorical(copydf['Exterior1st'].values, sorted_columns(copydf.loc[copydf.SalePrice != 0], 'Exterior1st', 'SalePrice'), ordered = True)\n",
    "    copydf['Exterior2nd'] = pd.Categorical(copydf['Exterior2nd'].values, sorted_columns(copydf.loc[copydf.SalePrice != 0], 'Exterior2nd', 'SalePrice'), ordered = True)\n",
    "    copydf['MasVnrType'] = pd.Categorical(copydf['MasVnrType'].values, sorted_columns(copydf.loc[copydf.SalePrice != 0], 'MasVnrType', 'SalePrice'), ordered = True)\n",
    "    copydf['ExterQual'] = pd.Categorical(copydf['ExterQual'].values, ['Po', 'Fa', 'TA', 'Gd', 'Ex'], ordered = True)\n",
    "    copydf['ExterCond'] = pd.Categorical(copydf['ExterCond'].values, ['Po', 'Fa', 'TA', 'Gd', 'Ex'], ordered = True)\n",
    "    copydf['Foundation'] = pd.Categorical(copydf['Foundation'].values, ['Slab', 'Stone', 'Wood', 'BrkTil', 'CBlock', 'PConc'], ordered = True)\n",
    "    copydf['BsmtQual'] = pd.Categorical(copydf['BsmtQual'].values, ['None', 'Po', 'Fa', 'TA', 'Gd', 'Ex'], ordered = True)\n",
    "    copydf['BsmtCond'] = pd.Categorical(copydf['BsmtCond'].values, ['None', 'Po', 'Fa', 'TA', 'Gd', 'Ex'], ordered = True)\n",
    "    copydf['BsmtExposure'] = pd.Categorical(copydf['BsmtExposure'].values, ['None', 'No', 'Mn', 'Av', 'Gd'], ordered = True)\n",
    "    copydf['BsmtFinType1'] = pd.Categorical(copydf['BsmtFinType1'].values, ['None', 'LwQ', 'Rec','Unf','BLQ','ALQ','GLQ'], ordered = True)\n",
    "    copydf['BsmtFinType2'] = pd.Categorical(copydf['BsmtFinType2'].values, ['None', 'LwQ', 'Rec','Unf','BLQ','ALQ','GLQ'], ordered = True)\n",
    "    copydf['Heating'] = pd.Categorical(copydf['Heating'].values, ['Floor', 'Grav', 'Wall', 'OthW', 'GasW','GasA'], ordered = True)\n",
    "    copydf['HeatingQC'] = pd.Categorical(copydf['HeatingQC'].values, ['Po', 'Fa', 'TA', 'Gd', 'Ex'], ordered = True)\n",
    "    copydf['CentralAir'] = pd.Categorical(copydf['CentralAir'].values, ['N', 'Y'], ordered = True)\n",
    "    copydf['Electrical'] = pd.Categorical(copydf['Electrical'].values, ['Mix', 'FuseP', 'FuseF', 'FuseA', 'SBrkr' ], ordered = True)\n",
    "    copydf['KitchenQual'] = pd.Categorical(copydf['KitchenQual'].values, ['Po', 'Fa', 'TA', 'Gd', 'Ex'], ordered = True)\n",
    "    copydf['Functional'] = pd.Categorical(copydf['Functional'].values, ['Sev', 'Maj2', 'Maj1', 'Min1', 'Min2', 'Mod', 'Typ'], ordered = True)\n",
    "    copydf['FireplaceQu'] = pd.Categorical(copydf['FireplaceQu'].values, ['None','Po', 'Fa', 'TA', 'Gd', 'Ex'], ordered = True)\n",
    "    copydf['GarageType'] = pd.Categorical(copydf['GarageType'].values, ['None', 'CarPort','Detchd', '2Types', 'Basment', 'Attchd', 'BuiltIn'], ordered = True)\n",
    "    copydf['GarageFinish'] = pd.Categorical(copydf['GarageFinish'].values, ['None', 'Unf', 'RFn', 'Fin'], ordered = True)\n",
    "    copydf['GarageQual'] = pd.Categorical(copydf['GarageQual'].values, ['None', 'Po', 'Fa', 'TA', 'Gd', 'Ex'], ordered = True)\n",
    "    copydf['GarageCond'] = pd.Categorical(copydf['GarageCond'].values, ['None', 'Po', 'Fa', 'TA', 'Gd', 'Ex'], ordered = True)\n",
    "    copydf['PavedDrive'] = pd.Categorical(copydf['PavedDrive'].values, ['N', 'P', 'Y'], ordered = True)\n",
    "\n",
    "    copydf['PoolQC'] = pd.Categorical(copydf['PoolQC'].values, ['None', 'Fa', 'TA', 'Gd', 'Ex'], ordered = True)\n",
    "    copydf['Fence'] = pd.Categorical(copydf['Fence'].values, ['MnWw', 'GdWo', 'MnPrv', 'GdPrv', 'None'], ordered = True)\n",
    "    copydf['MiscFeature'] = pd.Categorical(copydf['MiscFeature'].values, ['Othr', 'Shed', 'Gar2', 'None', 'TenC'], ordered = True)\n",
    "    copydf['SaleType'] = pd.Categorical(copydf['SaleType'].values, ['Oth', 'ConLD', 'ConLw', 'COD', 'WD', 'ConLI', 'CWD', 'Con', 'New'], ordered = True)\n",
    "    copydf['SaleCondition'] = pd.Categorical(copydf['SaleCondition'].values, ['AdjLand', 'Abnorml', 'Family', 'Alloca', 'Normal', 'Partial'], ordered = True)\n",
    "\n",
    "    #print(copydf.columns[copydf.dtypes == 'object'].size)\n",
    "    return copydf"
   ]
  },
  {
   "cell_type": "code",
   "execution_count": null,
   "metadata": {},
   "outputs": [],
   "source": [
    "def FormatAndSave(df):\n",
    "    dff = df.copy()\n",
    "    categorical_flds = dff.columns[dff.dtypes == 'category'].values\n",
    "    dff = pd.get_dummies(dff, columns = categorical_flds)\n",
    "    \n",
    "    processed_data_path = os.path.join(os.path.pardir,'data','processed')\n",
    "    write_train_path = os.path.join(processed_data_path, 'train.csv')\n",
    "    write_test_path = os.path.join(processed_data_path, 'test.csv')\n",
    "    \n",
    "    # train data\n",
    "    dff.loc[dff.SalePrice != 0].to_csv(write_train_path) \n",
    "    # test data\n",
    "    columns = [column for column in dff.columns if column != 'SalePrice']\n",
    "    dff.loc[dff.SalePrice == 0, columns].to_csv(write_test_path) "
   ]
  },
  {
   "cell_type": "code",
   "execution_count": null,
   "metadata": {},
   "outputs": [],
   "source": [
    "df = CreateDataFrame(train_path, test_path)\n",
    "df = df.pipe(ProccessOutliers).pipe(ProccessNanValues).pipe(Categorizing).pipe(FormatAndSave)"
   ]
  },
  {
   "cell_type": "markdown",
   "metadata": {},
   "source": [
    "# Insert implementation into script file"
   ]
  },
  {
   "cell_type": "code",
   "execution_count": null,
   "metadata": {},
   "outputs": [],
   "source": [
    "get_processed_data_script_file = os.path.join(os.path.pardir,'src','data','get_processed_data.py')"
   ]
  },
  {
   "cell_type": "code",
   "execution_count": null,
   "metadata": {},
   "outputs": [],
   "source": [
    "%%writefile $get_processed_data_script_file\n",
    "import pandas as pd\n",
    "import numpy as np\n",
    "import matplotlib.pyplot as plt\n",
    "import os\n",
    "\n",
    "def CreateDataFrame():\n",
    "    project_dir = 'C:\\\\Users\\\\PLDD\\\\python\\\\Python\\\\ML\\\\Kaggle\\\\house_price'\n",
    "    raw_path = os.path.join(project_dir,'data','raw')\n",
    "    train_path = os.path.join(raw_path, 'train.csv')\n",
    "    test_path = os.path.join(raw_path, 'test.csv')\n",
    "    train_df = pd.read_csv(train_path)\n",
    "    test_df = pd.read_csv(test_path)\n",
    "    test_df['SalePrice'] = 0.0\n",
    "    df = train_df.append(test_df)\n",
    "    df.index = list(range(train_df.index.size + test_df.index.size))\n",
    "    df = df.drop('Utilities', axis = 1)\n",
    "    return df\n",
    "\n",
    "def ProccessOutliers(df):\n",
    "    lx = (df['LotFrontage'] > 200) | (df['LotArea'] > 100000) | (df['GrLivArea'] > 4000)\n",
    "    df.loc[df['LotFrontage'] > 200,'LotFrontage'] = np.nan\n",
    "    df.loc[df['LotArea'] > 100000,'LotArea'] = np.nan\n",
    "    df.loc[df['GrLivArea'] > 4000,'GrLivArea'] = np.nan\n",
    "    return df\n",
    "\n",
    "def ReplaceNanValues_LotFrontageArea(df, alables, abins, fromfld, tofld, catclass, targetclass):\n",
    "    fullclass = catclass + [targetclass]\n",
    "    df[tofld]=pd.cut(x = df[fromfld].values, bins = abins, right = False, labels = alables)\n",
    "    validdf = df[fullclass].dropna(axis = 0, how = 'any')\n",
    "    nandf = df[df[targetclass].isnull()]\n",
    "    pvt = validdf.pivot_table(values = targetclass, index = catclass, aggfunc = np.median)\n",
    "    pvt=pvt[pvt.notnull().all(1)]\n",
    "    t1 = pvt.loc[[tuple(x) for x in nandf[catclass].values]]\n",
    "    t1.index = nandf.index\n",
    "    df.loc[nandf.index,targetclass] = t1[targetclass]\n",
    "    df = df.drop(tofld, axis = 1)\n",
    "    return df\n",
    "\n",
    "def ProccessNanValues(df):\n",
    "    DefSeqCat = ['Alley','BsmtQual', 'BsmtCond', 'BsmtExposure','BsmtFinType1', 'BsmtFinType2', 'FireplaceQu',\n",
    "                 'GarageType', 'GarageFinish', 'GarageQual', 'GarageCond', 'PoolQC',\n",
    "                 'Fence', 'MiscFeature']\n",
    "    UndefSeqCat1 = ['MSZoning', 'Utilities', 'Exterior1st', 'Exterior2nd','Electrical', 'KitchenQual',\n",
    "                    'Functional', 'SaleType'] # there are defenetly lost elements \n",
    "    UndefSeqCat2 = ['MasVnrType'] # i may just not make it clear the property of the column\n",
    "    UndefSeqNum = ['LotFrontage', 'MasVnrArea', 'BsmtFinSF1', 'BsmtFinSF2', 'BsmtUnfSF', 'TotalBsmtSF', \n",
    "                   'BsmtFullBath', 'BsmtHalfBath', 'GarageYrBlt', 'GarageCars', 'GarageArea']\n",
    "    replace=dict.fromkeys(DefSeqCat, 'None')\n",
    "    df = df.fillna(replace)\n",
    "#'MasVnrType'\n",
    "    ix = df.index[df['MasVnrType'].isnull()]\n",
    "    df.loc[ix,'MasVnrType'] = 'None'\n",
    "    df.loc[ix,'MasVnrArea'] = 0\n",
    "    NanCol = ['LotFrontage', 'MSZoning', 'Utilities', 'Exterior1st', 'Exterior2nd', 'MasVnrType',\n",
    "              'MasVnrArea', 'BsmtFinSF1', 'BsmtFinSF2', 'BsmtUnfSF', 'TotalBsmtSF',\n",
    "              'Electrical', 'BsmtFullBath', 'BsmtHalfBath', 'KitchenQual',\n",
    "              'Functional', 'GarageYrBlt', 'GarageCars', 'GarageArea', 'SaleType']\n",
    "    #Replace NAN values in 'LotFrontage' and 'LotArea' with iterpolated value.\n",
    "    yearlable = ['1906', '1942', '1975', '1991', '2011']\n",
    "    yearbin = [1800,1906,1942,1975, 1991, 2011]\n",
    "#case 1\n",
    "    catclass = ['Neighborhood', 'LotConfig','LotShape','YearInt']\n",
    "    df = ReplaceNanValues_LotFrontageArea(df, yearlable, yearbin, 'YearBuilt', 'YearInt', catclass, 'LotFrontage' )\n",
    "    df = ReplaceNanValues_LotFrontageArea(df, yearlable, yearbin, 'YearBuilt', 'YearInt', catclass, 'LotArea')\n",
    "    #print(df[df['LotFrontage'].isnull()].index.size)\n",
    "    catclass = ['LotConfig','LotShape','YearInt']\n",
    "#case 2\n",
    "    df = ReplaceNanValues_LotFrontageArea(df, yearlable, yearbin, 'YearBuilt', 'YearInt', catclass, 'LotFrontage')\n",
    "    df = ReplaceNanValues_LotFrontageArea(df, yearlable, yearbin, 'YearBuilt', 'YearInt', catclass, 'LotArea')\n",
    "    #print(df[df['LotFrontage'].isnull()].index.size)\n",
    "#case 3\n",
    "    yearlable = ['1942', '1991', '2011']\n",
    "    yearbin = [1800, 1942, 1991, 2011]\n",
    "    df = ReplaceNanValues_LotFrontageArea(df, yearlable, yearbin, 'YearBuilt', 'YearInt', catclass, 'LotFrontage')\n",
    "    df = ReplaceNanValues_LotFrontageArea(df, yearlable, yearbin, 'YearBuilt', 'YearInt', catclass, 'LotArea')\n",
    "    #print(df[df['LotFrontage'].isnull()].index.size)\n",
    "#case 4\n",
    "    yearlable = ['1975', '1991', '2011']\n",
    "    yearbin = [1800, 1975, 1991, 2011]\n",
    "    df = ReplaceNanValues_LotFrontageArea(df, yearlable, yearbin, 'YearBuilt', 'YearInt', catclass, 'LotFrontage')\n",
    "    df = ReplaceNanValues_LotFrontageArea(df, yearlable, yearbin, 'YearBuilt', 'YearInt', catclass, 'LotArea')\n",
    "    #print(df[df['LotFrontage'].isnull()].index.size)\n",
    "#case 5\n",
    "    yearlable = ['2011']\n",
    "    yearbin = [1800, 2011]\n",
    "    df = ReplaceNanValues_LotFrontageArea(df, yearlable, yearbin, 'YearBuilt', 'YearInt', catclass, 'LotFrontage')\n",
    "    df = ReplaceNanValues_LotFrontageArea(df, yearlable, yearbin, 'YearBuilt', 'YearInt', catclass, 'LotArea')   \n",
    "#Replace Nan in 'MSZoning'\n",
    "    ind1 = [1915, 2216, 2250] # C - assign by many factors\n",
    "    ind2 = [2904] # RL - by Lot Area, LotFrontage and YearBuilt \n",
    "    df.loc[ind1,'MSZoning'] = 'C'\n",
    "    df.loc[ind2,'MSZoning'] = 'RL'    \n",
    "#Replace Nan in 'Exterior1st' and 'Exterior2nd'\n",
    "    targetclass = ['Exterior1st', 'Exterior2nd']\n",
    "    ind = [2151]\n",
    "    df.loc[ind,targetclass] = 'AsbShng'  \n",
    "#Add column 'RangeYrBlt' and remove columns 'GarageYrBlt' and 'YearBilt'\n",
    "    yearbins = [1800, 1895, 1905, 1917, 1927, 1937,1947,1960, 1973, 1989, 1998, 2012]\n",
    "    yearlabels = ['1895', '1905', '1917', '1927', '1937', '1947', '1960', '1973', '1989', '1998', '2012']\n",
    "    if df.columns.isin(['YearBuilt']).any():\n",
    "        df['RangeYrBlt']=pd.cut(x = df['YearBuilt'].values, bins = yearbins, right = False, labels = yearlabels)\n",
    "        df = df.drop('YearBuilt', axis = 1)\n",
    "    if df.columns.isin(['GarageYrBlt']).any():\n",
    "        df = df.drop('GarageYrBlt', axis = 1)\n",
    "    df.loc[2120,['BsmtFinSF1', 'BsmtFinSF2', 'BsmtUnfSF', 'TotalBsmtSF']] = 0\n",
    "    df.loc[1379, 'Electrical'] = 'SBrkr' #  all houses in 2012 year built have this type of Electrical\n",
    "    if df.columns.isin(['GrLivArea']).any():\n",
    "        df = df.drop('GrLivArea', axis = 1) # it is sum of '1stFlrSF' and '2ndFlrSF'\n",
    "    df.loc[[2120,2188],['BsmtFullBath', 'BsmtHalfBath']] = 0\n",
    "    df.loc[1555, 'KitchenQual'] = 'TA'\n",
    "    df.loc[[2216, 2473],'Functional'] = 'Typ'\n",
    "    df.loc[2576,'GarageArea'] = 0\n",
    "    if df.columns.isin(['GarageCars']).any():\n",
    "        df = df.drop('GarageCars', axis = 1) # it has straight dependency on garage area\n",
    "    df.loc[2489, 'SaleType'] = 'WD' # the most used type according to sold year and sale condition\n",
    "    return df\n",
    "\n",
    "def sorted_columns(df, what, bby):\n",
    "    t_df = df.loc[df[bby] != 0]\n",
    "    t_df = t_df.groupby([what]).agg({bby : 'median'})\n",
    "    t_df = t_df.sort_values(by = bby, axis = 0 )\n",
    "    return t_df.index.values\n",
    "\n",
    "def FormatAndSave(df):\n",
    "    dff = df.copy()\n",
    "    categorical_flds = dff.columns[dff.dtypes == 'category' ].values\n",
    "    dff = pd.get_dummies(dff)#, columns = categorical_flds)\n",
    "    processed_data_path = os.path.join(os.path.pardir,'data','processed')\n",
    "    write_train_path = os.path.join(processed_data_path, 'train.csv')\n",
    "    write_test_path = os.path.join(processed_data_path, 'test.csv')\n",
    "    dff.loc[dff.SalePrice != 0].to_csv(write_train_path) \n",
    "    columns = [column for column in dff.columns if column != 'SalePrice']\n",
    "    dff.loc[dff.SalePrice == 0, columns].to_csv(write_test_path) \n",
    "\n",
    "if __name__ == '__main__':\n",
    "    df = CreateDataFrame()\n",
    "    df = df.pipe(ProccessOutliers).pipe(ProccessNanValues).pipe(FormatAndSave)"
   ]
  },
  {
   "cell_type": "code",
   "execution_count": null,
   "metadata": {},
   "outputs": [],
   "source": [
    "!python $get_processed_data_script_file"
   ]
  },
  {
   "cell_type": "code",
   "execution_count": null,
   "metadata": {},
   "outputs": [],
   "source": [
    "processed_data_path = os.path.join(os.path.pardir,'data','processed')\n",
    "write_train_path = os.path.join(processed_data_path, 'train.csv')\n",
    "write_test_path = os.path.join(processed_data_path, 'test.csv')\n",
    "train_df = pd.read_csv(write_train_path)"
   ]
  },
  {
   "cell_type": "markdown",
   "metadata": {},
   "source": [
    "#  Build model"
   ]
  },
  {
   "cell_type": "code",
   "execution_count": null,
   "metadata": {},
   "outputs": [],
   "source": [
    "import pandas as pd\n",
    "import numpy as np\n",
    "import matplotlib.pyplot as plt\n",
    "import os\n",
    "import sklearn as skl\n",
    "from sklearn.model_selection import train_test_split\n",
    "from sklearn import linear_model\n",
    "from sklearn.kernel_ridge import KernelRidge"
   ]
  },
  {
   "cell_type": "code",
   "execution_count": null,
   "metadata": {},
   "outputs": [],
   "source": [
    "processed_data_path = os.path.join(os.path.pardir,'data','processed')\n",
    "train_path = os.path.join(processed_data_path, 'train.csv')\n",
    "test_path = os.path.join(processed_data_path, 'test.csv')\n",
    "train_df = pd.read_csv(train_path)\n",
    "test_df = pd.read_csv(test_path)"
   ]
  },
  {
   "cell_type": "code",
   "execution_count": null,
   "metadata": {},
   "outputs": [],
   "source": [
    "def linear_ml_solve(train_df, test_df, scaler, solver, q = 0.4, target = 'temp.csv'):\n",
    "    X = train_df.loc[:,train_df.columns != 'SalePrice'].as_matrix().astype('float')\n",
    "    y = train_df['SalePrice'].ravel()\n",
    "    X_train, X_test, y_train, y_test = train_test_split(X, y, test_size=q, random_state=0)\n",
    "    X_train = scaler.fit_transform(X_train)\n",
    "    if q != 0:\n",
    "        X_test = scaler.transform(X_test)\n",
    "        solver.fit(X_train, y_train)\n",
    "        print(solver.score(X_test, y_test))\n",
    "    else: \n",
    "        print(\"No test subsets!!!!\")\n",
    "    X = scaler.fit_transform(X)    \n",
    "    XX = scaler.transform(test_df.as_matrix().astype('float'))\n",
    "    solver.fit(X, y) \n",
    "    pred_y = solver.predict(XX).astype('int')\n",
    "    df_submission = pd.DataFrame({'Id': test_df['Id'].values, 'SalePrice' : pred_y} )\n",
    "    submission_data_path = os.path.join(os.path.pardir,'data','external')\n",
    "    submission_file_path = os.path.join(submission_data_path, target)\n",
    "    df_submission.to_csv(submission_file_path, index=False)"
   ]
  },
  {
   "cell_type": "markdown",
   "metadata": {},
   "source": [
    "# Preprocessing Scaling"
   ]
  },
  {
   "cell_type": "code",
   "execution_count": null,
   "metadata": {},
   "outputs": [],
   "source": [
    "from sklearn.preprocessing import StandardScaler\n",
    "from sklearn.preprocessing import MinMaxScaler\n",
    "from sklearn.preprocessing import RobustScaler\n",
    "from sklearn.preprocessing import Normalizer\n",
    "from sklearn.preprocessing.data import QuantileTransformer\n",
    "from sklearn.preprocessing import PolynomialFeatures\n",
    "from sklearn.pipeline import Pipeline\n",
    "from sklearn.model_selection import GridSearchCV\n",
    "\n",
    "scaler1 = StandardScaler()\n",
    "scaler2 = MinMaxScaler()\n",
    "scaler3 = RobustScaler()\n",
    "scaler4 = Normalizer()\n",
    "scaler5 = QuantileTransformer()"
   ]
  },
  {
   "cell_type": "markdown",
   "metadata": {},
   "source": [
    "# ML"
   ]
  },
  {
   "cell_type": "code",
   "execution_count": null,
   "metadata": {},
   "outputs": [],
   "source": [
    "solver1 = linear_model.RidgeCV(alphas = np.arange(0.001, 5, 0.001))\n",
    "solver2 = linear_model.LassoCV()\n",
    "solver3 = linear_model.ElasticNetCV(alphas = np.arange(0.001, 5, 0.001), max_iter = 20000 )\n",
    "solver4 = linear_model.BayesianRidge()\n",
    "solver5 = KernelRidge(alpha=1.0,kernel='polynomial')\n",
    "solver5_1 = GridSearchCV(KernelRidge(kernel='rbf', gamma=0.1), cv=5,\n",
    "                  param_grid={\"alpha\": [1e0, 0.1, 1e-2, 1e-3],\n",
    "                              \"gamma\": np.logspace(-2, 2, 5)})\n",
    "solver6 = linear_model.PassiveAggressiveRegressor(C = 10,tol = 0.00001, max_iter = 50000)\n",
    "solver7 = linear_model.HuberRegressor(max_iter=10000)\n",
    "solver8 = Pipeline([('poly', PolynomialFeatures(degree=2)),  ('linear', solver1)])"
   ]
  },
  {
   "cell_type": "code",
   "execution_count": null,
   "metadata": {},
   "outputs": [],
   "source": [
    "\n",
    "linear_ml_solve(train_df, test_df, scaler5, solver5_1, 0.4,'03_KernelRidge_RBF.csv')"
   ]
  },
  {
   "cell_type": "code",
   "execution_count": null,
   "metadata": {},
   "outputs": [],
   "source": []
  }
 ],
 "metadata": {
  "kernelspec": {
   "display_name": "Python 3",
   "language": "python",
   "name": "python3"
  },
  "language_info": {
   "codemirror_mode": {
    "name": "ipython",
    "version": 3
   },
   "file_extension": ".py",
   "mimetype": "text/x-python",
   "name": "python",
   "nbconvert_exporter": "python",
   "pygments_lexer": "ipython3",
   "version": "3.6.7"
  }
 },
 "nbformat": 4,
 "nbformat_minor": 2
}
