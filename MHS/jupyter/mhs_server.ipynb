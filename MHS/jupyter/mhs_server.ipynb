{
 "cells": [
  {
   "cell_type": "code",
   "execution_count": 5,
   "metadata": {},
   "outputs": [],
   "source": [
    "'''\n",
    "%%writefile gap.py\n",
    "start = time.time()\n",
    "end = time.time()\n",
    "print(end-start)\n",
    "'''\n",
    "import tensorflow as tf\n",
    "#import tensorflow_probability as tfp\n",
    "import time\n",
    "import pandas as pd\n",
    "import numpy as np\n",
    "import matplotlib.pyplot as plt\n",
    "#import seaborn as sn\n",
    "import os as os\n",
    "import sys\n",
    "from pathlib import Path\n",
    "\n",
    "mhsdir = Path(os.getcwd()).parent\n",
    "sys.path.append(os.path.join(mhsdir, 'src'))\n",
    "\n",
    "import ns\n",
    "#import gap\n",
    "\n",
    "datarawdir = os.path.join(mhsdir, 'data\\\\raw\\\\YC')\n",
    "dataprepdir = os.path.join(mhsdir, 'data\\\\preprocessed')\n",
    "dataprepnsdir = os.path.join(mhsdir, 'data\\\\preprocessed\\\\ns')\n",
    "\n",
    "tempdatarawdir = os.path.join(mhsdir, 'temp\\\\data\\\\raw\\\\YC')\n",
    "tempdataprepdir = os.path.join(mhsdir, 'temp\\\\data\\\\preprocessed')\n",
    "tempdataprepnsdir = os.path.join(mhsdir, 'temp\\\\data\\\\preprocessed\\\\ns')\n",
    "\n",
    "modeldir = os.path.join(mhsdir, 'models')\n",
    "\n",
    "\n",
    "#!pip install -q requests\n",
    "import requests\n",
    "import json\n",
    "import tempfile"
   ]
  },
  {
   "cell_type": "code",
   "execution_count": null,
   "metadata": {},
   "outputs": [],
   "source": [
    "docker pull tensorflow/serving"
   ]
  },
  {
   "cell_type": "markdown",
   "metadata": {},
   "source": [
    "# 1.Server part"
   ]
  },
  {
   "cell_type": "code",
   "execution_count": null,
   "metadata": {},
   "outputs": [],
   "source": [
    "model, df = ns.SaveNSParameters(srcdir = tempdataprepdir, destdir = tempdataprepnsdir, ww = 13, epochs = 200, thauv = [64])\n",
    "model = model.modelv[0]"
   ]
  },
  {
   "cell_type": "code",
   "execution_count": 7,
   "metadata": {},
   "outputs": [
    {
     "name": "stdout",
     "output_type": "stream",
     "text": [
      "export_path = C:\\Users\\PLDD\\Practice\\GitHub\\Python\\MHS\\models\\1\n",
      "\n",
      "WARNING:tensorflow:From C:\\Users\\PLDD\\AppData\\Local\\Continuum\\anaconda3\\envs\\tf\\lib\\site-packages\\tensorflow\\python\\training\\tracking\\tracking.py:111: Model.state_updates (from tensorflow.python.keras.engine.training) is deprecated and will be removed in a future version.\n",
      "Instructions for updating:\n",
      "This property should not be used in TensorFlow 2.0, as updates are applied automatically.\n",
      "WARNING:tensorflow:From C:\\Users\\PLDD\\AppData\\Local\\Continuum\\anaconda3\\envs\\tf\\lib\\site-packages\\tensorflow\\python\\training\\tracking\\tracking.py:111: Layer.updates (from tensorflow.python.keras.engine.base_layer) is deprecated and will be removed in a future version.\n",
      "Instructions for updating:\n",
      "This property should not be used in TensorFlow 2.0, as updates are applied automatically.\n",
      "INFO:tensorflow:Assets written to: C:\\Users\\PLDD\\Practice\\GitHub\\Python\\MHS\\models\\1\\assets\n",
      "\n",
      "Saved model:\n"
     ]
    }
   ],
   "source": [
    "# Fetch the Keras session and save the model\n",
    "# The signature definition is defined by the input and output tensors,\n",
    "# and stored with the default serving key\n",
    "\n",
    "version = 1\n",
    "export_path = os.path.join(modeldir, str(version))\n",
    "print('export_path = {}\\n'.format(export_path))\n",
    "\n",
    "tf.keras.models.save_model(\n",
    "    model,\n",
    "    export_path,\n",
    "    overwrite=True,\n",
    "    include_optimizer=True,\n",
    "    save_format=None,\n",
    "    signatures=None,\n",
    "    options=None\n",
    ")\n",
    "\n",
    "print('\\nSaved model:')"
   ]
  },
  {
   "cell_type": "code",
   "execution_count": null,
   "metadata": {},
   "outputs": [],
   "source": [
    "!saved_model_cli show --dir {export_path} --all"
   ]
  },
  {
   "cell_type": "code",
   "execution_count": null,
   "metadata": {},
   "outputs": [],
   "source": [
    "docker run -p 8501:8501 --mount type=bind,source=C:/Users/PLDD/Practice/GitHub/Python/MHS/models,target=/models/my_model -e MODEL_NAME=my_model -t tensorflow/serving"
   ]
  },
  {
   "cell_type": "code",
   "execution_count": null,
   "metadata": {},
   "outputs": [],
   "source": [
    "docker run -p 8501:8501 --mount type=bind,source=C:/Users/PLDD/Practice/GitHub/Python/MHS/models,target=/models/my_model -e MODEL_NAME=my_model -t tensorflow/serving\n",
    "        C:\\Users\\PLDD\\Practice\\GitHub\\Python\\MHS"
   ]
  },
  {
   "cell_type": "code",
   "execution_count": 8,
   "metadata": {},
   "outputs": [
    {
     "data": {
      "text/plain": [
       "[<matplotlib.lines.Line2D at 0x1c9b7846fd0>]"
      ]
     },
     "execution_count": 8,
     "metadata": {},
     "output_type": "execute_result"
    },
    {
     "data": {
      "image/png": "[encoded data removed]",
      "text/plain": [
       "<Figure size 432x288 with 1 Axes>"
      ]
     },
     "metadata": {
      "needs_background": "light"
     },
     "output_type": "display_data"
    }
   ],
   "source": [
    "time_seq = np.arange(600)\n",
    "data = json.dumps({\"signature_name\": \"serving_default\", \"instances\": time_seq.tolist()})\n",
    "headers = {\"content-type\": \"application/json\"}\n",
    "json_response = requests.post('http://localhost:8501/v1/models/my_model:predict', data=data, headers=headers)\n",
    "y = json.loads(json_response.text)['predictions']\n",
    "plt.plot(time_seq,y)"
   ]
  },
  {
   "cell_type": "code",
   "execution_count": null,
   "metadata": {},
   "outputs": [],
   "source": []
  },
  {
   "cell_type": "code",
   "execution_count": null,
   "metadata": {},
   "outputs": [],
   "source": []
  },
  {
   "cell_type": "code",
   "execution_count": null,
   "metadata": {},
   "outputs": [],
   "source": [
    "!docker run --help"
   ]
  },
  {
   "cell_type": "code",
   "execution_count": null,
   "metadata": {},
   "outputs": [],
   "source": []
  },
  {
   "cell_type": "code",
   "execution_count": null,
   "metadata": {},
   "outputs": [],
   "source": []
  }
 ],
 "metadata": {
  "kernelspec": {
   "display_name": "Python 3",
   "language": "python",
   "name": "python3"
  },
  "language_info": {
   "codemirror_mode": {
    "name": "ipython",
    "version": 3
   },
   "file_extension": ".py",
   "mimetype": "text/x-python",
   "name": "python",
   "nbconvert_exporter": "python",
   "pygments_lexer": "ipython3",
   "version": "3.6.7"
  }
 },
 "nbformat": 4,
 "nbformat_minor": 4
}
