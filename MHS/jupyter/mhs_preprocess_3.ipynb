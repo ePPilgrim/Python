{
 "cells": [
  {
   "cell_type": "code",
   "execution_count": null,
   "metadata": {},
   "outputs": [],
   "source": [
    "'''\n",
    "%%writefile ns.py\n",
    "start = time.time()\n",
    "end = time.time()\n",
    "print(end-start)\n",
    "'''\n",
    "import tensorflow as tf\n",
    "import time\n",
    "import pandas as pd\n",
    "import numpy as np\n",
    "import matplotlib.pyplot as plt\n",
    "import seaborn as sn\n",
    "import os as os\n",
    "import sys\n",
    "from pathlib import Path\n",
    "\n",
    "mhsdir = Path(os.getcwd()).parent\n",
    "sys.path.append(os.path.join(mhsdir, 'src'))\n",
    "\n",
    "import ns\n",
    "\n",
    "datarawdir = os.path.join(mhsdir, 'data\\\\raw\\\\YC')\n",
    "dataprepdir = os.path.join(mhsdir, 'data\\\\preprocessed')\n",
    "dataprepnsdir = os.path.join(mhsdir, 'data\\\\preprocessed\\\\ns')\n",
    "\n",
    "tempdatarawdir = os.path.join(mhsdir, 'temp\\\\data\\\\raw\\\\YC')\n",
    "tempdataprepdir = os.path.join(mhsdir, 'temp\\\\data\\\\preprocessed')\n",
    "tempdataprepnsdir = os.path.join(mhsdir, 'temp\\\\data\\\\preprocessed\\\\ns')"
   ]
  },
  {
   "cell_type": "markdown",
   "metadata": {},
   "source": [
    "# Concatenate all data into one file"
   ]
  },
  {
   "cell_type": "code",
   "execution_count": null,
   "metadata": {},
   "outputs": [],
   "source": [
    "df = pd.read_csv(os.path.join(dataprepnsdir,'SA_Chile_2786_ns.csv'))"
   ]
  },
  {
   "cell_type": "code",
   "execution_count": null,
   "metadata": {},
   "outputs": [],
   "source": [
    "for _ in range(100):\n",
    "    df = df.sample(frac=1).reset_index(drop=True)"
   ]
  },
  {
   "cell_type": "code",
   "execution_count": null,
   "metadata": {},
   "outputs": [],
   "source": [
    "df.to_csv(os.path.join(dataprepnsdir, 'Shuffle_Total_294089.csv'), index = False)"
   ]
  },
  {
   "cell_type": "code",
   "execution_count": null,
   "metadata": {},
   "outputs": [],
   "source": [
    "ActTerms = ['D1', 'M01', 'M03', 'M04', 'M06', 'M07', 'M09', \n",
    "            'Y01', 'Y02', 'Y03', 'Y04', 'Y05', 'Y06', 'Y07', 'Y08', 'Y09', 'Y10', 'Y12', 'Y15', 'Y20', 'Y30']\n",
    "\n",
    "@tf.function\n",
    "def transform_to_yc(x):\n",
    "    terms = tf.constant([[0.033333, 1.0, 3.0, 4.0, 6.0, 7.0, 9.0,\n",
    "                          12.0, 24.0, 36.0, 48.0, 60.0, 72.0, 84.0, 96.0, 108.0, 120.0, 144.0, 180.0, 240.0, 360.0]],dtype = tf.float32)   \n",
    "    batch = tf.shape(x)[0]\n",
    "    sz = tf.constant(terms.shape[1])\n",
    "    val1 = tf.divide(terms, tf.slice(x, [0,0], [batch,1]))\n",
    "    val2 = tf.math.exp(-val1)\n",
    "    val3 = tf.divide(1.0 - val2, val1)\n",
    "    y = tf.add(tf.concat([tf.ones([batch,sz,1]), tf.zeros([batch,sz,1]), tf.expand_dims(-val2, 2)], axis = -1),\n",
    "               tf.math.multiply(tf.expand_dims(val3, 2), [[-1.0, 1.0, 1.0]]))\n",
    "    return  tf.einsum('...ik,...k->...i',y, tf.slice(x, [0 , 1],[batch, 3]))\n",
    "\n",
    "\n",
    "df = pd.DataFrame(columns = ActTerms)\n",
    "for filename in os.listdir(dataprepnsdir):\n",
    "    filepath = os.path.join(dataprepnsdir, filename)\n",
    "    df1 = pd.read_csv(filepath)\n",
    "    df1 = df1[df1['Thau'].notnull()]\n",
    "    nsm = df1[['Thau','Alpha0', 'Alpha1', 'Alpha2']].astype('float32').to_numpy()\n",
    "    termm = transform_to_yc(nsm).numpy()\n",
    "    sharedCol = [col for col in ActTerms if col in df1.columns]\n",
    "    df2 = pd.DataFrame(data = -256.0 * np.ones([df1.shape[0], len(ActTerms)]), columns = ActTerms, dtype = np.float32)\n",
    "    df2[sharedCol] = df1[sharedCol].to_numpy()\n",
    "    df2 = df2.mask(df2 == -256.0, termm)\n",
    "    df = df.append(df2)"
   ]
  },
  {
   "cell_type": "code",
   "execution_count": null,
   "metadata": {},
   "outputs": [],
   "source": []
  },
  {
   "cell_type": "code",
   "execution_count": null,
   "metadata": {},
   "outputs": [],
   "source": []
  }
 ],
 "metadata": {
  "kernelspec": {
   "display_name": "Python 3",
   "language": "python",
   "name": "python3"
  },
  "language_info": {
   "codemirror_mode": {
    "name": "ipython",
    "version": 3
   },
   "file_extension": ".py",
   "mimetype": "text/x-python",
   "name": "python",
   "nbconvert_exporter": "python",
   "pygments_lexer": "ipython3",
   "version": "3.7.8"
  }
 },
 "nbformat": 4,
 "nbformat_minor": 4
}
