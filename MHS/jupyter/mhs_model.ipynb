{
 "cells": [
  {
   "cell_type": "code",
   "execution_count": 1,
   "metadata": {},
   "outputs": [
    {
     "name": "stderr",
     "output_type": "stream",
     "text": [
      "In C:\\Users\\PLDD\\Anaconda3\\envs\\tf\\lib\\site-packages\\matplotlib\\mpl-data\\stylelib\\_classic_test.mplstyle: \n",
      "The text.latex.preview rcparam was deprecated in Matplotlib 3.3 and will be removed two minor releases later.\n",
      "In C:\\Users\\PLDD\\Anaconda3\\envs\\tf\\lib\\site-packages\\matplotlib\\mpl-data\\stylelib\\_classic_test.mplstyle: \n",
      "The mathtext.fallback_to_cm rcparam was deprecated in Matplotlib 3.3 and will be removed two minor releases later.\n",
      "In C:\\Users\\PLDD\\Anaconda3\\envs\\tf\\lib\\site-packages\\matplotlib\\mpl-data\\stylelib\\_classic_test.mplstyle: Support for setting the 'mathtext.fallback_to_cm' rcParam is deprecated since 3.3 and will be removed two minor releases later; use 'mathtext.fallback : 'cm' instead.\n",
      "In C:\\Users\\PLDD\\Anaconda3\\envs\\tf\\lib\\site-packages\\matplotlib\\mpl-data\\stylelib\\_classic_test.mplstyle: \n",
      "The validate_bool_maybe_none function was deprecated in Matplotlib 3.3 and will be removed two minor releases later.\n",
      "In C:\\Users\\PLDD\\Anaconda3\\envs\\tf\\lib\\site-packages\\matplotlib\\mpl-data\\stylelib\\_classic_test.mplstyle: \n",
      "The savefig.jpeg_quality rcparam was deprecated in Matplotlib 3.3 and will be removed two minor releases later.\n",
      "In C:\\Users\\PLDD\\Anaconda3\\envs\\tf\\lib\\site-packages\\matplotlib\\mpl-data\\stylelib\\_classic_test.mplstyle: \n",
      "The keymap.all_axes rcparam was deprecated in Matplotlib 3.3 and will be removed two minor releases later.\n",
      "In C:\\Users\\PLDD\\Anaconda3\\envs\\tf\\lib\\site-packages\\matplotlib\\mpl-data\\stylelib\\_classic_test.mplstyle: \n",
      "The animation.avconv_path rcparam was deprecated in Matplotlib 3.3 and will be removed two minor releases later.\n",
      "In C:\\Users\\PLDD\\Anaconda3\\envs\\tf\\lib\\site-packages\\matplotlib\\mpl-data\\stylelib\\_classic_test.mplstyle: \n",
      "The animation.avconv_args rcparam was deprecated in Matplotlib 3.3 and will be removed two minor releases later.\n",
      "C:\\Users\\PLDD\\Anaconda3\\envs\\tf\\lib\\site-packages\\sklearn\\utils\\deprecation.py:144: FutureWarning: The sklearn.preprocessing.data module is  deprecated in version 0.22 and will be removed in version 0.24. The corresponding classes / functions should instead be imported from sklearn.preprocessing. Anything that cannot be imported from sklearn.preprocessing is now part of the private API.\n",
      "  warnings.warn(message, FutureWarning)\n"
     ]
    }
   ],
   "source": [
    "'''\n",
    "%%writefile ns.py\n",
    "start = time.time()\n",
    "end = time.time()\n",
    "print(end-start)\n",
    "'''\n",
    "import tensorflow as tf\n",
    "import time\n",
    "import pandas as pd\n",
    "import numpy as np\n",
    "import matplotlib.pyplot as plt\n",
    "import seaborn as sn\n",
    "import os as os\n",
    "import sys\n",
    "from pathlib import Path\n",
    "import sklearn as sk \n",
    "import time\n",
    "import scipy.stats as stats\n",
    "from sklearn.preprocessing.data import QuantileTransformer\n",
    "from tensorflow.keras import regularizers\n",
    "\n",
    "mhsdir = Path(os.getcwd()).parent\n",
    "sys.path.append(os.path.join(mhsdir, 'src'))\n",
    "\n",
    "import ns\n",
    "\n",
    "datarawdir = os.path.join(mhsdir, 'data\\\\raw\\\\YC')\n",
    "dataprepdir = os.path.join(mhsdir, 'data\\\\preprocessed')\n",
    "dataprepnsdir = os.path.join(mhsdir, 'data\\\\preprocessed\\\\ns')\n",
    "modeldir = os.path.join(mhsdir, 'models')\n",
    "\n",
    "tempdatarawdir = os.path.join(mhsdir, 'temp\\\\data\\\\raw\\\\YC')\n",
    "tempdataprepdir = os.path.join(mhsdir, 'temp\\\\data\\\\preprocessed')\n",
    "tempdataprepnsdir = os.path.join(mhsdir, 'temp\\\\data\\\\preprocessed\\\\ns')\n",
    "\n",
    "tfk = tf.keras\n",
    "tfkl = tf.keras.layers\n",
    "\n",
    "train_csv = os.path.join(traindir, 'train_real_0_0_410_38_40938.txt')\n",
    "test_csv = os.path.join(traindir, 'train_real_410_0_9132.txt')"
   ]
  },
  {
   "cell_type": "markdown",
   "metadata": {},
   "source": [
    "# Final preprocessing"
   ]
  },
  {
   "cell_type": "code",
   "execution_count": 39,
   "metadata": {},
   "outputs": [
    {
     "name": "stdout",
     "output_type": "stream",
     "text": [
      "1\n",
      "10958\n"
     ]
    }
   ],
   "source": [
    "df = None\n",
    "traindir = os.path.join(mhsdir, 'data\\\\train\\\\repository\\\\train')\n",
    "testdir = os.path.join(mhsdir, 'data\\\\train\\\\repository\\\\test')\n",
    "\n",
    "for filename in os.listdir(traindir):\n",
    "    path=os.path.join(traindir, filename)\n",
    "    df1 = pd.read_csv(path, sep = ';', header = None)\n",
    "    if df is None:\n",
    "        df = df1\n",
    "        continue\n",
    "    df = pd.concat([df, df1])\n",
    "train_df = df.iloc[:,:-1]\n",
    "test_df = pd.read_csv(os.path.join(testdir, \"train_real.txt\"), sep = ';', header = None).iloc[:,:-1]\n",
    "\n",
    "lx = (test_df.iloc[:,-14:-2] < -0.00001).any(axis = 1)\n",
    "test_df = test_df[~lx]\n",
    "print(lx.sum())\n",
    "lx = (train_df.iloc[:,-14:-2] < -0.00001).any(axis = 1)\n",
    "train_df = train_df[~lx]\n",
    "print(lx.sum())\n",
    "\n",
    "for i in range(100):\n",
    "    train_df = train_df.sample(frac = 1).reset_index(drop=True)\n",
    "    \n",
    "repodir = os.path.join(mhsdir, 'data\\\\train\\\\repository')\n",
    "\n",
    "trainfilepath = os.path.join(traindir, 'train_{}'.format(train_df.shape[0]) )\n",
    "train_df.to_csv(trainfilepath,index = False)\n",
    "\n",
    "testfilepath = os.path.join(traindir, 'test_{}'.format(test_df.shape[0]) )\n",
    "test_df.to_csv(testfilepath,index = False)"
   ]
  },
  {
   "cell_type": "markdown",
   "metadata": {},
   "source": [
    "# Train and build model"
   ]
  },
  {
   "cell_type": "code",
   "execution_count": 40,
   "metadata": {},
   "outputs": [],
   "source": [
    "def to_category(freqv): \n",
    "    res = np.zeros((freqv.shape[0],12))\n",
    "    for i in range(freqv.shape[0]):\n",
    "        if freqv[i] == 1:\n",
    "            res[i] = np.array([1,1,1,1,1,1,1,1,1,1,1,1],dtype = 'float')\n",
    "        elif freqv[i] == 2:\n",
    "            res[i] = np.array([0,1,0,1,0,1,0,1,0,1,0,1],dtype = 'float') \n",
    "        elif freqv[i] == 3:\n",
    "            res[i] = np.array([0,0,1,0,0,1,0,0,1,0,0,1],dtype = 'float')\n",
    "        elif freqv[i] == 4:\n",
    "            res[i] = np.array([0,0,0,1,0,0,0,1,0,0,0,1],dtype = 'float')\n",
    "        elif freqv[i] == 6:\n",
    "            res[i] = np.array([0,0,0,0,0,1,0,0,0,0,0,1],dtype = 'float')\n",
    "        elif freqv[i] == 12:\n",
    "            res[i] = np.array([0,0,0,0,0,0,0,0,0,0,0,1],dtype = 'float')\n",
    "    return res\n",
    "\n",
    "def convertor(df):\n",
    "    df.columns = ['n','id','bmode','tb1','tb2','tb3','tb4','tb5','tb6','tb7','tb8','tb9','tb10','tb11','tb12','tb13','tb14','tb15','tb16','tb17','tb18','tb19','tb20','tb21',\n",
    "           'ts1','ts2','ts3','ts4','ts5','ts6','ts7','ts8','ts9','ts10','ts11','ts12','ts13','ts14','ts15','ts16','ts17','ts18','ts19','ts20','ts21',\n",
    "           't1','t2','t3','t4','t5','t6','t7','t8','t9','t10','t11','t12','t13','t14','t15','t16','t17','t18','t19','t20','t21',\n",
    "           'c1','c2','c3','c4','c5','c6','c7','c8','c9','c10','c11','c12','smode','freq']\n",
    "    act_columns = ['tb1','tb2','tb3','tb4','tb5','tb6','tb7','tb8','tb9','tb10','tb11','tb12','tb13','tb14','tb15','tb16','tb17','tb18','tb19','tb20','tb21',\n",
    "               'ts1','ts2','ts3','ts4','ts5','ts6','ts7','ts8','ts9','ts10','ts11','ts12','ts13','ts14','ts15','ts16','ts17','ts18','ts19','ts20','ts21',\n",
    "               'c1','c2','c3','c4','c5','c6','c7','c8','c9','c10','c11','c12']\n",
    "    coup_columns = ['c1','c2','c3','c4','c5','c6','c7','c8','c9','c10','c11','c12'] \n",
    "    target = df[coup_columns].sum(axis=1)\n",
    "    data = df[act_columns].copy()\n",
    "    data.loc[:,coup_columns] = to_category(df['freq'])\n",
    "    return data,target\n",
    "\n",
    "def VaR(ar):\n",
    "    sar = np.sort(ar)\n",
    "    sz = sar.shape[0]\n",
    "    rsk = np.rint(sz * (1 - np.array([0.99,0.98,0.97,0.96,0.95,0.94,0.93,0.92,0.91,0.9]))).astype('int')\n",
    "    return sar[rsk]"
   ]
  },
  {
   "cell_type": "code",
   "execution_count": 44,
   "metadata": {},
   "outputs": [],
   "source": [
    "train_df = pd.read_csv(trainfilepath)\n",
    "test_df = pd.read_csv(testfilepath)\n",
    "train_data, train_target = convertor(train_df)\n",
    "test_data, test_target = convertor(test_df)"
   ]
  },
  {
   "cell_type": "code",
   "execution_count": 47,
   "metadata": {},
   "outputs": [
    {
     "data": {
      "text/plain": [
       "<matplotlib.legend.Legend at 0x2524eb4fc48>"
      ]
     },
     "execution_count": 47,
     "metadata": {},
     "output_type": "execute_result"
    },
    {
     "data": {
      "image/png": "[encoded data removed]",
      "text/plain": [
       "<Figure size 432x288 with 1 Axes>"
      ]
     },
     "metadata": {
      "needs_background": "light"
     },
     "output_type": "display_data"
    }
   ],
   "source": [
    "sn.distplot(test_target,label = 'Test chashflow')\n",
    "sn.distplot(train_target,label = 'Train chashflow')\n",
    "plt.legend()"
   ]
  },
  {
   "cell_type": "code",
   "execution_count": 48,
   "metadata": {},
   "outputs": [
    {
     "name": "stdout",
     "output_type": "stream",
     "text": [
      "Model: \"sequential\"\n",
      "_________________________________________________________________\n",
      "Layer (type)                 Output Shape              Param #   \n",
      "=================================================================\n",
      "dense (Dense)                (None, 64)                3520      \n",
      "_________________________________________________________________\n",
      "dense_1 (Dense)              (None, 64)                4160      \n",
      "_________________________________________________________________\n",
      "dense_2 (Dense)              (None, 64)                4160      \n",
      "_________________________________________________________________\n",
      "dense_3 (Dense)              (None, 64)                4160      \n",
      "_________________________________________________________________\n",
      "dense_4 (Dense)              (None, 64)                4160      \n",
      "_________________________________________________________________\n",
      "dense_5 (Dense)              (None, 64)                4160      \n",
      "_________________________________________________________________\n",
      "dense_6 (Dense)              (None, 1)                 65        \n",
      "=================================================================\n",
      "Total params: 24,385\n",
      "Trainable params: 24,385\n",
      "Non-trainable params: 0\n",
      "_________________________________________________________________\n"
     ]
    }
   ],
   "source": [
    "model = tf.keras.Sequential([\n",
    "                    tf.keras.layers.Dense(64, activation='relu',input_shape = [len(train_data.keys())]),\n",
    "                    tf.keras.layers.Dense(64, activation='relu'),\n",
    "                    tf.keras.layers.Dense(64, activation='relu',kernel_regularizer=regularizers.l1(0.0001)),\n",
    "                    tf.keras.layers.Dense(64, activation='relu',kernel_regularizer=regularizers.l1(0.0001)), \n",
    "                    tf.keras.layers.Dense(64, activation='relu',kernel_regularizer=regularizers.l1(0.0001)), \n",
    "                    tf.keras.layers.Dense(64, activation='relu',kernel_regularizer=regularizers.l1(0.0001)), \n",
    "                    #tf.keras.layers.Dense(64, activation='relu'),\n",
    "                    #tf.keras.layers.Dense(128, activation='relu',kernel_regularizer=tf.keras.regularizers.l1(l=0.00001)),                 \n",
    "                    #tf.keras.layers.Dense(64, activation='relu',kernel_regularizer=tf.keras.regularizers.l1(l=0.0001)),\n",
    "                    tf.keras.layers.Dense(1)       \n",
    "])\n",
    "model.compile(loss = 'mse',\n",
    "              optimizer = tf.keras.optimizers.Adagrad(0.001),\n",
    "              metrics = ['mae','mse'])\n",
    "model.summary()"
   ]
  },
  {
   "cell_type": "code",
   "execution_count": 51,
   "metadata": {},
   "outputs": [
    {
     "name": "stdout",
     "output_type": "stream",
     "text": [
      "Epoch 1/20\n",
      "2485/2485 [==============================] - 5s 2ms/step - loss: 0.1695 - mae: 0.0761 - mse: 0.0145 - val_loss: 0.1664 - val_mae: 0.0863 - val_mse: 0.0116\n",
      "Epoch 2/20\n",
      "2485/2485 [==============================] - 5s 2ms/step - loss: 0.1688 - mae: 0.0754 - mse: 0.0143 - val_loss: 0.1658 - val_mae: 0.0858 - val_mse: 0.0115\n",
      "Epoch 3/20\n",
      "2485/2485 [==============================] - 5s 2ms/step - loss: 0.1681 - mae: 0.0748 - mse: 0.0141 - val_loss: 0.1646 - val_mae: 0.0839 - val_mse: 0.0109\n",
      "Epoch 4/20\n",
      "2485/2485 [==============================] - 5s 2ms/step - loss: 0.1673 - mae: 0.0743 - mse: 0.0139 - val_loss: 0.1644 - val_mae: 0.0846 - val_mse: 0.0111\n",
      "Epoch 5/20\n",
      "2485/2485 [==============================] - 5s 2ms/step - loss: 0.1666 - mae: 0.0738 - mse: 0.0136 - val_loss: 0.1638 - val_mae: 0.0842 - val_mse: 0.0111\n",
      "Epoch 6/20\n",
      "2485/2485 [==============================] - 5s 2ms/step - loss: 0.1659 - mae: 0.0733 - mse: 0.0135 - val_loss: 0.1634 - val_mae: 0.0844 - val_mse: 0.0111\n",
      "Epoch 7/20\n",
      "2485/2485 [==============================] - 5s 2ms/step - loss: 0.1652 - mae: 0.0727 - mse: 0.0133 - val_loss: 0.1626 - val_mae: 0.0837 - val_mse: 0.0109\n",
      "Epoch 8/20\n",
      "2485/2485 [==============================] - 5s 2ms/step - loss: 0.1646 - mae: 0.0722 - mse: 0.0131 - val_loss: 0.1621 - val_mae: 0.0836 - val_mse: 0.0109\n",
      "Epoch 9/20\n",
      "2485/2485 [==============================] - 5s 2ms/step - loss: 0.1639 - mae: 0.0718 - mse: 0.0129 - val_loss: 0.1614 - val_mae: 0.0830 - val_mse: 0.0107\n",
      "Epoch 10/20\n",
      "2485/2485 [==============================] - 5s 2ms/step - loss: 0.1632 - mae: 0.0713 - mse: 0.0128 - val_loss: 0.1611 - val_mae: 0.0835 - val_mse: 0.0109\n",
      "Epoch 11/20\n",
      "2485/2485 [==============================] - 5s 2ms/step - loss: 0.1626 - mae: 0.0708 - mse: 0.0126 - val_loss: 0.1606 - val_mae: 0.0834 - val_mse: 0.0109\n",
      "Epoch 12/20\n",
      "2485/2485 [==============================] - 5s 2ms/step - loss: 0.1619 - mae: 0.0704 - mse: 0.0125 - val_loss: 0.1599 - val_mae: 0.0828 - val_mse: 0.0107\n",
      "Epoch 13/20\n",
      "2485/2485 [==============================] - 5s 2ms/step - loss: 0.1613 - mae: 0.0699 - mse: 0.0123 - val_loss: 0.1592 - val_mae: 0.0819 - val_mse: 0.0105\n",
      "Epoch 14/20\n",
      "2485/2485 [==============================] - 5s 2ms/step - loss: 0.1606 - mae: 0.0695 - mse: 0.0122 - val_loss: 0.1583 - val_mae: 0.0807 - val_mse: 0.0101\n",
      "Epoch 15/20\n",
      "2485/2485 [==============================] - 5s 2ms/step - loss: 0.1600 - mae: 0.0691 - mse: 0.0120 - val_loss: 0.1580 - val_mae: 0.0811 - val_mse: 0.0103\n",
      "Epoch 16/20\n",
      "2485/2485 [==============================] - 5s 2ms/step - loss: 0.1594 - mae: 0.0687 - mse: 0.0119 - val_loss: 0.1578 - val_mae: 0.0822 - val_mse: 0.0106\n",
      "Epoch 17/20\n",
      "2485/2485 [==============================] - 5s 2ms/step - loss: 0.1587 - mae: 0.0683 - mse: 0.0118 - val_loss: 0.1569 - val_mae: 0.0804 - val_mse: 0.0101\n",
      "Epoch 18/20\n",
      "2485/2485 [==============================] - 5s 2ms/step - loss: 0.1581 - mae: 0.0679 - mse: 0.0116 - val_loss: 0.1563 - val_mae: 0.0801 - val_mse: 0.0101\n",
      "Epoch 19/20\n",
      "2485/2485 [==============================] - 5s 2ms/step - loss: 0.1575 - mae: 0.0675 - mse: 0.0115 - val_loss: 0.1559 - val_mae: 0.0804 - val_mse: 0.0101\n",
      "Epoch 20/20\n",
      "2485/2485 [==============================] - 5s 2ms/step - loss: 0.1569 - mae: 0.0672 - mse: 0.0114 - val_loss: 0.1553 - val_mae: 0.0798 - val_mse: 0.0100\n"
     ]
    }
   ],
   "source": [
    "EPOCHS = 20\n",
    "history = model.fit(\n",
    "  train_data, train_target,\n",
    "  batch_size = 64,\n",
    "  epochs=EPOCHS, validation_data=(test_data,test_target))"
   ]
  },
  {
   "cell_type": "code",
   "execution_count": 52,
   "metadata": {},
   "outputs": [],
   "source": [
    "y_act = test_target.to_numpy()\n",
    "y_pred = model.predict(test_data).reshape(-1)"
   ]
  },
  {
   "cell_type": "code",
   "execution_count": 53,
   "metadata": {},
   "outputs": [
    {
     "data": {
      "text/plain": [
       "array([0.70956305, 0.7385341 , 0.7572623 , 0.77093983, 0.78284324,\n",
       "       0.79401   , 0.80425612, 0.81390585, 0.82398719, 0.83388334])"
      ]
     },
     "execution_count": 53,
     "metadata": {},
     "output_type": "execute_result"
    }
   ],
   "source": [
    "VaR(y_act)"
   ]
  },
  {
   "cell_type": "code",
   "execution_count": 54,
   "metadata": {},
   "outputs": [
    {
     "data": {
      "text/plain": [
       "array([0.5785115 , 0.6261922 , 0.66098017, 0.6924633 , 0.7204937 ,\n",
       "       0.74642247, 0.771259  , 0.7940546 , 0.81683236, 0.84127957],\n",
       "      dtype=float32)"
      ]
     },
     "execution_count": 54,
     "metadata": {},
     "output_type": "execute_result"
    }
   ],
   "source": [
    "VaR(y_pred)"
   ]
  },
  {
   "cell_type": "code",
   "execution_count": 55,
   "metadata": {},
   "outputs": [
    {
     "data": {
      "text/html": [
       "<div>\n",
       "<style scoped>\n",
       "    .dataframe tbody tr th:only-of-type {\n",
       "        vertical-align: middle;\n",
       "    }\n",
       "\n",
       "    .dataframe tbody tr th {\n",
       "        vertical-align: top;\n",
       "    }\n",
       "\n",
       "    .dataframe thead th {\n",
       "        text-align: right;\n",
       "    }\n",
       "</style>\n",
       "<table border=\"1\" class=\"dataframe\">\n",
       "  <thead>\n",
       "    <tr style=\"text-align: right;\">\n",
       "      <th></th>\n",
       "      <th>Act</th>\n",
       "      <th>Pred</th>\n",
       "    </tr>\n",
       "  </thead>\n",
       "  <tbody>\n",
       "    <tr>\n",
       "      <th>count</th>\n",
       "      <td>102229.000000</td>\n",
       "      <td>102229.000000</td>\n",
       "    </tr>\n",
       "    <tr>\n",
       "      <th>mean</th>\n",
       "      <td>2.119526</td>\n",
       "      <td>2.093279</td>\n",
       "    </tr>\n",
       "    <tr>\n",
       "      <th>std</th>\n",
       "      <td>1.353206</td>\n",
       "      <td>1.342620</td>\n",
       "    </tr>\n",
       "    <tr>\n",
       "      <th>min</th>\n",
       "      <td>0.322815</td>\n",
       "      <td>0.101528</td>\n",
       "    </tr>\n",
       "    <tr>\n",
       "      <th>25%</th>\n",
       "      <td>1.168864</td>\n",
       "      <td>1.157181</td>\n",
       "    </tr>\n",
       "    <tr>\n",
       "      <th>50%</th>\n",
       "      <td>1.603277</td>\n",
       "      <td>1.615367</td>\n",
       "    </tr>\n",
       "    <tr>\n",
       "      <th>75%</th>\n",
       "      <td>2.647212</td>\n",
       "      <td>2.577241</td>\n",
       "    </tr>\n",
       "    <tr>\n",
       "      <th>max</th>\n",
       "      <td>8.725821</td>\n",
       "      <td>7.805378</td>\n",
       "    </tr>\n",
       "  </tbody>\n",
       "</table>\n",
       "</div>"
      ],
      "text/plain": [
       "                 Act           Pred\n",
       "count  102229.000000  102229.000000\n",
       "mean        2.119526       2.093279\n",
       "std         1.353206       1.342620\n",
       "min         0.322815       0.101528\n",
       "25%         1.168864       1.157181\n",
       "50%         1.603277       1.615367\n",
       "75%         2.647212       2.577241\n",
       "max         8.725821       7.805378"
      ]
     },
     "execution_count": 55,
     "metadata": {},
     "output_type": "execute_result"
    }
   ],
   "source": [
    "dff = pd.DataFrame({'Act': test_target, 'Pred' : y_pred})\n",
    "dff.describe()"
   ]
  },
  {
   "cell_type": "code",
   "execution_count": 56,
   "metadata": {},
   "outputs": [
    {
     "data": {
      "text/plain": [
       "<AxesSubplot:>"
      ]
     },
     "execution_count": 56,
     "metadata": {},
     "output_type": "execute_result"
    },
    {
     "data": {
      "image/png": "[encoded data removed]",
      "text/plain": [
       "<Figure size 432x288 with 1 Axes>"
      ]
     },
     "metadata": {
      "needs_background": "light"
     },
     "output_type": "display_data"
    }
   ],
   "source": [
    "sn.distplot(np.abs(y_act-y_pred))"
   ]
  },
  {
   "cell_type": "code",
   "execution_count": null,
   "metadata": {},
   "outputs": [],
   "source": []
  },
  {
   "cell_type": "code",
   "execution_count": 57,
   "metadata": {},
   "outputs": [
    {
     "data": {
      "text/plain": [
       "<matplotlib.legend.Legend at 0x2520285e088>"
      ]
     },
     "execution_count": 57,
     "metadata": {},
     "output_type": "execute_result"
    },
    {
     "data": {
      "image/png": "[encoded data removed]",
      "text/plain": [
       "<Figure size 432x288 with 1 Axes>"
      ]
     },
     "metadata": {
      "needs_background": "light"
     },
     "output_type": "display_data"
    }
   ],
   "source": [
    "sn.distplot(y_act,fit = stats.norm, color = 'red', label = 'Determenistic',fit_kws={\"color\":\"red\"},kde = False)\n",
    "sn.distplot(y_pred, fit = stats.norm, color = 'blue', label = 'Approximated',fit_kws={\"color\":\"blue\"},kde=False)\n",
    "plt.legend()"
   ]
  },
  {
   "cell_type": "code",
   "execution_count": 58,
   "metadata": {},
   "outputs": [
    {
     "name": "stdout",
     "output_type": "stream",
     "text": [
      "export_path = C:\\Users\\PLDD\\Practice\\GitHub\\Python\\MHS\\models\\1\n",
      "\n",
      "WARNING:tensorflow:From C:\\Users\\PLDD\\Anaconda3\\envs\\tf\\lib\\site-packages\\tensorflow\\python\\training\\tracking\\tracking.py:111: Model.state_updates (from tensorflow.python.keras.engine.training) is deprecated and will be removed in a future version.\n",
      "Instructions for updating:\n",
      "This property should not be used in TensorFlow 2.0, as updates are applied automatically.\n",
      "WARNING:tensorflow:From C:\\Users\\PLDD\\Anaconda3\\envs\\tf\\lib\\site-packages\\tensorflow\\python\\training\\tracking\\tracking.py:111: Layer.updates (from tensorflow.python.keras.engine.base_layer) is deprecated and will be removed in a future version.\n",
      "Instructions for updating:\n",
      "This property should not be used in TensorFlow 2.0, as updates are applied automatically.\n",
      "INFO:tensorflow:Assets written to: C:\\Users\\PLDD\\Practice\\GitHub\\Python\\MHS\\models\\1\\assets\n",
      "\n",
      "Saved model:\n"
     ]
    }
   ],
   "source": [
    "version = 1\n",
    "export_path = os.path.join(modeldir, str(version))\n",
    "print('export_path = {}\\n'.format(export_path))\n",
    "\n",
    "tf.keras.models.save_model(\n",
    "    model,\n",
    "    export_path,\n",
    "    overwrite=True,\n",
    "    include_optimizer=True,\n",
    "    save_format=None,\n",
    "    signatures=None,\n",
    "    options=None\n",
    ")\n",
    "\n",
    "print('\\nSaved model:')"
   ]
  },
  {
   "cell_type": "code",
   "execution_count": null,
   "metadata": {},
   "outputs": [],
   "source": []
  }
 ],
 "metadata": {
  "kernelspec": {
   "display_name": "Python 3",
   "language": "python",
   "name": "python3"
  },
  "language_info": {
   "codemirror_mode": {
    "name": "ipython",
    "version": 3
   },
   "file_extension": ".py",
   "mimetype": "text/x-python",
   "name": "python",
   "nbconvert_exporter": "python",
   "pygments_lexer": "ipython3",
   "version": "3.7.8"
  }
 },
 "nbformat": 4,
 "nbformat_minor": 4
}
