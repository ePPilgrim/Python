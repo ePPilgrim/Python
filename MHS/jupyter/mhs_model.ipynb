{
 "cells": [
  {
   "cell_type": "code",
   "execution_count": 41,
   "metadata": {},
   "outputs": [],
   "source": [
    "'''\n",
    "%%writefile ns.py\n",
    "start = time.time()\n",
    "end = time.time()\n",
    "print(end-start)\n",
    "'''\n",
    "import tensorflow as tf\n",
    "import time\n",
    "import pandas as pd\n",
    "import numpy as np\n",
    "import matplotlib.pyplot as plt\n",
    "import seaborn as sn\n",
    "import os as os\n",
    "import sys\n",
    "from pathlib import Path\n",
    "import sklearn as sk \n",
    "import time\n",
    "import scipy.stats as stats\n",
    "from sklearn.preprocessing.data import QuantileTransformer\n",
    "from tensorflow.keras import regularizers\n",
    "\n",
    "mhsdir = Path(os.getcwd()).parent\n",
    "sys.path.append(os.path.join(mhsdir, 'src'))\n",
    "\n",
    "import ns\n",
    "\n",
    "datarawdir = os.path.join(mhsdir, 'data\\\\raw\\\\YC')\n",
    "dataprepdir = os.path.join(mhsdir, 'data\\\\preprocessed')\n",
    "dataprepnsdir = os.path.join(mhsdir, 'data\\\\preprocessed\\\\ns')\n",
    "modeldir = os.path.join(mhsdir, 'models')\n",
    "traindir = os.path.join(mhsdir, 'data\\\\train')\n",
    "\n",
    "tempdatarawdir = os.path.join(mhsdir, 'temp\\\\data\\\\raw\\\\YC')\n",
    "tempdataprepdir = os.path.join(mhsdir, 'temp\\\\data\\\\preprocessed')\n",
    "tempdataprepnsdir = os.path.join(mhsdir, 'temp\\\\data\\\\preprocessed\\\\ns')\n",
    "\n",
    "tfk = tf.keras\n",
    "tfkl = tf.keras.layers\n",
    "\n",
    "train_csv = os.path.join(traindir, 'train_real_0_0_410_38_40938.txt')\n",
    "test_csv = os.path.join(traindir, 'train_real_410_0_9132.txt')"
   ]
  },
  {
   "cell_type": "markdown",
   "metadata": {},
   "source": [
    "# Build model"
   ]
  },
  {
   "cell_type": "code",
   "execution_count": 5,
   "metadata": {},
   "outputs": [],
   "source": [
    "def to_category(freqv): \n",
    "    res = np.zeros((freqv.shape[0],12))\n",
    "    for i in range(freqv.shape[0]):\n",
    "        if freqv[i] == 1:\n",
    "            res[i] = np.array([1,1,1,1,1,1,1,1,1,1,1,1],dtype = 'float')\n",
    "        elif freqv[i] == 2:\n",
    "            res[i] = np.array([0,1,0,1,0,1,0,1,0,1,0,1],dtype = 'float') \n",
    "        elif freqv[i] == 3:\n",
    "            res[i] = np.array([0,0,1,0,0,1,0,0,1,0,0,1],dtype = 'float')\n",
    "        elif freqv[i] == 4:\n",
    "            res[i] = np.array([0,0,0,1,0,0,0,1,0,0,0,1],dtype = 'float')\n",
    "        elif freqv[i] == 6:\n",
    "            res[i] = np.array([0,0,0,0,0,1,0,0,0,0,0,1],dtype = 'float')\n",
    "        elif freqv[i] == 12:\n",
    "            res[i] = np.array([0,0,0,0,0,0,0,0,0,0,0,1],dtype = 'float')\n",
    "    return res\n",
    "\n",
    "def convertor(df):\n",
    "    df.columns = ['n','id','bmode','tb1','tb2','tb3','tb4','tb5','tb6','tb7','tb8','tb9','tb10','tb11','tb12','tb13','tb14','tb15','tb16','tb17','tb18','tb19','tb20','tb21',\n",
    "           'ts1','ts2','ts3','ts4','ts5','ts6','ts7','ts8','ts9','ts10','ts11','ts12','ts13','ts14','ts15','ts16','ts17','ts18','ts19','ts20','ts21',\n",
    "           't1','t2','t3','t4','t5','t6','t7','t8','t9','t10','t11','t12','t13','t14','t15','t16','t17','t18','t19','t20','t21',\n",
    "           'c1','c2','c3','c4','c5','c6','c7','c8','c9','c10','c11','c12','smode','freq']\n",
    "    act_columns = ['tb1','tb2','tb3','tb4','tb5','tb6','tb7','tb8','tb9','tb10','tb11','tb12','tb13','tb14','tb15','tb16','tb17','tb18','tb19','tb20','tb21',\n",
    "               'ts1','ts2','ts3','ts4','ts5','ts6','ts7','ts8','ts9','ts10','ts11','ts12','ts13','ts14','ts15','ts16','ts17','ts18','ts19','ts20','ts21',\n",
    "               'c1','c2','c3','c4','c5','c6','c7','c8','c9','c10','c11','c12']\n",
    "    coup_columns = ['c1','c2','c3','c4','c5','c6','c7','c8','c9','c10','c11','c12'] \n",
    "    target = df[coup_columns].sum(axis=1)\n",
    "    data = df[act_columns].copy()\n",
    "    data.loc[:,coup_columns] = to_category(df['freq'])\n",
    "    return data,target\n",
    "\n",
    "def VaR(ar):\n",
    "    sar = np.sort(ar)\n",
    "    sz = sar.shape[0]\n",
    "    rsk = np.rint(sz * (1 - np.array([0.99,0.98,0.97,0.96,0.95,0.94,0.93,0.92,0.91,0.9]))).astype('int')\n",
    "    return sar[rsk]"
   ]
  },
  {
   "cell_type": "code",
   "execution_count": 38,
   "metadata": {},
   "outputs": [],
   "source": [
    "train_df = pd.read_csv(train_csv, sep = ';',header = None).iloc[:,:-1]\n",
    "#train_df1 = pd.read_csv(train_csv, sep = ';',header = None)\n",
    "#train_df2 = pd.read_csv(test_csv, sep = ';',header = None)\n",
    "#train_df = pd.concat([train_df1,train_df2,train_real_df])\n",
    "test_df = pd.read_csv(test_csv, sep = ';',header = None).iloc[:,:-1]\n",
    "\n",
    "for i in range(100):\n",
    "    train_df = train_df.sample(frac = 1).reset_index(drop=True)\n",
    "    #test_df = test_df.sample(frac = 1).reset_index(drop=True)\n",
    "train_data, train_target = convertor(train_df)\n",
    "test_data, test_target = convertor(test_df)\n",
    "\n",
    "lx = train_target > 0.1\n",
    "train_data = train_data[lx]\n",
    "train_target = train_target[lx]\n",
    "lx = test_target > 0.1\n",
    "test_data = test_data[lx]\n",
    "test_target = test_target[lx]"
   ]
  },
  {
   "cell_type": "code",
   "execution_count": 39,
   "metadata": {},
   "outputs": [
    {
     "data": {
      "text/plain": [
       "<matplotlib.legend.Legend at 0x258829d5248>"
      ]
     },
     "execution_count": 39,
     "metadata": {},
     "output_type": "execute_result"
    },
    {
     "data": {
      "image/png": "[encoded data removed]",
      "text/plain": [
       "<Figure size 432x288 with 1 Axes>"
      ]
     },
     "metadata": {
      "needs_background": "light"
     },
     "output_type": "display_data"
    }
   ],
   "source": [
    "sn.distplot(test_target,label = 'Test chashflow')\n",
    "sn.distplot(train_target,label = 'Train chashflow')\n",
    "plt.legend()"
   ]
  },
  {
   "cell_type": "code",
   "execution_count": 42,
   "metadata": {},
   "outputs": [
    {
     "name": "stdout",
     "output_type": "stream",
     "text": [
      "Model: \"sequential_1\"\n",
      "_________________________________________________________________\n",
      "Layer (type)                 Output Shape              Param #   \n",
      "=================================================================\n",
      "dense_7 (Dense)              (None, 64)                3520      \n",
      "_________________________________________________________________\n",
      "dense_8 (Dense)              (None, 64)                4160      \n",
      "_________________________________________________________________\n",
      "dense_9 (Dense)              (None, 64)                4160      \n",
      "_________________________________________________________________\n",
      "dense_10 (Dense)             (None, 64)                4160      \n",
      "_________________________________________________________________\n",
      "dense_11 (Dense)             (None, 64)                4160      \n",
      "_________________________________________________________________\n",
      "dense_12 (Dense)             (None, 64)                4160      \n",
      "_________________________________________________________________\n",
      "dense_13 (Dense)             (None, 1)                 65        \n",
      "=================================================================\n",
      "Total params: 24,385\n",
      "Trainable params: 24,385\n",
      "Non-trainable params: 0\n",
      "_________________________________________________________________\n"
     ]
    }
   ],
   "source": [
    "model = tf.keras.Sequential([\n",
    "                    tf.keras.layers.Dense(64, activation='relu',input_shape = [len(train_data.keys())]),\n",
    "                    tf.keras.layers.Dense(64, activation='relu'),\n",
    "                    tf.keras.layers.Dense(64, activation='relu',kernel_regularizer=regularizers.l1(0.0001)),\n",
    "                    tf.keras.layers.Dense(64, activation='relu',kernel_regularizer=regularizers.l1(0.0001)), \n",
    "                    tf.keras.layers.Dense(64, activation='relu',kernel_regularizer=regularizers.l1(0.0001)), \n",
    "                    tf.keras.layers.Dense(64, activation='relu',kernel_regularizer=regularizers.l1(0.0001)), \n",
    "                    #tf.keras.layers.Dense(64, activation='relu'),\n",
    "                    #tf.keras.layers.Dense(128, activation='relu',kernel_regularizer=tf.keras.regularizers.l1(l=0.00001)),                 \n",
    "                    #tf.keras.layers.Dense(64, activation='relu',kernel_regularizer=tf.keras.regularizers.l1(l=0.0001)),\n",
    "                    tf.keras.layers.Dense(1)       \n",
    "])\n",
    "model.compile(loss = 'mse',\n",
    "              optimizer = tf.keras.optimizers.Adagrad(0.001),\n",
    "              metrics = ['mae','mse'])\n",
    "model.summary()"
   ]
  },
  {
   "cell_type": "code",
   "execution_count": 43,
   "metadata": {},
   "outputs": [
    {
     "name": "stdout",
     "output_type": "stream",
     "text": [
      "Epoch 1/20\n",
      "625/625 [==============================] - 1s 2ms/step - loss: 1.8957 - mae: 0.8911 - mse: 1.7185 - val_loss: 0.6524 - val_mae: 0.4671 - val_mse: 0.4750\n",
      "Epoch 2/20\n",
      "625/625 [==============================] - 1s 2ms/step - loss: 0.3659 - mae: 0.3054 - mse: 0.1886 - val_loss: 0.4070 - val_mae: 0.3082 - val_mse: 0.2298\n",
      "Epoch 3/20\n",
      "625/625 [==============================] - 1s 2ms/step - loss: 0.3010 - mae: 0.2496 - mse: 0.1238 - val_loss: 0.3653 - val_mae: 0.2653 - val_mse: 0.1883\n",
      "Epoch 4/20\n",
      "625/625 [==============================] - 1s 2ms/step - loss: 0.2826 - mae: 0.2301 - mse: 0.1057 - val_loss: 0.3478 - val_mae: 0.2507 - val_mse: 0.1709\n",
      "Epoch 5/20\n",
      "625/625 [==============================] - 1s 2ms/step - loss: 0.2705 - mae: 0.2154 - mse: 0.0938 - val_loss: 0.3296 - val_mae: 0.2365 - val_mse: 0.1529\n",
      "Epoch 6/20\n",
      "625/625 [==============================] - 1s 2ms/step - loss: 0.2617 - mae: 0.2049 - mse: 0.0852 - val_loss: 0.3259 - val_mae: 0.2326 - val_mse: 0.1495\n",
      "Epoch 7/20\n",
      "625/625 [==============================] - 1s 2ms/step - loss: 0.2549 - mae: 0.1958 - mse: 0.0786 - val_loss: 0.3134 - val_mae: 0.2205 - val_mse: 0.1372\n",
      "Epoch 8/20\n",
      "625/625 [==============================] - 1s 2ms/step - loss: 0.2496 - mae: 0.1888 - mse: 0.0735 - val_loss: 0.3090 - val_mae: 0.2153 - val_mse: 0.1329\n",
      "Epoch 9/20\n",
      "625/625 [==============================] - 1s 2ms/step - loss: 0.2450 - mae: 0.1824 - mse: 0.0691 - val_loss: 0.3030 - val_mae: 0.2098 - val_mse: 0.1272\n",
      "Epoch 10/20\n",
      "625/625 [==============================] - 1s 2ms/step - loss: 0.2412 - mae: 0.1773 - mse: 0.0655 - val_loss: 0.2972 - val_mae: 0.2046 - val_mse: 0.1215\n",
      "Epoch 11/20\n",
      "625/625 [==============================] - 1s 2ms/step - loss: 0.2381 - mae: 0.1733 - mse: 0.0626 - val_loss: 0.2900 - val_mae: 0.1999 - val_mse: 0.1146\n",
      "Epoch 12/20\n",
      "625/625 [==============================] - 1s 2ms/step - loss: 0.2350 - mae: 0.1694 - mse: 0.0597 - val_loss: 0.2919 - val_mae: 0.1983 - val_mse: 0.1167\n",
      "Epoch 13/20\n",
      "625/625 [==============================] - 1s 2ms/step - loss: 0.2327 - mae: 0.1661 - mse: 0.0575 - val_loss: 0.2855 - val_mae: 0.1946 - val_mse: 0.1105\n",
      "Epoch 14/20\n",
      "625/625 [==============================] - 1s 2ms/step - loss: 0.2303 - mae: 0.1629 - mse: 0.0554 - val_loss: 0.2809 - val_mae: 0.1888 - val_mse: 0.1060\n",
      "Epoch 15/20\n",
      "625/625 [==============================] - 1s 2ms/step - loss: 0.2283 - mae: 0.1603 - mse: 0.0536 - val_loss: 0.2784 - val_mae: 0.1864 - val_mse: 0.1038\n",
      "Epoch 16/20\n",
      "625/625 [==============================] - 1s 2ms/step - loss: 0.2265 - mae: 0.1578 - mse: 0.0520 - val_loss: 0.2754 - val_mae: 0.1839 - val_mse: 0.1009\n",
      "Epoch 17/20\n",
      "625/625 [==============================] - 1s 2ms/step - loss: 0.2249 - mae: 0.1555 - mse: 0.0506 - val_loss: 0.2738 - val_mae: 0.1807 - val_mse: 0.0995\n",
      "Epoch 18/20\n",
      "625/625 [==============================] - 1s 2ms/step - loss: 0.2231 - mae: 0.1531 - mse: 0.0490 - val_loss: 0.2749 - val_mae: 0.1813 - val_mse: 0.1009\n",
      "Epoch 19/20\n",
      "625/625 [==============================] - 1s 2ms/step - loss: 0.2217 - mae: 0.1511 - mse: 0.0478 - val_loss: 0.2709 - val_mae: 0.1794 - val_mse: 0.0971\n",
      "Epoch 20/20\n",
      "625/625 [==============================] - 1s 2ms/step - loss: 0.2203 - mae: 0.1494 - mse: 0.0466 - val_loss: 0.2672 - val_mae: 0.1749 - val_mse: 0.0936\n"
     ]
    }
   ],
   "source": [
    "EPOCHS = 20\n",
    "history = model.fit(\n",
    "  train_data, train_target,\n",
    "  batch_size = 64,\n",
    "  epochs=EPOCHS, validation_data=(test_data,test_target))"
   ]
  },
  {
   "cell_type": "code",
   "execution_count": 44,
   "metadata": {},
   "outputs": [],
   "source": [
    "y_act = test_target.to_numpy()\n",
    "y_pred = model.predict(test_data).reshape(-1)"
   ]
  },
  {
   "cell_type": "code",
   "execution_count": 45,
   "metadata": {},
   "outputs": [
    {
     "data": {
      "text/plain": [
       "array([0.22622515, 0.31700304, 0.39570619, 0.45365751, 0.5111418 ,\n",
       "       0.56637787, 0.61283443, 0.6572477 , 0.69763966, 0.73336264])"
      ]
     },
     "execution_count": 45,
     "metadata": {},
     "output_type": "execute_result"
    }
   ],
   "source": [
    "VaR(y_act)"
   ]
  },
  {
   "cell_type": "code",
   "execution_count": 46,
   "metadata": {},
   "outputs": [
    {
     "data": {
      "text/plain": [
       "array([0.28023952, 0.3673098 , 0.4366684 , 0.4818223 , 0.522219  ,\n",
       "       0.55153257, 0.5760806 , 0.6138604 , 0.64091176, 0.6721372 ],\n",
       "      dtype=float32)"
      ]
     },
     "execution_count": 46,
     "metadata": {},
     "output_type": "execute_result"
    }
   ],
   "source": [
    "VaR(y_pred)"
   ]
  },
  {
   "cell_type": "code",
   "execution_count": 47,
   "metadata": {},
   "outputs": [
    {
     "data": {
      "text/html": [
       "<div>\n",
       "<style scoped>\n",
       "    .dataframe tbody tr th:only-of-type {\n",
       "        vertical-align: middle;\n",
       "    }\n",
       "\n",
       "    .dataframe tbody tr th {\n",
       "        vertical-align: top;\n",
       "    }\n",
       "\n",
       "    .dataframe thead th {\n",
       "        text-align: right;\n",
       "    }\n",
       "</style>\n",
       "<table border=\"1\" class=\"dataframe\">\n",
       "  <thead>\n",
       "    <tr style=\"text-align: right;\">\n",
       "      <th></th>\n",
       "      <th>Act</th>\n",
       "      <th>Pred</th>\n",
       "    </tr>\n",
       "  </thead>\n",
       "  <tbody>\n",
       "    <tr>\n",
       "      <th>count</th>\n",
       "      <td>8942.000000</td>\n",
       "      <td>8942.000000</td>\n",
       "    </tr>\n",
       "    <tr>\n",
       "      <th>mean</th>\n",
       "      <td>2.447931</td>\n",
       "      <td>2.437514</td>\n",
       "    </tr>\n",
       "    <tr>\n",
       "      <th>std</th>\n",
       "      <td>1.899557</td>\n",
       "      <td>1.847497</td>\n",
       "    </tr>\n",
       "    <tr>\n",
       "      <th>min</th>\n",
       "      <td>0.101772</td>\n",
       "      <td>-0.155553</td>\n",
       "    </tr>\n",
       "    <tr>\n",
       "      <th>25%</th>\n",
       "      <td>1.132575</td>\n",
       "      <td>1.099985</td>\n",
       "    </tr>\n",
       "    <tr>\n",
       "      <th>50%</th>\n",
       "      <td>1.839844</td>\n",
       "      <td>1.862129</td>\n",
       "    </tr>\n",
       "    <tr>\n",
       "      <th>75%</th>\n",
       "      <td>3.127393</td>\n",
       "      <td>3.193925</td>\n",
       "    </tr>\n",
       "    <tr>\n",
       "      <th>max</th>\n",
       "      <td>18.057307</td>\n",
       "      <td>11.974199</td>\n",
       "    </tr>\n",
       "  </tbody>\n",
       "</table>\n",
       "</div>"
      ],
      "text/plain": [
       "               Act         Pred\n",
       "count  8942.000000  8942.000000\n",
       "mean      2.447931     2.437514\n",
       "std       1.899557     1.847497\n",
       "min       0.101772    -0.155553\n",
       "25%       1.132575     1.099985\n",
       "50%       1.839844     1.862129\n",
       "75%       3.127393     3.193925\n",
       "max      18.057307    11.974199"
      ]
     },
     "execution_count": 47,
     "metadata": {},
     "output_type": "execute_result"
    }
   ],
   "source": [
    "dff = pd.DataFrame({'Act': test_target, 'Pred' : y_pred})\n",
    "dff.describe()"
   ]
  },
  {
   "cell_type": "code",
   "execution_count": 34,
   "metadata": {},
   "outputs": [
    {
     "data": {
      "text/plain": [
       "<AxesSubplot:>"
      ]
     },
     "execution_count": 34,
     "metadata": {},
     "output_type": "execute_result"
    },
    {
     "data": {
      "image/png": "[encoded data removed]",
      "text/plain": [
       "<Figure size 432x288 with 1 Axes>"
      ]
     },
     "metadata": {
      "needs_background": "light"
     },
     "output_type": "display_data"
    }
   ],
   "source": [
    "sn.distplot(np.abs(y_act-y_pred))"
   ]
  },
  {
   "cell_type": "code",
   "execution_count": null,
   "metadata": {},
   "outputs": [],
   "source": []
  },
  {
   "cell_type": "code",
   "execution_count": 48,
   "metadata": {},
   "outputs": [
    {
     "data": {
      "text/plain": [
       "<matplotlib.legend.Legend at 0x25880226348>"
      ]
     },
     "execution_count": 48,
     "metadata": {},
     "output_type": "execute_result"
    },
    {
     "data": {
      "image/png": "[encoded data removed]",
      "text/plain": [
       "<Figure size 432x288 with 1 Axes>"
      ]
     },
     "metadata": {
      "needs_background": "light"
     },
     "output_type": "display_data"
    }
   ],
   "source": [
    "sn.distplot(y_act,fit = stats.norm, color = 'red', label = 'Determenistic',fit_kws={\"color\":\"red\"},kde = False)\n",
    "sn.distplot(y_pred, fit = stats.norm, color = 'blue', label = 'Approximated',fit_kws={\"color\":\"blue\"},kde=False)\n",
    "plt.legend()"
   ]
  },
  {
   "cell_type": "code",
   "execution_count": 18,
   "metadata": {},
   "outputs": [
    {
     "name": "stdout",
     "output_type": "stream",
     "text": [
      "export_path = C:\\Users\\PLDD\\Practice\\GitHub\\Python\\MHS\\models\\1\n",
      "\n",
      "WARNING:tensorflow:From C:\\Users\\PLDD\\Anaconda3\\envs\\tf\\lib\\site-packages\\tensorflow\\python\\training\\tracking\\tracking.py:111: Model.state_updates (from tensorflow.python.keras.engine.training) is deprecated and will be removed in a future version.\n",
      "Instructions for updating:\n",
      "This property should not be used in TensorFlow 2.0, as updates are applied automatically.\n",
      "WARNING:tensorflow:From C:\\Users\\PLDD\\Anaconda3\\envs\\tf\\lib\\site-packages\\tensorflow\\python\\training\\tracking\\tracking.py:111: Layer.updates (from tensorflow.python.keras.engine.base_layer) is deprecated and will be removed in a future version.\n",
      "Instructions for updating:\n",
      "This property should not be used in TensorFlow 2.0, as updates are applied automatically.\n",
      "INFO:tensorflow:Assets written to: C:\\Users\\PLDD\\Practice\\GitHub\\Python\\MHS\\models\\1\\assets\n",
      "\n",
      "Saved model:\n"
     ]
    }
   ],
   "source": [
    "version = 1\n",
    "export_path = os.path.join(modeldir, str(version))\n",
    "print('export_path = {}\\n'.format(export_path))\n",
    "\n",
    "tf.keras.models.save_model(\n",
    "    model,\n",
    "    export_path,\n",
    "    overwrite=True,\n",
    "    include_optimizer=True,\n",
    "    save_format=None,\n",
    "    signatures=None,\n",
    "    options=None\n",
    ")\n",
    "\n",
    "print('\\nSaved model:')"
   ]
  },
  {
   "cell_type": "code",
   "execution_count": null,
   "metadata": {},
   "outputs": [],
   "source": []
  }
 ],
 "metadata": {
  "kernelspec": {
   "display_name": "Python 3",
   "language": "python",
   "name": "python3"
  },
  "language_info": {
   "codemirror_mode": {
    "name": "ipython",
    "version": 3
   },
   "file_extension": ".py",
   "mimetype": "text/x-python",
   "name": "python",
   "nbconvert_exporter": "python",
   "pygments_lexer": "ipython3",
   "version": "3.7.8"
  }
 },
 "nbformat": 4,
 "nbformat_minor": 4
}
