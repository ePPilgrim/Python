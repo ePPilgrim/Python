{
 "cells": [
  {
   "cell_type": "code",
   "execution_count": 59,
   "metadata": {},
   "outputs": [],
   "source": [
    "'''\n",
    "%%writefile ns.py\n",
    "start = time.time()\n",
    "end = time.time()\n",
    "print(end-start)\n",
    "'''\n",
    "import tensorflow as tf\n",
    "import time\n",
    "import pandas as pd\n",
    "import numpy as np\n",
    "import matplotlib.pyplot as plt\n",
    "import seaborn as sn\n",
    "import os as os\n",
    "import sys\n",
    "from pathlib import Path\n",
    "import sklearn as sk \n",
    "import time\n",
    "import scipy.stats as stats\n",
    "from sklearn.preprocessing.data import QuantileTransformer\n",
    "from tensorflow.keras import regularizers\n",
    "import requests\n",
    "import json\n",
    "\n",
    "mhsdir = Path(os.getcwd()).parent\n",
    "sys.path.append(os.path.join(mhsdir, 'src'))\n",
    "\n",
    "import ns\n",
    "\n",
    "datarawdir = os.path.join(mhsdir, 'data\\\\raw\\\\YC')\n",
    "dataprepdir = os.path.join(mhsdir, 'data\\\\preprocessed')\n",
    "dataprepnsdir = os.path.join(mhsdir, 'data\\\\preprocessed\\\\ns')\n",
    "modeldir = os.path.join(mhsdir, 'models')\n",
    "\n",
    "tempdatarawdir = os.path.join(mhsdir, 'temp\\\\data\\\\raw\\\\YC')\n",
    "tempdataprepdir = os.path.join(mhsdir, 'temp\\\\data\\\\preprocessed')\n",
    "tempdataprepnsdir = os.path.join(mhsdir, 'temp\\\\data\\\\preprocessed\\\\ns')\n",
    "\n",
    "tfk = tf.keras\n",
    "tfkl = tf.keras.layers\n",
    "\n",
    "#train_csv = os.path.join(traindir, 'train_real_0_0_410_38_40938.txt')\n",
    "#test_csv = os.path.join(traindir, 'train_real_410_0_9132.txt')"
   ]
  },
  {
   "cell_type": "markdown",
   "metadata": {},
   "source": [
    "# Final preprocessing"
   ]
  },
  {
   "cell_type": "code",
   "execution_count": 60,
   "metadata": {},
   "outputs": [
    {
     "name": "stdout",
     "output_type": "stream",
     "text": [
      "1\n",
      "10958\n"
     ]
    }
   ],
   "source": [
    "df = None\n",
    "traindir = os.path.join(mhsdir, 'data\\\\train\\\\repository\\\\train')\n",
    "testdir = os.path.join(mhsdir, 'data\\\\train\\\\repository\\\\test')\n",
    "\n",
    "for filename in os.listdir(traindir):\n",
    "    path=os.path.join(traindir, filename)\n",
    "    df1 = pd.read_csv(path, sep = ';', header = None)\n",
    "    if df is None:\n",
    "        df = df1\n",
    "        continue\n",
    "    df = pd.concat([df, df1])\n",
    "train_df = df.iloc[:,:-1]\n",
    "test_df = pd.read_csv(os.path.join(testdir, \"train_real.txt\"), sep = ';', header = None).iloc[:,:-1]\n",
    "\n",
    "lx = (test_df.iloc[:,-14:-2] < -0.00001).any(axis = 1)\n",
    "test_df = test_df[~lx]\n",
    "print(lx.sum())\n",
    "lx = (train_df.iloc[:,-14:-2] < -0.00001).any(axis = 1)\n",
    "train_df = train_df[~lx]\n",
    "print(lx.sum())\n",
    "\n",
    "for i in range(100):\n",
    "    train_df = train_df.sample(frac = 1).reset_index(drop=True)\n",
    "    \n",
    "repodir = os.path.join(mhsdir, 'data\\\\train\\\\repository')\n",
    "\n",
    "trainfilepath = os.path.join(repodir, 'train_{}'.format(train_df.shape[0]) )\n",
    "train_df.to_csv(trainfilepath,index = False)\n",
    "\n",
    "testfilepath = os.path.join(repodir, 'test_{}'.format(test_df.shape[0]) )\n",
    "test_df.to_csv(testfilepath,index = False)"
   ]
  },
  {
   "cell_type": "code",
   "execution_count": 61,
   "metadata": {},
   "outputs": [
    {
     "data": {
      "text/plain": [
       "'C:\\\\Users\\\\PLDD\\\\Practice\\\\GitHub\\\\Python\\\\MHS\\\\data\\\\train\\\\repository\\\\test_102229'"
      ]
     },
     "execution_count": 61,
     "metadata": {},
     "output_type": "execute_result"
    }
   ],
   "source": [
    "testfilepath"
   ]
  },
  {
   "cell_type": "markdown",
   "metadata": {},
   "source": [
    "# Train and build model"
   ]
  },
  {
   "cell_type": "code",
   "execution_count": 63,
   "metadata": {},
   "outputs": [],
   "source": [
    "def to_category(freqv): \n",
    "    res = np.zeros((freqv.shape[0],12))\n",
    "    for i in range(freqv.shape[0]):\n",
    "        if freqv[i] == 1:\n",
    "            res[i] = np.array([1,1,1,1,1,1,1,1,1,1,1,1],dtype = 'float')\n",
    "        elif freqv[i] == 2:\n",
    "            res[i] = np.array([0,1,0,1,0,1,0,1,0,1,0,1],dtype = 'float') \n",
    "        elif freqv[i] == 3:\n",
    "            res[i] = np.array([0,0,1,0,0,1,0,0,1,0,0,1],dtype = 'float')\n",
    "        elif freqv[i] == 4:\n",
    "            res[i] = np.array([0,0,0,1,0,0,0,1,0,0,0,1],dtype = 'float')\n",
    "        elif freqv[i] == 6:\n",
    "            res[i] = np.array([0,0,0,0,0,1,0,0,0,0,0,1],dtype = 'float')\n",
    "        elif freqv[i] == 12:\n",
    "            res[i] = np.array([0,0,0,0,0,0,0,0,0,0,0,1],dtype = 'float')\n",
    "    return res\n",
    "\n",
    "def convertor(df):\n",
    "    df.columns = ['n','id','bmode','tb1','tb2','tb3','tb4','tb5','tb6','tb7','tb8','tb9','tb10','tb11','tb12','tb13','tb14','tb15','tb16','tb17','tb18','tb19','tb20','tb21',\n",
    "           'ts1','ts2','ts3','ts4','ts5','ts6','ts7','ts8','ts9','ts10','ts11','ts12','ts13','ts14','ts15','ts16','ts17','ts18','ts19','ts20','ts21',\n",
    "           't1','t2','t3','t4','t5','t6','t7','t8','t9','t10','t11','t12','t13','t14','t15','t16','t17','t18','t19','t20','t21',\n",
    "           'c1','c2','c3','c4','c5','c6','c7','c8','c9','c10','c11','c12','smode','freq']\n",
    "    act_columns = ['tb1','tb2','tb3','tb4','tb5','tb6','tb7','tb8','tb9','tb10','tb11','tb12','tb13','tb14','tb15','tb16','tb17','tb18','tb19','tb20','tb21',\n",
    "               'ts1','ts2','ts3','ts4','ts5','ts6','ts7','ts8','ts9','ts10','ts11','ts12','ts13','ts14','ts15','ts16','ts17','ts18','ts19','ts20','ts21',\n",
    "               'c1','c2','c3','c4','c5','c6','c7','c8','c9','c10','c11','c12']\n",
    "    coup_columns = ['c1','c2','c3','c4','c5','c6','c7','c8','c9','c10','c11','c12'] \n",
    "    target = df[coup_columns].sum(axis=1)\n",
    "    data = df[act_columns].copy()\n",
    "    data.loc[:,coup_columns] = to_category(df['freq'])\n",
    "    return data,target\n",
    "\n",
    "def VaR(ar):\n",
    "    sar = np.sort(ar)\n",
    "    sz = sar.shape[0]\n",
    "    rsk = np.rint(sz * (1 - np.array([0.99,0.98,0.97,0.96,0.95,0.94,0.93,0.92,0.91,0.9]))).astype('int')\n",
    "    return sar[rsk]"
   ]
  },
  {
   "cell_type": "code",
   "execution_count": 66,
   "metadata": {},
   "outputs": [],
   "source": [
    "train_df = pd.read_csv(trainfilepath)\n",
    "test_df = pd.read_csv(testfilepath)\n",
    "train_data, train_target = convertor(train_df)\n",
    "test_data, test_target = convertor(test_df)"
   ]
  },
  {
   "cell_type": "code",
   "execution_count": 76,
   "metadata": {},
   "outputs": [
    {
     "data": {
      "text/plain": [
       "<matplotlib.legend.Legend at 0x25202a48288>"
      ]
     },
     "execution_count": 76,
     "metadata": {},
     "output_type": "execute_result"
    },
    {
     "data": {
      "image/png": "[encoded data removed]",
      "text/plain": [
       "<Figure size 432x288 with 1 Axes>"
      ]
     },
     "metadata": {
      "needs_background": "light"
     },
     "output_type": "display_data"
    }
   ],
   "source": [
    "sn.distplot(test_target,label = 'Test chashflow')\n",
    "sn.distplot(train_target,label = 'Train chashflow')\n",
    "plt.legend()"
   ]
  },
  {
   "cell_type": "code",
   "execution_count": 77,
   "metadata": {},
   "outputs": [
    {
     "name": "stdout",
     "output_type": "stream",
     "text": [
      "Model: \"sequential_1\"\n",
      "_________________________________________________________________\n",
      "Layer (type)                 Output Shape              Param #   \n",
      "=================================================================\n",
      "dense_7 (Dense)              (None, 128)               7040      \n",
      "_________________________________________________________________\n",
      "dense_8 (Dense)              (None, 128)               16512     \n",
      "_________________________________________________________________\n",
      "dense_9 (Dense)              (None, 128)               16512     \n",
      "_________________________________________________________________\n",
      "dense_10 (Dense)             (None, 128)               16512     \n",
      "_________________________________________________________________\n",
      "dense_11 (Dense)             (None, 128)               16512     \n",
      "_________________________________________________________________\n",
      "dense_12 (Dense)             (None, 128)               16512     \n",
      "_________________________________________________________________\n",
      "dense_13 (Dense)             (None, 1)                 129       \n",
      "=================================================================\n",
      "Total params: 89,729\n",
      "Trainable params: 89,729\n",
      "Non-trainable params: 0\n",
      "_________________________________________________________________\n"
     ]
    }
   ],
   "source": [
    "model = tf.keras.Sequential([\n",
    "                    tf.keras.layers.Dense(128, activation='relu',input_shape = [len(train_data.keys())]),\n",
    "                    tf.keras.layers.Dense(128, activation='relu'),\n",
    "                    tf.keras.layers.Dense(128, activation='relu',kernel_regularizer=regularizers.l1(0.0001)),\n",
    "                    tf.keras.layers.Dense(128, activation='relu',kernel_regularizer=regularizers.l1(0.0001)), \n",
    "                    tf.keras.layers.Dense(128, activation='relu',kernel_regularizer=regularizers.l1(0.0001)), \n",
    "                    tf.keras.layers.Dense(128, activation='relu',kernel_regularizer=regularizers.l1(0.0001)), \n",
    "                    #tf.keras.layers.Dense(64, activation='relu'),\n",
    "                    #tf.keras.layers.Dense(128, activation='relu',kernel_regularizer=tf.keras.regularizers.l1(l=0.00001)),                 \n",
    "                    #tf.keras.layers.Dense(64, activation='relu',kernel_regularizer=tf.keras.regularizers.l1(l=0.0001)),\n",
    "                    tf.keras.layers.Dense(1)       \n",
    "])\n",
    "model.compile(loss = 'mse',\n",
    "              optimizer = tf.keras.optimizers.Adagrad(0.001),\n",
    "              metrics = ['mae','mse'])\n",
    "model.summary()"
   ]
  },
  {
   "cell_type": "code",
   "execution_count": 78,
   "metadata": {},
   "outputs": [
    {
     "name": "stdout",
     "output_type": "stream",
     "text": [
      "Epoch 1/120\n",
      "2485/2485 [==============================] - 8s 3ms/step - loss: 0.8429 - mae: 0.3125 - mse: 0.3418 - val_loss: 0.5443 - val_mae: 0.1625 - val_mse: 0.0447\n",
      "Epoch 2/120\n",
      "2485/2485 [==============================] - 8s 3ms/step - loss: 0.5597 - mae: 0.1637 - mse: 0.0617 - val_loss: 0.5336 - val_mae: 0.1462 - val_mse: 0.0371\n",
      "Epoch 3/120\n",
      "2485/2485 [==============================] - 9s 3ms/step - loss: 0.5405 - mae: 0.1393 - mse: 0.0455 - val_loss: 0.5278 - val_mae: 0.1400 - val_mse: 0.0343\n",
      "Epoch 4/120\n",
      "2485/2485 [==============================] - 8s 3ms/step - loss: 0.5291 - mae: 0.1252 - mse: 0.0371 - val_loss: 0.5254 - val_mae: 0.1420 - val_mse: 0.0349\n",
      "Epoch 5/120\n",
      "2485/2485 [==============================] - 8s 3ms/step - loss: 0.5206 - mae: 0.1158 - mse: 0.0316 - val_loss: 0.5167 - val_mae: 0.1325 - val_mse: 0.0291\n",
      "Epoch 6/120\n",
      "2485/2485 [==============================] - 8s 3ms/step - loss: 0.5140 - mae: 0.1086 - mse: 0.0279 - val_loss: 0.5162 - val_mae: 0.1371 - val_mse: 0.0315\n",
      "Epoch 7/120\n",
      "2485/2485 [==============================] - 8s 3ms/step - loss: 0.5085 - mae: 0.1033 - mse: 0.0253 - val_loss: 0.5138 - val_mae: 0.1388 - val_mse: 0.0319\n",
      "Epoch 8/120\n",
      "2485/2485 [==============================] - 9s 4ms/step - loss: 0.5037 - mae: 0.0988 - mse: 0.0232 - val_loss: 0.5108 - val_mae: 0.1384 - val_mse: 0.0318\n",
      "Epoch 9/120\n",
      "2485/2485 [==============================] - 10s 4ms/step - loss: 0.4991 - mae: 0.0950 - mse: 0.0215 - val_loss: 0.5084 - val_mae: 0.1395 - val_mse: 0.0322\n",
      "Epoch 10/120\n",
      "2485/2485 [==============================] - 8s 3ms/step - loss: 0.4950 - mae: 0.0919 - mse: 0.0202 - val_loss: 0.5044 - val_mae: 0.1371 - val_mse: 0.0309\n",
      "Epoch 11/120\n",
      "2485/2485 [==============================] - 8s 3ms/step - loss: 0.4910 - mae: 0.0890 - mse: 0.0189 - val_loss: 0.5042 - val_mae: 0.1425 - val_mse: 0.0335\n",
      "Epoch 12/120\n",
      "2485/2485 [==============================] - 8s 3ms/step - loss: 0.4872 - mae: 0.0865 - mse: 0.0179 - val_loss: 0.4985 - val_mae: 0.1376 - val_mse: 0.0306\n",
      "Epoch 13/120\n",
      "2485/2485 [==============================] - 8s 3ms/step - loss: 0.4835 - mae: 0.0841 - mse: 0.0169 - val_loss: 0.4955 - val_mae: 0.1367 - val_mse: 0.0303\n",
      "Epoch 14/120\n",
      "2485/2485 [==============================] - 8s 3ms/step - loss: 0.4799 - mae: 0.0820 - mse: 0.0161 - val_loss: 0.4928 - val_mae: 0.1364 - val_mse: 0.0303\n",
      "Epoch 15/120\n",
      "2485/2485 [==============================] - 8s 3ms/step - loss: 0.4765 - mae: 0.0800 - mse: 0.0153 - val_loss: 0.4899 - val_mae: 0.1357 - val_mse: 0.0300\n",
      "Epoch 16/120\n",
      "2485/2485 [==============================] - 8s 3ms/step - loss: 0.4732 - mae: 0.0782 - mse: 0.0147 - val_loss: 0.4870 - val_mae: 0.1358 - val_mse: 0.0298\n",
      "Epoch 17/120\n",
      "2485/2485 [==============================] - 8s 3ms/step - loss: 0.4700 - mae: 0.0766 - mse: 0.0141 - val_loss: 0.4832 - val_mae: 0.1330 - val_mse: 0.0287\n",
      "Epoch 18/120\n",
      "2485/2485 [==============================] - 8s 3ms/step - loss: 0.4668 - mae: 0.0750 - mse: 0.0136 - val_loss: 0.4804 - val_mae: 0.1331 - val_mse: 0.0285\n",
      "Epoch 19/120\n",
      "2485/2485 [==============================] - 8s 3ms/step - loss: 0.4636 - mae: 0.0736 - mse: 0.0130 - val_loss: 0.4769 - val_mae: 0.1312 - val_mse: 0.0276\n",
      "Epoch 20/120\n",
      "2485/2485 [==============================] - 8s 3ms/step - loss: 0.4606 - mae: 0.0722 - mse: 0.0126 - val_loss: 0.4742 - val_mae: 0.1305 - val_mse: 0.0275\n",
      "Epoch 21/120\n",
      "2485/2485 [==============================] - 8s 3ms/step - loss: 0.4576 - mae: 0.0710 - mse: 0.0121 - val_loss: 0.4715 - val_mae: 0.1300 - val_mse: 0.0273\n",
      "Epoch 22/120\n",
      "2485/2485 [==============================] - 8s 3ms/step - loss: 0.4546 - mae: 0.0697 - mse: 0.0117 - val_loss: 0.4681 - val_mae: 0.1282 - val_mse: 0.0265\n",
      "Epoch 23/120\n",
      "2485/2485 [==============================] - 8s 3ms/step - loss: 0.4517 - mae: 0.0686 - mse: 0.0113 - val_loss: 0.4653 - val_mae: 0.1273 - val_mse: 0.0262\n",
      "Epoch 24/120\n",
      "2485/2485 [==============================] - 8s 3ms/step - loss: 0.4488 - mae: 0.0675 - mse: 0.0110 - val_loss: 0.4624 - val_mae: 0.1268 - val_mse: 0.0258\n",
      "Epoch 25/120\n",
      "2485/2485 [==============================] - 8s 3ms/step - loss: 0.4460 - mae: 0.0665 - mse: 0.0107 - val_loss: 0.4594 - val_mae: 0.1263 - val_mse: 0.0253\n",
      "Epoch 26/120\n",
      "2485/2485 [==============================] - 8s 3ms/step - loss: 0.4432 - mae: 0.0656 - mse: 0.0104 - val_loss: 0.4565 - val_mae: 0.1241 - val_mse: 0.0249\n",
      "Epoch 27/120\n",
      "2485/2485 [==============================] - 8s 3ms/step - loss: 0.4405 - mae: 0.0647 - mse: 0.0101 - val_loss: 0.4543 - val_mae: 0.1250 - val_mse: 0.0251\n",
      "Epoch 28/120\n",
      "2485/2485 [==============================] - 8s 3ms/step - loss: 0.4377 - mae: 0.0639 - mse: 0.0098 - val_loss: 0.4518 - val_mae: 0.1235 - val_mse: 0.0252\n",
      "Epoch 29/120\n",
      "2485/2485 [==============================] - 8s 3ms/step - loss: 0.4350 - mae: 0.0630 - mse: 0.0096 - val_loss: 0.4490 - val_mae: 0.1238 - val_mse: 0.0247\n",
      "Epoch 30/120\n",
      "2485/2485 [==============================] - 9s 4ms/step - loss: 0.4324 - mae: 0.0620 - mse: 0.0093 - val_loss: 0.4461 - val_mae: 0.1227 - val_mse: 0.0243\n",
      "Epoch 31/120\n",
      "2485/2485 [==============================] - 8s 3ms/step - loss: 0.4297 - mae: 0.0614 - mse: 0.0091 - val_loss: 0.4436 - val_mae: 0.1213 - val_mse: 0.0242\n",
      "Epoch 32/120\n",
      "2485/2485 [==============================] - 8s 3ms/step - loss: 0.4271 - mae: 0.0606 - mse: 0.0089 - val_loss: 0.4414 - val_mae: 0.1217 - val_mse: 0.0244\n",
      "Epoch 33/120\n",
      "2485/2485 [==============================] - 8s 3ms/step - loss: 0.4245 - mae: 0.0599 - mse: 0.0087 - val_loss: 0.4385 - val_mae: 0.1217 - val_mse: 0.0238\n",
      "Epoch 34/120\n",
      "2485/2485 [==============================] - 8s 3ms/step - loss: 0.4220 - mae: 0.0592 - mse: 0.0085 - val_loss: 0.4364 - val_mae: 0.1218 - val_mse: 0.0241\n",
      "Epoch 35/120\n",
      "2485/2485 [==============================] - 8s 3ms/step - loss: 0.4194 - mae: 0.0585 - mse: 0.0083 - val_loss: 0.4339 - val_mae: 0.1219 - val_mse: 0.0239\n",
      "Epoch 36/120\n",
      "2485/2485 [==============================] - 8s 3ms/step - loss: 0.4169 - mae: 0.0579 - mse: 0.0081 - val_loss: 0.4311 - val_mae: 0.1205 - val_mse: 0.0235\n",
      "Epoch 37/120\n",
      "2485/2485 [==============================] - 8s 3ms/step - loss: 0.4144 - mae: 0.0572 - mse: 0.0079 - val_loss: 0.4292 - val_mae: 0.1208 - val_mse: 0.0238\n",
      "Epoch 38/120\n",
      "2485/2485 [==============================] - 8s 3ms/step - loss: 0.4119 - mae: 0.0566 - mse: 0.0078 - val_loss: 0.4261 - val_mae: 0.1195 - val_mse: 0.0230\n",
      "Epoch 39/120\n",
      "2485/2485 [==============================] - 8s 3ms/step - loss: 0.4095 - mae: 0.0560 - mse: 0.0076 - val_loss: 0.4237 - val_mae: 0.1189 - val_mse: 0.0229\n",
      "Epoch 40/120\n",
      "2485/2485 [==============================] - 8s 3ms/step - loss: 0.4071 - mae: 0.0554 - mse: 0.0075 - val_loss: 0.4212 - val_mae: 0.1188 - val_mse: 0.0227\n",
      "Epoch 41/120\n",
      "2485/2485 [==============================] - 8s 3ms/step - loss: 0.4047 - mae: 0.0549 - mse: 0.0073 - val_loss: 0.4187 - val_mae: 0.1177 - val_mse: 0.0225\n",
      "Epoch 42/120\n",
      "2485/2485 [==============================] - 8s 3ms/step - loss: 0.4023 - mae: 0.0544 - mse: 0.0072 - val_loss: 0.4161 - val_mae: 0.1169 - val_mse: 0.0221\n",
      "Epoch 43/120\n",
      "2485/2485 [==============================] - 8s 3ms/step - loss: 0.3999 - mae: 0.0539 - mse: 0.0070 - val_loss: 0.4137 - val_mae: 0.1172 - val_mse: 0.0220\n",
      "Epoch 44/120\n",
      "2485/2485 [==============================] - 8s 3ms/step - loss: 0.3976 - mae: 0.0533 - mse: 0.0069 - val_loss: 0.4110 - val_mae: 0.1146 - val_mse: 0.0214\n",
      "Epoch 45/120\n",
      "2485/2485 [==============================] - 8s 3ms/step - loss: 0.3953 - mae: 0.0528 - mse: 0.0068 - val_loss: 0.4086 - val_mae: 0.1138 - val_mse: 0.0212\n",
      "Epoch 46/120\n",
      "2485/2485 [==============================] - 8s 3ms/step - loss: 0.3929 - mae: 0.0524 - mse: 0.0067 - val_loss: 0.4063 - val_mae: 0.1137 - val_mse: 0.0212\n",
      "Epoch 47/120\n",
      "2485/2485 [==============================] - 11s 4ms/step - loss: 0.3907 - mae: 0.0519 - mse: 0.0066 - val_loss: 0.4041 - val_mae: 0.1133 - val_mse: 0.0211\n",
      "Epoch 48/120\n",
      "2485/2485 [==============================] - 8s 3ms/step - loss: 0.3884 - mae: 0.0515 - mse: 0.0064 - val_loss: 0.4016 - val_mae: 0.1123 - val_mse: 0.0208\n",
      "Epoch 49/120\n",
      "2485/2485 [==============================] - 8s 3ms/step - loss: 0.3862 - mae: 0.0511 - mse: 0.0064 - val_loss: 0.3994 - val_mae: 0.1119 - val_mse: 0.0207\n"
     ]
    },
    {
     "name": "stdout",
     "output_type": "stream",
     "text": [
      "Epoch 50/120\n",
      "2485/2485 [==============================] - 9s 4ms/step - loss: 0.3839 - mae: 0.0507 - mse: 0.0062 - val_loss: 0.3971 - val_mae: 0.1111 - val_mse: 0.0205\n",
      "Epoch 51/120\n",
      "2485/2485 [==============================] - 8s 3ms/step - loss: 0.3817 - mae: 0.0503 - mse: 0.0061 - val_loss: 0.3948 - val_mae: 0.1108 - val_mse: 0.0203\n",
      "Epoch 52/120\n",
      "2485/2485 [==============================] - 8s 3ms/step - loss: 0.3795 - mae: 0.0499 - mse: 0.0061 - val_loss: 0.3925 - val_mae: 0.1096 - val_mse: 0.0201\n",
      "Epoch 53/120\n",
      "2485/2485 [==============================] - 7s 3ms/step - loss: 0.3773 - mae: 0.0496 - mse: 0.0060 - val_loss: 0.3905 - val_mae: 0.1100 - val_mse: 0.0202\n",
      "Epoch 54/120\n",
      "2485/2485 [==============================] - 7s 3ms/step - loss: 0.3751 - mae: 0.0491 - mse: 0.0059 - val_loss: 0.3880 - val_mae: 0.1086 - val_mse: 0.0197\n",
      "Epoch 55/120\n",
      "2485/2485 [==============================] - 7s 3ms/step - loss: 0.3730 - mae: 0.0488 - mse: 0.0058 - val_loss: 0.3858 - val_mae: 0.1078 - val_mse: 0.0196\n",
      "Epoch 56/120\n",
      "2485/2485 [==============================] - 7s 3ms/step - loss: 0.3709 - mae: 0.0484 - mse: 0.0057 - val_loss: 0.3835 - val_mae: 0.1078 - val_mse: 0.0193\n",
      "Epoch 57/120\n",
      "2485/2485 [==============================] - 7s 3ms/step - loss: 0.3687 - mae: 0.0481 - mse: 0.0056 - val_loss: 0.3815 - val_mae: 0.1075 - val_mse: 0.0194\n",
      "Epoch 58/120\n",
      "2485/2485 [==============================] - 8s 3ms/step - loss: 0.3667 - mae: 0.0478 - mse: 0.0056 - val_loss: 0.3789 - val_mae: 0.1056 - val_mse: 0.0188\n",
      "Epoch 59/120\n",
      "2485/2485 [==============================] - 8s 3ms/step - loss: 0.3646 - mae: 0.0475 - mse: 0.0055 - val_loss: 0.3770 - val_mae: 0.1056 - val_mse: 0.0189\n",
      "Epoch 60/120\n",
      "2485/2485 [==============================] - 8s 3ms/step - loss: 0.3625 - mae: 0.0472 - mse: 0.0054 - val_loss: 0.3747 - val_mae: 0.1053 - val_mse: 0.0186\n",
      "Epoch 61/120\n",
      "2485/2485 [==============================] - 8s 3ms/step - loss: 0.3604 - mae: 0.0469 - mse: 0.0053 - val_loss: 0.3728 - val_mae: 0.1048 - val_mse: 0.0187\n",
      "Epoch 62/120\n",
      "2485/2485 [==============================] - 8s 3ms/step - loss: 0.3584 - mae: 0.0466 - mse: 0.0053 - val_loss: 0.3707 - val_mae: 0.1043 - val_mse: 0.0186\n",
      "Epoch 63/120\n",
      "2485/2485 [==============================] - 8s 3ms/step - loss: 0.3564 - mae: 0.0463 - mse: 0.0052 - val_loss: 0.3687 - val_mae: 0.1039 - val_mse: 0.0185\n",
      "Epoch 64/120\n",
      "2485/2485 [==============================] - 8s 3ms/step - loss: 0.3543 - mae: 0.0460 - mse: 0.0051 - val_loss: 0.3664 - val_mae: 0.1037 - val_mse: 0.0181\n",
      "Epoch 65/120\n",
      "2485/2485 [==============================] - 7s 3ms/step - loss: 0.3524 - mae: 0.0458 - mse: 0.0051 - val_loss: 0.3643 - val_mae: 0.1028 - val_mse: 0.0180\n",
      "Epoch 66/120\n",
      "2485/2485 [==============================] - 8s 3ms/step - loss: 0.3504 - mae: 0.0455 - mse: 0.0050 - val_loss: 0.3624 - val_mae: 0.1023 - val_mse: 0.0180\n",
      "Epoch 67/120\n",
      "2485/2485 [==============================] - 8s 3ms/step - loss: 0.3484 - mae: 0.0452 - mse: 0.0050 - val_loss: 0.3605 - val_mae: 0.1022 - val_mse: 0.0179\n",
      "Epoch 68/120\n",
      "2485/2485 [==============================] - 8s 3ms/step - loss: 0.3465 - mae: 0.0450 - mse: 0.0049 - val_loss: 0.3584 - val_mae: 0.1019 - val_mse: 0.0178\n",
      "Epoch 69/120\n",
      "2485/2485 [==============================] - 8s 3ms/step - loss: 0.3445 - mae: 0.0447 - mse: 0.0048 - val_loss: 0.3564 - val_mae: 0.1020 - val_mse: 0.0177\n",
      "Epoch 70/120\n",
      "2485/2485 [==============================] - 8s 3ms/step - loss: 0.3426 - mae: 0.0445 - mse: 0.0048 - val_loss: 0.3543 - val_mae: 0.1010 - val_mse: 0.0174\n",
      "Epoch 71/120\n",
      "2485/2485 [==============================] - 8s 3ms/step - loss: 0.3407 - mae: 0.0443 - mse: 0.0048 - val_loss: 0.3524 - val_mae: 0.1003 - val_mse: 0.0173\n",
      "Epoch 72/120\n",
      "2485/2485 [==============================] - 8s 3ms/step - loss: 0.3388 - mae: 0.0440 - mse: 0.0047 - val_loss: 0.3505 - val_mae: 0.0998 - val_mse: 0.0173\n",
      "Epoch 73/120\n",
      "2485/2485 [==============================] - 8s 3ms/step - loss: 0.3369 - mae: 0.0438 - mse: 0.0046 - val_loss: 0.3483 - val_mae: 0.0995 - val_mse: 0.0170\n",
      "Epoch 74/120\n",
      "2485/2485 [==============================] - 8s 3ms/step - loss: 0.3351 - mae: 0.0436 - mse: 0.0046 - val_loss: 0.3465 - val_mae: 0.1001 - val_mse: 0.0169\n",
      "Epoch 75/120\n",
      "2485/2485 [==============================] - 8s 3ms/step - loss: 0.3332 - mae: 0.0434 - mse: 0.0046 - val_loss: 0.3449 - val_mae: 0.0997 - val_mse: 0.0172\n",
      "Epoch 76/120\n",
      "2485/2485 [==============================] - 8s 3ms/step - loss: 0.3314 - mae: 0.0431 - mse: 0.0045 - val_loss: 0.3426 - val_mae: 0.0986 - val_mse: 0.0166\n",
      "Epoch 77/120\n",
      "2485/2485 [==============================] - 8s 3ms/step - loss: 0.3296 - mae: 0.0429 - mse: 0.0045 - val_loss: 0.3409 - val_mae: 0.0987 - val_mse: 0.0167\n",
      "Epoch 78/120\n",
      "2485/2485 [==============================] - 8s 3ms/step - loss: 0.3277 - mae: 0.0427 - mse: 0.0044 - val_loss: 0.3392 - val_mae: 0.0984 - val_mse: 0.0168\n",
      "Epoch 79/120\n",
      "2485/2485 [==============================] - 8s 3ms/step - loss: 0.3260 - mae: 0.0425 - mse: 0.0044 - val_loss: 0.3373 - val_mae: 0.0981 - val_mse: 0.0165\n",
      "Epoch 80/120\n",
      "2485/2485 [==============================] - 8s 3ms/step - loss: 0.3242 - mae: 0.0423 - mse: 0.0043 - val_loss: 0.3354 - val_mae: 0.0974 - val_mse: 0.0165\n",
      "Epoch 81/120\n",
      "2485/2485 [==============================] - 8s 3ms/step - loss: 0.3224 - mae: 0.0422 - mse: 0.0043 - val_loss: 0.3335 - val_mae: 0.0971 - val_mse: 0.0162\n",
      "Epoch 82/120\n",
      "2485/2485 [==============================] - 8s 3ms/step - loss: 0.3207 - mae: 0.0420 - mse: 0.0042 - val_loss: 0.3319 - val_mae: 0.0969 - val_mse: 0.0163\n",
      "Epoch 83/120\n",
      "2485/2485 [==============================] - 8s 3ms/step - loss: 0.3189 - mae: 0.0418 - mse: 0.0042 - val_loss: 0.3301 - val_mae: 0.0966 - val_mse: 0.0162\n",
      "Epoch 84/120\n",
      "2485/2485 [==============================] - 8s 3ms/step - loss: 0.3172 - mae: 0.0416 - mse: 0.0042 - val_loss: 0.3284 - val_mae: 0.0956 - val_mse: 0.0162\n",
      "Epoch 85/120\n",
      "2485/2485 [==============================] - 8s 3ms/step - loss: 0.3155 - mae: 0.0414 - mse: 0.0041 - val_loss: 0.3264 - val_mae: 0.0957 - val_mse: 0.0159\n",
      "Epoch 86/120\n",
      "2485/2485 [==============================] - 8s 3ms/step - loss: 0.3138 - mae: 0.0412 - mse: 0.0041 - val_loss: 0.3247 - val_mae: 0.0956 - val_mse: 0.0159\n",
      "Epoch 87/120\n",
      "2485/2485 [==============================] - 11s 4ms/step - loss: 0.3121 - mae: 0.0411 - mse: 0.0041 - val_loss: 0.3229 - val_mae: 0.0946 - val_mse: 0.0157\n",
      "Epoch 88/120\n",
      "2485/2485 [==============================] - 8s 3ms/step - loss: 0.3105 - mae: 0.0409 - mse: 0.0041 - val_loss: 0.3216 - val_mae: 0.0953 - val_mse: 0.0160\n",
      "Epoch 89/120\n",
      "2485/2485 [==============================] - 11s 4ms/step - loss: 0.3088 - mae: 0.0407 - mse: 0.0040 - val_loss: 0.3199 - val_mae: 0.0946 - val_mse: 0.0159\n",
      "Epoch 90/120\n",
      "2485/2485 [==============================] - 10s 4ms/step - loss: 0.3072 - mae: 0.0406 - mse: 0.0040 - val_loss: 0.3179 - val_mae: 0.0949 - val_mse: 0.0155\n",
      "Epoch 91/120\n",
      "2485/2485 [==============================] - 7s 3ms/step - loss: 0.3055 - mae: 0.0404 - mse: 0.0040 - val_loss: 0.3164 - val_mae: 0.0938 - val_mse: 0.0156\n",
      "Epoch 92/120\n",
      "2485/2485 [==============================] - 11s 5ms/step - loss: 0.3039 - mae: 0.0402 - mse: 0.0039 - val_loss: 0.3145 - val_mae: 0.0939 - val_mse: 0.0153\n",
      "Epoch 93/120\n",
      "2485/2485 [==============================] - 11s 4ms/step - loss: 0.3023 - mae: 0.0401 - mse: 0.0039 - val_loss: 0.3130 - val_mae: 0.0936 - val_mse: 0.0154\n",
      "Epoch 94/120\n",
      "2485/2485 [==============================] - 10s 4ms/step - loss: 0.3007 - mae: 0.0400 - mse: 0.0039 - val_loss: 0.3114 - val_mae: 0.0930 - val_mse: 0.0154\n",
      "Epoch 95/120\n",
      "2485/2485 [==============================] - 8s 3ms/step - loss: 0.2991 - mae: 0.0398 - mse: 0.0038 - val_loss: 0.3100 - val_mae: 0.0932 - val_mse: 0.0155\n",
      "Epoch 96/120\n",
      "2485/2485 [==============================] - 8s 3ms/step - loss: 0.2976 - mae: 0.0397 - mse: 0.0038 - val_loss: 0.3082 - val_mae: 0.0919 - val_mse: 0.0152\n",
      "Epoch 97/120\n",
      "2485/2485 [==============================] - 9s 4ms/step - loss: 0.2960 - mae: 0.0395 - mse: 0.0038 - val_loss: 0.3064 - val_mae: 0.0919 - val_mse: 0.0150\n",
      "Epoch 98/120\n",
      "2485/2485 [==============================] - 8s 3ms/step - loss: 0.2945 - mae: 0.0394 - mse: 0.0038 - val_loss: 0.3054 - val_mae: 0.0930 - val_mse: 0.0154\n"
     ]
    },
    {
     "name": "stdout",
     "output_type": "stream",
     "text": [
      "Epoch 99/120\n",
      "2485/2485 [==============================] - 8s 3ms/step - loss: 0.2929 - mae: 0.0392 - mse: 0.0037 - val_loss: 0.3034 - val_mae: 0.0919 - val_mse: 0.0149\n",
      "Epoch 100/120\n",
      "2485/2485 [==============================] - 10s 4ms/step - loss: 0.2914 - mae: 0.0391 - mse: 0.0037 - val_loss: 0.3019 - val_mae: 0.0917 - val_mse: 0.0150\n",
      "Epoch 101/120\n",
      "2485/2485 [==============================] - 8s 3ms/step - loss: 0.2899 - mae: 0.0390 - mse: 0.0037 - val_loss: 0.3003 - val_mae: 0.0913 - val_mse: 0.0148\n",
      "Epoch 102/120\n",
      "2485/2485 [==============================] - 9s 4ms/step - loss: 0.2884 - mae: 0.0389 - mse: 0.0037 - val_loss: 0.2989 - val_mae: 0.0911 - val_mse: 0.0149\n",
      "Epoch 103/120\n",
      "2485/2485 [==============================] - 9s 3ms/step - loss: 0.2870 - mae: 0.0388 - mse: 0.0036 - val_loss: 0.2970 - val_mae: 0.0922 - val_mse: 0.0144\n",
      "Epoch 104/120\n",
      "2485/2485 [==============================] - 8s 3ms/step - loss: 0.2855 - mae: 0.0387 - mse: 0.0036 - val_loss: 0.2958 - val_mae: 0.0903 - val_mse: 0.0146\n",
      "Epoch 105/120\n",
      "2485/2485 [==============================] - 8s 3ms/step - loss: 0.2840 - mae: 0.0385 - mse: 0.0036 - val_loss: 0.2947 - val_mae: 0.0904 - val_mse: 0.0149\n",
      "Epoch 106/120\n",
      "2485/2485 [==============================] - 8s 3ms/step - loss: 0.2826 - mae: 0.0384 - mse: 0.0036 - val_loss: 0.2927 - val_mae: 0.0899 - val_mse: 0.0144\n",
      "Epoch 107/120\n",
      "2485/2485 [==============================] - 8s 3ms/step - loss: 0.2812 - mae: 0.0382 - mse: 0.0036 - val_loss: 0.2914 - val_mae: 0.0900 - val_mse: 0.0145\n",
      "Epoch 108/120\n",
      "2485/2485 [==============================] - 8s 3ms/step - loss: 0.2797 - mae: 0.0381 - mse: 0.0035 - val_loss: 0.2900 - val_mae: 0.0895 - val_mse: 0.0144\n",
      "Epoch 109/120\n",
      "2485/2485 [==============================] - 7s 3ms/step - loss: 0.2783 - mae: 0.0380 - mse: 0.0035 - val_loss: 0.2886 - val_mae: 0.0892 - val_mse: 0.0144\n",
      "Epoch 110/120\n",
      "2485/2485 [==============================] - 8s 3ms/step - loss: 0.2769 - mae: 0.0378 - mse: 0.0035 - val_loss: 0.2871 - val_mae: 0.0893 - val_mse: 0.0143\n",
      "Epoch 111/120\n",
      "2485/2485 [==============================] - 8s 3ms/step - loss: 0.2756 - mae: 0.0377 - mse: 0.0035 - val_loss: 0.2857 - val_mae: 0.0887 - val_mse: 0.0143\n",
      "Epoch 112/120\n",
      "2485/2485 [==============================] - 8s 3ms/step - loss: 0.2742 - mae: 0.0376 - mse: 0.0034 - val_loss: 0.2845 - val_mae: 0.0888 - val_mse: 0.0144\n",
      "Epoch 113/120\n",
      "2485/2485 [==============================] - 8s 3ms/step - loss: 0.2728 - mae: 0.0375 - mse: 0.0034 - val_loss: 0.2830 - val_mae: 0.0888 - val_mse: 0.0143\n",
      "Epoch 114/120\n",
      "2485/2485 [==============================] - 8s 3ms/step - loss: 0.2715 - mae: 0.0374 - mse: 0.0034 - val_loss: 0.2816 - val_mae: 0.0877 - val_mse: 0.0142\n",
      "Epoch 115/120\n",
      "2485/2485 [==============================] - 8s 3ms/step - loss: 0.2701 - mae: 0.0373 - mse: 0.0034 - val_loss: 0.2804 - val_mae: 0.0880 - val_mse: 0.0143\n",
      "Epoch 116/120\n",
      "2485/2485 [==============================] - 8s 3ms/step - loss: 0.2688 - mae: 0.0372 - mse: 0.0034 - val_loss: 0.2789 - val_mae: 0.0881 - val_mse: 0.0141\n",
      "Epoch 117/120\n",
      "2485/2485 [==============================] - 10s 4ms/step - loss: 0.2675 - mae: 0.0371 - mse: 0.0033 - val_loss: 0.2774 - val_mae: 0.0872 - val_mse: 0.0139\n",
      "Epoch 118/120\n",
      "2485/2485 [==============================] - 8s 3ms/step - loss: 0.2662 - mae: 0.0370 - mse: 0.0033 - val_loss: 0.2761 - val_mae: 0.0875 - val_mse: 0.0139\n",
      "Epoch 119/120\n",
      "2485/2485 [==============================] - 8s 3ms/step - loss: 0.2649 - mae: 0.0369 - mse: 0.0033 - val_loss: 0.2748 - val_mae: 0.0872 - val_mse: 0.0138\n",
      "Epoch 120/120\n",
      "2485/2485 [==============================] - 8s 3ms/step - loss: 0.2637 - mae: 0.0367 - mse: 0.0033 - val_loss: 0.2736 - val_mae: 0.0869 - val_mse: 0.0138\n"
     ]
    }
   ],
   "source": [
    "EPOCHS = 120\n",
    "history = model.fit(\n",
    "  train_data, train_target,\n",
    "  batch_size = 64,\n",
    "  epochs=EPOCHS, validation_data=(test_data,test_target))"
   ]
  },
  {
   "cell_type": "code",
   "execution_count": 81,
   "metadata": {},
   "outputs": [],
   "source": [
    "test_data, test_target = convertor(test_df)"
   ]
  },
  {
   "cell_type": "code",
   "execution_count": 84,
   "metadata": {},
   "outputs": [],
   "source": [
    "y_act = test_target.to_numpy()\n",
    "y_pred = model.predict(test_data).reshape(-1)"
   ]
  },
  {
   "cell_type": "code",
   "execution_count": 85,
   "metadata": {},
   "outputs": [
    {
     "data": {
      "text/plain": [
       "array([1.18537133, 2.73220146, 1.84703377, 5.09386162, 1.57846865,\n",
       "       0.80353089, 1.8564979 , 1.1757947 , 2.77044464, 4.63006543])"
      ]
     },
     "execution_count": 85,
     "metadata": {},
     "output_type": "execute_result"
    }
   ],
   "source": [
    "tt = 0\n",
    "y_act[np.arange(tt,tt + 10)]"
   ]
  },
  {
   "cell_type": "code",
   "execution_count": 86,
   "metadata": {},
   "outputs": [
    {
     "data": {
      "text/plain": [
       "array([1.2354298 , 2.692048  , 1.968147  , 5.069069  , 1.4454699 ,\n",
       "       0.91632915, 1.7768328 , 1.2623854 , 2.76855   , 4.5284705 ],\n",
       "      dtype=float32)"
      ]
     },
     "execution_count": 86,
     "metadata": {},
     "output_type": "execute_result"
    }
   ],
   "source": [
    "y_pred[np.arange(tt,tt + 10)]"
   ]
  },
  {
   "cell_type": "code",
   "execution_count": 92,
   "metadata": {},
   "outputs": [],
   "source": [
    "data = json.dumps({\"signature_name\": \"serving_default\", \"instances\": test_data.iloc[0:10,:].to_numpy().tolist()})\n",
    "headers = {\"content-type\": \"application/json\"}\n",
    "json_response = requests.post('http://localhost:8501/v1/models/my_model:predict', data=data, headers=headers)\n",
    "y = json.loads(json_response.text)['predictions']"
   ]
  },
  {
   "cell_type": "code",
   "execution_count": 93,
   "metadata": {},
   "outputs": [
    {
     "data": {
      "text/plain": [
       "[[1.23542988],\n",
       " [2.69204783],\n",
       " [1.96814704],\n",
       " [5.06906843],\n",
       " [1.44547021],\n",
       " [0.916329],\n",
       " [1.77683282],\n",
       " [1.26238525],\n",
       " [2.76854968],\n",
       " [4.52847052]]"
      ]
     },
     "execution_count": 93,
     "metadata": {},
     "output_type": "execute_result"
    }
   ],
   "source": [
    "y"
   ]
  },
  {
   "cell_type": "code",
   "execution_count": 94,
   "metadata": {},
   "outputs": [
    {
     "data": {
      "text/plain": [
       "[0.027609464,\n",
       " 0.084460575,\n",
       " 0.028605499,\n",
       " 0.091387847,\n",
       " 0.446415799,\n",
       " 0.479610879,\n",
       " 0.6751365490000001,\n",
       " 1.014547385,\n",
       " 1.60320002,\n",
       " 2.14233235,\n",
       " 2.347963602,\n",
       " 2.546451779,\n",
       " 2.4710168930000003,\n",
       " 2.683726272,\n",
       " 2.734093925,\n",
       " 2.767462746,\n",
       " 2.905636983,\n",
       " 2.849350569,\n",
       " 2.880614107,\n",
       " 2.895245082,\n",
       " 3.0986459889999995,\n",
       " 0.07307325099999999,\n",
       " -0.008032262,\n",
       " 0.186080177,\n",
       " 0.148017655,\n",
       " 0.185715208,\n",
       " 0.229250972,\n",
       " 0.220293589,\n",
       " 0.245410124,\n",
       " 0.5540874729999999,\n",
       " 0.207876796,\n",
       " 0.142943682,\n",
       " 0.116660347,\n",
       " 0.410939428,\n",
       " 0.087484566,\n",
       " 0.048047507,\n",
       " 0.108142032,\n",
       " -0.081075854,\n",
       " 0.146218105,\n",
       " 0.183238993,\n",
       " 0.233222837,\n",
       " -0.009627712,\n",
       " 0.0,\n",
       " 0.0,\n",
       " 0.0,\n",
       " 0.0,\n",
       " 0.0,\n",
       " 1.0,\n",
       " 0.0,\n",
       " 0.0,\n",
       " 0.0,\n",
       " 0.0,\n",
       " 0.0,\n",
       " 1.0]"
      ]
     },
     "execution_count": 94,
     "metadata": {},
     "output_type": "execute_result"
    }
   ],
   "source": [
    "test_data.iloc[0,:].to_numpy().tolist()"
   ]
  },
  {
   "cell_type": "code",
   "execution_count": 48,
   "metadata": {},
   "outputs": [
    {
     "name": "stdout",
     "output_type": "stream",
     "text": [
      "79770\n",
      "[0.67546956 0.70724589 0.73471233 0.75386061 0.77099774 0.78219504\n",
      " 0.79739512 0.8157886  0.82617505 0.84009627]\n",
      "[0.7281513  0.74845433 0.76635003 0.7803016  0.7937056  0.80751836\n",
      " 0.82240856 0.8354641  0.8495789  0.86734843]\n",
      "[0.05268176 0.04120844 0.0316377  0.02644096 0.02270784 0.02532333\n",
      " 0.02501343 0.01967552 0.02340387 0.02725216]\n"
     ]
    }
   ],
   "source": [
    "def VaR(ar):\n",
    "    sar = np.sort(ar)\n",
    "    #sar = ar\n",
    "    sz = sar.shape[0]\n",
    "    rsk = np.rint(sz * (1 - np.array([0.99,0.98,0.97,0.96,0.95,0.94,0.93,0.92,0.91,0.9]))).astype('int')\n",
    "    return sar[rsk]\n",
    "pos = np.random.randint(0, 99000)\n",
    "pos = 79770\n",
    "y0 = y_act[np.arange(pos,pos + 3000)]\n",
    "y1 = y_pred[np.arange(pos, pos + 3000)]\n",
    "print(pos)\n",
    "yy0 = VaR(y0)\n",
    "print(yy0)\n",
    "yy1 = VaR(y1)\n",
    "print(yy1)\n",
    "print(np.abs(yy1 - yy0))\n"
   ]
  },
  {
   "cell_type": "code",
   "execution_count": 33,
   "metadata": {},
   "outputs": [
    {
     "data": {
      "text/html": [
       "<div>\n",
       "<style scoped>\n",
       "    .dataframe tbody tr th:only-of-type {\n",
       "        vertical-align: middle;\n",
       "    }\n",
       "\n",
       "    .dataframe tbody tr th {\n",
       "        vertical-align: top;\n",
       "    }\n",
       "\n",
       "    .dataframe thead th {\n",
       "        text-align: right;\n",
       "    }\n",
       "</style>\n",
       "<table border=\"1\" class=\"dataframe\">\n",
       "  <thead>\n",
       "    <tr style=\"text-align: right;\">\n",
       "      <th></th>\n",
       "      <th>Act</th>\n",
       "      <th>Pred</th>\n",
       "    </tr>\n",
       "  </thead>\n",
       "  <tbody>\n",
       "    <tr>\n",
       "      <th>count</th>\n",
       "      <td>102229.000000</td>\n",
       "      <td>102229.000000</td>\n",
       "    </tr>\n",
       "    <tr>\n",
       "      <th>mean</th>\n",
       "      <td>2.119526</td>\n",
       "      <td>2.076722</td>\n",
       "    </tr>\n",
       "    <tr>\n",
       "      <th>std</th>\n",
       "      <td>1.353206</td>\n",
       "      <td>1.310628</td>\n",
       "    </tr>\n",
       "    <tr>\n",
       "      <th>min</th>\n",
       "      <td>0.322815</td>\n",
       "      <td>0.380432</td>\n",
       "    </tr>\n",
       "    <tr>\n",
       "      <th>25%</th>\n",
       "      <td>1.168864</td>\n",
       "      <td>1.146918</td>\n",
       "    </tr>\n",
       "    <tr>\n",
       "      <th>50%</th>\n",
       "      <td>1.603277</td>\n",
       "      <td>1.558219</td>\n",
       "    </tr>\n",
       "    <tr>\n",
       "      <th>75%</th>\n",
       "      <td>2.647212</td>\n",
       "      <td>2.542322</td>\n",
       "    </tr>\n",
       "    <tr>\n",
       "      <th>max</th>\n",
       "      <td>8.725821</td>\n",
       "      <td>8.226402</td>\n",
       "    </tr>\n",
       "  </tbody>\n",
       "</table>\n",
       "</div>"
      ],
      "text/plain": [
       "                 Act           Pred\n",
       "count  102229.000000  102229.000000\n",
       "mean        2.119526       2.076722\n",
       "std         1.353206       1.310628\n",
       "min         0.322815       0.380432\n",
       "25%         1.168864       1.146918\n",
       "50%         1.603277       1.558219\n",
       "75%         2.647212       2.542322\n",
       "max         8.725821       8.226402"
      ]
     },
     "execution_count": 33,
     "metadata": {},
     "output_type": "execute_result"
    }
   ],
   "source": [
    "dff = pd.DataFrame({'Act': test_target, 'Pred' : y_pred})\n",
    "dff.describe()"
   ]
  },
  {
   "cell_type": "code",
   "execution_count": 34,
   "metadata": {},
   "outputs": [
    {
     "data": {
      "text/plain": [
       "<matplotlib.legend.Legend at 0x199b00a07f0>"
      ]
     },
     "execution_count": 34,
     "metadata": {},
     "output_type": "execute_result"
    },
    {
     "data": {
      "image/png": "[encoded data removed]",
      "text/plain": [
       "<Figure size 432x288 with 1 Axes>"
      ]
     },
     "metadata": {
      "needs_background": "light"
     },
     "output_type": "display_data"
    }
   ],
   "source": [
    "sn.distplot(y_act,fit = stats.norm, color = 'red', label = 'Determenistic',fit_kws={\"color\":\"red\"},kde = False)\n",
    "sn.distplot(y_pred, fit = stats.norm, color = 'blue', label = 'Approximated',fit_kws={\"color\":\"blue\"},kde=False)\n",
    "plt.legend()"
   ]
  },
  {
   "cell_type": "code",
   "execution_count": 79,
   "metadata": {},
   "outputs": [
    {
     "name": "stdout",
     "output_type": "stream",
     "text": [
      "export_path = C:\\Users\\PLDD\\Practice\\GitHub\\Python\\MHS\\models\\2\n",
      "\n",
      "INFO:tensorflow:Assets written to: C:\\Users\\PLDD\\Practice\\GitHub\\Python\\MHS\\models\\2\\assets\n",
      "\n",
      "Saved model:\n"
     ]
    }
   ],
   "source": [
    "version = 2\n",
    "export_path = os.path.join(modeldir, str(version))\n",
    "print('export_path = {}\\n'.format(export_path))\n",
    "\n",
    "tf.keras.models.save_model(\n",
    "    model,\n",
    "    export_path,\n",
    "    overwrite=True,\n",
    "    include_optimizer=True,\n",
    "    save_format=None,\n",
    "    signatures=None,\n",
    "    options=None\n",
    ")\n",
    "\n",
    "print('\\nSaved model:')"
   ]
  },
  {
   "cell_type": "code",
   "execution_count": null,
   "metadata": {},
   "outputs": [],
   "source": []
  }
 ],
 "metadata": {
  "kernelspec": {
   "display_name": "Python 3",
   "language": "python",
   "name": "python3"
  },
  "language_info": {
   "codemirror_mode": {
    "name": "ipython",
    "version": 3
   },
   "file_extension": ".py",
   "mimetype": "text/x-python",
   "name": "python",
   "nbconvert_exporter": "python",
   "pygments_lexer": "ipython3",
   "version": "3.7.8"
  }
 },
 "nbformat": 4,
 "nbformat_minor": 4
}
