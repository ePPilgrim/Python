{
 "cells": [
  {
   "cell_type": "code",
   "execution_count": 1,
   "metadata": {},
   "outputs": [
    {
     "name": "stderr",
     "output_type": "stream",
     "text": [
      "C:\\Users\\PLDD\\AppData\\Local\\Continuum\\anaconda3\\envs\\tf\\lib\\site-packages\\sklearn\\utils\\deprecation.py:144: FutureWarning: The sklearn.preprocessing.data module is  deprecated in version 0.22 and will be removed in version 0.24. The corresponding classes / functions should instead be imported from sklearn.preprocessing. Anything that cannot be imported from sklearn.preprocessing is now part of the private API.\n",
      "  warnings.warn(message, FutureWarning)\n"
     ]
    }
   ],
   "source": [
    "'''\n",
    "%%writefile ns.py\n",
    "start = time.time()\n",
    "end = time.time()\n",
    "print(end-start)\n",
    "'''\n",
    "import tensorflow as tf\n",
    "import time\n",
    "import pandas as pd\n",
    "import numpy as np\n",
    "import matplotlib.pyplot as plt\n",
    "import seaborn as sn\n",
    "import os as os\n",
    "import sys\n",
    "from pathlib import Path\n",
    "import sklearn as sk \n",
    "import time\n",
    "import scipy.stats as stats\n",
    "from sklearn.preprocessing.data import QuantileTransformer\n",
    "from tensorflow.keras import regularizers\n",
    "\n",
    "mhsdir = Path(os.getcwd()).parent\n",
    "sys.path.append(os.path.join(mhsdir, 'src'))\n",
    "\n",
    "import ns\n",
    "\n",
    "datarawdir = os.path.join(mhsdir, 'data\\\\raw\\\\YC')\n",
    "dataprepdir = os.path.join(mhsdir, 'data\\\\preprocessed')\n",
    "dataprepnsdir = os.path.join(mhsdir, 'data\\\\preprocessed\\\\ns')\n",
    "modeldir = os.path.join(mhsdir, 'models')\n",
    "\n",
    "tempdatarawdir = os.path.join(mhsdir, 'temp\\\\data\\\\raw\\\\YC')\n",
    "tempdataprepdir = os.path.join(mhsdir, 'temp\\\\data\\\\preprocessed')\n",
    "tempdataprepnsdir = os.path.join(mhsdir, 'temp\\\\data\\\\preprocessed\\\\ns')\n",
    "\n",
    "tfk = tf.keras\n",
    "tfkl = tf.keras.layers\n",
    "\n",
    "#train_csv = os.path.join(traindir, 'train_real_0_0_410_38_40938.txt')\n",
    "#test_csv = os.path.join(traindir, 'train_real_410_0_9132.txt')"
   ]
  },
  {
   "cell_type": "markdown",
   "metadata": {},
   "source": [
    "# Final preprocessing"
   ]
  },
  {
   "cell_type": "code",
   "execution_count": 2,
   "metadata": {},
   "outputs": [
    {
     "name": "stdout",
     "output_type": "stream",
     "text": [
      "1\n",
      "13848\n"
     ]
    }
   ],
   "source": [
    "df = None\n",
    "traindir = os.path.join(mhsdir, 'data\\\\train\\\\repository\\\\train')\n",
    "testdir = os.path.join(mhsdir, 'data\\\\train\\\\repository\\\\test')\n",
    "\n",
    "for filename in os.listdir(traindir):\n",
    "    path=os.path.join(traindir, filename)\n",
    "    df1 = pd.read_csv(path, sep = ';', header = None)\n",
    "    if df is None:\n",
    "        df = df1\n",
    "        continue\n",
    "    df = pd.concat([df, df1])\n",
    "train_df = df.iloc[:,:-1]\n",
    "test_df = pd.read_csv(os.path.join(testdir, \"train_real.txt\"), sep = ';', header = None).iloc[:,:-1]\n",
    "\n",
    "lx = (test_df.iloc[:,-14:-2] < -0.00001).any(axis = 1)\n",
    "test_df = test_df[~lx]\n",
    "print(lx.sum())\n",
    "lx = (train_df.iloc[:,-14:-2] < -0.00001).any(axis = 1)\n",
    "train_df = train_df[~lx]\n",
    "print(lx.sum())\n",
    "\n",
    "for i in range(100):\n",
    "    train_df = train_df.sample(frac = 1).reset_index(drop=True)\n",
    "    \n",
    "repodir = os.path.join(mhsdir, 'data\\\\train\\\\repository')\n",
    "\n",
    "trainfilepath = os.path.join(repodir, 'train_{}'.format(train_df.shape[0]) )\n",
    "train_df.to_csv(trainfilepath,index = False)\n",
    "\n",
    "testfilepath = os.path.join(repodir, 'test_{}'.format(test_df.shape[0]) )\n",
    "test_df.to_csv(testfilepath,index = False)"
   ]
  },
  {
   "cell_type": "code",
   "execution_count": 3,
   "metadata": {},
   "outputs": [
    {
     "data": {
      "text/plain": [
       "'C:\\\\Users\\\\PLDD\\\\Practice\\\\GitHub\\\\Python\\\\MHS\\\\data\\\\train\\\\repository\\\\train_202498'"
      ]
     },
     "execution_count": 3,
     "metadata": {},
     "output_type": "execute_result"
    }
   ],
   "source": [
    "trainfilepath"
   ]
  },
  {
   "cell_type": "markdown",
   "metadata": {},
   "source": [
    "# Train and build model"
   ]
  },
  {
   "cell_type": "code",
   "execution_count": 4,
   "metadata": {},
   "outputs": [],
   "source": [
    "def to_category(freqv): \n",
    "    res = np.zeros((freqv.shape[0],12))\n",
    "    for i in range(freqv.shape[0]):\n",
    "        if freqv[i] == 1:\n",
    "            res[i] = np.array([1,1,1,1,1,1,1,1,1,1,1,1],dtype = 'float')\n",
    "        elif freqv[i] == 2:\n",
    "            res[i] = np.array([0,1,0,1,0,1,0,1,0,1,0,1],dtype = 'float') \n",
    "        elif freqv[i] == 3:\n",
    "            res[i] = np.array([0,0,1,0,0,1,0,0,1,0,0,1],dtype = 'float')\n",
    "        elif freqv[i] == 4:\n",
    "            res[i] = np.array([0,0,0,1,0,0,0,1,0,0,0,1],dtype = 'float')\n",
    "        elif freqv[i] == 6:\n",
    "            res[i] = np.array([0,0,0,0,0,1,0,0,0,0,0,1],dtype = 'float')\n",
    "        elif freqv[i] == 12:\n",
    "            res[i] = np.array([0,0,0,0,0,0,0,0,0,0,0,1],dtype = 'float')\n",
    "    return res\n",
    "\n",
    "def convertor(df):\n",
    "    df.columns = ['n','id','bmode','tb1','tb2','tb3','tb4','tb5','tb6','tb7','tb8','tb9','tb10','tb11','tb12','tb13','tb14','tb15','tb16','tb17','tb18','tb19','tb20','tb21',\n",
    "           'ts1','ts2','ts3','ts4','ts5','ts6','ts7','ts8','ts9','ts10','ts11','ts12','ts13','ts14','ts15','ts16','ts17','ts18','ts19','ts20','ts21',\n",
    "           't1','t2','t3','t4','t5','t6','t7','t8','t9','t10','t11','t12','t13','t14','t15','t16','t17','t18','t19','t20','t21',\n",
    "           'c1','c2','c3','c4','c5','c6','c7','c8','c9','c10','c11','c12','smode','freq']\n",
    "    act_columns = ['tb1','tb2','tb3','tb4','tb5','tb6','tb7','tb8','tb9','tb10','tb11','tb12','tb13','tb14','tb15','tb16','tb17','tb18','tb19','tb20','tb21',\n",
    "               'ts1','ts2','ts3','ts4','ts5','ts6','ts7','ts8','ts9','ts10','ts11','ts12','ts13','ts14','ts15','ts16','ts17','ts18','ts19','ts20','ts21',\n",
    "               'c1','c2','c3','c4','c5','c6','c7','c8','c9','c10','c11','c12']\n",
    "    coup_columns = ['c1','c2','c3','c4','c5','c6','c7','c8','c9','c10','c11','c12'] \n",
    "    target = df[coup_columns].sum(axis=1)\n",
    "    data = df[act_columns].copy()\n",
    "    data.loc[:,coup_columns] = to_category(df['freq'])\n",
    "    return data,target\n",
    "\n",
    "def VaR(ar):\n",
    "    sar = np.sort(ar)\n",
    "    sz = sar.shape[0]\n",
    "    rsk = np.rint(sz * (1 - np.array([0.99,0.98,0.97,0.96,0.95,0.94,0.93,0.92,0.91,0.9]))).astype('int')\n",
    "    return sar[rsk]"
   ]
  },
  {
   "cell_type": "code",
   "execution_count": 5,
   "metadata": {},
   "outputs": [],
   "source": [
    "train_df = pd.read_csv(trainfilepath)\n",
    "test_df = pd.read_csv(testfilepath)\n",
    "train_data, train_target = convertor(train_df)\n",
    "test_data, test_target = convertor(test_df)"
   ]
  },
  {
   "cell_type": "code",
   "execution_count": 6,
   "metadata": {},
   "outputs": [
    {
     "data": {
      "text/plain": [
       "<matplotlib.legend.Legend at 0x199ad5d6dd8>"
      ]
     },
     "execution_count": 6,
     "metadata": {},
     "output_type": "execute_result"
    },
    {
     "data": {
      "image/png": "[encoded data removed]",
      "text/plain": [
       "<Figure size 432x288 with 1 Axes>"
      ]
     },
     "metadata": {
      "needs_background": "light"
     },
     "output_type": "display_data"
    }
   ],
   "source": [
    "sn.distplot(test_target,label = 'Test chashflow')\n",
    "sn.distplot(train_target,label = 'Train chashflow')\n",
    "plt.legend()"
   ]
  },
  {
   "cell_type": "code",
   "execution_count": 25,
   "metadata": {},
   "outputs": [
    {
     "name": "stdout",
     "output_type": "stream",
     "text": [
      "Model: \"sequential_1\"\n",
      "_________________________________________________________________\n",
      "Layer (type)                 Output Shape              Param #   \n",
      "=================================================================\n",
      "dense_7 (Dense)              (None, 128)               7040      \n",
      "_________________________________________________________________\n",
      "dense_8 (Dense)              (None, 128)               16512     \n",
      "_________________________________________________________________\n",
      "dense_9 (Dense)              (None, 128)               16512     \n",
      "_________________________________________________________________\n",
      "dense_10 (Dense)             (None, 128)               16512     \n",
      "_________________________________________________________________\n",
      "dense_11 (Dense)             (None, 128)               16512     \n",
      "_________________________________________________________________\n",
      "dense_12 (Dense)             (None, 128)               16512     \n",
      "_________________________________________________________________\n",
      "dense_13 (Dense)             (None, 1)                 129       \n",
      "=================================================================\n",
      "Total params: 89,729\n",
      "Trainable params: 89,729\n",
      "Non-trainable params: 0\n",
      "_________________________________________________________________\n"
     ]
    }
   ],
   "source": [
    "model = tf.keras.Sequential([\n",
    "                    tf.keras.layers.Dense(128, activation='relu',input_shape = [len(train_data.keys())]),\n",
    "                    tf.keras.layers.Dense(128, activation='relu'),\n",
    "                    tf.keras.layers.Dense(128, activation='relu',kernel_regularizer=regularizers.l1(0.0001)),\n",
    "                    tf.keras.layers.Dense(128, activation='relu',kernel_regularizer=regularizers.l1(0.0001)), \n",
    "                    tf.keras.layers.Dense(128, activation='relu',kernel_regularizer=regularizers.l1(0.0001)), \n",
    "                    tf.keras.layers.Dense(128, activation='relu',kernel_regularizer=regularizers.l1(0.0001)), \n",
    "                    #tf.keras.layers.Dense(64, activation='relu'),\n",
    "                    #tf.keras.layers.Dense(128, activation='relu',kernel_regularizer=tf.keras.regularizers.l1(l=0.00001)),                 \n",
    "                    #tf.keras.layers.Dense(64, activation='relu',kernel_regularizer=tf.keras.regularizers.l1(l=0.0001)),\n",
    "                    tf.keras.layers.Dense(1)       \n",
    "])\n",
    "model.compile(loss = 'mse',\n",
    "              optimizer = tf.keras.optimizers.Adagrad(0.001),\n",
    "              metrics = ['mae','mse'])\n",
    "model.summary()"
   ]
  },
  {
   "cell_type": "code",
   "execution_count": 26,
   "metadata": {},
   "outputs": [
    {
     "name": "stdout",
     "output_type": "stream",
     "text": [
      "Epoch 1/120\n",
      "3165/3165 [==============================] - 11s 3ms/step - loss: 0.7555 - mae: 0.2642 - mse: 0.2559 - val_loss: 0.5210 - val_mae: 0.1149 - val_mse: 0.0237\n",
      "Epoch 2/120\n",
      "3165/3165 [==============================] - 11s 3ms/step - loss: 0.5412 - mae: 0.1397 - mse: 0.0462 - val_loss: 0.5081 - val_mae: 0.0924 - val_mse: 0.0154\n",
      "Epoch 3/120\n",
      "3165/3165 [==============================] - 11s 3ms/step - loss: 0.5242 - mae: 0.1185 - mse: 0.0338 - val_loss: 0.5017 - val_mae: 0.0893 - val_mse: 0.0136\n",
      "Epoch 4/120\n",
      "3165/3165 [==============================] - 10s 3ms/step - loss: 0.5135 - mae: 0.1064 - mse: 0.0276 - val_loss: 0.4959 - val_mae: 0.0835 - val_mse: 0.0123\n",
      "Epoch 5/120\n",
      "3165/3165 [==============================] - 10s 3ms/step - loss: 0.5052 - mae: 0.0986 - mse: 0.0237 - val_loss: 0.4919 - val_mae: 0.0865 - val_mse: 0.0126\n",
      "Epoch 6/120\n",
      "3165/3165 [==============================] - 10s 3ms/step - loss: 0.4982 - mae: 0.0925 - mse: 0.0211 - val_loss: 0.4865 - val_mae: 0.0831 - val_mse: 0.0116\n",
      "Epoch 7/120\n",
      "3165/3165 [==============================] - 10s 3ms/step - loss: 0.4918 - mae: 0.0880 - mse: 0.0190 - val_loss: 0.4823 - val_mae: 0.0851 - val_mse: 0.0117\n",
      "Epoch 8/120\n",
      "3165/3165 [==============================] - 11s 4ms/step - loss: 0.4858 - mae: 0.0840 - mse: 0.0174 - val_loss: 0.4778 - val_mae: 0.0836 - val_mse: 0.0115\n",
      "Epoch 9/120\n",
      "3165/3165 [==============================] - 11s 3ms/step - loss: 0.4803 - mae: 0.0807 - mse: 0.0161 - val_loss: 0.4797 - val_mae: 0.0970 - val_mse: 0.0176\n",
      "Epoch 10/120\n",
      "3165/3165 [==============================] - 10s 3ms/step - loss: 0.4750 - mae: 0.0779 - mse: 0.0150 - val_loss: 0.4687 - val_mae: 0.0801 - val_mse: 0.0108\n",
      "Epoch 11/120\n",
      "3165/3165 [==============================] - 10s 3ms/step - loss: 0.4699 - mae: 0.0755 - mse: 0.0141 - val_loss: 0.4649 - val_mae: 0.0816 - val_mse: 0.0112\n",
      "Epoch 12/120\n",
      "3165/3165 [==============================] - 10s 3ms/step - loss: 0.4650 - mae: 0.0733 - mse: 0.0133 - val_loss: 0.4612 - val_mae: 0.0806 - val_mse: 0.0115\n",
      "Epoch 13/120\n",
      "3165/3165 [==============================] - 10s 3ms/step - loss: 0.4603 - mae: 0.0715 - mse: 0.0127 - val_loss: 0.4580 - val_mae: 0.0842 - val_mse: 0.0124\n",
      "Epoch 14/120\n",
      "3165/3165 [==============================] - 11s 3ms/step - loss: 0.4556 - mae: 0.0698 - mse: 0.0120 - val_loss: 0.4511 - val_mae: 0.0756 - val_mse: 0.0095\n",
      "Epoch 15/120\n",
      "3165/3165 [==============================] - 10s 3ms/step - loss: 0.4510 - mae: 0.0682 - mse: 0.0115 - val_loss: 0.4485 - val_mae: 0.0807 - val_mse: 0.0109\n",
      "Epoch 16/120\n",
      "3165/3165 [==============================] - 11s 3ms/step - loss: 0.4466 - mae: 0.0667 - mse: 0.0110 - val_loss: 0.4447 - val_mae: 0.0788 - val_mse: 0.0110\n",
      "Epoch 17/120\n",
      "3165/3165 [==============================] - 10s 3ms/step - loss: 0.4422 - mae: 0.0653 - mse: 0.0105 - val_loss: 0.4406 - val_mae: 0.0785 - val_mse: 0.0109\n",
      "Epoch 18/120\n",
      "3165/3165 [==============================] - 10s 3ms/step - loss: 0.4379 - mae: 0.0640 - mse: 0.0101 - val_loss: 0.4361 - val_mae: 0.0775 - val_mse: 0.0103\n",
      "Epoch 19/120\n",
      "3165/3165 [==============================] - 10s 3ms/step - loss: 0.4336 - mae: 0.0628 - mse: 0.0097 - val_loss: 0.4316 - val_mae: 0.0768 - val_mse: 0.0097\n",
      "Epoch 20/120\n",
      "3165/3165 [==============================] - 11s 3ms/step - loss: 0.4294 - mae: 0.0619 - mse: 0.0094 - val_loss: 0.4281 - val_mae: 0.0764 - val_mse: 0.0100\n",
      "Epoch 21/120\n",
      "3165/3165 [==============================] - 11s 4ms/step - loss: 0.4253 - mae: 0.0608 - mse: 0.0091 - val_loss: 0.4244 - val_mae: 0.0763 - val_mse: 0.0101\n",
      "Epoch 22/120\n",
      "3165/3165 [==============================] - 10s 3ms/step - loss: 0.4212 - mae: 0.0598 - mse: 0.0088 - val_loss: 0.4205 - val_mae: 0.0760 - val_mse: 0.0100\n",
      "Epoch 23/120\n",
      "3165/3165 [==============================] - 10s 3ms/step - loss: 0.4172 - mae: 0.0588 - mse: 0.0085 - val_loss: 0.4163 - val_mae: 0.0746 - val_mse: 0.0095\n",
      "Epoch 24/120\n",
      "3165/3165 [==============================] - 11s 3ms/step - loss: 0.4132 - mae: 0.0580 - mse: 0.0083 - val_loss: 0.4127 - val_mae: 0.0751 - val_mse: 0.0097\n",
      "Epoch 25/120\n",
      "3165/3165 [==============================] - 12s 4ms/step - loss: 0.4093 - mae: 0.0572 - mse: 0.0080 - val_loss: 0.4088 - val_mae: 0.0742 - val_mse: 0.0094\n",
      "Epoch 26/120\n",
      "3165/3165 [==============================] - 11s 4ms/step - loss: 0.4054 - mae: 0.0564 - mse: 0.0078 - val_loss: 0.4050 - val_mae: 0.0741 - val_mse: 0.0092\n",
      "Epoch 27/120\n",
      "3165/3165 [==============================] - 11s 4ms/step - loss: 0.4016 - mae: 0.0557 - mse: 0.0076 - val_loss: 0.4019 - val_mae: 0.0748 - val_mse: 0.0098\n",
      "Epoch 28/120\n",
      "3165/3165 [==============================] - 11s 4ms/step - loss: 0.3977 - mae: 0.0549 - mse: 0.0074 - val_loss: 0.3981 - val_mae: 0.0738 - val_mse: 0.0095\n",
      "Epoch 29/120\n",
      "3165/3165 [==============================] - 12s 4ms/step - loss: 0.3940 - mae: 0.0542 - mse: 0.0072 - val_loss: 0.3941 - val_mae: 0.0723 - val_mse: 0.0091\n",
      "Epoch 30/120\n",
      "3165/3165 [==============================] - 12s 4ms/step - loss: 0.3903 - mae: 0.0536 - mse: 0.0070 - val_loss: 0.3907 - val_mae: 0.0731 - val_mse: 0.0092\n",
      "Epoch 31/120\n",
      "3165/3165 [==============================] - 11s 3ms/step - loss: 0.3866 - mae: 0.0530 - mse: 0.0069 - val_loss: 0.3868 - val_mae: 0.0712 - val_mse: 0.0088\n",
      "Epoch 32/120\n",
      "3165/3165 [==============================] - 11s 4ms/step - loss: 0.3830 - mae: 0.0524 - mse: 0.0067 - val_loss: 0.3837 - val_mae: 0.0721 - val_mse: 0.0092\n",
      "Epoch 33/120\n",
      "3165/3165 [==============================] - 11s 3ms/step - loss: 0.3794 - mae: 0.0518 - mse: 0.0066 - val_loss: 0.3805 - val_mae: 0.0729 - val_mse: 0.0095\n",
      "Epoch 34/120\n",
      "3165/3165 [==============================] - 11s 3ms/step - loss: 0.3758 - mae: 0.0513 - mse: 0.0065 - val_loss: 0.3764 - val_mae: 0.0703 - val_mse: 0.0087\n",
      "Epoch 35/120\n",
      "3165/3165 [==============================] - 11s 3ms/step - loss: 0.3722 - mae: 0.0508 - mse: 0.0063 - val_loss: 0.3730 - val_mae: 0.0703 - val_mse: 0.0087\n",
      "Epoch 36/120\n",
      "3165/3165 [==============================] - 12s 4ms/step - loss: 0.3687 - mae: 0.0502 - mse: 0.0062 - val_loss: 0.3693 - val_mae: 0.0691 - val_mse: 0.0084\n",
      "Epoch 37/120\n",
      "3165/3165 [==============================] - 11s 3ms/step - loss: 0.3653 - mae: 0.0498 - mse: 0.0061 - val_loss: 0.3664 - val_mae: 0.0704 - val_mse: 0.0088\n",
      "Epoch 38/120\n",
      "3165/3165 [==============================] - 11s 3ms/step - loss: 0.3619 - mae: 0.0493 - mse: 0.0059 - val_loss: 0.3634 - val_mae: 0.0712 - val_mse: 0.0091\n",
      "Epoch 39/120\n",
      "3165/3165 [==============================] - 10s 3ms/step - loss: 0.3585 - mae: 0.0489 - mse: 0.0058 - val_loss: 0.3595 - val_mae: 0.0691 - val_mse: 0.0085\n",
      "Epoch 40/120\n",
      "3165/3165 [==============================] - 10s 3ms/step - loss: 0.3551 - mae: 0.0485 - mse: 0.0057 - val_loss: 0.3565 - val_mae: 0.0698 - val_mse: 0.0088\n",
      "Epoch 41/120\n",
      "3165/3165 [==============================] - 11s 3ms/step - loss: 0.3518 - mae: 0.0480 - mse: 0.0056 - val_loss: 0.3532 - val_mae: 0.0692 - val_mse: 0.0087\n",
      "Epoch 42/120\n",
      "3165/3165 [==============================] - 11s 3ms/step - loss: 0.3485 - mae: 0.0477 - mse: 0.0055 - val_loss: 0.3500 - val_mae: 0.0692 - val_mse: 0.0087\n",
      "Epoch 43/120\n",
      "3165/3165 [==============================] - 11s 3ms/step - loss: 0.3452 - mae: 0.0472 - mse: 0.0054 - val_loss: 0.3467 - val_mae: 0.0687 - val_mse: 0.0085\n",
      "Epoch 44/120\n",
      "3165/3165 [==============================] - 11s 4ms/step - loss: 0.3420 - mae: 0.0468 - mse: 0.0054 - val_loss: 0.3446 - val_mae: 0.0724 - val_mse: 0.0095\n",
      "Epoch 45/120\n",
      "3165/3165 [==============================] - 11s 4ms/step - loss: 0.3388 - mae: 0.0464 - mse: 0.0053 - val_loss: 0.3408 - val_mae: 0.0697 - val_mse: 0.0089\n",
      "Epoch 46/120\n",
      "3165/3165 [==============================] - 11s 3ms/step - loss: 0.3356 - mae: 0.0461 - mse: 0.0052 - val_loss: 0.3375 - val_mae: 0.0692 - val_mse: 0.0087\n",
      "Epoch 47/120\n",
      "3165/3165 [==============================] - 11s 4ms/step - loss: 0.3325 - mae: 0.0458 - mse: 0.0051 - val_loss: 0.3334 - val_mae: 0.0649 - val_mse: 0.0076\n",
      "Epoch 48/120\n",
      "3165/3165 [==============================] - 11s 3ms/step - loss: 0.3293 - mae: 0.0454 - mse: 0.0050 - val_loss: 0.3321 - val_mae: 0.0716 - val_mse: 0.0094\n",
      "Epoch 49/120\n"
     ]
    },
    {
     "name": "stdout",
     "output_type": "stream",
     "text": [
      "3165/3165 [==============================] - 11s 3ms/step - loss: 0.3262 - mae: 0.0451 - mse: 0.0050 - val_loss: 0.3262 - val_mae: 0.0609 - val_mse: 0.0064\n",
      "Epoch 50/120\n",
      "3165/3165 [==============================] - 11s 3ms/step - loss: 0.3232 - mae: 0.0448 - mse: 0.0049 - val_loss: 0.3252 - val_mae: 0.0680 - val_mse: 0.0084\n",
      "Epoch 51/120\n",
      "3165/3165 [==============================] - 11s 3ms/step - loss: 0.3202 - mae: 0.0445 - mse: 0.0049 - val_loss: 0.3223 - val_mae: 0.0678 - val_mse: 0.0084\n",
      "Epoch 52/120\n",
      "3165/3165 [==============================] - 11s 3ms/step - loss: 0.3171 - mae: 0.0442 - mse: 0.0048 - val_loss: 0.3192 - val_mae: 0.0674 - val_mse: 0.0083\n",
      "Epoch 53/120\n",
      "3165/3165 [==============================] - 10s 3ms/step - loss: 0.3142 - mae: 0.0439 - mse: 0.0047 - val_loss: 0.3161 - val_mae: 0.0666 - val_mse: 0.0081\n",
      "Epoch 54/120\n",
      "3165/3165 [==============================] - 11s 3ms/step - loss: 0.3112 - mae: 0.0436 - mse: 0.0047 - val_loss: 0.3125 - val_mae: 0.0636 - val_mse: 0.0073\n",
      "Epoch 55/120\n",
      "3165/3165 [==============================] - 11s 4ms/step - loss: 0.3083 - mae: 0.0433 - mse: 0.0046 - val_loss: 0.3104 - val_mae: 0.0667 - val_mse: 0.0081\n",
      "Epoch 56/120\n",
      "3165/3165 [==============================] - 11s 3ms/step - loss: 0.3054 - mae: 0.0430 - mse: 0.0046 - val_loss: 0.3077 - val_mae: 0.0672 - val_mse: 0.0082\n",
      "Epoch 57/120\n",
      "3165/3165 [==============================] - 11s 4ms/step - loss: 0.3026 - mae: 0.0428 - mse: 0.0045 - val_loss: 0.3048 - val_mae: 0.0668 - val_mse: 0.0081\n",
      "Epoch 58/120\n",
      "3165/3165 [==============================] - 11s 3ms/step - loss: 0.2997 - mae: 0.0426 - mse: 0.0044 - val_loss: 0.3031 - val_mae: 0.0711 - val_mse: 0.0092\n",
      "Epoch 59/120\n",
      "3165/3165 [==============================] - 10s 3ms/step - loss: 0.2969 - mae: 0.0423 - mse: 0.0044 - val_loss: 0.2993 - val_mae: 0.0668 - val_mse: 0.0082\n",
      "Epoch 60/120\n",
      "3165/3165 [==============================] - 10s 3ms/step - loss: 0.2941 - mae: 0.0421 - mse: 0.0043 - val_loss: 0.2965 - val_mae: 0.0664 - val_mse: 0.0080\n",
      "Epoch 61/120\n",
      "3165/3165 [==============================] - 10s 3ms/step - loss: 0.2914 - mae: 0.0418 - mse: 0.0043 - val_loss: 0.2936 - val_mae: 0.0654 - val_mse: 0.0078\n",
      "Epoch 62/120\n",
      "3165/3165 [==============================] - 10s 3ms/step - loss: 0.2887 - mae: 0.0416 - mse: 0.0042 - val_loss: 0.2912 - val_mae: 0.0668 - val_mse: 0.0081\n",
      "Epoch 63/120\n",
      "3165/3165 [==============================] - 11s 3ms/step - loss: 0.2860 - mae: 0.0414 - mse: 0.0042 - val_loss: 0.2882 - val_mae: 0.0654 - val_mse: 0.0078\n",
      "Epoch 64/120\n",
      "3165/3165 [==============================] - 11s 3ms/step - loss: 0.2833 - mae: 0.0412 - mse: 0.0041 - val_loss: 0.2850 - val_mae: 0.0626 - val_mse: 0.0071\n",
      "Epoch 65/120\n",
      "3165/3165 [==============================] - 10s 3ms/step - loss: 0.2807 - mae: 0.0410 - mse: 0.0041 - val_loss: 0.2834 - val_mae: 0.0666 - val_mse: 0.0081\n",
      "Epoch 66/120\n",
      "3165/3165 [==============================] - 11s 3ms/step - loss: 0.2781 - mae: 0.0408 - mse: 0.0041 - val_loss: 0.2800 - val_mae: 0.0631 - val_mse: 0.0072\n",
      "Epoch 67/120\n",
      "3165/3165 [==============================] - 11s 3ms/step - loss: 0.2755 - mae: 0.0406 - mse: 0.0040 - val_loss: 0.2779 - val_mae: 0.0650 - val_mse: 0.0076\n",
      "Epoch 68/120\n",
      "3165/3165 [==============================] - 10s 3ms/step - loss: 0.2730 - mae: 0.0404 - mse: 0.0040 - val_loss: 0.2750 - val_mae: 0.0633 - val_mse: 0.0072\n",
      "Epoch 69/120\n",
      "3165/3165 [==============================] - 10s 3ms/step - loss: 0.2704 - mae: 0.0402 - mse: 0.0039 - val_loss: 0.2730 - val_mae: 0.0655 - val_mse: 0.0078\n",
      "Epoch 70/120\n",
      "3165/3165 [==============================] - 10s 3ms/step - loss: 0.2679 - mae: 0.0400 - mse: 0.0039 - val_loss: 0.2708 - val_mae: 0.0665 - val_mse: 0.0080\n",
      "Epoch 71/120\n",
      "3165/3165 [==============================] - 10s 3ms/step - loss: 0.2655 - mae: 0.0398 - mse: 0.0039 - val_loss: 0.2677 - val_mae: 0.0637 - val_mse: 0.0074\n",
      "Epoch 72/120\n",
      "3165/3165 [==============================] - 11s 3ms/step - loss: 0.2630 - mae: 0.0396 - mse: 0.0038 - val_loss: 0.2650 - val_mae: 0.0622 - val_mse: 0.0070\n",
      "Epoch 73/120\n",
      "3165/3165 [==============================] - 11s 4ms/step - loss: 0.2606 - mae: 0.0395 - mse: 0.0038 - val_loss: 0.2633 - val_mae: 0.0654 - val_mse: 0.0077\n",
      "Epoch 74/120\n",
      "3165/3165 [==============================] - 10s 3ms/step - loss: 0.2582 - mae: 0.0393 - mse: 0.0038 - val_loss: 0.2612 - val_mae: 0.0665 - val_mse: 0.0080\n",
      "Epoch 75/120\n",
      "3165/3165 [==============================] - 11s 3ms/step - loss: 0.2558 - mae: 0.0391 - mse: 0.0037 - val_loss: 0.2585 - val_mae: 0.0647 - val_mse: 0.0076\n",
      "Epoch 76/120\n",
      "3165/3165 [==============================] - 11s 3ms/step - loss: 0.2535 - mae: 0.0389 - mse: 0.0037 - val_loss: 0.2560 - val_mae: 0.0640 - val_mse: 0.0074\n",
      "Epoch 77/120\n",
      "3165/3165 [==============================] - 11s 3ms/step - loss: 0.2512 - mae: 0.0388 - mse: 0.0037 - val_loss: 0.2545 - val_mae: 0.0672 - val_mse: 0.0081\n",
      "Epoch 78/120\n",
      "3165/3165 [==============================] - 11s 4ms/step - loss: 0.2489 - mae: 0.0386 - mse: 0.0036 - val_loss: 0.2517 - val_mae: 0.0648 - val_mse: 0.0076\n",
      "Epoch 79/120\n",
      "3165/3165 [==============================] - 11s 3ms/step - loss: 0.2466 - mae: 0.0385 - mse: 0.0036 - val_loss: 0.2498 - val_mae: 0.0664 - val_mse: 0.0080\n",
      "Epoch 80/120\n",
      "3165/3165 [==============================] - 11s 3ms/step - loss: 0.2444 - mae: 0.0383 - mse: 0.0036 - val_loss: 0.2471 - val_mae: 0.0640 - val_mse: 0.0074\n",
      "Epoch 81/120\n",
      "3165/3165 [==============================] - 11s 3ms/step - loss: 0.2422 - mae: 0.0382 - mse: 0.0036 - val_loss: 0.2446 - val_mae: 0.0627 - val_mse: 0.0071\n",
      "Epoch 82/120\n",
      "3165/3165 [==============================] - 11s 3ms/step - loss: 0.2400 - mae: 0.0381 - mse: 0.0035 - val_loss: 0.2433 - val_mae: 0.0667 - val_mse: 0.0080\n",
      "Epoch 83/120\n",
      "3165/3165 [==============================] - 10s 3ms/step - loss: 0.2378 - mae: 0.0379 - mse: 0.0035 - val_loss: 0.2408 - val_mae: 0.0648 - val_mse: 0.0076\n",
      "Epoch 84/120\n",
      "3165/3165 [==============================] - 11s 4ms/step - loss: 0.2357 - mae: 0.0378 - mse: 0.0035 - val_loss: 0.2383 - val_mae: 0.0632 - val_mse: 0.0072\n",
      "Epoch 85/120\n",
      "3165/3165 [==============================] - 16s 5ms/step - loss: 0.2336 - mae: 0.0377 - mse: 0.0035 - val_loss: 0.2360 - val_mae: 0.0622 - val_mse: 0.0069\n",
      "Epoch 86/120\n",
      "3165/3165 [==============================] - 26s 8ms/step - loss: 0.2315 - mae: 0.0375 - mse: 0.0034 - val_loss: 0.2333 - val_mae: 0.0592 - val_mse: 0.0063\n",
      "Epoch 87/120\n",
      "3165/3165 [==============================] - 28s 9ms/step - loss: 0.2294 - mae: 0.0374 - mse: 0.0034 - val_loss: 0.2328 - val_mae: 0.0661 - val_mse: 0.0078\n",
      "Epoch 88/120\n",
      "3165/3165 [==============================] - 31s 10ms/step - loss: 0.2274 - mae: 0.0373 - mse: 0.0034 - val_loss: 0.2293 - val_mae: 0.0598 - val_mse: 0.0064\n",
      "Epoch 89/120\n",
      "3165/3165 [==============================] - 25s 8ms/step - loss: 0.2254 - mae: 0.0372 - mse: 0.0034 - val_loss: 0.2282 - val_mae: 0.0634 - val_mse: 0.0072\n",
      "Epoch 90/120\n",
      "3165/3165 [==============================] - 25s 8ms/step - loss: 0.2234 - mae: 0.0370 - mse: 0.0034 - val_loss: 0.2264 - val_mae: 0.0640 - val_mse: 0.0073\n",
      "Epoch 91/120\n",
      "3165/3165 [==============================] - 25s 8ms/step - loss: 0.2214 - mae: 0.0369 - mse: 0.0033 - val_loss: 0.2239 - val_mae: 0.0615 - val_mse: 0.0068\n",
      "Epoch 92/120\n",
      "3165/3165 [==============================] - 24s 8ms/step - loss: 0.2195 - mae: 0.0368 - mse: 0.0033 - val_loss: 0.2227 - val_mae: 0.0649 - val_mse: 0.0075\n",
      "Epoch 93/120\n",
      "3165/3165 [==============================] - 25s 8ms/step - loss: 0.2175 - mae: 0.0367 - mse: 0.0033 - val_loss: 0.2212 - val_mae: 0.0665 - val_mse: 0.0078\n",
      "Epoch 94/120\n",
      "3165/3165 [==============================] - 25s 8ms/step - loss: 0.2157 - mae: 0.0366 - mse: 0.0033 - val_loss: 0.2187 - val_mae: 0.0634 - val_mse: 0.0072\n",
      "Epoch 95/120\n",
      "3165/3165 [==============================] - 27s 8ms/step - loss: 0.2138 - mae: 0.0365 - mse: 0.0032 - val_loss: 0.2167 - val_mae: 0.0628 - val_mse: 0.0070\n",
      "Epoch 96/120\n",
      "3165/3165 [==============================] - 27s 9ms/step - loss: 0.2120 - mae: 0.0364 - mse: 0.0032 - val_loss: 0.2153 - val_mae: 0.0648 - val_mse: 0.0075\n",
      "Epoch 97/120\n"
     ]
    },
    {
     "name": "stdout",
     "output_type": "stream",
     "text": [
      "3165/3165 [==============================] - 49s 16ms/step - loss: 0.2101 - mae: 0.0363 - mse: 0.0032 - val_loss: 0.2126 - val_mae: 0.0607 - val_mse: 0.0066- loss: 0.2103 - ma\n",
      "Epoch 98/120\n",
      "3165/3165 [==============================] - 20s 6ms/step - loss: 0.2083 - mae: 0.0362 - mse: 0.0032 - val_loss: 0.2126 - val_mae: 0.0689 - val_mse: 0.0084\n",
      "Epoch 99/120\n",
      "3165/3165 [==============================] - 12s 4ms/step - loss: 0.2066 - mae: 0.0360 - mse: 0.0032 - val_loss: 0.2092 - val_mae: 0.0614 - val_mse: 0.0067\n",
      "Epoch 100/120\n",
      "3165/3165 [==============================] - 10s 3ms/step - loss: 0.2048 - mae: 0.0360 - mse: 0.0032 - val_loss: 0.2085 - val_mae: 0.0658 - val_mse: 0.0077\n",
      "Epoch 101/120\n",
      "3165/3165 [==============================] - 10s 3ms/step - loss: 0.2031 - mae: 0.0359 - mse: 0.0031 - val_loss: 0.2063 - val_mae: 0.0635 - val_mse: 0.0072\n",
      "Epoch 102/120\n",
      "3165/3165 [==============================] - 10s 3ms/step - loss: 0.2014 - mae: 0.0357 - mse: 0.0031 - val_loss: 0.2055 - val_mae: 0.0675 - val_mse: 0.0080\n",
      "Epoch 103/120\n",
      "3165/3165 [==============================] - 11s 3ms/step - loss: 0.1997 - mae: 0.0357 - mse: 0.0031 - val_loss: 0.2038 - val_mae: 0.0672 - val_mse: 0.0080\n",
      "Epoch 104/120\n",
      "3165/3165 [==============================] - 10s 3ms/step - loss: 0.1981 - mae: 0.0356 - mse: 0.0031 - val_loss: 0.2017 - val_mae: 0.0650 - val_mse: 0.0075\n",
      "Epoch 105/120\n",
      "3165/3165 [==============================] - 10s 3ms/step - loss: 0.1965 - mae: 0.0354 - mse: 0.0031 - val_loss: 0.1999 - val_mae: 0.0641 - val_mse: 0.0073\n",
      "Epoch 106/120\n",
      "3165/3165 [==============================] - 10s 3ms/step - loss: 0.1949 - mae: 0.0353 - mse: 0.0031 - val_loss: 0.1985 - val_mae: 0.0649 - val_mse: 0.0074\n",
      "Epoch 107/120\n",
      "3165/3165 [==============================] - 10s 3ms/step - loss: 0.1933 - mae: 0.0353 - mse: 0.0030 - val_loss: 0.1966 - val_mae: 0.0635 - val_mse: 0.0071\n",
      "Epoch 108/120\n",
      "3165/3165 [==============================] - 10s 3ms/step - loss: 0.1918 - mae: 0.0352 - mse: 0.0030 - val_loss: 0.1947 - val_mae: 0.0616 - val_mse: 0.0067\n",
      "Epoch 109/120\n",
      "3165/3165 [==============================] - 10s 3ms/step - loss: 0.1903 - mae: 0.0351 - mse: 0.0030 - val_loss: 0.1937 - val_mae: 0.0640 - val_mse: 0.0072\n",
      "Epoch 110/120\n",
      "3165/3165 [==============================] - 10s 3ms/step - loss: 0.1888 - mae: 0.0350 - mse: 0.0030 - val_loss: 0.1923 - val_mae: 0.0641 - val_mse: 0.0073\n",
      "Epoch 111/120\n",
      "3165/3165 [==============================] - 10s 3ms/step - loss: 0.1873 - mae: 0.0349 - mse: 0.0030 - val_loss: 0.1901 - val_mae: 0.0605 - val_mse: 0.0065\n",
      "Epoch 112/120\n",
      "3165/3165 [==============================] - 10s 3ms/step - loss: 0.1859 - mae: 0.0348 - mse: 0.0030 - val_loss: 0.1896 - val_mae: 0.0649 - val_mse: 0.0074\n",
      "Epoch 113/120\n",
      "3165/3165 [==============================] - 10s 3ms/step - loss: 0.1845 - mae: 0.0347 - mse: 0.0030 - val_loss: 0.1880 - val_mae: 0.0640 - val_mse: 0.0072\n",
      "Epoch 114/120\n",
      "3165/3165 [==============================] - 10s 3ms/step - loss: 0.1831 - mae: 0.0346 - mse: 0.0029 - val_loss: 0.1868 - val_mae: 0.0648 - val_mse: 0.0074\n",
      "Epoch 115/120\n",
      "3165/3165 [==============================] - 9s 3ms/step - loss: 0.1817 - mae: 0.0346 - mse: 0.0029 - val_loss: 0.1856 - val_mae: 0.0657 - val_mse: 0.0076\n",
      "Epoch 116/120\n",
      "3165/3165 [==============================] - 9s 3ms/step - loss: 0.1803 - mae: 0.0345 - mse: 0.0029 - val_loss: 0.1832 - val_mae: 0.0603 - val_mse: 0.0064\n",
      "Epoch 117/120\n",
      "3165/3165 [==============================] - 9s 3ms/step - loss: 0.1790 - mae: 0.0344 - mse: 0.0029 - val_loss: 0.1834 - val_mae: 0.0669 - val_mse: 0.0079\n",
      "Epoch 118/120\n",
      "3165/3165 [==============================] - 10s 3ms/step - loss: 0.1777 - mae: 0.0343 - mse: 0.0029 - val_loss: 0.1814 - val_mae: 0.0638 - val_mse: 0.0072\n",
      "Epoch 119/120\n",
      "3165/3165 [==============================] - 10s 3ms/step - loss: 0.1765 - mae: 0.0343 - mse: 0.0029 - val_loss: 0.1806 - val_mae: 0.0662 - val_mse: 0.0077\n",
      "Epoch 120/120\n",
      "3165/3165 [==============================] - 10s 3ms/step - loss: 0.1752 - mae: 0.0342 - mse: 0.0029 - val_loss: 0.1789 - val_mae: 0.0640 - val_mse: 0.0072\n"
     ]
    }
   ],
   "source": [
    "EPOCHS = 120\n",
    "history = model.fit(\n",
    "  train_data, train_target,\n",
    "  batch_size = 64,\n",
    "  epochs=EPOCHS, validation_data=(test_data,test_target))"
   ]
  },
  {
   "cell_type": "code",
   "execution_count": 27,
   "metadata": {},
   "outputs": [],
   "source": [
    "y_act = test_target.to_numpy()\n",
    "y_pred = model.predict(test_data).reshape(-1)"
   ]
  },
  {
   "cell_type": "code",
   "execution_count": 36,
   "metadata": {},
   "outputs": [
    {
     "name": "stdout",
     "output_type": "stream",
     "text": [
      "78324\n",
      "[0.66359892 0.6946306  0.7273686  0.75268596 0.76765557 0.78305454\n",
      " 0.80037335 0.81291949 0.82301731 0.83600838]\n",
      "[0.7213604 0.7213604 0.7213604 0.7213604 0.7406373 0.7406373 0.7406373\n",
      " 0.7406373 0.7406373 0.7406373]\n",
      "[0.05776147 0.04600671 0.03198421 0.02310592 0.02807872 0.0258395\n",
      " 0.02131423 0.02081556 0.02410082 0.02435737]\n"
     ]
    }
   ],
   "source": [
    "pos = 78324#np.random.randint(0, 99000)\n",
    "y0 = y_act[np.arange(pos,pos + 3000)]\n",
    "y1 = y_pred[np.arange(pos, pos + 3000)]\n",
    "print(pos)\n",
    "yy0 = VaR(y0)\n",
    "print(yy0)\n",
    "yy1 = VaR(y1)\n",
    "print(VaR(yy1))\n",
    "print(np.abs(yy1 - yy0))\n"
   ]
  },
  {
   "cell_type": "code",
   "execution_count": 33,
   "metadata": {},
   "outputs": [
    {
     "data": {
      "text/html": [
       "<div>\n",
       "<style scoped>\n",
       "    .dataframe tbody tr th:only-of-type {\n",
       "        vertical-align: middle;\n",
       "    }\n",
       "\n",
       "    .dataframe tbody tr th {\n",
       "        vertical-align: top;\n",
       "    }\n",
       "\n",
       "    .dataframe thead th {\n",
       "        text-align: right;\n",
       "    }\n",
       "</style>\n",
       "<table border=\"1\" class=\"dataframe\">\n",
       "  <thead>\n",
       "    <tr style=\"text-align: right;\">\n",
       "      <th></th>\n",
       "      <th>Act</th>\n",
       "      <th>Pred</th>\n",
       "    </tr>\n",
       "  </thead>\n",
       "  <tbody>\n",
       "    <tr>\n",
       "      <th>count</th>\n",
       "      <td>102229.000000</td>\n",
       "      <td>102229.000000</td>\n",
       "    </tr>\n",
       "    <tr>\n",
       "      <th>mean</th>\n",
       "      <td>2.119526</td>\n",
       "      <td>2.076722</td>\n",
       "    </tr>\n",
       "    <tr>\n",
       "      <th>std</th>\n",
       "      <td>1.353206</td>\n",
       "      <td>1.310628</td>\n",
       "    </tr>\n",
       "    <tr>\n",
       "      <th>min</th>\n",
       "      <td>0.322815</td>\n",
       "      <td>0.380432</td>\n",
       "    </tr>\n",
       "    <tr>\n",
       "      <th>25%</th>\n",
       "      <td>1.168864</td>\n",
       "      <td>1.146918</td>\n",
       "    </tr>\n",
       "    <tr>\n",
       "      <th>50%</th>\n",
       "      <td>1.603277</td>\n",
       "      <td>1.558219</td>\n",
       "    </tr>\n",
       "    <tr>\n",
       "      <th>75%</th>\n",
       "      <td>2.647212</td>\n",
       "      <td>2.542322</td>\n",
       "    </tr>\n",
       "    <tr>\n",
       "      <th>max</th>\n",
       "      <td>8.725821</td>\n",
       "      <td>8.226402</td>\n",
       "    </tr>\n",
       "  </tbody>\n",
       "</table>\n",
       "</div>"
      ],
      "text/plain": [
       "                 Act           Pred\n",
       "count  102229.000000  102229.000000\n",
       "mean        2.119526       2.076722\n",
       "std         1.353206       1.310628\n",
       "min         0.322815       0.380432\n",
       "25%         1.168864       1.146918\n",
       "50%         1.603277       1.558219\n",
       "75%         2.647212       2.542322\n",
       "max         8.725821       8.226402"
      ]
     },
     "execution_count": 33,
     "metadata": {},
     "output_type": "execute_result"
    }
   ],
   "source": [
    "dff = pd.DataFrame({'Act': test_target, 'Pred' : y_pred})\n",
    "dff.describe()"
   ]
  },
  {
   "cell_type": "code",
   "execution_count": 34,
   "metadata": {},
   "outputs": [
    {
     "data": {
      "text/plain": [
       "<matplotlib.legend.Legend at 0x199b00a07f0>"
      ]
     },
     "execution_count": 34,
     "metadata": {},
     "output_type": "execute_result"
    },
    {
     "data": {
      "image/png": "[encoded data removed]",
      "text/plain": [
       "<Figure size 432x288 with 1 Axes>"
      ]
     },
     "metadata": {
      "needs_background": "light"
     },
     "output_type": "display_data"
    }
   ],
   "source": [
    "sn.distplot(y_act,fit = stats.norm, color = 'red', label = 'Determenistic',fit_kws={\"color\":\"red\"},kde = False)\n",
    "sn.distplot(y_pred, fit = stats.norm, color = 'blue', label = 'Approximated',fit_kws={\"color\":\"blue\"},kde=False)\n",
    "plt.legend()"
   ]
  },
  {
   "cell_type": "code",
   "execution_count": 37,
   "metadata": {},
   "outputs": [
    {
     "name": "stdout",
     "output_type": "stream",
     "text": [
      "export_path = C:\\Users\\PLDD\\Practice\\GitHub\\Python\\MHS\\models\\1\n",
      "\n",
      "INFO:tensorflow:Assets written to: C:\\Users\\PLDD\\Practice\\GitHub\\Python\\MHS\\models\\1\\assets\n",
      "\n",
      "Saved model:\n"
     ]
    }
   ],
   "source": [
    "version = 1\n",
    "export_path = os.path.join(modeldir, str(version))\n",
    "print('export_path = {}\\n'.format(export_path))\n",
    "\n",
    "tf.keras.models.save_model(\n",
    "    model,\n",
    "    export_path,\n",
    "    overwrite=True,\n",
    "    include_optimizer=True,\n",
    "    save_format=None,\n",
    "    signatures=None,\n",
    "    options=None\n",
    ")\n",
    "\n",
    "print('\\nSaved model:')"
   ]
  },
  {
   "cell_type": "code",
   "execution_count": null,
   "metadata": {},
   "outputs": [],
   "source": []
  }
 ],
 "metadata": {
  "kernelspec": {
   "display_name": "Python 3",
   "language": "python",
   "name": "python3"
  },
  "language_info": {
   "codemirror_mode": {
    "name": "ipython",
    "version": 3
   },
   "file_extension": ".py",
   "mimetype": "text/x-python",
   "name": "python",
   "nbconvert_exporter": "python",
   "pygments_lexer": "ipython3",
   "version": "3.6.7"
  }
 },
 "nbformat": 4,
 "nbformat_minor": 4
}
