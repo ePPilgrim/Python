{
 "cells": [
  {
   "cell_type": "code",
   "execution_count": null,
   "metadata": {},
   "outputs": [],
   "source": [
    "'''\n",
    "%%writefile gap.py\n",
    "start = time.time()\n",
    "end = time.time()\n",
    "print(end-start)\n",
    "'''\n",
    "import tensorflow as tf\n",
    "import tensorflow_probability as tfp\n",
    "import time\n",
    "import pandas as pd\n",
    "import numpy as np\n",
    "import matplotlib.pyplot as plt\n",
    "import seaborn as sn\n",
    "import os as os\n",
    "import sys\n",
    "from pathlib import Path\n",
    "\n",
    "mhsdir = Path(os.getcwd()).parent\n",
    "sys.path.append(os.path.join(mhsdir, 'src'))\n",
    "\n",
    "import ns\n",
    "import gap\n",
    "\n",
    "datarawdir = os.path.join(mhsdir, 'data\\\\raw\\\\YC')\n",
    "dataprepdir = os.path.join(mhsdir, 'data\\\\preprocessed')\n",
    "dataprepnsdir = os.path.join(mhsdir, 'data\\\\preprocessed\\\\ns')\n",
    "\n",
    "tempdatarawdir = os.path.join(mhsdir, 'temp\\\\data\\\\raw\\\\YC')\n",
    "tempdataprepdir = os.path.join(mhsdir, 'temp\\\\data\\\\preprocessed')\n",
    "tempdataprepnsdir = os.path.join(mhsdir, 'temp\\\\data\\\\preprocessed\\\\ns')\n",
    "\n",
    "tfd = tfp.distributions\n",
    "tfpl = tfp.layers\n",
    "tfk = tf.keras\n",
    "tfkl = tf.keras.layers\n",
    "tfb = tfp.bijectors\n",
    "\n",
    "#!pip install -q requests\n",
    "import requests\n",
    "import json\n",
    "import tempfile\n",
    "modeldir = os.path.join(mhsdir, 'models')"
   ]
  },
  {
   "cell_type": "markdown",
   "metadata": {},
   "source": [
    "# Autoregressive model"
   ]
  },
  {
   "cell_type": "code",
   "execution_count": null,
   "metadata": {},
   "outputs": [],
   "source": [
    "model = tfk.Sequential([\n",
    "    # NOTE: This model takes no input and outputs a Distribution.  (We use\n",
    "    # the batch_size and type of the input, but there are no actual input\n",
    "    # values because the last dimension of the shape is 0.)\n",
    "    #\n",
    "    # For conditional density estimation, the model would take the\n",
    "    # conditioning values as input.)\n",
    "    tfk.layers.InputLayer(input_shape=(0,), dtype=tf.float32),\n",
    "\n",
    "    # Given the empty input, return a standard normal distribution with\n",
    "    # matching batch_shape and event_shape of [2].\n",
    "    tfpl.DistributionLambda(lambda t: tfd.MultivariateNormalDiag(\n",
    "        \n",
    "        loc=tf.zeros(tf.concat([tf.shape(t)[:-1], [4]], axis=0)),\n",
    "        scale_diag=[1., 1., 1., 1.])),\n",
    "\n",
    "    # Transform the standard normal distribution with event_shape of [2] to\n",
    "    # the target distribution with event_shape of [2].\n",
    "    tfpl.AutoregressiveTransform(tfb.AutoregressiveNetwork(\n",
    "        params=2, hidden_units=[32], activation='relu')),\n",
    "])\n",
    "\n",
    "model.compile(\n",
    "    optimizer=tfk.optimizers.Adam(),\n",
    "    loss=lambda y, rv_y: -rv_y.log_prob(y))"
   ]
  },
  {
   "cell_type": "code",
   "execution_count": null,
   "metadata": {},
   "outputs": [],
   "source": [
    "y = iter(gap.make_dataset(tempdataprepnsdir, eps = 0.00001).batch(640000).take(1)).next()\n",
    "x = np.zeros((y.shape[0], 0))\n",
    "hist = model.fit(x=x,\n",
    "          y=y,\n",
    "          batch_size=32,\n",
    "          epochs=32,\n",
    "          verbose=True)"
   ]
  },
  {
   "cell_type": "code",
   "execution_count": null,
   "metadata": {},
   "outputs": [],
   "source": [
    "# Use the fitted distribution.\n",
    "distribution = model(np.zeros((0,)))\n",
    "distribution.sample(4)\n",
    "distribution.log_prob(np.zeros((5, 3, 2)))"
   ]
  },
  {
   "cell_type": "markdown",
   "metadata": {},
   "source": [
    "# Generate data from GAP and Autoregressive"
   ]
  },
  {
   "cell_type": "code",
   "execution_count": null,
   "metadata": {},
   "outputs": [],
   "source": [
    "model_gap = tf.keras.models.load_model(\"ES4_GW32_GD4_DW32_DD4_BS64/generator\")\n",
    "model_autoreg = model(np.zeros((0,)))"
   ]
  },
  {
   "cell_type": "code",
   "execution_count": null,
   "metadata": {},
   "outputs": [],
   "source": [
    "ActTerms = ['D1', 'M01', 'M03', 'M04', 'M06', 'M07', 'M09', \n",
    "            'Y01', 'Y02', 'Y03', 'Y04', 'Y05', 'Y06', 'Y07', 'Y08', 'Y09', 'Y10', 'Y12', 'Y15', 'Y20', 'Y30']\n",
    "\n",
    "@tf.function\n",
    "def transform_to_yc(x):\n",
    "    terms = tf.constant([[0.033333, 1.0, 3.0, 4.0, 6.0, 7.0, 9.0,\n",
    "                          12.0, 24.0, 36.0, 48.0, 60.0, 72.0, 84.0, 96.0, 108.0, 120.0, 144.0, 180.0, 240.0, 360.0, 600.]],dtype = tf.float32)   \n",
    "    batch = tf.shape(x)[0]\n",
    "    sz = tf.constant(terms.shape[1])\n",
    "    val1 = tf.divide(terms, tf.slice(x, [0,0], [batch,1]))\n",
    "    val2 = tf.math.exp(-val1)\n",
    "    val3 = tf.divide(1.0 - val2, val1)\n",
    "    y = tf.add(tf.concat([tf.ones([batch,sz,1]), tf.zeros([batch,sz,1]), tf.expand_dims(-val2, 2)], axis = -1),\n",
    "               tf.math.multiply(tf.expand_dims(val3, 2), [[-1.0, 1.0, 1.0]]))\n",
    "    return  tf.einsum('...ik,...k->...i',y, tf.slice(x, [0 , 1],[batch, 3]))\n",
    "\n",
    "def generate_param_gap(model, cnt, thau_min = 10.0, thau_max = 150.0, max_dev = -0.1): \n",
    "    x = tf.repeat(tf.constant([[0.0, 1.0]]), cnt, axis = 0)\n",
    "    mm = model(x, training=False).numpy()\n",
    "    lx = (mm[:,0] > thau_min) & (mm[:,0] < thau_max) \n",
    "    mm = mm[lx]\n",
    "    yy = transform_to_yc(mm).numpy()\n",
    "    max_y = np.max(yy, axis = 1) \n",
    "    deviation = (yy[:,-1] - max_y) / max_y\n",
    "    yy = yy[deviation > max_dev]\n",
    "    return yy[:, :-1]\n",
    "\n",
    "def generate_param_autoregressive(model, cnt, thau_min = 10.0, thau_max = 150.0, max_dev = -0.1): \n",
    "    mm = model.sample(cnt).numpy()\n",
    "    lx = (mm[:,0] > thau_min) & (mm[:,0] < thau_max) & (mm[:,1] > 0.0001) & (mm[:,2] > 0.0001)\n",
    "    mm = mm[lx]\n",
    "    yy = transform_to_yc(mm).numpy()\n",
    "    max_y = np.max(yy, axis = 1) \n",
    "    deviation = (yy[:,-1] - max_y) / max_y\n",
    "    yy = yy[deviation > max_dev]\n",
    "    return yy[:, :-1]\n",
    "\n",
    "def plot_net(ym):\n",
    "    x = np.array([0.033333, 1.0, 3.0, 4.0, 6.0, 7.0, 9.0,12.0, 24.0, 36.0, 48.0, 60.0, 72.0, 84.0, 96.0, 108.0,\n",
    "                  120.0, 144.0, 180.0, 240.0, 360.0])\n",
    "    num_components =64\n",
    "    fig = plt.figure(figsize = (16,16))\n",
    "    fig.subplots_adjust(hspace=0.4, wspace=0.4)\n",
    "\n",
    "    for i in range(num_components):\n",
    "        y = ym[i,:]\n",
    "        ax = fig.add_subplot(8,8,1+i)\n",
    "        ax.plot(x, y)"
   ]
  },
  {
   "cell_type": "code",
   "execution_count": null,
   "metadata": {},
   "outputs": [],
   "source": [
    "ym_gap = generate_param_gap(model = model_gap, cnt = 64000 * 4, thau_min = 10.0, thau_max = 150.0, max_dev = -0.1)\n",
    "ym_autreg = generate_param_autoregressive(model = model_autoreg, cnt = 64000 * 4, thau_min = 10.0, thau_max = 150.0, max_dev = -0.1)\n",
    "df1 = pd.DataFrame( data = ym_gap, columns = ActTerms)\n",
    "df2 = pd.DataFrame(data = ym_autreg, columns = ActTerms)\n",
    "df = df1.append(df2)\n",
    "for _ in range(100):\n",
    "    df = df.sample(frac=1).reset_index(drop=True)"
   ]
  },
  {
   "cell_type": "code",
   "execution_count": null,
   "metadata": {},
   "outputs": [],
   "source": [
    "df.to_csv(os.path.join(dataprepnsdir, 'Generated_Total_225492.csv'), index = False)"
   ]
  },
  {
   "cell_type": "code",
   "execution_count": null,
   "metadata": {},
   "outputs": [],
   "source": [
    "ym_gap = generate_param_gap(model = model_gap, cnt = 64, thau_min = 10.0, thau_max = 150.0, max_dev = -0.1)\n",
    "plot_net(ym_gap)"
   ]
  },
  {
   "cell_type": "code",
   "execution_count": null,
   "metadata": {},
   "outputs": [],
   "source": [
    "ym_autreg = generate_param_autoregressive(model = model_autoreg, cnt = 64, thau_min = 10.0, thau_max = 150.0, max_dev = -0.1)\n",
    "plot_net(ym_autreg)"
   ]
  },
  {
   "cell_type": "code",
   "execution_count": null,
   "metadata": {},
   "outputs": [],
   "source": []
  },
  {
   "cell_type": "code",
   "execution_count": null,
   "metadata": {},
   "outputs": [],
   "source": []
  },
  {
   "cell_type": "code",
   "execution_count": null,
   "metadata": {},
   "outputs": [],
   "source": []
  }
 ],
 "metadata": {
  "kernelspec": {
   "display_name": "Python 3",
   "language": "python",
   "name": "python3"
  },
  "language_info": {
   "codemirror_mode": {
    "name": "ipython",
    "version": 3
   },
   "file_extension": ".py",
   "mimetype": "text/x-python",
   "name": "python",
   "nbconvert_exporter": "python",
   "pygments_lexer": "ipython3",
   "version": "3.7.8"
  }
 },
 "nbformat": 4,
 "nbformat_minor": 4
}
