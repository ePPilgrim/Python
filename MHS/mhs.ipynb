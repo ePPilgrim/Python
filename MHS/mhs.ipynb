{
 "cells": [
  {
   "cell_type": "code",
   "execution_count": 2,
   "metadata": {},
   "outputs": [],
   "source": [
    "import tensorflow as tf\n",
    "import pandas as pd\n",
    "import numpy as np\n",
    "import matplotlib.pyplot as plt\n",
    "import seaborn as sn\n",
    "import os as os\n",
    "import fetchyc\n",
    "import collections"
   ]
  },
  {
   "cell_type": "markdown",
   "metadata": {},
   "source": [
    "# 1.Fetch and combine all available data into single data frame table"
   ]
  },
  {
   "cell_type": "code",
   "execution_count": null,
   "metadata": {},
   "outputs": [],
   "source": [
    "srcdir = r'.\\data\\raw\\YC'\n",
    "destdir = r'.\\'"
   ]
  },
  {
   "cell_type": "code",
   "execution_count": 36,
   "metadata": {},
   "outputs": [
    {
     "name": "stdout",
     "output_type": "stream",
     "text": [
      ".\\data\\raw\\YC\\EU\\France\\France 1-Month Bond Yield Historical Data (1).csv\n",
      ".\\data\\raw\\YC\\EU\\France\\France 1-Month Bond Yield Historical Data.csv\n",
      ".\\data\\raw\\YC\\EU\\France\\France 1-Year Bond Yield Historical Data (1).csv\n",
      ".\\data\\raw\\YC\\EU\\France\\France 1-Year Bond Yield Historical Data.csv\n",
      ".\\data\\raw\\YC\\EU\\France\\France 10-Year Bond Yield Historical Data (1).csv\n",
      ".\\data\\raw\\YC\\EU\\France\\France 10-Year Bond Yield Historical Data.csv\n",
      ".\\data\\raw\\YC\\EU\\France\\France 15-Year Bond Yield Historical Data (1).csv\n",
      ".\\data\\raw\\YC\\EU\\France\\France 15-Year Bond Yield Historical Data.csv\n",
      ".\\data\\raw\\YC\\EU\\France\\France 2-Year Bond Yield Historical Data (1).csv\n",
      ".\\data\\raw\\YC\\EU\\France\\France 2-Year Bond Yield Historical Data.csv\n",
      ".\\data\\raw\\YC\\EU\\France\\France 20-Year Bond Yield Historical Data (1).csv\n",
      ".\\data\\raw\\YC\\EU\\France\\France 20-Year Bond Yield Historical Data.csv\n",
      ".\\data\\raw\\YC\\EU\\France\\France 25-Year Bond Yield Historical Data.csv\n",
      ".\\data\\raw\\YC\\EU\\France\\France 3-Month Bond Yield Historical Data (1).csv\n",
      ".\\data\\raw\\YC\\EU\\France\\France 3-Month Bond Yield Historical Data.csv\n",
      ".\\data\\raw\\YC\\EU\\France\\France 3-Year Bond Yield Historical Data (1).csv\n",
      ".\\data\\raw\\YC\\EU\\France\\France 3-Year Bond Yield Historical Data.csv\n",
      ".\\data\\raw\\YC\\EU\\France\\France 30-Year Bond Yield Historical Data (1).csv\n",
      ".\\data\\raw\\YC\\EU\\France\\France 30-Year Bond Yield Historical Data.csv\n",
      ".\\data\\raw\\YC\\EU\\France\\France 4-Year Bond Yield Historical Data (1).csv\n",
      ".\\data\\raw\\YC\\EU\\France\\France 4-Year Bond Yield Historical Data.csv\n",
      ".\\data\\raw\\YC\\EU\\France\\France 5-Year Bond Yield Historical Data (1).csv\n",
      ".\\data\\raw\\YC\\EU\\France\\France 5-Year Bond Yield Historical Data.csv\n",
      ".\\data\\raw\\YC\\EU\\France\\France 50-Year Bond Yield Historical Data.csv\n",
      ".\\data\\raw\\YC\\EU\\France\\France 6-Month Bond Yield Historical Data (1).csv\n",
      ".\\data\\raw\\YC\\EU\\France\\France 6-Month Bond Yield Historical Data.csv\n",
      ".\\data\\raw\\YC\\EU\\France\\France 6-Year Bond Yield Historical Data (1).csv\n",
      ".\\data\\raw\\YC\\EU\\France\\France 6-Year Bond Yield Historical Data.csv\n",
      ".\\data\\raw\\YC\\EU\\France\\France 7-Year Bond Yield Historical Data (1).csv\n",
      ".\\data\\raw\\YC\\EU\\France\\France 7-Year Bond Yield Historical Data.csv\n",
      ".\\data\\raw\\YC\\EU\\France\\France 8-Year Bond Yield Historical Data (1).csv\n",
      ".\\data\\raw\\YC\\EU\\France\\France 8-Year Bond Yield Historical Data.csv\n",
      ".\\data\\raw\\YC\\EU\\France\\France 9-Month Bond Yield Historical Data (1).csv\n",
      ".\\data\\raw\\YC\\EU\\France\\France 9-Month Bond Yield Historical Data.csv\n",
      ".\\data\\raw\\YC\\EU\\France\\France 9-Year Bond Yield Historical Data (1).csv\n",
      ".\\data\\raw\\YC\\EU\\France\\France 9-Year Bond Yield Historical Data.csv\n",
      ".\\data\\raw\\YC\\EU\\Germany\\Germany 1-Year Bond Yield Historical Data (1).csv\n",
      ".\\data\\raw\\YC\\EU\\Germany\\Germany 1-Year Bond Yield Historical Data.csv\n",
      ".\\data\\raw\\YC\\EU\\Germany\\Germany 10-Year Bond Yield Historical Data (1).csv\n",
      ".\\data\\raw\\YC\\EU\\Germany\\Germany 10-Year Bond Yield Historical Data (2).csv\n",
      ".\\data\\raw\\YC\\EU\\Germany\\Germany 10-Year Bond Yield Historical Data.csv\n",
      ".\\data\\raw\\YC\\EU\\Germany\\Germany 15-Year Bond Yield Historical Data.csv\n",
      ".\\data\\raw\\YC\\EU\\Germany\\Germany 2-Year Bond Yield Historical Data (1).csv\n",
      ".\\data\\raw\\YC\\EU\\Germany\\Germany 2-Year Bond Yield Historical Data.csv\n",
      ".\\data\\raw\\YC\\EU\\Germany\\Germany 20-Year Bond Yield Historical Data (1).csv\n",
      ".\\data\\raw\\YC\\EU\\Germany\\Germany 20-Year Bond Yield Historical Data.csv\n",
      ".\\data\\raw\\YC\\EU\\Germany\\Germany 25-Year Bond Yield Historical Data.csv\n",
      ".\\data\\raw\\YC\\EU\\Germany\\Germany 3-Month Bond Yield Historical Data (1).csv\n",
      ".\\data\\raw\\YC\\EU\\Germany\\Germany 3-Month Bond Yield Historical Data.csv\n",
      ".\\data\\raw\\YC\\EU\\Germany\\Germany 3-Year Bond Yield Historical Data (1).csv\n",
      ".\\data\\raw\\YC\\EU\\Germany\\Germany 3-Year Bond Yield Historical Data.csv\n",
      ".\\data\\raw\\YC\\EU\\Germany\\Germany 30-Year Bond Yield Historical Data (1).csv\n",
      ".\\data\\raw\\YC\\EU\\Germany\\Germany 30-Year Bond Yield Historical Data.csv\n",
      ".\\data\\raw\\YC\\EU\\Germany\\Germany 4-Year Bond Yield Historical Data (1).csv\n",
      ".\\data\\raw\\YC\\EU\\Germany\\Germany 4-Year Bond Yield Historical Data.csv\n",
      ".\\data\\raw\\YC\\EU\\Germany\\Germany 5-Year Bond Yield Historical Data (1).csv\n",
      ".\\data\\raw\\YC\\EU\\Germany\\Germany 5-Year Bond Yield Historical Data.csv\n",
      ".\\data\\raw\\YC\\EU\\Germany\\Germany 6-Month Bond Yield Historical Data (2).csv\n",
      ".\\data\\raw\\YC\\EU\\Germany\\Germany 6-Month Bond Yield Historical Data.csv\n",
      ".\\data\\raw\\YC\\EU\\Germany\\Germany 6-Year Bond Yield Historical Data (1).csv\n",
      ".\\data\\raw\\YC\\EU\\Germany\\Germany 6-Year Bond Yield Historical Data.csv\n",
      ".\\data\\raw\\YC\\EU\\Germany\\Germany 7-Year Bond Yield Historical Data (1).csv\n",
      ".\\data\\raw\\YC\\EU\\Germany\\Germany 7-Year Bond Yield Historical Data.csv\n",
      ".\\data\\raw\\YC\\EU\\Germany\\Germany 8-Year Bond Yield Historical Data (1).csv\n",
      ".\\data\\raw\\YC\\EU\\Germany\\Germany 8-Year Bond Yield Historical Data.csv\n",
      ".\\data\\raw\\YC\\EU\\Germany\\Germany 9-Month Bond Yield Historical Data (1).csv\n",
      ".\\data\\raw\\YC\\EU\\Germany\\Germany 9-Month Bond Yield Historical Data.csv\n",
      ".\\data\\raw\\YC\\EU\\Germany\\Germany 9-Year Bond Yield Historical Data (1).csv\n",
      ".\\data\\raw\\YC\\EU\\Germany\\Germany 9-Year Bond Yield Historical Data.csv\n",
      ".\\data\\raw\\YC\\EU\\United Kingdom\\United Kingdom 1-Month Bond Yield Historical Data (1).csv\n",
      ".\\data\\raw\\YC\\EU\\United Kingdom\\United Kingdom 1-Month Bond Yield Historical Data.csv\n",
      ".\\data\\raw\\YC\\EU\\United Kingdom\\United Kingdom 1-Year Bond Yield Historical Data (1).csv\n",
      ".\\data\\raw\\YC\\EU\\United Kingdom\\United Kingdom 1-Year Bond Yield Historical Data.csv\n",
      ".\\data\\raw\\YC\\EU\\United Kingdom\\United Kingdom 10-Year Bond Yield Historical Data (1).csv\n",
      ".\\data\\raw\\YC\\EU\\United Kingdom\\United Kingdom 10-Year Bond Yield Historical Data (2).csv\n",
      ".\\data\\raw\\YC\\EU\\United Kingdom\\United Kingdom 10-Year Bond Yield Historical Data.csv\n",
      ".\\data\\raw\\YC\\EU\\United Kingdom\\United Kingdom 12-Year Bond Yield Historical Data.csv\n",
      ".\\data\\raw\\YC\\EU\\United Kingdom\\United Kingdom 15-Year Bond Yield Historical Data (1).csv\n",
      ".\\data\\raw\\YC\\EU\\United Kingdom\\United Kingdom 15-Year Bond Yield Historical Data.csv\n",
      ".\\data\\raw\\YC\\EU\\United Kingdom\\United Kingdom 2-Year Bond Yield Historical Data (1).csv\n",
      ".\\data\\raw\\YC\\EU\\United Kingdom\\United Kingdom 2-Year Bond Yield Historical Data.csv\n",
      ".\\data\\raw\\YC\\EU\\United Kingdom\\United Kingdom 20-Year Bond Yield Historical Data (1).csv\n",
      ".\\data\\raw\\YC\\EU\\United Kingdom\\United Kingdom 20-Year Bond Yield Historical Data.csv\n",
      ".\\data\\raw\\YC\\EU\\United Kingdom\\United Kingdom 25-Year Bond Yield Historical Data.csv\n",
      ".\\data\\raw\\YC\\EU\\United Kingdom\\United Kingdom 3-Month Bond Yield Historical Data (1).csv\n",
      ".\\data\\raw\\YC\\EU\\United Kingdom\\United Kingdom 3-Month Bond Yield Historical Data.csv\n",
      ".\\data\\raw\\YC\\EU\\United Kingdom\\United Kingdom 3-Year Bond Yield Historical Data (1).csv\n",
      ".\\data\\raw\\YC\\EU\\United Kingdom\\United Kingdom 3-Year Bond Yield Historical Data (2).csv\n",
      ".\\data\\raw\\YC\\EU\\United Kingdom\\United Kingdom 3-Year Bond Yield Historical Data.csv\n",
      ".\\data\\raw\\YC\\EU\\United Kingdom\\United Kingdom 30-Year Bond Yield Historical Data (1).csv\n",
      ".\\data\\raw\\YC\\EU\\United Kingdom\\United Kingdom 30-Year Bond Yield Historical Data.csv\n",
      ".\\data\\raw\\YC\\EU\\United Kingdom\\United Kingdom 4-Year Bond Yield Historical Data (1).csv\n",
      ".\\data\\raw\\YC\\EU\\United Kingdom\\United Kingdom 4-Year Bond Yield Historical Data (2).csv\n",
      ".\\data\\raw\\YC\\EU\\United Kingdom\\United Kingdom 4-Year Bond Yield Historical Data.csv\n",
      ".\\data\\raw\\YC\\EU\\United Kingdom\\United Kingdom 40-Year Bond Yield Historical Data.csv\n",
      ".\\data\\raw\\YC\\EU\\United Kingdom\\United Kingdom 5-Year Bond Yield Historical Data (1).csv\n",
      ".\\data\\raw\\YC\\EU\\United Kingdom\\United Kingdom 5-Year Bond Yield Historical Data (3).csv\n",
      ".\\data\\raw\\YC\\EU\\United Kingdom\\United Kingdom 5-Year Bond Yield Historical Data.csv\n",
      ".\\data\\raw\\YC\\EU\\United Kingdom\\United Kingdom 50-Year Bond Yield Historical Data.csv\n",
      ".\\data\\raw\\YC\\EU\\United Kingdom\\United Kingdom 6-Month Bond Yield Historical Data.csv\n",
      ".\\data\\raw\\YC\\EU\\United Kingdom\\United Kingdom 6-Year Bond Yield Historical Data (1).csv\n",
      ".\\data\\raw\\YC\\EU\\United Kingdom\\United Kingdom 6-Year Bond Yield Historical Data (2).csv\n",
      ".\\data\\raw\\YC\\EU\\United Kingdom\\United Kingdom 6-Year Bond Yield Historical Data.csv\n",
      ".\\data\\raw\\YC\\EU\\United Kingdom\\United Kingdom 7-Year Bond Yield Historical Data (1).csv\n",
      ".\\data\\raw\\YC\\EU\\United Kingdom\\United Kingdom 7-Year Bond Yield Historical Data (2).csv\n",
      ".\\data\\raw\\YC\\EU\\United Kingdom\\United Kingdom 7-Year Bond Yield Historical Data.csv\n"
     ]
    },
    {
     "name": "stdout",
     "output_type": "stream",
     "text": [
      ".\\data\\raw\\YC\\EU\\United Kingdom\\United Kingdom 8-Year Bond Yield Historical Data (1).csv\n",
      ".\\data\\raw\\YC\\EU\\United Kingdom\\United Kingdom 8-Year Bond Yield Historical Data (2).csv\n",
      ".\\data\\raw\\YC\\EU\\United Kingdom\\United Kingdom 8-Year Bond Yield Historical Data.csv\n",
      ".\\data\\raw\\YC\\EU\\United Kingdom\\United Kingdom 9-Year Bond Yield Historical Data (1).csv\n",
      ".\\data\\raw\\YC\\EU\\United Kingdom\\United Kingdom 9-Year Bond Yield Historical Data (2).csv\n",
      ".\\data\\raw\\YC\\EU\\United Kingdom\\United Kingdom 9-Year Bond Yield Historical Data.csv\n",
      ".\\data\\raw\\YC\\NA\\USA\\USA Gov_TreasureConstantMaturity_Nominal.csv\n"
     ]
    }
   ],
   "source": [
    "FirstConversion()"
   ]
  },
  {
   "cell_type": "code",
   "execution_count": 51,
   "metadata": {},
   "outputs": [],
   "source": []
  },
  {
   "cell_type": "code",
   "execution_count": 121,
   "metadata": {},
   "outputs": [
    {
     "name": "stdout",
     "output_type": "stream",
     "text": [
      "Tensor(\"concat_16:0\", shape=(2, 238001), dtype=float32)\n"
     ]
    },
    {
     "data": {
      "text/plain": [
       "{'Date': <tf.Tensor: shape=(), dtype=string, numpy=b'2012-01-05'>,\n",
       " 'XY': <tf.Tensor: shape=(2, 135456), dtype=float32, numpy=\n",
       " array([[5.650e+00, 9.000e-03, 3.540e+00, ..., 4.479e+00, 4.126e+00,\n",
       "         4.417e+00],\n",
       "        [3.000e+00, 3.000e+00, 3.000e+00, ..., 3.600e+02, 3.600e+02,\n",
       "         3.600e+02]], dtype=float32)>}"
      ]
     },
     "execution_count": 121,
     "metadata": {},
     "output_type": "execute_result"
    }
   ],
   "source": [
    "\n",
    "\n",
    "\n",
    "\n",
    "\n",
    "dataset = tf.data.experimental.make_csv_dataset('./EU_Germany_12046.csv',batch_size = 14000, shuffle = True)\n",
    "rr = iter(dataset.take(1).map(lambda x: mapelement(x))).next()\n",
    "rr\n",
    "            "
   ]
  },
  {
   "cell_type": "code",
   "execution_count": null,
   "metadata": {},
   "outputs": [],
   "source": []
  },
  {
   "cell_type": "code",
   "execution_count": null,
   "metadata": {},
   "outputs": [],
   "source": []
  },
  {
   "cell_type": "code",
   "execution_count": null,
   "metadata": {},
   "outputs": [],
   "source": [
    "def mapelement(table):\n",
    "    valpairs = None\n",
    "    for key, x in TermMapToMonth.items():\n",
    "        if key in not table:\n",
    "            continue\n",
    "        xy = table[key][table[key] > 256.0]\n",
    "        if table[key].dtype == tf.string:\n",
    "            print(table[key])\n",
    "            #xy = tf.strings.to_number(table[key][table[key] != b''], out_type=tf.dtypes.float32)\n",
    "            xy = tf.strings.to_number(table[key], out_type=tf.dtypes.float32)\n",
    "            print(xy)\n",
    "            print(table[key])\n",
    "        if xy.shape[0] is not None:\n",
    "            xy = tf.stack([xy, tf.repeat(x,xy.shape[0])])\n",
    "            if valpairs is None:\n",
    "                valpairs = xy\n",
    "            else:\n",
    "                valpairs = tf.concat([valpairs,xy], axis = 1)       \n",
    "    m = table['Date'].shape[0] // 2\n",
    "    return {'Date' : table['Date'][m], 'XY' : valpairs}\n",
    "\n",
    "@tf.function\n",
    "def mapelement1(table):\n",
    "    obss = tf.convert_to_tensor(np.array([[-256.0], [-256.0]]), dtype = tf.float32)\n",
    "    tt = 'M01'\n",
    "    x = TermMapToMonth[tt]\n",
    "    xy = tf.convert_to_tensor(table[tt])\n",
    "    print(xy)\n",
    "    lx = xy > -255.0\n",
    "    xy = tf.boolean_mask(xy, lx)\n",
    "    #print(xy)\n",
    "    #print(xy.numpy())\n",
    "    xy = tf.stack([xy, tf.repeat(x,xy.shape[0])])\n",
    "    obss = tf.concat([obss,xy], axis = 1) \n",
    "    print(obss)\n",
    "    lx = obss[0] > -255.0\n",
    "    print(lx)\n",
    "    obss = tf.boolean_mask(obss, lx, axis = 1)\n",
    "    median = table['Date'].shape[0] // 2\n",
    "    return {'Date' : table['Date'][median], 'XY' : xy}"
   ]
  },
  {
   "cell_type": "code",
   "execution_count": null,
   "metadata": {},
   "outputs": [],
   "source": []
  },
  {
   "cell_type": "code",
   "execution_count": null,
   "metadata": {},
   "outputs": [],
   "source": []
  },
  {
   "cell_type": "code",
   "execution_count": null,
   "metadata": {},
   "outputs": [],
   "source": [
    "t = np.linspace(6.5, 20.0, 5)\n",
    "#t = [6.8]\n",
    "b0 = 5\n",
    "b1 = -1\n",
    "b2 = 3\n",
    "b0, b1, b2 = (0.0466, -0.0429, 0.0712)\n",
    "for x in np.linspace(0.0, 100.0, 10):\n",
    "    b0 = np.linspace(0.0, 100.0, 1000)\n",
    "    m = 6.5\n",
    "    y = np.exp(b0) + ((b1 + b2) * (1.0 - np.exp(-x/m))/(x/m)) - b2 * np.exp(-x/m)\n",
    "    plt.plot(b0, y)\n",
    "plt.show()"
   ]
  },
  {
   "cell_type": "code",
   "execution_count": null,
   "metadata": {},
   "outputs": [],
   "source": [
    "    \n",
    "b0 = np.linspace(-100, 100.0, 100)\n",
    "b2 = 3.14\n",
    "for b1 in np.linspace(0.0, 17.5, 10):\n",
    "    y = (np.exp(b0) + np.exp(b1 - b0) - b2)**2\n",
    "    plt.plot(b0, y)\n",
    "plt.show()"
   ]
  },
  {
   "cell_type": "code",
   "execution_count": null,
   "metadata": {},
   "outputs": [],
   "source": []
  },
  {
   "cell_type": "code",
   "execution_count": null,
   "metadata": {},
   "outputs": [],
   "source": []
  },
  {
   "cell_type": "code",
   "execution_count": null,
   "metadata": {},
   "outputs": [],
   "source": []
  },
  {
   "cell_type": "code",
   "execution_count": null,
   "metadata": {},
   "outputs": [],
   "source": []
  },
  {
   "cell_type": "code",
   "execution_count": null,
   "metadata": {},
   "outputs": [],
   "source": []
  },
  {
   "cell_type": "code",
   "execution_count": null,
   "metadata": {},
   "outputs": [],
   "source": []
  }
 ],
 "metadata": {
  "kernelspec": {
   "display_name": "Python 3",
   "language": "python",
   "name": "python3"
  },
  "language_info": {
   "codemirror_mode": {
    "name": "ipython",
    "version": 3
   },
   "file_extension": ".py",
   "mimetype": "text/x-python",
   "name": "python",
   "nbconvert_exporter": "python",
   "pygments_lexer": "ipython3",
   "version": "3.7.8"
  }
 },
 "nbformat": 4,
 "nbformat_minor": 4
}
