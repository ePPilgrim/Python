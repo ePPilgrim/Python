{
 "cells": [
  {
   "cell_type": "code",
   "execution_count": 2,
   "metadata": {},
   "outputs": [],
   "source": [
    "import tensorflow as tf\n",
    "import pandas as pd\n",
    "import numpy as np\n",
    "import matplotlib.pyplot as plt\n",
    "import seaborn as sn\n",
    "import os as os\n",
    "import fetchyc\n",
    "import collections"
   ]
  },
  {
   "cell_type": "markdown",
   "metadata": {},
   "source": [
    "# 1.Fetch and combine all available data into single data frame table"
   ]
  },
  {
   "cell_type": "code",
   "execution_count": null,
   "metadata": {},
   "outputs": [],
   "source": [
    "srcdir = r'.\\data\\raw\\YC'\n",
    "destdir = r'.\\'"
   ]
  },
  {
   "cell_type": "code",
   "execution_count": 35,
   "metadata": {},
   "outputs": [],
   "source": [
    "import numpy as np\n",
    "import pandas as pd\n",
    "import os as os\n",
    "\n",
    "TermsMap = {'1-Month' : 'M01', '2-Month' : 'M02', '3-Month' : 'M03', '4-Month' : 'M04', '5-Month' : 'M05', '6-Month' : 'M06',\n",
    "        '7-Month' : 'M07', '8-Month' : 'M08', '9-Month' : 'M09', '10-Month' : 'M10', '11-Month' : 'M11',\n",
    "        '1-Year' : 'Y01', '2-Year' : 'Y02', '3-Year' : 'Y03', '4-Year' : 'Y04', '5-Year' : 'Y05', '6-Year' : 'Y06',\n",
    "        '7-Year' : 'Y07', '8-Year' : 'Y08', '9-Year' : 'Y09', '10-Year' : 'Y10', '12-Year' : 'Y12', '15-Year' : 'Y15', '20-Year' : 'Y20',\n",
    "        '25-Year' : 'Y25', '30-Year' : 'Y30', '40-Year' : 'Y40', '50-Year' : 'Y50'}\n",
    "CountriesMap = {'United Kingdom' : 'UK', 'USA' : 'US'}\n",
    "\n",
    "def create_df_usa(countrypath):\n",
    "    termsMap = {key.lower() : val for key, val in TermsMap.items()}\n",
    "    for file in os.listdir(countrypath):\n",
    "        filepath = os.path.join(countrypath,file)\n",
    "        if os.path.isfile(filepath): \n",
    "            print(filepath)\n",
    "            temp_df = pd.read_csv(filepath, converters =  {'Series Description' : lambda x: pd.to_datetime(x)})\n",
    "            termsSet = set(termsMap.keys())\n",
    "            colMap = {colName : termsSet.intersection(set(colName.split())) for colName in temp_df.columns}\n",
    "            colMap['Series Description'] = set(['Date'])\n",
    "            termsMap['Date'] = 'Date'\n",
    "            colMap = {key : termsMap[val.pop()] for key, val in colMap.items()}\n",
    "            temp_df = temp_df.replace('ND',np.nan)\n",
    "            temp_df = temp_df.rename(columns = colMap)\n",
    "            temp_df = pd.DataFrame(columns = list(TermsMap.values())).append(temp_df,sort = True, ignore_index = True)\n",
    "            lx = temp_df[TermsMap.values()].isnull().all(axis = 1)\n",
    "            return temp_df[~lx]\n",
    "\n",
    "def create_df_other(countrypath):\n",
    "    term_set = set(TermsMap.keys()) \n",
    "    df = pd.DataFrame(columns = ['Date'])\n",
    "    concatMap = dict()\n",
    "    for file in os.listdir(countrypath):\n",
    "        filepath = os.path.join(countrypath,file)\n",
    "        print(filepath)\n",
    "        if os.path.isfile(filepath):\n",
    "            fparse = file.split()\n",
    "            term = term_set.intersection(set(fparse)).pop()\n",
    "            i = fparse.index(term)\n",
    "            state = ' '.join(fparse[:i])\n",
    "            temp_df = pd.read_csv(filepath, usecols = ['Date', 'Price'], converters = {'Date' : lambda x: pd.to_datetime(x)})\n",
    "            temp_df = temp_df.rename(columns = {'Price' : term})\n",
    "            if term in concatMap:\n",
    "                concatMap[term] = concatMap[term].append(temp_df, sort = True, ignore_index = True)\n",
    "            else:\n",
    "                concatMap[term] = temp_df\n",
    "    for iterdf in concatMap.values():\n",
    "        df = df.merge(iterdf,on = 'Date', sort = True, how = 'outer')\n",
    "    return df.rename(columns = TermsMap)\n",
    "\n",
    "def save_df(df, destdir, country, continent):\n",
    "    filename = '{}_{}_{}.csv'.format(continent, country, df.shape[0])\n",
    "    filepath = os.path.join(destdir,filename)\n",
    "    return df.to_csv(filepath,index=False)\n",
    "\n",
    "def FirstConversion(srcdir = r'.\\data\\raw\\YC', destdir = r'.' , asnan = -256.0):   \n",
    "    for continent in os.listdir(srcdir):\n",
    "        continentpath = os.path.join(srcdir,continent)\n",
    "        for country in os.listdir(continentpath):\n",
    "            countrypath = os.path.join(continentpath,country)\n",
    "            if country == 'USA':\n",
    "                df = create_df_usa(countrypath)\n",
    "            else:\n",
    "                df = create_df_other(countrypath)\n",
    "            if df is not None:\n",
    "                df = df.drop_duplicates().fillna(asnan).reindex(sorted(df.columns), axis=1)\n",
    "                if country in CountriesMap:\n",
    "                    country = CountriesMap[country]\n",
    "                save_df(df, destdir, country, continent)"
   ]
  },
  {
   "cell_type": "code",
   "execution_count": 36,
   "metadata": {},
   "outputs": [
    {
     "name": "stdout",
     "output_type": "stream",
     "text": [
      ".\\data\\raw\\YC\\EU\\France\\France 1-Month Bond Yield Historical Data (1).csv\n",
      ".\\data\\raw\\YC\\EU\\France\\France 1-Month Bond Yield Historical Data.csv\n",
      ".\\data\\raw\\YC\\EU\\France\\France 1-Year Bond Yield Historical Data (1).csv\n",
      ".\\data\\raw\\YC\\EU\\France\\France 1-Year Bond Yield Historical Data.csv\n",
      ".\\data\\raw\\YC\\EU\\France\\France 10-Year Bond Yield Historical Data (1).csv\n",
      ".\\data\\raw\\YC\\EU\\France\\France 10-Year Bond Yield Historical Data.csv\n",
      ".\\data\\raw\\YC\\EU\\France\\France 15-Year Bond Yield Historical Data (1).csv\n",
      ".\\data\\raw\\YC\\EU\\France\\France 15-Year Bond Yield Historical Data.csv\n",
      ".\\data\\raw\\YC\\EU\\France\\France 2-Year Bond Yield Historical Data (1).csv\n",
      ".\\data\\raw\\YC\\EU\\France\\France 2-Year Bond Yield Historical Data.csv\n",
      ".\\data\\raw\\YC\\EU\\France\\France 20-Year Bond Yield Historical Data (1).csv\n",
      ".\\data\\raw\\YC\\EU\\France\\France 20-Year Bond Yield Historical Data.csv\n",
      ".\\data\\raw\\YC\\EU\\France\\France 25-Year Bond Yield Historical Data.csv\n",
      ".\\data\\raw\\YC\\EU\\France\\France 3-Month Bond Yield Historical Data (1).csv\n",
      ".\\data\\raw\\YC\\EU\\France\\France 3-Month Bond Yield Historical Data.csv\n",
      ".\\data\\raw\\YC\\EU\\France\\France 3-Year Bond Yield Historical Data (1).csv\n",
      ".\\data\\raw\\YC\\EU\\France\\France 3-Year Bond Yield Historical Data.csv\n",
      ".\\data\\raw\\YC\\EU\\France\\France 30-Year Bond Yield Historical Data (1).csv\n",
      ".\\data\\raw\\YC\\EU\\France\\France 30-Year Bond Yield Historical Data.csv\n",
      ".\\data\\raw\\YC\\EU\\France\\France 4-Year Bond Yield Historical Data (1).csv\n",
      ".\\data\\raw\\YC\\EU\\France\\France 4-Year Bond Yield Historical Data.csv\n",
      ".\\data\\raw\\YC\\EU\\France\\France 5-Year Bond Yield Historical Data (1).csv\n",
      ".\\data\\raw\\YC\\EU\\France\\France 5-Year Bond Yield Historical Data.csv\n",
      ".\\data\\raw\\YC\\EU\\France\\France 50-Year Bond Yield Historical Data.csv\n",
      ".\\data\\raw\\YC\\EU\\France\\France 6-Month Bond Yield Historical Data (1).csv\n",
      ".\\data\\raw\\YC\\EU\\France\\France 6-Month Bond Yield Historical Data.csv\n",
      ".\\data\\raw\\YC\\EU\\France\\France 6-Year Bond Yield Historical Data (1).csv\n",
      ".\\data\\raw\\YC\\EU\\France\\France 6-Year Bond Yield Historical Data.csv\n",
      ".\\data\\raw\\YC\\EU\\France\\France 7-Year Bond Yield Historical Data (1).csv\n",
      ".\\data\\raw\\YC\\EU\\France\\France 7-Year Bond Yield Historical Data.csv\n",
      ".\\data\\raw\\YC\\EU\\France\\France 8-Year Bond Yield Historical Data (1).csv\n",
      ".\\data\\raw\\YC\\EU\\France\\France 8-Year Bond Yield Historical Data.csv\n",
      ".\\data\\raw\\YC\\EU\\France\\France 9-Month Bond Yield Historical Data (1).csv\n",
      ".\\data\\raw\\YC\\EU\\France\\France 9-Month Bond Yield Historical Data.csv\n",
      ".\\data\\raw\\YC\\EU\\France\\France 9-Year Bond Yield Historical Data (1).csv\n",
      ".\\data\\raw\\YC\\EU\\France\\France 9-Year Bond Yield Historical Data.csv\n",
      ".\\data\\raw\\YC\\EU\\Germany\\Germany 1-Year Bond Yield Historical Data (1).csv\n",
      ".\\data\\raw\\YC\\EU\\Germany\\Germany 1-Year Bond Yield Historical Data.csv\n",
      ".\\data\\raw\\YC\\EU\\Germany\\Germany 10-Year Bond Yield Historical Data (1).csv\n",
      ".\\data\\raw\\YC\\EU\\Germany\\Germany 10-Year Bond Yield Historical Data (2).csv\n",
      ".\\data\\raw\\YC\\EU\\Germany\\Germany 10-Year Bond Yield Historical Data.csv\n",
      ".\\data\\raw\\YC\\EU\\Germany\\Germany 15-Year Bond Yield Historical Data.csv\n",
      ".\\data\\raw\\YC\\EU\\Germany\\Germany 2-Year Bond Yield Historical Data (1).csv\n",
      ".\\data\\raw\\YC\\EU\\Germany\\Germany 2-Year Bond Yield Historical Data.csv\n",
      ".\\data\\raw\\YC\\EU\\Germany\\Germany 20-Year Bond Yield Historical Data (1).csv\n",
      ".\\data\\raw\\YC\\EU\\Germany\\Germany 20-Year Bond Yield Historical Data.csv\n",
      ".\\data\\raw\\YC\\EU\\Germany\\Germany 25-Year Bond Yield Historical Data.csv\n",
      ".\\data\\raw\\YC\\EU\\Germany\\Germany 3-Month Bond Yield Historical Data (1).csv\n",
      ".\\data\\raw\\YC\\EU\\Germany\\Germany 3-Month Bond Yield Historical Data.csv\n",
      ".\\data\\raw\\YC\\EU\\Germany\\Germany 3-Year Bond Yield Historical Data (1).csv\n",
      ".\\data\\raw\\YC\\EU\\Germany\\Germany 3-Year Bond Yield Historical Data.csv\n",
      ".\\data\\raw\\YC\\EU\\Germany\\Germany 30-Year Bond Yield Historical Data (1).csv\n",
      ".\\data\\raw\\YC\\EU\\Germany\\Germany 30-Year Bond Yield Historical Data.csv\n",
      ".\\data\\raw\\YC\\EU\\Germany\\Germany 4-Year Bond Yield Historical Data (1).csv\n",
      ".\\data\\raw\\YC\\EU\\Germany\\Germany 4-Year Bond Yield Historical Data.csv\n",
      ".\\data\\raw\\YC\\EU\\Germany\\Germany 5-Year Bond Yield Historical Data (1).csv\n",
      ".\\data\\raw\\YC\\EU\\Germany\\Germany 5-Year Bond Yield Historical Data.csv\n",
      ".\\data\\raw\\YC\\EU\\Germany\\Germany 6-Month Bond Yield Historical Data (2).csv\n",
      ".\\data\\raw\\YC\\EU\\Germany\\Germany 6-Month Bond Yield Historical Data.csv\n",
      ".\\data\\raw\\YC\\EU\\Germany\\Germany 6-Year Bond Yield Historical Data (1).csv\n",
      ".\\data\\raw\\YC\\EU\\Germany\\Germany 6-Year Bond Yield Historical Data.csv\n",
      ".\\data\\raw\\YC\\EU\\Germany\\Germany 7-Year Bond Yield Historical Data (1).csv\n",
      ".\\data\\raw\\YC\\EU\\Germany\\Germany 7-Year Bond Yield Historical Data.csv\n",
      ".\\data\\raw\\YC\\EU\\Germany\\Germany 8-Year Bond Yield Historical Data (1).csv\n",
      ".\\data\\raw\\YC\\EU\\Germany\\Germany 8-Year Bond Yield Historical Data.csv\n",
      ".\\data\\raw\\YC\\EU\\Germany\\Germany 9-Month Bond Yield Historical Data (1).csv\n",
      ".\\data\\raw\\YC\\EU\\Germany\\Germany 9-Month Bond Yield Historical Data.csv\n",
      ".\\data\\raw\\YC\\EU\\Germany\\Germany 9-Year Bond Yield Historical Data (1).csv\n",
      ".\\data\\raw\\YC\\EU\\Germany\\Germany 9-Year Bond Yield Historical Data.csv\n",
      ".\\data\\raw\\YC\\EU\\United Kingdom\\United Kingdom 1-Month Bond Yield Historical Data (1).csv\n",
      ".\\data\\raw\\YC\\EU\\United Kingdom\\United Kingdom 1-Month Bond Yield Historical Data.csv\n",
      ".\\data\\raw\\YC\\EU\\United Kingdom\\United Kingdom 1-Year Bond Yield Historical Data (1).csv\n",
      ".\\data\\raw\\YC\\EU\\United Kingdom\\United Kingdom 1-Year Bond Yield Historical Data.csv\n",
      ".\\data\\raw\\YC\\EU\\United Kingdom\\United Kingdom 10-Year Bond Yield Historical Data (1).csv\n",
      ".\\data\\raw\\YC\\EU\\United Kingdom\\United Kingdom 10-Year Bond Yield Historical Data (2).csv\n",
      ".\\data\\raw\\YC\\EU\\United Kingdom\\United Kingdom 10-Year Bond Yield Historical Data.csv\n",
      ".\\data\\raw\\YC\\EU\\United Kingdom\\United Kingdom 12-Year Bond Yield Historical Data.csv\n",
      ".\\data\\raw\\YC\\EU\\United Kingdom\\United Kingdom 15-Year Bond Yield Historical Data (1).csv\n",
      ".\\data\\raw\\YC\\EU\\United Kingdom\\United Kingdom 15-Year Bond Yield Historical Data.csv\n",
      ".\\data\\raw\\YC\\EU\\United Kingdom\\United Kingdom 2-Year Bond Yield Historical Data (1).csv\n",
      ".\\data\\raw\\YC\\EU\\United Kingdom\\United Kingdom 2-Year Bond Yield Historical Data.csv\n",
      ".\\data\\raw\\YC\\EU\\United Kingdom\\United Kingdom 20-Year Bond Yield Historical Data (1).csv\n",
      ".\\data\\raw\\YC\\EU\\United Kingdom\\United Kingdom 20-Year Bond Yield Historical Data.csv\n",
      ".\\data\\raw\\YC\\EU\\United Kingdom\\United Kingdom 25-Year Bond Yield Historical Data.csv\n",
      ".\\data\\raw\\YC\\EU\\United Kingdom\\United Kingdom 3-Month Bond Yield Historical Data (1).csv\n",
      ".\\data\\raw\\YC\\EU\\United Kingdom\\United Kingdom 3-Month Bond Yield Historical Data.csv\n",
      ".\\data\\raw\\YC\\EU\\United Kingdom\\United Kingdom 3-Year Bond Yield Historical Data (1).csv\n",
      ".\\data\\raw\\YC\\EU\\United Kingdom\\United Kingdom 3-Year Bond Yield Historical Data (2).csv\n",
      ".\\data\\raw\\YC\\EU\\United Kingdom\\United Kingdom 3-Year Bond Yield Historical Data.csv\n",
      ".\\data\\raw\\YC\\EU\\United Kingdom\\United Kingdom 30-Year Bond Yield Historical Data (1).csv\n",
      ".\\data\\raw\\YC\\EU\\United Kingdom\\United Kingdom 30-Year Bond Yield Historical Data.csv\n",
      ".\\data\\raw\\YC\\EU\\United Kingdom\\United Kingdom 4-Year Bond Yield Historical Data (1).csv\n",
      ".\\data\\raw\\YC\\EU\\United Kingdom\\United Kingdom 4-Year Bond Yield Historical Data (2).csv\n",
      ".\\data\\raw\\YC\\EU\\United Kingdom\\United Kingdom 4-Year Bond Yield Historical Data.csv\n",
      ".\\data\\raw\\YC\\EU\\United Kingdom\\United Kingdom 40-Year Bond Yield Historical Data.csv\n",
      ".\\data\\raw\\YC\\EU\\United Kingdom\\United Kingdom 5-Year Bond Yield Historical Data (1).csv\n",
      ".\\data\\raw\\YC\\EU\\United Kingdom\\United Kingdom 5-Year Bond Yield Historical Data (3).csv\n",
      ".\\data\\raw\\YC\\EU\\United Kingdom\\United Kingdom 5-Year Bond Yield Historical Data.csv\n",
      ".\\data\\raw\\YC\\EU\\United Kingdom\\United Kingdom 50-Year Bond Yield Historical Data.csv\n",
      ".\\data\\raw\\YC\\EU\\United Kingdom\\United Kingdom 6-Month Bond Yield Historical Data.csv\n",
      ".\\data\\raw\\YC\\EU\\United Kingdom\\United Kingdom 6-Year Bond Yield Historical Data (1).csv\n",
      ".\\data\\raw\\YC\\EU\\United Kingdom\\United Kingdom 6-Year Bond Yield Historical Data (2).csv\n",
      ".\\data\\raw\\YC\\EU\\United Kingdom\\United Kingdom 6-Year Bond Yield Historical Data.csv\n",
      ".\\data\\raw\\YC\\EU\\United Kingdom\\United Kingdom 7-Year Bond Yield Historical Data (1).csv\n",
      ".\\data\\raw\\YC\\EU\\United Kingdom\\United Kingdom 7-Year Bond Yield Historical Data (2).csv\n",
      ".\\data\\raw\\YC\\EU\\United Kingdom\\United Kingdom 7-Year Bond Yield Historical Data.csv\n"
     ]
    },
    {
     "name": "stdout",
     "output_type": "stream",
     "text": [
      ".\\data\\raw\\YC\\EU\\United Kingdom\\United Kingdom 8-Year Bond Yield Historical Data (1).csv\n",
      ".\\data\\raw\\YC\\EU\\United Kingdom\\United Kingdom 8-Year Bond Yield Historical Data (2).csv\n",
      ".\\data\\raw\\YC\\EU\\United Kingdom\\United Kingdom 8-Year Bond Yield Historical Data.csv\n",
      ".\\data\\raw\\YC\\EU\\United Kingdom\\United Kingdom 9-Year Bond Yield Historical Data (1).csv\n",
      ".\\data\\raw\\YC\\EU\\United Kingdom\\United Kingdom 9-Year Bond Yield Historical Data (2).csv\n",
      ".\\data\\raw\\YC\\EU\\United Kingdom\\United Kingdom 9-Year Bond Yield Historical Data.csv\n",
      ".\\data\\raw\\YC\\NA\\USA\\USA Gov_TreasureConstantMaturity_Nominal.csv\n"
     ]
    }
   ],
   "source": [
    "FirstConversion()"
   ]
  },
  {
   "cell_type": "code",
   "execution_count": 51,
   "metadata": {},
   "outputs": [],
   "source": []
  },
  {
   "cell_type": "code",
   "execution_count": 96,
   "metadata": {},
   "outputs": [
    {
     "name": "stdout",
     "output_type": "stream",
     "text": [
      "(16000,)\n"
     ]
    },
    {
     "data": {
      "text/plain": [
       "{'Date': <tf.Tensor: shape=(), dtype=string, numpy=b'1994-01-27'>,\n",
       " 'XY': <tf.Tensor: shape=(2, 138896), dtype=float32, numpy=\n",
       " array([[  3.67,   3.65,   3.65, ...,   1.2 ,   1.23,   1.25],\n",
       "        [  1.  ,   1.  ,   1.  , ..., 360.  , 360.  , 360.  ]],\n",
       "       dtype=float32)>}"
      ]
     },
     "execution_count": 96,
     "metadata": {},
     "output_type": "execute_result"
    }
   ],
   "source": [
    "TermMapToMonth = { 'M01' : 1.0, 'M02' : 2.0, 'M03' : 3.0, 'M04' : 4.0, 'M05' : 5.0, 'M06' : 6.0, 'M07' : 7.0, 'M08' : 8.0,\n",
    "                    'M09' : 9.0, 'M10' : 10.0, 'M11' : 11.0, \n",
    "                    'Y01' : 12.0, 'Y02' : 24.0, 'Y03' : 36.0, 'Y04' : 48.0, 'Y05' : 60.0, 'Y06' : 72.0, 'Y07' : 84.0,\n",
    "                    'Y08' : 96.0, 'Y09' : 108.0, 'Y10' : 120.0, 'Y12' : 144.0, 'Y15' : 180.0, 'Y20' : 240.0,\n",
    "                    'Y25' : 300.0, 'Y30' : 360.0, 'Y40' : 480.0, 'Y50' : 600.0}\n",
    "\n",
    "@tf.function\n",
    "def mapelement(table):\n",
    "    obss = tf.convert_to_tensor(np.array([[-256.0], [-256.0]]), dtype = tf.float32)\n",
    "    for key, x in TermMapToMonth.items():\n",
    "        if key not in table:\n",
    "            continue\n",
    "        xy = table[key]\n",
    "        xy = tf.stack([xy, tf.repeat(x,xy.shape[0])])\n",
    "        obss = tf.concat([obss,xy], axis = 1) \n",
    "    lx = obss[0] > -255.0\n",
    "    obss = tf.boolean_mask(obss, lx, axis = 1)\n",
    "    median = table['Date'].shape[0] // 2\n",
    "    return {'Date' : table['Date'][median], 'XY' : obss}\n",
    "\n",
    "dataset = tf.data.experimental.make_csv_dataset('./NA_US_14640.csv',batch_size = 16000, shuffle = False)\n",
    "rr = iter(dataset.take(1).map(lambda x: mapelement(x))).next()\n",
    "rr\n",
    "            "
   ]
  },
  {
   "cell_type": "code",
   "execution_count": 95,
   "metadata": {},
   "outputs": [
    {
     "data": {
      "text/plain": [
       "2"
      ]
     },
     "execution_count": 95,
     "metadata": {},
     "output_type": "execute_result"
    }
   ],
   "source": [
    "5//2"
   ]
  },
  {
   "cell_type": "code",
   "execution_count": 70,
   "metadata": {},
   "outputs": [
    {
     "data": {
      "text/plain": [
       "<tf.Tensor: shape=(189,), dtype=float32, numpy=\n",
       "array([  1.96,   9.35,   5.16,   1.87,   4.55,   9.75,   5.34,   1.92,\n",
       "         4.66,   5.45,  10.11,   5.62,   2.26,   4.78,   6.09,  10.87,\n",
       "         6.06,   3.12,   5.08,   6.44,  11.1 ,   6.25,   3.6 ,   5.17,\n",
       "         6.9 ,  11.59,   6.45,   4.33,   5.24,   7.2 ,  11.79,   6.64,\n",
       "         4.76,   5.42,   7.44,  11.86,   6.72,   4.98,   5.36,   7.73,\n",
       "        12.05,   7.09,   5.63,   5.94,   7.8 ,  11.93,   6.9 ,   5.36,\n",
       "         5.68,   1.  ,   1.  ,   1.  ,   1.  ,   1.  ,   2.  ,   2.  ,\n",
       "         2.  ,   2.  ,   2.  ,   3.  ,   3.  ,   3.  ,   3.  ,   3.  ,\n",
       "         4.  ,   4.  ,   4.  ,   4.  ,   4.  ,   5.  ,   5.  ,   5.  ,\n",
       "         5.  ,   5.  ,   6.  ,   6.  ,   6.  ,   6.  ,   6.  ,   7.  ,\n",
       "         7.  ,   7.  ,   7.  ,   7.  ,   8.  ,   8.  ,   8.  ,   8.  ,\n",
       "         8.  ,   9.  ,   9.  ,   9.  ,   9.  ,   9.  ,  10.  ,  10.  ,\n",
       "        10.  ,  10.  ,  10.  ,  11.  ,  11.  ,  11.  ,  11.  ,  11.  ,\n",
       "        12.  ,  12.  ,  12.  ,  12.  ,  12.  ,  24.  ,  24.  ,  24.  ,\n",
       "        24.  ,  24.  ,  36.  ,  36.  ,  36.  ,  36.  ,  36.  ,  48.  ,\n",
       "        48.  ,  48.  ,  48.  ,  48.  ,  60.  ,  60.  ,  60.  ,  60.  ,\n",
       "        60.  ,  72.  ,  72.  ,  72.  ,  72.  ,  72.  ,  84.  ,  84.  ,\n",
       "        84.  ,  84.  ,  84.  ,  96.  ,  96.  ,  96.  ,  96.  ,  96.  ,\n",
       "       108.  , 108.  , 108.  , 108.  , 108.  , 120.  , 120.  , 120.  ,\n",
       "       120.  , 120.  , 144.  , 144.  , 144.  , 144.  , 144.  , 180.  ,\n",
       "       180.  , 180.  , 180.  , 180.  , 240.  , 240.  , 240.  , 240.  ,\n",
       "       240.  , 300.  , 300.  , 300.  , 300.  , 300.  , 360.  , 360.  ,\n",
       "       360.  , 360.  , 360.  , 480.  , 480.  , 480.  , 480.  , 480.  ,\n",
       "       600.  , 600.  , 600.  , 600.  , 600.  ], dtype=float32)>"
      ]
     },
     "execution_count": 70,
     "metadata": {},
     "output_type": "execute_result"
    }
   ],
   "source": [
    "tf.boolean_mask(rr['XY'], rr['XY'] > -256.0)"
   ]
  },
  {
   "cell_type": "code",
   "execution_count": null,
   "metadata": {},
   "outputs": [],
   "source": [
    "df.shape"
   ]
  },
  {
   "cell_type": "code",
   "execution_count": null,
   "metadata": {},
   "outputs": [],
   "source": [
    "rr['Y30'].dtype == tf.string"
   ]
  },
  {
   "cell_type": "code",
   "execution_count": 83,
   "metadata": {},
   "outputs": [
    {
     "name": "stdout",
     "output_type": "stream",
     "text": [
      "tf.Tensor([5.  2.  2.5 4.6], shape=(4,), dtype=float64)\n",
      "tf.Tensor([ True False False  True], shape=(4,), dtype=bool)\n"
     ]
    }
   ],
   "source": [
    "t1 = tf.convert_to_tensor(np.array([5.0,2.0,2.5,4.6]))\n",
    "print(t1)\n",
    "t2 = t1 > 3.0\n",
    "print(t2)"
   ]
  },
  {
   "cell_type": "code",
   "execution_count": 84,
   "metadata": {},
   "outputs": [
    {
     "data": {
      "text/plain": [
       "<tf.Tensor: shape=(2,), dtype=float64, numpy=array([5. , 4.6])>"
      ]
     },
     "execution_count": 84,
     "metadata": {},
     "output_type": "execute_result"
    }
   ],
   "source": [
    "tf.boolean_mask(t1, t2)"
   ]
  },
  {
   "cell_type": "code",
   "execution_count": 88,
   "metadata": {},
   "outputs": [
    {
     "data": {
      "text/plain": [
       "<tf.Tensor: shape=(3, 2), dtype=int32, numpy=\n",
       "array([[ 1, 22],\n",
       "       [ 3, 44],\n",
       "       [ 5, 66]])>"
      ]
     },
     "execution_count": 88,
     "metadata": {},
     "output_type": "execute_result"
    }
   ],
   "source": [
    "tensor = [[1, 2, 22], [3, 4, 44], [5, 6, 66]]\n",
    "mask = np.array([True, False, True])\n",
    "tf.boolean_mask(tensor, mask, axis = 1)  # [[1, 2], [5, 6]]"
   ]
  },
  {
   "cell_type": "code",
   "execution_count": 90,
   "metadata": {},
   "outputs": [
    {
     "data": {
      "text/plain": [
       "[1, 2, 22]"
      ]
     },
     "execution_count": 90,
     "metadata": {},
     "output_type": "execute_result"
    }
   ],
   "source": [
    "tensor[0]"
   ]
  },
  {
   "cell_type": "code",
   "execution_count": null,
   "metadata": {},
   "outputs": [],
   "source": []
  },
  {
   "cell_type": "code",
   "execution_count": null,
   "metadata": {},
   "outputs": [],
   "source": [
    "usdf = fetchyc.GetUSBonds(usycpath)\n",
    "df = fetchyc.AppendNewYCs(df = usdf, ycpath = datapath, countries = current_available_countries)"
   ]
  },
  {
   "cell_type": "code",
   "execution_count": null,
   "metadata": {},
   "outputs": [],
   "source": []
  },
  {
   "cell_type": "code",
   "execution_count": null,
   "metadata": {},
   "outputs": [],
   "source": [
    "df = pd.read_csv(newdataframe)"
   ]
  },
  {
   "cell_type": "code",
   "execution_count": null,
   "metadata": {},
   "outputs": [],
   "source": []
  },
  {
   "cell_type": "code",
   "execution_count": null,
   "metadata": {},
   "outputs": [],
   "source": []
  },
  {
   "cell_type": "code",
   "execution_count": null,
   "metadata": {},
   "outputs": [],
   "source": [
    "def mapelement(table):\n",
    "    valpairs = None\n",
    "    for key, x in TermMapToMonth.items():\n",
    "        if key in not table:\n",
    "            continue\n",
    "        xy = table[key][table[key] > 256.0]\n",
    "        if table[key].dtype == tf.string:\n",
    "            print(table[key])\n",
    "            #xy = tf.strings.to_number(table[key][table[key] != b''], out_type=tf.dtypes.float32)\n",
    "            xy = tf.strings.to_number(table[key], out_type=tf.dtypes.float32)\n",
    "            print(xy)\n",
    "            print(table[key])\n",
    "        if xy.shape[0] is not None:\n",
    "            xy = tf.stack([xy, tf.repeat(x,xy.shape[0])])\n",
    "            if valpairs is None:\n",
    "                valpairs = xy\n",
    "            else:\n",
    "                valpairs = tf.concat([valpairs,xy], axis = 1)       \n",
    "    m = table['Date'].shape[0] // 2\n",
    "    return {'Date' : table['Date'][m], 'XY' : valpairs}"
   ]
  },
  {
   "cell_type": "code",
   "execution_count": null,
   "metadata": {},
   "outputs": [],
   "source": []
  },
  {
   "cell_type": "code",
   "execution_count": null,
   "metadata": {},
   "outputs": [],
   "source": []
  },
  {
   "cell_type": "code",
   "execution_count": null,
   "metadata": {},
   "outputs": [],
   "source": [
    "t = np.linspace(6.5, 20.0, 5)\n",
    "#t = [6.8]\n",
    "b0 = 5\n",
    "b1 = -1\n",
    "b2 = 3\n",
    "b0, b1, b2 = (0.0466, -0.0429, 0.0712)\n",
    "for x in np.linspace(0.0, 100.0, 10):\n",
    "    b0 = np.linspace(0.0, 100.0, 1000)\n",
    "    m = 6.5\n",
    "    y = np.exp(b0) + ((b1 + b2) * (1.0 - np.exp(-x/m))/(x/m)) - b2 * np.exp(-x/m)\n",
    "    plt.plot(b0, y)\n",
    "plt.show()"
   ]
  },
  {
   "cell_type": "code",
   "execution_count": null,
   "metadata": {},
   "outputs": [],
   "source": [
    "    \n",
    "b0 = np.linspace(-100, 100.0, 100)\n",
    "b2 = 3.14\n",
    "for b1 in np.linspace(0.0, 17.5, 10):\n",
    "    y = (np.exp(b0) + np.exp(b1 - b0) - b2)**2\n",
    "    plt.plot(b0, y)\n",
    "plt.show()"
   ]
  },
  {
   "cell_type": "code",
   "execution_count": null,
   "metadata": {},
   "outputs": [],
   "source": []
  },
  {
   "cell_type": "code",
   "execution_count": null,
   "metadata": {},
   "outputs": [],
   "source": []
  },
  {
   "cell_type": "code",
   "execution_count": null,
   "metadata": {},
   "outputs": [],
   "source": []
  },
  {
   "cell_type": "code",
   "execution_count": null,
   "metadata": {},
   "outputs": [],
   "source": []
  },
  {
   "cell_type": "code",
   "execution_count": null,
   "metadata": {},
   "outputs": [],
   "source": []
  },
  {
   "cell_type": "code",
   "execution_count": null,
   "metadata": {},
   "outputs": [],
   "source": []
  }
 ],
 "metadata": {
  "kernelspec": {
   "display_name": "Python 3",
   "language": "python",
   "name": "python3"
  },
  "language_info": {
   "codemirror_mode": {
    "name": "ipython",
    "version": 3
   },
   "file_extension": ".py",
   "mimetype": "text/x-python",
   "name": "python",
   "nbconvert_exporter": "python",
   "pygments_lexer": "ipython3",
   "version": "3.7.8"
  }
 },
 "nbformat": 4,
 "nbformat_minor": 4
}
