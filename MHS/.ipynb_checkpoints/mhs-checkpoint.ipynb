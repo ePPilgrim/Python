{
 "cells": [
  {
   "cell_type": "code",
   "execution_count": 2,
   "metadata": {},
   "outputs": [
    {
     "name": "stderr",
     "output_type": "stream",
     "text": [
      "In C:\\Users\\PLDD\\Anaconda3\\envs\\tf\\lib\\site-packages\\matplotlib\\mpl-data\\stylelib\\_classic_test.mplstyle: \n",
      "The text.latex.preview rcparam was deprecated in Matplotlib 3.3 and will be removed two minor releases later.\n",
      "In C:\\Users\\PLDD\\Anaconda3\\envs\\tf\\lib\\site-packages\\matplotlib\\mpl-data\\stylelib\\_classic_test.mplstyle: \n",
      "The mathtext.fallback_to_cm rcparam was deprecated in Matplotlib 3.3 and will be removed two minor releases later.\n",
      "In C:\\Users\\PLDD\\Anaconda3\\envs\\tf\\lib\\site-packages\\matplotlib\\mpl-data\\stylelib\\_classic_test.mplstyle: Support for setting the 'mathtext.fallback_to_cm' rcParam is deprecated since 3.3 and will be removed two minor releases later; use 'mathtext.fallback : 'cm' instead.\n",
      "In C:\\Users\\PLDD\\Anaconda3\\envs\\tf\\lib\\site-packages\\matplotlib\\mpl-data\\stylelib\\_classic_test.mplstyle: \n",
      "The validate_bool_maybe_none function was deprecated in Matplotlib 3.3 and will be removed two minor releases later.\n",
      "In C:\\Users\\PLDD\\Anaconda3\\envs\\tf\\lib\\site-packages\\matplotlib\\mpl-data\\stylelib\\_classic_test.mplstyle: \n",
      "The savefig.jpeg_quality rcparam was deprecated in Matplotlib 3.3 and will be removed two minor releases later.\n",
      "In C:\\Users\\PLDD\\Anaconda3\\envs\\tf\\lib\\site-packages\\matplotlib\\mpl-data\\stylelib\\_classic_test.mplstyle: \n",
      "The keymap.all_axes rcparam was deprecated in Matplotlib 3.3 and will be removed two minor releases later.\n",
      "In C:\\Users\\PLDD\\Anaconda3\\envs\\tf\\lib\\site-packages\\matplotlib\\mpl-data\\stylelib\\_classic_test.mplstyle: \n",
      "The animation.avconv_path rcparam was deprecated in Matplotlib 3.3 and will be removed two minor releases later.\n",
      "In C:\\Users\\PLDD\\Anaconda3\\envs\\tf\\lib\\site-packages\\matplotlib\\mpl-data\\stylelib\\_classic_test.mplstyle: \n",
      "The animation.avconv_args rcparam was deprecated in Matplotlib 3.3 and will be removed two minor releases later.\n"
     ]
    }
   ],
   "source": [
    "import tensorflow as tf\n",
    "import pandas as pd\n",
    "import numpy as np\n",
    "import matplotlib.pyplot as plt\n",
    "import seaborn as sn\n",
    "import os as os\n",
    "import fetchyc\n",
    "import collections\n",
    "import kerastuner as kt\n",
    "from tensorflow.keras.optimizers import Adam\n",
    "\n",
    "#!pip install -q requests\n",
    "import requests\n",
    "import json"
   ]
  },
  {
   "cell_type": "code",
   "execution_count": 115,
   "metadata": {},
   "outputs": [],
   "source": [
    "#!pip install -q -U keras-tuner"
   ]
  },
  {
   "cell_type": "code",
   "execution_count": 3,
   "metadata": {},
   "outputs": [
    {
     "name": "stdout",
     "output_type": "stream",
     "text": [
      "WARNING:tensorflow:AutoGraph could not transform <function <lambda> at 0x0000012905A008B8> and will run it as-is.\n",
      "Cause: could not parse the source code:\n",
      "\n",
      "for it in dataset.map(lambda x: fetchyc.mapelement(x)):\n",
      "\n",
      "This error may be avoided by creating the lambda in a standalone statement.\n",
      "\n",
      "To silence this warning, decorate the function with @tf.autograph.experimental.do_not_convert\n",
      "WARNING: AutoGraph could not transform <function <lambda> at 0x0000012905A008B8> and will run it as-is.\n",
      "Cause: could not parse the source code:\n",
      "\n",
      "for it in dataset.map(lambda x: fetchyc.mapelement(x)):\n",
      "\n",
      "This error may be avoided by creating the lambda in a standalone statement.\n",
      "\n",
      "To silence this warning, decorate the function with @tf.autograph.experimental.do_not_convert\n",
      "Tensor(\"concat_18:0\", shape=(2, 6841), dtype=float32)\n"
     ]
    }
   ],
   "source": [
    "dataset = tf.data.experimental.make_csv_dataset('./EU_France_9480.csv',batch_size = 360, shuffle = False)\n",
    "rr = None\n",
    "for it in dataset.map(lambda x: fetchyc.mapelement(x)):\n",
    "    d = it['Date'].numpy()\n",
    "    if d > b'2010-01-01':\n",
    "        rr = it\n",
    "        break"
   ]
  },
  {
   "cell_type": "code",
   "execution_count": 4,
   "metadata": {},
   "outputs": [
    {
     "data": {
      "text/plain": [
       "{'Date': <tf.Tensor: shape=(), dtype=string, numpy=b'2010-02-24'>,\n",
       " 'XY': <tf.Tensor: shape=(2, 6457), dtype=float32, numpy=\n",
       " array([[  0.75 ,   0.75 ,   0.76 , ...,   3.314,   3.247,   3.312],\n",
       "        [  1.   ,   1.   ,   1.   , ..., 600.   , 600.   , 600.   ]],\n",
       "       dtype=float32)>}"
      ]
     },
     "execution_count": 4,
     "metadata": {},
     "output_type": "execute_result"
    }
   ],
   "source": [
    "rr"
   ]
  },
  {
   "cell_type": "markdown",
   "metadata": {},
   "source": [
    "# 1.Fetch and combine all available data into single data frame table"
   ]
  },
  {
   "cell_type": "code",
   "execution_count": 5,
   "metadata": {},
   "outputs": [],
   "source": [
    "class NelsonSiegelLayer(tf.keras.layers.Layer):\n",
    "    def __init__(self, thau0 = 64.0, eps = 0.00001):\n",
    "        super(NelsonSiegelLayer, self).__init__()\n",
    "        self.eps = eps\n",
    "        self.thau = self.add_weight(name = \"Thau\", shape = (), \n",
    "                                     initializer = tf.keras.initializers.Constant(thau0),\n",
    "                                     #constraint = tf.keras.constraints.NonNeg(),\n",
    "                                     trainable = True)\n",
    "        self.alpha0 = self.add_weight(name = \"Alpha0\", shape = (), \n",
    "                                     initializer = tf.keras.initializers.RandomUniform(0.0, 1.0),\n",
    "                                     constraint = tf.keras.constraints.NonNeg(),\n",
    "                                     trainable = True)\n",
    "        self.alpha1 = self.add_weight(name = \"Alpha1\", shape = (), \n",
    "                                     initializer = tf.keras.initializers.RandomUniform(0.0, 1.0),\n",
    "                                     constraint = tf.keras.constraints.NonNeg(),\n",
    "                                     trainable = True)\n",
    "        self.alpha2 = self.add_weight(name = \"Alpha2\", shape = (), \n",
    "                                     initializer = \"random_normal\",                           \n",
    "                                     trainable = True)\n",
    "        #self.bias = self.add_weight(name = \"Bias\", shape = (), trainable = True)\n",
    "        \n",
    "    def call(self, inputs):\n",
    "        val1 = tf.divide(inputs, self.thau)\n",
    "        val2 = tf.math.exp(-val1)\n",
    "        val3 = tf.divide(1.0 - val2, val1)\n",
    "        eps = self.eps\n",
    "        return tf.add(tf.math.multiply(self.alpha0 + eps, 1.0 - val3), \n",
    "                                       tf.add(tf.math.multiply(self.alpha1 + eps, val3),\n",
    "                                        tf.math.multiply(self.alpha2, val3 - val2)))"
   ]
  },
  {
   "cell_type": "code",
   "execution_count": 6,
   "metadata": {},
   "outputs": [
    {
     "name": "stdout",
     "output_type": "stream",
     "text": [
      "0.1102718934416771\n",
      "<tf.Variable 'Thau:0' shape=() dtype=float32, numpy=96.496765>\n"
     ]
    }
   ],
   "source": [
    "NSL = NelsonSiegelLayer(thau0 = 64)\n",
    "inputs = tf.keras.Input(shape = ())\n",
    "outputs = NSL(inputs)\n",
    "model = tf.keras.Model(inputs, outputs)\n",
    "model.compile(optimizer=Adam(lr=0.1), loss=\"mse\")\n",
    "hist = model.fit(rr['XY'][1], rr['XY'][0], epochs = 256, verbose = 0)\n",
    "print(model.evaluate(rr['XY'][1], rr['XY'][0], verbose = 0))\n",
    "print(NSL.thau)"
   ]
  },
  {
   "cell_type": "code",
   "execution_count": 10,
   "metadata": {},
   "outputs": [
    {
     "data": {
      "text/plain": [
       "array([4.0608387], dtype=float32)"
      ]
     },
     "execution_count": 10,
     "metadata": {},
     "output_type": "execute_result"
    }
   ],
   "source": [
    "model.predict(np.array([360.0]))"
   ]
  },
  {
   "cell_type": "code",
   "execution_count": 13,
   "metadata": {},
   "outputs": [
    {
     "name": "stdout",
     "output_type": "stream",
     "text": [
      "export_path = ./models\\1\n",
      "\n",
      "INFO:tensorflow:Assets written to: ./models\\1\\assets\n",
      "\n",
      "Saved model:\n"
     ]
    }
   ],
   "source": [
    "# Fetch the Keras session and save the model\n",
    "# The signature definition is defined by the input and output tensors,\n",
    "# and stored with the default serving key\n",
    "import tempfile\n",
    "\n",
    "MODEL_DIR = \"./models\"\n",
    "version = 1\n",
    "export_path = os.path.join(MODEL_DIR, str(version))\n",
    "print('export_path = {}\\n'.format(export_path))\n",
    "\n",
    "tf.keras.models.save_model(\n",
    "    model,\n",
    "    export_path,\n",
    "    overwrite=True,\n",
    "    include_optimizer=True,\n",
    "    save_format=None,\n",
    "    signatures=None,\n",
    "    options=None\n",
    ")\n",
    "\n",
    "print('\\nSaved model:')"
   ]
  },
  {
   "cell_type": "code",
   "execution_count": 16,
   "metadata": {},
   "outputs": [],
   "source": [
    "mm = tf.keras.models.load_model(export_path)"
   ]
  },
  {
   "cell_type": "code",
   "execution_count": 17,
   "metadata": {},
   "outputs": [
    {
     "data": {
      "text/plain": [
       "array([4.0608387], dtype=float32)"
      ]
     },
     "execution_count": 17,
     "metadata": {},
     "output_type": "execute_result"
    }
   ],
   "source": [
    "mm.predict(np.array([360.0]))"
   ]
  },
  {
   "cell_type": "code",
   "execution_count": null,
   "metadata": {},
   "outputs": [],
   "source": [
    "!saved_model_cli show --dir {export_path} --all"
   ]
  },
  {
   "cell_type": "code",
   "execution_count": 42,
   "metadata": {},
   "outputs": [
    {
     "name": "stdout",
     "output_type": "stream",
     "text": [
      "^C\n"
     ]
    }
   ],
   "source": [
    "!docker run -p 8511:8511 \\\n",
    "  --mount type=bind,source=\"C:\\\\Users\\\\PLDD\\\\Practice\\\\GitHub\\\\Python\\\\MHS\\\\models\",target=\"\\\\models\\\\my_model\" \\\n",
    "  -e MODEL_NAME=my_model -t tensorflow/serving"
   ]
  },
  {
   "cell_type": "code",
   "execution_count": 22,
   "metadata": {},
   "outputs": [
    {
     "data": {
      "text/plain": [
       "'./models'"
      ]
     },
     "execution_count": 22,
     "metadata": {},
     "output_type": "execute_result"
    }
   ],
   "source": [
    "\"C:\\\\Users\\\\PLDD\\\\Practice\\\\GitHub\\\\Python\\\\MHS\\\\models\""
   ]
  },
  {
   "cell_type": "code",
   "execution_count": 31,
   "metadata": {},
   "outputs": [
    {
     "name": "stdout",
     "output_type": "stream",
     "text": [
      "\n",
      "Usage:\tdocker run [OPTIONS] IMAGE [COMMAND] [ARG...]\n",
      "\n",
      "Run a command in a new container\n",
      "\n",
      "Options:\n",
      "      --add-host list                  Add a custom host-to-IP mapping\n",
      "                                       (host:ip)\n",
      "  -a, --attach list                    Attach to STDIN, STDOUT or STDERR\n",
      "      --blkio-weight uint16            Block IO (relative weight),\n",
      "                                       between 10 and 1000, or 0 to\n",
      "                                       disable (default 0)\n",
      "      --blkio-weight-device list       Block IO weight (relative device\n",
      "                                       weight) (default [])\n",
      "      --cap-add list                   Add Linux capabilities\n",
      "      --cap-drop list                  Drop Linux capabilities\n",
      "      --cgroup-parent string           Optional parent cgroup for the\n",
      "                                       container\n",
      "      --cidfile string                 Write the container ID to the file\n",
      "      --cpu-period int                 Limit CPU CFS (Completely Fair\n",
      "                                       Scheduler) period\n",
      "      --cpu-quota int                  Limit CPU CFS (Completely Fair\n",
      "                                       Scheduler) quota\n",
      "      --cpu-rt-period int              Limit CPU real-time period in\n",
      "                                       microseconds\n",
      "      --cpu-rt-runtime int             Limit CPU real-time runtime in\n",
      "                                       microseconds\n",
      "  -c, --cpu-shares int                 CPU shares (relative weight)\n",
      "      --cpus decimal                   Number of CPUs\n",
      "      --cpuset-cpus string             CPUs in which to allow execution\n",
      "                                       (0-3, 0,1)\n",
      "      --cpuset-mems string             MEMs in which to allow execution\n",
      "                                       (0-3, 0,1)\n",
      "  -d, --detach                         Run container in background and\n",
      "                                       print container ID\n",
      "      --detach-keys string             Override the key sequence for\n",
      "                                       detaching a container\n",
      "      --device list                    Add a host device to the container\n",
      "      --device-cgroup-rule list        Add a rule to the cgroup allowed\n",
      "                                       devices list\n",
      "      --device-read-bps list           Limit read rate (bytes per second)\n",
      "                                       from a device (default [])\n",
      "      --device-read-iops list          Limit read rate (IO per second)\n",
      "                                       from a device (default [])\n",
      "      --device-write-bps list          Limit write rate (bytes per\n",
      "                                       second) to a device (default [])\n",
      "      --device-write-iops list         Limit write rate (IO per second)\n",
      "                                       to a device (default [])\n",
      "      --disable-content-trust          Skip image verification (default true)\n",
      "      --dns list                       Set custom DNS servers\n",
      "      --dns-option list                Set DNS options\n",
      "      --dns-search list                Set custom DNS search domains\n",
      "      --domainname string              Container NIS domain name\n",
      "      --entrypoint string              Overwrite the default ENTRYPOINT\n",
      "                                       of the image\n",
      "  -e, --env list                       Set environment variables\n",
      "      --env-file list                  Read in a file of environment variables\n",
      "      --expose list                    Expose a port or a range of ports\n",
      "      --gpus gpu-request               GPU devices to add to the\n",
      "                                       container ('all' to pass all GPUs)\n",
      "      --group-add list                 Add additional groups to join\n",
      "      --health-cmd string              Command to run to check health\n",
      "      --health-interval duration       Time between running the check\n",
      "                                       (ms|s|m|h) (default 0s)\n",
      "      --health-retries int             Consecutive failures needed to\n",
      "                                       report unhealthy\n",
      "      --health-start-period duration   Start period for the container to\n",
      "                                       initialize before starting\n",
      "                                       health-retries countdown\n",
      "                                       (ms|s|m|h) (default 0s)\n",
      "      --health-timeout duration        Maximum time to allow one check to\n",
      "                                       run (ms|s|m|h) (default 0s)\n",
      "      --help                           Print usage\n",
      "  -h, --hostname string                Container host name\n",
      "      --init                           Run an init inside the container\n",
      "                                       that forwards signals and reaps\n",
      "                                       processes\n",
      "  -i, --interactive                    Keep STDIN open even if not attached\n",
      "      --ip string                      IPv4 address (e.g., 172.30.100.104)\n",
      "      --ip6 string                     IPv6 address (e.g., 2001:db8::33)\n",
      "      --ipc string                     IPC mode to use\n",
      "      --isolation string               Container isolation technology\n",
      "      --kernel-memory bytes            Kernel memory limit\n",
      "  -l, --label list                     Set meta data on a container\n",
      "      --label-file list                Read in a line delimited file of labels\n",
      "      --link list                      Add link to another container\n",
      "      --link-local-ip list             Container IPv4/IPv6 link-local\n",
      "                                       addresses\n",
      "      --log-driver string              Logging driver for the container\n",
      "      --log-opt list                   Log driver options\n",
      "      --mac-address string             Container MAC address (e.g.,\n",
      "                                       92:d0:c6:0a:29:33)\n",
      "  -m, --memory bytes                   Memory limit\n",
      "      --memory-reservation bytes       Memory soft limit\n",
      "      --memory-swap bytes              Swap limit equal to memory plus\n",
      "                                       swap: '-1' to enable unlimited swap\n",
      "      --memory-swappiness int          Tune container memory swappiness\n",
      "                                       (0 to 100) (default -1)\n",
      "      --mount mount                    Attach a filesystem mount to the\n",
      "                                       container\n",
      "      --name string                    Assign a name to the container\n",
      "      --network network                Connect a container to a network\n",
      "      --network-alias list             Add network-scoped alias for the\n",
      "                                       container\n",
      "      --no-healthcheck                 Disable any container-specified\n",
      "                                       HEALTHCHECK\n",
      "      --oom-kill-disable               Disable OOM Killer\n",
      "      --oom-score-adj int              Tune host's OOM preferences (-1000\n",
      "                                       to 1000)\n",
      "      --pid string                     PID namespace to use\n",
      "      --pids-limit int                 Tune container pids limit (set -1\n",
      "                                       for unlimited)\n",
      "      --platform string                Set platform if server is\n",
      "                                       multi-platform capable\n",
      "      --privileged                     Give extended privileges to this\n",
      "                                       container\n",
      "  -p, --publish list                   Publish a container's port(s) to\n",
      "                                       the host\n",
      "  -P, --publish-all                    Publish all exposed ports to\n",
      "                                       random ports\n",
      "      --read-only                      Mount the container's root\n",
      "                                       filesystem as read only\n",
      "      --restart string                 Restart policy to apply when a\n",
      "                                       container exits (default \"no\")\n",
      "      --rm                             Automatically remove the container\n",
      "                                       when it exits\n",
      "      --runtime string                 Runtime to use for this container\n",
      "      --security-opt list              Security Options\n",
      "      --shm-size bytes                 Size of /dev/shm\n",
      "      --sig-proxy                      Proxy received signals to the\n",
      "                                       process (default true)\n"
     ]
    },
    {
     "name": "stdout",
     "output_type": "stream",
     "text": [
      "      --stop-signal string             Signal to stop a container\n",
      "                                       (default \"15\")\n",
      "      --stop-timeout int               Timeout (in seconds) to stop a\n",
      "                                       container\n",
      "      --storage-opt list               Storage driver options for the\n",
      "                                       container\n",
      "      --sysctl map                     Sysctl options (default map[])\n",
      "      --tmpfs list                     Mount a tmpfs directory\n",
      "  -t, --tty                            Allocate a pseudo-TTY\n",
      "      --ulimit ulimit                  Ulimit options (default [])\n",
      "  -u, --user string                    Username or UID (format:\n",
      "                                       <name|uid>[:<group|gid>])\n",
      "      --userns string                  User namespace to use\n",
      "      --uts string                     UTS namespace to use\n",
      "  -v, --volume list                    Bind mount a volume\n",
      "      --volume-driver string           Optional volume driver for the\n",
      "                                       container\n",
      "      --volumes-from list              Mount volumes from the specified\n",
      "                                       container(s)\n",
      "  -w, --workdir string                 Working directory inside the container\n"
     ]
    }
   ],
   "source": [
    "!docker run --help"
   ]
  },
  {
   "cell_type": "code",
   "execution_count": 49,
   "metadata": {},
   "outputs": [
    {
     "data": {
      "text/plain": [
       "[<matplotlib.lines.Line2D at 0x12908d73cc8>]"
      ]
     },
     "execution_count": 49,
     "metadata": {},
     "output_type": "execute_result"
    },
    {
     "data": {
      "image/png": "[encoded data removed]",
      "text/plain": [
       "<Figure size 432x288 with 1 Axes>"
      ]
     },
     "metadata": {
      "needs_background": "light"
     },
     "output_type": "display_data"
    }
   ],
   "source": [
    "time_seq = np.arange(600)\n",
    "data = json.dumps({\"signature_name\": \"serving_default\", \"instances\": time_seq.tolist()})\n",
    "headers = {\"content-type\": \"application/json\"}\n",
    "json_response = requests.post('http://localhost:8501/v1/models/my_model:predict', data=data, headers=headers)\n",
    "y = json.loads(json_response.text)['predictions']\n",
    "plt.plot(x,y)"
   ]
  },
  {
   "cell_type": "code",
   "execution_count": null,
   "metadata": {},
   "outputs": [],
   "source": []
  },
  {
   "cell_type": "code",
   "execution_count": null,
   "metadata": {},
   "outputs": [],
   "source": []
  },
  {
   "cell_type": "code",
   "execution_count": null,
   "metadata": {},
   "outputs": [],
   "source": []
  },
  {
   "cell_type": "code",
   "execution_count": null,
   "metadata": {},
   "outputs": [],
   "source": []
  },
  {
   "cell_type": "code",
   "execution_count": null,
   "metadata": {},
   "outputs": [],
   "source": []
  },
  {
   "cell_type": "code",
   "execution_count": null,
   "metadata": {},
   "outputs": [],
   "source": []
  },
  {
   "cell_type": "code",
   "execution_count": null,
   "metadata": {},
   "outputs": [],
   "source": []
  },
  {
   "cell_type": "code",
   "execution_count": null,
   "metadata": {},
   "outputs": [],
   "source": []
  },
  {
   "cell_type": "code",
   "execution_count": 7,
   "metadata": {},
   "outputs": [
    {
     "data": {
      "text/plain": [
       "[<matplotlib.lines.Line2D at 0x1290838ea48>]"
      ]
     },
     "execution_count": 7,
     "metadata": {},
     "output_type": "execute_result"
    },
    {
     "data": {
      "image/png": "[encoded data removed]",
      "text/plain": [
       "<Figure size 432x288 with 1 Axes>"
      ]
     },
     "metadata": {
      "needs_background": "light"
     },
     "output_type": "display_data"
    }
   ],
   "source": [
    "plt.plot(hist.epoch, np.log(hist.history['loss']))"
   ]
  },
  {
   "cell_type": "code",
   "execution_count": 8,
   "metadata": {},
   "outputs": [
    {
     "data": {
      "text/plain": [
       "[<matplotlib.lines.Line2D at 0x12908796f88>]"
      ]
     },
     "execution_count": 8,
     "metadata": {},
     "output_type": "execute_result"
    },
    {
     "data": {
      "image/png": "[encoded data removed]",
      "text/plain": [
       "<Figure size 432x288 with 1 Axes>"
      ]
     },
     "metadata": {
      "needs_background": "light"
     },
     "output_type": "display_data"
    }
   ],
   "source": [
    "time_seq = np.arange(600)\n",
    "x = time_seq[:600]\n",
    "y = model.predict(x)\n",
    "plt.plot(x,y)"
   ]
  },
  {
   "cell_type": "code",
   "execution_count": 63,
   "metadata": {},
   "outputs": [
    {
     "data": {
      "text/plain": [
       "<tf.Tensor: shape=(2, 70), dtype=float32, numpy=\n",
       "array([[ 10.62 ,  10.82 ,  10.77 ,  10.9  ,  10.92 ,  10.92 ,  11.5  ,\n",
       "         11.24 ,  11.25 ,  11.19 ,  11.2  ,  11.14 ,  11.12 ,  11.08 ,\n",
       "         10.15 ,  10.27 ,  10.45 ,  10.34 ,  10.34 ,  10.34 ,  10.67 ,\n",
       "         10.67 ,  10.58 ,  10.6  ,  10.63 ,  10.56 ,  10.45 ,  10.36 ,\n",
       "         10.057,  10.128,  10.238,  10.371,  10.288,  10.288,  10.489,\n",
       "         10.66 ,  10.553,  10.559,  10.549,  10.483,  10.483,  10.306,\n",
       "          9.77 ,   9.89 ,  10.03 ,   9.98 ,  10.   ,  10.   ,  10.21 ,\n",
       "         10.25 ,  10.22 ,  10.25 ,  10.29 ,  10.24 ,  10.23 ,  10.14 ,\n",
       "          9.118,   9.215,   9.289,   9.38 ,   9.348,   9.348,   9.486,\n",
       "          9.539,   9.524,   9.568,   9.609,   9.555,   9.491,   9.441],\n",
       "       [  3.   ,   3.   ,   3.   ,   3.   ,   3.   ,   3.   ,   3.   ,\n",
       "          3.   ,   3.   ,   3.   ,   3.   ,   3.   ,   3.   ,   3.   ,\n",
       "         24.   ,  24.   ,  24.   ,  24.   ,  24.   ,  24.   ,  24.   ,\n",
       "         24.   ,  24.   ,  24.   ,  24.   ,  24.   ,  24.   ,  24.   ,\n",
       "         36.   ,  36.   ,  36.   ,  36.   ,  36.   ,  36.   ,  36.   ,\n",
       "         36.   ,  36.   ,  36.   ,  36.   ,  36.   ,  36.   ,  36.   ,\n",
       "         60.   ,  60.   ,  60.   ,  60.   ,  60.   ,  60.   ,  60.   ,\n",
       "         60.   ,  60.   ,  60.   ,  60.   ,  60.   ,  60.   ,  60.   ,\n",
       "        120.   , 120.   , 120.   , 120.   , 120.   , 120.   , 120.   ,\n",
       "        120.   , 120.   , 120.   , 120.   , 120.   , 120.   , 120.   ]],\n",
       "      dtype=float32)>"
      ]
     },
     "execution_count": 63,
     "metadata": {},
     "output_type": "execute_result"
    }
   ],
   "source": [
    "rr['XY']"
   ]
  },
  {
   "cell_type": "code",
   "execution_count": null,
   "metadata": {},
   "outputs": [],
   "source": []
  },
  {
   "cell_type": "code",
   "execution_count": null,
   "metadata": {},
   "outputs": [],
   "source": []
  },
  {
   "cell_type": "code",
   "execution_count": null,
   "metadata": {},
   "outputs": [],
   "source": []
  },
  {
   "cell_type": "code",
   "execution_count": null,
   "metadata": {},
   "outputs": [],
   "source": []
  },
  {
   "cell_type": "code",
   "execution_count": null,
   "metadata": {},
   "outputs": [],
   "source": []
  },
  {
   "cell_type": "code",
   "execution_count": null,
   "metadata": {},
   "outputs": [],
   "source": []
  },
  {
   "cell_type": "code",
   "execution_count": null,
   "metadata": {},
   "outputs": [],
   "source": []
  },
  {
   "cell_type": "code",
   "execution_count": null,
   "metadata": {},
   "outputs": [],
   "source": []
  },
  {
   "cell_type": "code",
   "execution_count": 189,
   "metadata": {},
   "outputs": [],
   "source": [
    "tunning_epoch_cnt = 256\n",
    "def model_builder(hp): \n",
    "    \n",
    "    inputs = tf.keras.Input(shape = ())\n",
    "    hp_thau = hp.Float('thau0',min_value = 1.0, max_value = 120.0, default=64.0,\n",
    "                    step=10.0)\n",
    "    outputs = NelsonSiegelLayer(thau0 = hp_thau)(inputs)\n",
    "    model = tf.keras.Model(inputs, outputs)\n",
    "    model.compile(optimizer=\"adam\", loss=\"mse\")\n",
    "    return model\n",
    "\n",
    "tuner = kt.Hyperband(model_builder,\n",
    "                     objective = 'loss', \n",
    "                     max_epochs = tunning_epoch_cnt,\n",
    "                     factor = 2,\n",
    "                     directory = 'keras_tuning', # throw exception when either capital letters or numbers are in name of directory\n",
    "                     project_name = 'some') # throw exception when either capital letters or numbers are in name of directory\n",
    "\n",
    "tuner.search(rr['XY'][1], rr['XY'][0], epochs = tunning_epoch_cnt, verbose = 0)\n",
    "tuner.results_summary()"
   ]
  },
  {
   "cell_type": "code",
   "execution_count": 234,
   "metadata": {},
   "outputs": [],
   "source": [
    "thauV = np.arange(1.0, 120.0, 10.)\n",
    "realV = []\n",
    "lossV = []"
   ]
  },
  {
   "cell_type": "code",
   "execution_count": null,
   "metadata": {},
   "outputs": [],
   "source": [
    "for thau in thauV:\n",
    "    NSL = NelsonSiegelLayer(thau0 = thau)\n",
    "    inputs = tf.keras.Input(shape = ())\n",
    "    outputs = NSL(inputs)\n",
    "    model = tf.keras.Model(inputs, outputs)\n",
    "    model.compile(optimizer=\"adam\", loss=\"mse\")\n",
    "    model.fit(rr['XY'][1], rr['XY'][0], epochs = 1024, verbose = 0)\n",
    "    lossV.append(model.evaluate(rr['XY'][1], rr['XY'][0], verbose = 0))\n",
    "    realV.append(NSL.thau)"
   ]
  },
  {
   "cell_type": "code",
   "execution_count": null,
   "metadata": {},
   "outputs": [],
   "source": []
  },
  {
   "cell_type": "code",
   "execution_count": null,
   "metadata": {},
   "outputs": [],
   "source": []
  },
  {
   "cell_type": "code",
   "execution_count": null,
   "metadata": {},
   "outputs": [],
   "source": []
  },
  {
   "cell_type": "code",
   "execution_count": null,
   "metadata": {},
   "outputs": [],
   "source": []
  },
  {
   "cell_type": "code",
   "execution_count": null,
   "metadata": {},
   "outputs": [],
   "source": []
  },
  {
   "cell_type": "code",
   "execution_count": null,
   "metadata": {},
   "outputs": [],
   "source": []
  },
  {
   "cell_type": "code",
   "execution_count": null,
   "metadata": {},
   "outputs": [],
   "source": []
  },
  {
   "cell_type": "code",
   "execution_count": null,
   "metadata": {},
   "outputs": [],
   "source": []
  },
  {
   "cell_type": "code",
   "execution_count": null,
   "metadata": {},
   "outputs": [],
   "source": []
  },
  {
   "cell_type": "code",
   "execution_count": null,
   "metadata": {},
   "outputs": [],
   "source": [
    "srcdir = r'.\\data\\raw\\YC'\n",
    "destdir = './'\n",
    "fetchyc.FirstConversion()"
   ]
  },
  {
   "cell_type": "code",
   "execution_count": null,
   "metadata": {},
   "outputs": [],
   "source": []
  },
  {
   "cell_type": "code",
   "execution_count": null,
   "metadata": {},
   "outputs": [],
   "source": [
    "def mapelement(table):\n",
    "    valpairs = None\n",
    "    for key, x in TermMapToMonth.items():\n",
    "        if key in not table:\n",
    "            continue\n",
    "        xy = table[key][table[key] > 256.0]\n",
    "        if table[key].dtype == tf.string:\n",
    "            print(table[key])\n",
    "            #xy = tf.strings.to_number(table[key][table[key] != b''], out_type=tf.dtypes.float32)\n",
    "            xy = tf.strings.to_number(table[key], out_type=tf.dtypes.float32)\n",
    "            print(xy)\n",
    "            print(table[key])\n",
    "        if xy.shape[0] is not None:\n",
    "            xy = tf.stack([xy, tf.repeat(x,xy.shape[0])])\n",
    "            if valpairs is None:\n",
    "                valpairs = xy\n",
    "            else:\n",
    "                valpairs = tf.concat([valpairs,xy], axis = 1)       \n",
    "    m = table['Date'].shape[0] // 2\n",
    "    return {'Date' : table['Date'][m], 'XY' : valpairs}\n",
    "\n",
    "@tf.function\n",
    "def mapelement1(table):\n",
    "    obss = tf.convert_to_tensor(np.array([[-256.0], [-256.0]]), dtype = tf.float32)\n",
    "    tt = 'M01'\n",
    "    x = TermMapToMonth[tt]\n",
    "    xy = tf.convert_to_tensor(table[tt])\n",
    "    print(xy)\n",
    "    lx = xy > -255.0\n",
    "    xy = tf.boolean_mask(xy, lx)\n",
    "    #print(xy)\n",
    "    #print(xy.numpy())\n",
    "    xy = tf.stack([xy, tf.repeat(x,xy.shape[0])])\n",
    "    obss = tf.concat([obss,xy], axis = 1) \n",
    "    print(obss)\n",
    "    lx = obss[0] > -255.0\n",
    "    print(lx)\n",
    "    obss = tf.boolean_mask(obss, lx, axis = 1)\n",
    "    median = table['Date'].shape[0] // 2\n",
    "    return {'Date' : table['Date'][median], 'XY' : xy}"
   ]
  },
  {
   "cell_type": "code",
   "execution_count": null,
   "metadata": {},
   "outputs": [],
   "source": []
  },
  {
   "cell_type": "code",
   "execution_count": null,
   "metadata": {},
   "outputs": [],
   "source": []
  },
  {
   "cell_type": "code",
   "execution_count": null,
   "metadata": {},
   "outputs": [],
   "source": [
    "t = np.linspace(6.5, 20.0, 5)\n",
    "#t = [6.8]\n",
    "b0 = 5\n",
    "b1 = -1\n",
    "b2 = 3\n",
    "b0, b1, b2 = (0.0466, -0.0429, 0.0712)\n",
    "for x in np.linspace(0.0, 100.0, 10):\n",
    "    b0 = np.linspace(0.0, 100.0, 1000)\n",
    "    m = 6.5\n",
    "    y = np.exp(b0) + ((b1 + b2) * (1.0 - np.exp(-x/m))/(x/m)) - b2 * np.exp(-x/m)\n",
    "    plt.plot(b0, y)\n",
    "plt.show()"
   ]
  },
  {
   "cell_type": "code",
   "execution_count": null,
   "metadata": {},
   "outputs": [],
   "source": [
    "    \n",
    "b0 = np.linspace(-100, 100.0, 100)\n",
    "b2 = 3.14\n",
    "for b1 in np.linspace(0.0, 17.5, 10):\n",
    "    y = (np.exp(b0) + np.exp(b1 - b0) - b2)**2\n",
    "    plt.plot(b0, y)\n",
    "plt.show()"
   ]
  },
  {
   "cell_type": "code",
   "execution_count": null,
   "metadata": {},
   "outputs": [],
   "source": []
  },
  {
   "cell_type": "code",
   "execution_count": null,
   "metadata": {},
   "outputs": [],
   "source": []
  },
  {
   "cell_type": "code",
   "execution_count": null,
   "metadata": {},
   "outputs": [],
   "source": []
  },
  {
   "cell_type": "code",
   "execution_count": null,
   "metadata": {},
   "outputs": [],
   "source": []
  },
  {
   "cell_type": "code",
   "execution_count": null,
   "metadata": {},
   "outputs": [],
   "source": []
  },
  {
   "cell_type": "code",
   "execution_count": null,
   "metadata": {},
   "outputs": [],
   "source": []
  }
 ],
 "metadata": {
  "kernelspec": {
   "display_name": "Python 3",
   "language": "python",
   "name": "python3"
  },
  "language_info": {
   "codemirror_mode": {
    "name": "ipython",
    "version": 3
   },
   "file_extension": ".py",
   "mimetype": "text/x-python",
   "name": "python",
   "nbconvert_exporter": "python",
   "pygments_lexer": "ipython3",
   "version": "3.7.8"
  }
 },
 "nbformat": 4,
 "nbformat_minor": 4
}
