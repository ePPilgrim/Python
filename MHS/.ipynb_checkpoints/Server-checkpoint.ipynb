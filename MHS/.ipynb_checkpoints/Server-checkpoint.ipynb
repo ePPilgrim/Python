{
 "cells": [
  {
   "cell_type": "code",
   "execution_count": null,
   "metadata": {},
   "outputs": [],
   "source": [
    "import tensorflow as tf\n",
    "import pandas as pd\n",
    "import numpy as np\n",
    "import os as os\n",
    "datapath = r'.\\data\\raw\\YC1'"
   ]
  },
  {
   "cell_type": "code",
   "execution_count": null,
   "metadata": {},
   "outputs": [],
   "source": [
    "Terms = {'1-Month' : '01', '2-Month' : '02', '3-Month' : '03', '4-Month' : '04', '5-Month' : '05', '6-Month' : '06',\n",
    "        '7-Month' : '07', '8-Month' : '08', '9-Month' : '09', '10-Month' : '010', '11-Month' : '011', '12-Month' : '012',\n",
    "        '1-Year' : '1', '2-Year' : '2', '3-Year' : '3', '4-Year' : '4', '5-Year' : '5', '6-Year' : '6',\n",
    "        '7-Year' : '7', '8-Year' : '8', '9-Year' : '9', '10-Year' : '10', '12-Year' : '12', '15-Year' : '15', '20-Year' : '20',\n",
    "        '25-Year' : '25', '30-Year' : '30', '40-Year' : '40', '50-Year' : '50'}\n",
    "Countries = {'United Kingdom' : 'UK', 'Germany' : 'Germany'}\n",
    "DataTimeConvertor = {'Date' : pd.to_datetime}\n",
    "RawCol = ['Date', 'Price']"
   ]
  },
  {
   "cell_type": "code",
   "execution_count": null,
   "metadata": {},
   "outputs": [],
   "source": [
    "term_set = set(Terms.keys())\n",
    "df = pd.DataFrame(columns = list(Terms.keys()))\n",
    "for country in os.listdir(datapath):\n",
    "    if country in Countries:\n",
    "        dirpath = os.path.join(datapath,country)\n",
    "        subdf = pd.DataFrame(columns = ['Date'])\n",
    "        if os.path.isdir(dirpath):\n",
    "            for file in os.listdir(dirpath):\n",
    "                filepath = os.path.join(dirpath,file)\n",
    "                if os.path.isfile(filepath):\n",
    "                    fparse = file.split()\n",
    "                    term = term_set.intersection(set(fparse))\n",
    "                    i = fparse.index(term.pop())\n",
    "                    state = ' '.join(fparse[:i])\n",
    "                    temp_df = pd.read_csv(filepath, usecols = RawCol, converters = DataTimeConvertor)\n",
    "                    temp_df = temp_df.rename(columns = {'Price' : Terms[term]})\n",
    "                    subdf = subdf.merge(temp_df, on = 'Date', sort = True, how = 'outer')\n",
    "        subdf['Country'] = Countries[country]\n",
    "    df = df.append(subdf,sort = True, ignore_index = True)"
   ]
  },
  {
   "cell_type": "code",
   "execution_count": null,
   "metadata": {},
   "outputs": [],
   "source": []
  },
  {
   "cell_type": "code",
   "execution_count": null,
   "metadata": {},
   "outputs": [],
   "source": []
  },
  {
   "cell_type": "code",
   "execution_count": null,
   "metadata": {},
   "outputs": [],
   "source": []
  },
  {
   "cell_type": "code",
   "execution_count": null,
   "metadata": {},
   "outputs": [],
   "source": [
    "list(Terms.keys())"
   ]
  },
  {
   "cell_type": "code",
   "execution_count": null,
   "metadata": {},
   "outputs": [],
   "source": [
    "df1 = pd.read_csv('United Kingdom 1-Month Bond Yield Historical Data.csv', usecols = RawCol, converters = DataTimeConvertor)\n",
    "df2 = pd.read_csv('United Kingdom 50-Year Bond Yield Historical Data.csv', usecols = RawCol, converters = DataTimeConvertor)"
   ]
  },
  {
   "cell_type": "code",
   "execution_count": null,
   "metadata": {},
   "outputs": [],
   "source": [
    "df1.append(df2, sort = True, ignore_index = True)"
   ]
  },
  {
   "cell_type": "code",
   "execution_count": null,
   "metadata": {},
   "outputs": [],
   "source": [
    "d1 = pd.DataFrame({'1' : [1,2]})\n",
    "d2 = pd.DataFrame({'1' : [11,22,33], '2' : [211,222, 333], 'rrr' : [5,6,7] })\n",
    "d3 = d1.append(d2, sort = True, ignore_index = True)\n",
    "d4 = pd.DataFrame(columns = ['1','2','3','4'])\n",
    "d4.append(d3, sort = True, ignore_index = True)"
   ]
  },
  {
   "cell_type": "code",
   "execution_count": null,
   "metadata": {},
   "outputs": [],
   "source": [
    "dumy = pd.DataFrame(columns = ['1','2'])"
   ]
  },
  {
   "cell_type": "code",
   "execution_count": null,
   "metadata": {},
   "outputs": [],
   "source": [
    "pd.DataFrame(columns = ['Date','1-Month']).merge(df1,on = 'Date', sort = True, how = 'outer')"
   ]
  },
  {
   "cell_type": "code",
   "execution_count": null,
   "metadata": {},
   "outputs": [],
   "source": [
    "df1"
   ]
  },
  {
   "cell_type": "code",
   "execution_count": null,
   "metadata": {},
   "outputs": [],
   "source": [
    "df11 = df1.copy()\n",
    "df11 = df11.join(dumy)\n",
    "df11"
   ]
  },
  {
   "cell_type": "code",
   "execution_count": null,
   "metadata": {},
   "outputs": [],
   "source": [
    "#df1 = df1.rename(columns = {'Price' : '1-Month'})\n",
    "#df2 = df2.rename(columns = {'Price' : '50-Year'})\n",
    "df = pd.DataFrame({'Date' : [], 'Price' : []})\n",
    "df.merge(df2, on = 'Date', sort = True, how = 'outer')"
   ]
  },
  {
   "cell_type": "code",
   "execution_count": null,
   "metadata": {},
   "outputs": [],
   "source": [
    "df1['Country'] = 'UK'\n",
    "df1"
   ]
  },
  {
   "cell_type": "code",
   "execution_count": null,
   "metadata": {},
   "outputs": [],
   "source": [
    "df1.rename(columns = {'Price' : '1-Month'})\n",
    "df1.columns"
   ]
  },
  {
   "cell_type": "code",
   "execution_count": null,
   "metadata": {},
   "outputs": [],
   "source": [
    "df2"
   ]
  },
  {
   "cell_type": "code",
   "execution_count": null,
   "metadata": {},
   "outputs": [],
   "source": [
    "s = 'United Kingdom 1-Month Bond Yield Historical Data.csv'"
   ]
  },
  {
   "cell_type": "code",
   "execution_count": null,
   "metadata": {},
   "outputs": [],
   "source": [
    "s.split()"
   ]
  },
  {
   "cell_type": "code",
   "execution_count": null,
   "metadata": {},
   "outputs": [],
   "source": []
  }
 ],
 "metadata": {
  "kernelspec": {
   "display_name": "Python 3",
   "language": "python",
   "name": "python3"
  },
  "language_info": {
   "codemirror_mode": {
    "name": "ipython",
    "version": 3
   },
   "file_extension": ".py",
   "mimetype": "text/x-python",
   "name": "python",
   "nbconvert_exporter": "python",
   "pygments_lexer": "ipython3",
   "version": "3.7.6"
  }
 },
 "nbformat": 4,
 "nbformat_minor": 4
}
