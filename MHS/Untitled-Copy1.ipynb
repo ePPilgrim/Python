{
 "cells": [
  {
   "cell_type": "code",
   "execution_count": 115,
   "metadata": {},
   "outputs": [],
   "source": [
    "import tensorflow as tf\n",
    "import pandas as pd\n",
    "import numpy as np\n",
    "import os as os\n",
    "datapath = r'.\\data\\raw\\YC'\n",
    "newdataframe = r'.\\dat"
   ]
  },
  {
   "cell_type": "code",
   "execution_count": 109,
   "metadata": {},
   "outputs": [],
   "source": [
    "Terms = {'1-Month' : '01', '2-Month' : '02', '3-Month' : '03', '4-Month' : '04', '5-Month' : '05', '6-Month' : '06',\n",
    "        '7-Month' : '07', '8-Month' : '08', '9-Month' : '09', '10-Month' : '010', '11-Month' : '011', '12-Month' : '012',\n",
    "        '1-Year' : '1', '2-Year' : '2', '3-Year' : '3', '4-Year' : '4', '5-Year' : '5', '6-Year' : '6',\n",
    "        '7-Year' : '7', '8-Year' : '8', '9-Year' : '9', '10-Year' : '10', '12-Year' : '12', '15-Year' : '15', '20-Year' : '20',\n",
    "        '25-Year' : '25', '30-Year' : '30', '40-Year' : '40', '50-Year' : '50'}\n",
    "Countries = {'United Kingdom' : 'UK', 'Germany' : 'Germany'}\n",
    "DataTimeConvertor = {'Date' : pd.to_datetime}\n",
    "RawCol = ['Date', 'Price']"
   ]
  },
  {
   "cell_type": "code",
   "execution_count": 116,
   "metadata": {},
   "outputs": [],
   "source": [
    "term_set = set(Terms.keys())\n",
    "df = pd.DataFrame(columns = list(Terms.keys()))\n",
    "for country in os.listdir(datapath):\n",
    "    if country in Countries:\n",
    "        dirpath = os.path.join(datapath,country)\n",
    "        subdf = pd.DataFrame(columns = ['Date'])\n",
    "        if os.path.isdir(dirpath):\n",
    "            for file in os.listdir(dirpath):\n",
    "                filepath = os.path.join(dirpath,file)\n",
    "                if os.path.isfile(filepath):\n",
    "                    fparse = file.split()\n",
    "                    term = term_set.intersection(set(fparse)).pop()\n",
    "                    i = fparse.index(term)\n",
    "                    state = ' '.join(fparse[:i])\n",
    "                    temp_df = pd.read_csv(filepath, usecols = RawCol, converters = DataTimeConvertor)\n",
    "                    temp_df = temp_df.rename(columns = {'Price' : term})\n",
    "                    subdf = subdf.merge(temp_df, on = 'Date', sort = True, how = 'outer')\n",
    "        subdf['Country'] = Countries[country]\n",
    "    df = df.append(subdf,sort = True, ignore_index = True)\n",
    "df = df.rename(columns = Terms)\n",
    "df = df.sort_index(axis = 1)"
   ]
  },
  {
   "cell_type": "code",
   "execution_count": null,
   "metadata": {},
   "outputs": [],
   "source": []
  }
 ],
 "metadata": {
  "kernelspec": {
   "display_name": "Python 3",
   "language": "python",
   "name": "python3"
  },
  "language_info": {
   "codemirror_mode": {
    "name": "ipython",
    "version": 3
   },
   "file_extension": ".py",
   "mimetype": "text/x-python",
   "name": "python",
   "nbconvert_exporter": "python",
   "pygments_lexer": "ipython3",
   "version": "3.7.6"
  }
 },
 "nbformat": 4,
 "nbformat_minor": 4
}
